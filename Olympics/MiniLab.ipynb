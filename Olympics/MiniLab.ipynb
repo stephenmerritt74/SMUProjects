{
 "cells": [
  {
   "cell_type": "markdown",
   "metadata": {},
   "source": [
    "## MiniLab SVM and Logistic Regression Modeling\n",
    "### Data Mining 7331 Section 403\n",
    "---\n",
    "- Brian Coari\n",
    "- Stephen Merritt\n",
    "- Cory Thigpen\n",
    "- Quentin Thomas"
   ]
  },
  {
   "cell_type": "markdown",
   "metadata": {},
   "source": [
    "In this lab we will create a logistic regression model and a support vector machine model for podium finishes in the `Olympic` data set. We will assess how well each model performs and adjust model parameters to improve accuracy.\n",
    "\n",
    "### Create Models"
   ]
  },
  {
   "cell_type": "markdown",
   "metadata": {},
   "source": [
    "#### Data Augmentation and Preprocessing\n",
    "\n",
    "To prepare the lab, we brought population data into the data set and changed all National Olympic Committee or `NOC` data points to match their corresponding `country`. For countries without entries in the worldbank URL we hard-coded the populations.\n",
    "\n",
    "There were 106 observations in the data set not associated with a country, so we dropped them. These were `Refugee Athletes` and `Individual Olympic Athletes`."
   ]
  },
  {
   "cell_type": "code",
   "execution_count": 1,
   "metadata": {},
   "outputs": [
    {
     "name": "stdout",
     "output_type": "stream",
     "text": [
      "NOC  Country                    \n",
      "IOA  Individual Olympic Athletes    94\n",
      "ROT  Refugee Athlete                12\n",
      "Name: NOC, dtype: int64\n"
     ]
    }
   ],
   "source": [
    "import numpy as np\n",
    "import pandas as pd\n",
    "from sklearn.preprocessing import StandardScaler\n",
    "from matplotlib.colors import ListedColormap\n",
    "import matplotlib.pyplot as plt\n",
    "from sklearn.linear_model import LogisticRegression\n",
    "from sklearn.model_selection import train_test_split\n",
    "\n",
    "#Combine existing data with population data from:\n",
    "#https://data.world/worldbank/total-population-per-country/file/POP_TOTAL_DS2_en_v2.csv\n",
    "df = pd.read_csv('~/olympics/data/athletes_cleaned_merged.csv')\n",
    "df_pop = pd.read_csv('~/olympics/data/POP_TOTAL.csv', encoding = \"ISO-8859-1\")\n",
    "df_pop = df_pop[['Country Code', '2015']]\n",
    "#Change all Russia NOCs\n",
    "df['NOC'] = np.where(df['NOC'] == 'EUN', 'RUS', df['NOC'])\n",
    "df['NOC'] = np.where(df['NOC'] == 'URS', 'RUS', df['NOC'])\n",
    "#Change all Australia NOCs\n",
    "df['NOC'] = np.where(df['NOC'] == 'ANZ', 'AUS', df['NOC'])\n",
    "#Change all German NOCs\n",
    "df['NOC'] = np.where(df['NOC'] == 'FRG', 'GER', df['NOC'])\n",
    "df['NOC'] = np.where(df['NOC'] == 'GDR', 'GER', df['NOC'])\n",
    "df['NOC'] = np.where(df['NOC'] == 'SAA', 'GER', df['NOC'])\n",
    "#Change all Congo NOCs\n",
    "df['NOC'] = np.where(df['NOC'] == 'CGO', 'COD', df['NOC'])\n",
    "#Change all Czech NOCs\n",
    "df['NOC'] = np.where(df['NOC'] == 'BOH', 'CZE', df['NOC'])\n",
    "df['NOC'] = np.where(df['NOC'] == 'TCH', 'CZE', df['NOC'])\n",
    "#Change all Yemen NOCs\n",
    "df['NOC'] = np.where(df['NOC'] == 'YAR', 'YEM', df['NOC'])\n",
    "df['NOC'] = np.where(df['NOC'] == 'YMD', 'YEM', df['NOC'])\n",
    "#Change all Greek NOCs\n",
    "df['NOC'] = np.where(df['NOC'] == 'CRT', 'GRE', df['NOC'])\n",
    "#Change all Zimbabwe NOCs\n",
    "df['NOC'] = np.where(df['NOC'] == 'RHO', 'ZIM', df['NOC'])\n",
    "#Change all Malaysia NOCs\n",
    "df['NOC'] = np.where(df['NOC'] == 'MAL', 'MAS', df['NOC'])\n",
    "df['NOC'] = np.where(df['NOC'] == 'NBO', 'MAS', df['NOC'])\n",
    "#Change all Vietnam NOCs\n",
    "df['NOC'] = np.where(df['NOC'] == 'VNM', 'VIE', df['NOC'])\n",
    "#Change all Trinidad and Tobego NOCs\n",
    "df['NOC'] = np.where(df['NOC'] == 'WIF', 'TTO', df['NOC'])\n",
    "#Change all Trinidad and Tobego NOCs\n",
    "df['NOC'] = np.where(df['NOC'] == 'UAR', 'SYR', df['NOC'])\n",
    "#Change all Serbian NOCs\n",
    "df['NOC'] = np.where(df['NOC'] == 'SCG', 'YUG', df['NOC'])\n",
    "df['NOC'] = np.where(df['NOC'] == 'SRB', 'YUG', df['NOC'])\n",
    "#Change all Canada NOCs\n",
    "df['NOC'] = np.where(df['NOC'] == 'NFL', 'CAN', df['NOC'])\n",
    "df_pop.rename(index = str, columns = {'Country Code' : 'NOC', '2015': '2015 Population'}, inplace = True)\n",
    "df_pop_merge = pd.merge(left = df, right = df_pop, how = 'left', on=['NOC'], left_index=False)\n",
    "df_pop_merge.loc[df_pop_merge['Country'] == 'Taiwan', '2015 Population'] =  23485755\n",
    "df_pop_merge.loc[df_pop_merge['Country'] == 'Saint Vincent', '2015 Population'] =  109643\n",
    "df_pop_merge.loc[df_pop_merge['Country'] == 'Palestine', '2015 Population'] =  4817000\n",
    "df_pop_merge.loc[df_pop_merge['Country'] == 'Cook Islands', '2015 Population'] =  17459\n",
    "df_pop_merge.loc[df_pop_merge['Country'] == 'Eritrea', '2015 Population'] =  4846976\n",
    "df_pop_merge.loc[df_pop_merge['Country'] == 'Saint Kitts', '2015 Population'] =  54821\n",
    "df_pop_mergena = df_pop_merge[df_pop_merge['2015 Population'].isnull()]\n",
    "print(df_pop_mergena.groupby(['NOC', 'Country'])['NOC'].count())\n",
    "#Drop the 106 observations not associated with a country \n",
    "df_pop_merge = df_pop_merge.dropna(how = 'any')"
   ]
  },
  {
   "cell_type": "markdown",
   "metadata": {},
   "source": [
    "Calculate Ahtlete BMI, and add to the dataframe:\n",
    "\n",
    "$$\n",
    "BMI = \\left(\\frac{\\omega}{\\eta \\eta}\\right) C\n",
    "$$\n",
    "\n",
    "where $\\omega$ represents our athletes weight in kilograms, and $\\eta$ represents our athletes height in centimeters, and $C$ is our constant at `10,000`."
   ]
  },
  {
   "cell_type": "code",
   "execution_count": 2,
   "metadata": {},
   "outputs": [
    {
     "name": "stdout",
     "output_type": "stream",
     "text": [
      "<class 'pandas.core.frame.DataFrame'>\n",
      "Int64Index: 266848 entries, 0 to 266847\n",
      "Data columns (total 12 columns):\n",
      "Country            266848 non-null object\n",
      "Sex                266848 non-null object\n",
      "Age                266848 non-null int64\n",
      "Height             266848 non-null int64\n",
      "Weight             266848 non-null int64\n",
      "Year               266848 non-null int64\n",
      "Season             266848 non-null object\n",
      "Sport              266848 non-null object\n",
      "Event              266848 non-null object\n",
      "BMI                266848 non-null float64\n",
      "Population_Prop    266848 non-null float64\n",
      "Medal              266848 non-null object\n",
      "dtypes: float64(2), int64(4), object(6)\n",
      "memory usage: 26.5+ MB\n"
     ]
    }
   ],
   "source": [
    "from pandas.plotting import scatter_matrix\n",
    "def calculate_bmi(df):\n",
    "    return (df[1]/(df[0] * df[0])) * 10000\n",
    "\n",
    "df_pop_merge['BMI'] = df_pop_merge[['Height', 'Weight']].apply(calculate_bmi, axis=1)\n",
    "df_pop = df_pop_merge.groupby(['Country'])['2015 Population'].mean().reset_index()\n",
    "df_pop['Population_Prop'] = df_pop['2015 Population'].transform(lambda x: x / (x.sum()))\n",
    "df_pop_merge = pd.merge(left = df_pop_merge, right = df_pop, how = 'left', on=['Country'], \n",
    "                        left_index=False)\n",
    "df_pop_merge = df_pop_merge[['Country', 'Sex', 'Age', 'Height', 'Weight', 'Year', 'Season', 'Sport', 'Event', 'BMI', \n",
    "                             'Population_Prop', 'Medal']]\n",
    "df_pop_merge.to_csv('~/olympics/data/pop_merge.csv')\n",
    "df_pop_merge.info()"
   ]
  },
  {
   "cell_type": "code",
   "execution_count": 3,
   "metadata": {},
   "outputs": [
    {
     "name": "stdout",
     "output_type": "stream",
     "text": [
      "<class 'pandas.core.frame.DataFrame'>\n",
      "Int64Index: 266848 entries, 0 to 266847\n",
      "Data columns (total 11 columns):\n",
      "Country            266848 non-null object\n",
      "Sex                266848 non-null int64\n",
      "Age                266848 non-null int64\n",
      "Height             266848 non-null int64\n",
      "Weight             266848 non-null int64\n",
      "Year               266848 non-null int64\n",
      "Season             266848 non-null int64\n",
      "Sport              266848 non-null object\n",
      "Event              266848 non-null object\n",
      "BMI                266848 non-null float64\n",
      "Population_Prop    266848 non-null float64\n",
      "dtypes: float64(2), int64(6), object(3)\n",
      "memory usage: 24.4+ MB\n",
      "None\n",
      "count    266848.000000\n",
      "mean          0.147841\n",
      "std           0.354943\n",
      "min           0.000000\n",
      "25%           0.000000\n",
      "50%           0.000000\n",
      "75%           0.000000\n",
      "max           1.000000\n",
      "Name: Medal, dtype: float64\n"
     ]
    }
   ],
   "source": [
    "#Change Sex, Season, and Medal to numeric factors\n",
    "df_pop_merge.loc[df_pop_merge['Medal'] == 'No Medal', 'Medal'] =  0\n",
    "df_pop_merge.loc[df_pop_merge['Medal'] == 'Bronze', 'Medal'] =  1\n",
    "df_pop_merge.loc[df_pop_merge['Medal'] == 'Silver', 'Medal'] =  1\n",
    "df_pop_merge.loc[df_pop_merge['Medal'] == 'Gold', 'Medal'] =  1\n",
    "df_pop_merge.loc[df_pop_merge['Season'] == 'Summer', 'Season'] =  1\n",
    "df_pop_merge.loc[df_pop_merge['Season'] == 'Winter', 'Season'] =  0\n",
    "df_pop_merge.loc[df_pop_merge['Sex'] == 'M', 'Sex'] =  1\n",
    "df_pop_merge.loc[df_pop_merge['Sex'] == 'F', 'Sex'] =  0\n",
    "\n",
    "\n",
    "y = df_pop_merge['Medal']\n",
    "X = df_pop_merge.drop(['Medal'], axis = 1)\n",
    "\n",
    "print(X.info())\n",
    "print(y.describe())"
   ]
  },
  {
   "cell_type": "markdown",
   "metadata": {},
   "source": [
    "Notice the `Id`, `NOC`, `Name`, `Team`, and `Games` variables were dropped due to lack of relevancy. Next we begin to change `Sex`, `Season`, and `Medal` to numeric factors with binary encoding."
   ]
  },
  {
   "cell_type": "markdown",
   "metadata": {},
   "source": [
    "**OneHot Encode object variables**\n",
    "\n"
   ]
  },
  {
   "cell_type": "code",
   "execution_count": 4,
   "metadata": {},
   "outputs": [
    {
     "name": "stdout",
     "output_type": "stream",
     "text": [
      "                 Sex            Age         Height         Weight  \\\n",
      "count  266848.000000  266848.000000  266848.000000  266848.000000   \n",
      "mean        0.722786      25.330338     175.420948      71.017542   \n",
      "std         0.447624       5.801661       9.869066      13.330644   \n",
      "min         0.000000      10.000000     127.000000      25.000000   \n",
      "25%         0.000000      21.000000     169.000000      62.000000   \n",
      "50%         1.000000      24.000000     176.000000      71.000000   \n",
      "75%         1.000000      28.000000     182.000000      78.000000   \n",
      "max         1.000000      72.000000     226.000000     214.000000   \n",
      "\n",
      "                Year         Season            BMI  Population_Prop  \\\n",
      "count  266848.000000  266848.000000  266848.000000    266848.000000   \n",
      "mean     1979.016369       0.818185      22.904691         0.013419   \n",
      "std        29.560519       0.385693       2.718862         0.028553   \n",
      "min      1896.000000       0.000000       8.360954         0.000001   \n",
      "25%      1960.000000       1.000000      21.258503         0.001362   \n",
      "50%      1988.000000       1.000000      22.783309         0.005258   \n",
      "75%      2004.000000       1.000000      24.163265         0.011266   \n",
      "max      2016.000000       1.000000      63.901580         0.181422   \n",
      "\n",
      "       Country_Afghanistan  Country_Albania       ...         \\\n",
      "count        266848.000000    266848.000000       ...          \n",
      "mean              0.000472         0.000262       ...          \n",
      "std               0.021725         0.016194       ...          \n",
      "min               0.000000         0.000000       ...          \n",
      "25%               0.000000         0.000000       ...          \n",
      "50%               0.000000         0.000000       ...          \n",
      "75%               0.000000         0.000000       ...          \n",
      "max               1.000000         1.000000       ...          \n",
      "\n",
      "       Sport_Table Tennis  Sport_Taekwondo   Sport_Tennis  Sport_Trampolining  \\\n",
      "count       266848.000000    266848.000000  266848.000000        266848.00000   \n",
      "mean             0.007150         0.002271       0.010721             0.00057   \n",
      "std              0.084256         0.047600       0.102988             0.02386   \n",
      "min              0.000000         0.000000       0.000000             0.00000   \n",
      "25%              0.000000         0.000000       0.000000             0.00000   \n",
      "50%              0.000000         0.000000       0.000000             0.00000   \n",
      "75%              0.000000         0.000000       0.000000             0.00000   \n",
      "max              1.000000         1.000000       1.000000             1.00000   \n",
      "\n",
      "       Sport_Triathlon  Sport_Tug-Of-War  Sport_Volleyball  Sport_Water Polo  \\\n",
      "count    266848.000000     266848.000000     266848.000000     266848.000000   \n",
      "mean          0.001982          0.000637          0.012756          0.014375   \n",
      "std           0.044480          0.025232          0.112221          0.119032   \n",
      "min           0.000000          0.000000          0.000000          0.000000   \n",
      "25%           0.000000          0.000000          0.000000          0.000000   \n",
      "50%           0.000000          0.000000          0.000000          0.000000   \n",
      "75%           0.000000          0.000000          0.000000          0.000000   \n",
      "max           1.000000          1.000000          1.000000          1.000000   \n",
      "\n",
      "       Sport_Weightlifting  Sport_Wrestling  \n",
      "count        266848.000000    266848.000000  \n",
      "mean              0.014709         0.026776  \n",
      "std               0.120385         0.161427  \n",
      "min               0.000000         0.000000  \n",
      "25%               0.000000         0.000000  \n",
      "50%               0.000000         0.000000  \n",
      "75%               0.000000         0.000000  \n",
      "max               1.000000         1.000000  \n",
      "\n",
      "[8 rows x 790 columns]\n"
     ]
    }
   ],
   "source": [
    "X = pd.get_dummies(X, columns = ['Country', 'Event', 'Sport'])\n",
    "print(X.describe())"
   ]
  },
  {
   "cell_type": "markdown",
   "metadata": {},
   "source": [
    "`Country`, `Event`, and `Sport` have too many variables to perform this type of manipulation, so we move to one-hot encoding.  There are significant differences in the ranges of variables, which will necessitate standardization. `Height`, `Weight`, `BMI`, and `Age` continuous variables are on a different scale than the binary encoded variables, `Country`, `Sport`, `Event`, and `Medal`.  The `Population_Prop` variable is a percentage of the overall world population for a given country which also has a different scale. "
   ]
  },
  {
   "cell_type": "markdown",
   "metadata": {},
   "source": [
    "#### Logistic Regression Model Building"
   ]
  },
  {
   "cell_type": "code",
   "execution_count": 5,
   "metadata": {},
   "outputs": [],
   "source": [
    "#Split the data set into train and test\n",
    "X_train, X_test, y_train, y_test = train_test_split(X, y, test_size = 0.2, random_state = 1, stratify = y)\n",
    "#Standardize the train and test set\n",
    "sc = StandardScaler()\n",
    "sc.fit(X_train)\n",
    "X_train_std = sc.transform(X_train)\n",
    "X_test_std = sc.transform(X_test)"
   ]
  },
  {
   "cell_type": "code",
   "execution_count": 6,
   "metadata": {},
   "outputs": [],
   "source": [
    "#Run the Logistic Regression Model with \n",
    "lr = LogisticRegression(penalty = 'l2', C = 100.0, random_state = 1)"
   ]
  },
  {
   "cell_type": "markdown",
   "metadata": {},
   "source": [
    "The `Medal` variable is heavily weighted for *Non-Podium Finishers*, or **0** class.  In the output from the *y.describe()* function from above, we note that the *mean* of *y* is 0.1478, meaning *Podium Finishers* account for roughly 15% of the data in the `Medal` class, with remaing 85% being *Non-Podium Finishers*.  To optimize this for future model training, we can look change the class_weight method in the logistic regression function."
   ]
  },
  {
   "cell_type": "code",
   "execution_count": 7,
   "metadata": {},
   "outputs": [],
   "source": [
    "#Fit the Logistic Regression Model\n",
    "lr1_clf = lr.fit(X_train_std, y_train)"
   ]
  },
  {
   "cell_type": "code",
   "execution_count": 8,
   "metadata": {},
   "outputs": [
    {
     "name": "stdout",
     "output_type": "stream",
     "text": [
      "0.85215806781\n",
      "[[ 0.91037915  0.08962085]\n",
      " [ 0.9249871   0.0750129 ]\n",
      " [ 0.81393278  0.18606722]\n",
      " [ 0.96445575  0.03554425]\n",
      " [ 0.81628006  0.18371994]]\n"
     ]
    }
   ],
   "source": [
    "print(lr1_clf.score(X_train, y_train))\n",
    "print(lr1_clf.predict_proba(X_test_std[:5, :]))"
   ]
  },
  {
   "cell_type": "markdown",
   "metadata": {},
   "source": [
    "Note that the accuracy of the model is roughly **85%** which is nearly identical to the amount of *Non-Podium Finishers* in the `Medal` class.  All the model is being asked to do is choose **0** for instance in the *y* vector to achieve a relatively high level of accuracy.  We will need to investigate dimensionality reduction techniques or look for better predictor variables."
   ]
  },
  {
   "cell_type": "code",
   "execution_count": 9,
   "metadata": {},
   "outputs": [
    {
     "name": "stdout",
     "output_type": "stream",
     "text": [
      "[0 0 0 0 0]\n"
     ]
    }
   ],
   "source": [
    "print(lr1_clf.predict_proba(X_test_std[:5, :]).argmax(axis = 1))"
   ]
  },
  {
   "cell_type": "code",
   "execution_count": 10,
   "metadata": {},
   "outputs": [
    {
     "name": "stdout",
     "output_type": "stream",
     "text": [
      "Basic Logistic Regression Accuracies: \n",
      "[ 0.85713884  0.85716494  0.85640608]\n",
      "Model Precision: 0.577\n",
      "Model Recall: 0.120\n",
      "Accuracy Accross 3 Folds: 0.857\n"
     ]
    }
   ],
   "source": [
    "from sklearn.model_selection import cross_val_score\n",
    "from sklearn.model_selection import cross_val_predict\n",
    "from sklearn.metrics import precision_score, recall_score\n",
    "accuracies = cross_val_score(lr1_clf, X_train_std, y_train, cv=3) \n",
    "y_train_pred = cross_val_predict(lr1_clf, X_train_std, y_train, cv = 3)\n",
    "lr1_clf_precision = precision_score(y_train, y_train_pred)\n",
    "lr1_clf_recall = recall_score(y_train, y_train_pred)\n",
    "print('Basic Logistic Regression Accuracies: ')\n",
    "print(accuracies)\n",
    "print('Model Precision: %0.3f' % (lr1_clf_precision))\n",
    "print('Model Recall: %0.3f' % (lr1_clf_recall))\n",
    "total = sum(accuracies)/len(accuracies)\n",
    "print(\"Accuracy Accross 3 Folds: %0.3f\" % (total))"
   ]
  },
  {
   "cell_type": "markdown",
   "metadata": {},
   "source": [
    "Above we take the average of the 3 folds in order to determine the overall logistic regression accuracy. Our logistic regression accuracy using all  the scores into account comes out to **85.7%**.  The precision score of **57.7%** from above demonstrates that the model is currently struggling to predict *True Positive* results or actual *Podium Finishers* from `Medal`.  The **12%** recall demonstrates the model is producing a significant amount of *False Negatives*."
   ]
  },
  {
   "cell_type": "code",
   "execution_count": 11,
   "metadata": {},
   "outputs": [
    {
     "name": "stdout",
     "output_type": "stream",
     "text": [
      "Test accuracy: 0.858\n",
      "confusion matrix\n",
      " [[44818   662]\n",
      " [ 6904   986]]\n"
     ]
    }
   ],
   "source": [
    "from sklearn import metrics as mt\n",
    "y_hat = lr1_clf.predict(X_test_std) # get test set precitions\n",
    "\n",
    "# now let's get the accuracy and confusion matrix for this iterations of training/testing\n",
    "acc = mt.accuracy_score(y_test,y_hat)\n",
    "conf = mt.confusion_matrix(y_test,y_hat)\n",
    "print(\"Test accuracy: %0.3f\" % (acc))\n",
    "print(\"confusion matrix\\n\", conf)"
   ]
  },
  {
   "cell_type": "markdown",
   "metadata": {},
   "source": [
    "The model performs roughly the same against the test dataset as it does against the training dataset, meaning there is no inherent bias in the model.  The model has only correctly identified 986 *Podium Finishers*, but incorrectly selected 6,904 *Podium Finishers* as *Non-Podium Finishers*.  Put more succinctly, there were 986 Ture Positives compared to 6,904 False Negatives, which led to a low recall score.  Next we'll examine some methods to negotiate the balancing act of improving recall, while not drastically degrading precision."
   ]
  },
  {
   "cell_type": "code",
   "execution_count": 12,
   "metadata": {},
   "outputs": [
    {
     "name": "stdout",
     "output_type": "stream",
     "text": [
      "             precision    recall  f1-score   support\n",
      "\n",
      "          0       0.87      0.99      0.92     45480\n",
      "          1       0.60      0.12      0.21      7890\n",
      "\n",
      "avg / total       0.83      0.86      0.82     53370\n",
      "\n"
     ]
    }
   ],
   "source": [
    "from sklearn.metrics import classification_report\n",
    "\n",
    "y_true, y_pred = y_test, lr1_clf.predict(X_test_std)\n",
    "print(classification_report(y_true, y_pred))"
   ]
  },
  {
   "cell_type": "markdown",
   "metadata": {},
   "source": [
    "#### Perform Model Hyperparameter Optimization via GridSearch"
   ]
  },
  {
   "cell_type": "code",
   "execution_count": 19,
   "metadata": {},
   "outputs": [
    {
     "name": "stdout",
     "output_type": "stream",
     "text": [
      "CPU times: user 7min 13s, sys: 3min 45s, total: 10min 58s\n",
      "Wall time: 17h 42min 37s\n"
     ]
    }
   ],
   "source": [
    "%%time\n",
    "\n",
    "lr1 = LogisticRegression(random_state = 1)\n",
    "from sklearn.model_selection import GridSearchCV\n",
    "bal_dict = {0 : 0.15, 1 : 0.85}\n",
    "parameters = {'penalty':('l1', 'l2'), 'C':[0.001, 0.01, 0.1, 1.0, 10.0], \n",
    "              'class_weight' : ('balanced', bal_dict)}\n",
    "gs_clf = GridSearchCV(estimator = lr1, param_grid = parameters, cv = 3, n_jobs = -1, scoring = 'roc_auc')\n",
    "gs_clf = gs_clf.fit(X_train_std, y_train)"
   ]
  },
  {
   "cell_type": "code",
   "execution_count": 20,
   "metadata": {},
   "outputs": [
    {
     "name": "stdout",
     "output_type": "stream",
     "text": [
      "0.783145126286\n",
      "{'C': 0.01, 'class_weight': 'balanced', 'penalty': 'l1'}\n"
     ]
    }
   ],
   "source": [
    "print(gs_clf.best_score_)\n",
    "print(gs_clf.best_params_)"
   ]
  },
  {
   "cell_type": "markdown",
   "metadata": {},
   "source": [
    "The results of the GridSearch yielded a class_weight of *balanced*, which is significant due to the vast majority of the `Medal` variable belonging to Class 0.  GridSearch also selects the L1 regularization penalty:\n",
    "\n",
    "$$\n",
    "L1 = ||w||_{1} = \\sum_{j=1}^{m} |w_{j}|\n",
    "$$\n",
    "\n",
    "\n",
    "This is a logical selection due to the high dimensionality and sparseness of the dataset following the OneHot Encoding procedure.  The selection of C as 0.01 is also logical as it is the inverse of the regularization strength, so a lower number will decrease any tendency to overfit."
   ]
  },
  {
   "cell_type": "code",
   "execution_count": 21,
   "metadata": {},
   "outputs": [
    {
     "data": {
      "text/plain": [
       "LogisticRegression(C=0.01, class_weight='balanced', dual=False,\n",
       "          fit_intercept=True, intercept_scaling=1, max_iter=100,\n",
       "          multi_class='ovr', n_jobs=1, penalty='l1', random_state=1,\n",
       "          solver='liblinear', tol=0.0001, verbose=0, warm_start=False)"
      ]
     },
     "execution_count": 21,
     "metadata": {},
     "output_type": "execute_result"
    }
   ],
   "source": [
    "clf = gs_clf.best_estimator_\n",
    "clf.fit(X_train_std, y_train)"
   ]
  },
  {
   "cell_type": "code",
   "execution_count": 22,
   "metadata": {},
   "outputs": [
    {
     "name": "stdout",
     "output_type": "stream",
     "text": [
      "0.690769072223\n",
      "[[ 0.63531496  0.36468504]\n",
      " [ 0.68906632  0.31093368]\n",
      " [ 0.43004939  0.56995061]\n",
      " [ 0.82007282  0.17992718]\n",
      " [ 0.47173807  0.52826193]]\n"
     ]
    }
   ],
   "source": [
    "print(clf.score(X_train_std, y_train))\n",
    "print(clf.predict_proba(X_test_std[:5, :]))"
   ]
  },
  {
   "cell_type": "code",
   "execution_count": 23,
   "metadata": {},
   "outputs": [
    {
     "name": "stdout",
     "output_type": "stream",
     "text": [
      "[0 0 1 0 1]\n"
     ]
    }
   ],
   "source": [
    "print(clf.predict_proba(X_test_std[:5, :]).argmax(axis = 1))"
   ]
  },
  {
   "cell_type": "code",
   "execution_count": 24,
   "metadata": {},
   "outputs": [
    {
     "name": "stdout",
     "output_type": "stream",
     "text": [
      "Basic Logistic Regression Accuracies: \n",
      "[ 0.68849073  0.69156396  0.68909063]\n",
      "Model Precision: 0.288\n",
      "Model Recall: 0.745\n"
     ]
    }
   ],
   "source": [
    "accuracies = cross_val_score(clf, X_train_std, y=y_train, cv=3) # this also can help with parallelism\n",
    "y_train_pred = cross_val_predict(clf, X_train_std, y_train, cv = 3)\n",
    "clf_precision = precision_score(y_train, y_train_pred)\n",
    "clf_recall = recall_score(y_train, y_train_pred)\n",
    "print('Basic Logistic Regression Accuracies: ')\n",
    "print(accuracies)\n",
    "print('Model Precision: %0.3f' % (clf_precision))\n",
    "print('Model Recall: %0.3f' % (clf_recall))"
   ]
  },
  {
   "cell_type": "code",
   "execution_count": 25,
   "metadata": {},
   "outputs": [
    {
     "name": "stdout",
     "output_type": "stream",
     "text": [
      "Test Precision: 0.283\n",
      "Test Recall: 0.738\n",
      "accuracy 0.684897882706\n",
      "confusion matrix\n",
      " [[30734 14746]\n",
      " [ 2071  5819]]\n"
     ]
    }
   ],
   "source": [
    "y_hat = clf.predict(X_test_std) # get test set precitions\n",
    "clf_precision = precision_score(y_test, y_hat)\n",
    "clf_recall = recall_score(y_test, y_hat)\n",
    "print('Test Precision: %0.3f' % (clf_precision))\n",
    "print('Test Recall: %0.3f' % (clf_recall))\n",
    "# now let's get the accuracy and confusion matrix for this iterations of training/testing\n",
    "acc = mt.accuracy_score(y_test,y_hat)\n",
    "conf = mt.confusion_matrix(y_test,y_hat)\n",
    "print(\"accuracy\", acc )\n",
    "print(\"confusion matrix\\n\",conf)"
   ]
  },
  {
   "cell_type": "code",
   "execution_count": 26,
   "metadata": {},
   "outputs": [
    {
     "name": "stdout",
     "output_type": "stream",
     "text": [
      "             precision    recall  f1-score   support\n",
      "\n",
      "          0       0.94      0.68      0.79     45480\n",
      "          1       0.28      0.74      0.41      7890\n",
      "\n",
      "avg / total       0.84      0.68      0.73     53370\n",
      "\n"
     ]
    }
   ],
   "source": [
    "from sklearn.metrics import classification_report\n",
    "\n",
    "y_true, y_pred = y_test, clf.predict(X_test_std)\n",
    "print(classification_report(y_true, y_pred))"
   ]
  },
  {
   "cell_type": "markdown",
   "metadata": {},
   "source": [
    "Due to the large number of features associated with dataset following binary and OneHot Encoding of the categorical varibles, we will examine the weights of the coefficients only using the 30 most important features as determined by Recursive Feature Elimination function in sklearn. "
   ]
  },
  {
   "cell_type": "code",
   "execution_count": 22,
   "metadata": {},
   "outputs": [],
   "source": [
    "#The X_reduced dataframe is the result of running the Recursive Feature Elimination RFE funciton in sklearn \n",
    "#The code for this is below and typically takes 6-12 hours of run time depending on your machine.\n",
    "X_reduced = X[['Country_USA', 'Country_Russia','Weight','Year','Sex','Country_Luxembourg','Country_Egypt',\n",
    "               'Sport_Athletics','Season','Event_Ice  Ice Hockey','Event_ Individual All-Around',\n",
    "               'Event_ Road Race, Individual','Event_ Rugby','Event_ Floor Exercise','Event_ Horse Vault',\n",
    "               'Sport_Alpine Skiing','Event_ Team All-Around, Swedish System','Event_ Horizontal Bar',\n",
    "               'Country_Mexico', 'Event_ Uneven Bars','Event_ Pommelled Horse','Country_Senegal',\n",
    "               'Event_ Parallel Bars','Event_ Rings','Country_Ireland','Country_Venezuela',\n",
    "               'Event_ Balance Beam', 'Country_Israel','Event_Sailing Mixed 12 metres','Event_ Lacrosse']]"
   ]
  },
  {
   "cell_type": "code",
   "execution_count": null,
   "metadata": {},
   "outputs": [],
   "source": [
    "%%time\n",
    "\n",
    "from sklearn.feature_selection import RFE\n",
    "#Use parameters from GridSearch Results\n",
    "lr_rfe =  LogisticRegression(penalty = 'l1', C = 0.01, random_state = 1, \n",
    "                                           class_weight = 'balanced')\n",
    "#Use Recursive Feature elimination to determine feature importance\n",
    "#THIS WILL TAKE APPROXIMATELY 6 HOURS TO FIT THE RFE model (790 Features x 266848 Obs)\n",
    "rfe = RFE(lr_rfe, n_features_to_select = 1, verbose = True)\n",
    "rfe_clf = rfe.fit(X_train_std, y_train)"
   ]
  },
  {
   "cell_type": "code",
   "execution_count": null,
   "metadata": {},
   "outputs": [],
   "source": [
    "print(\"Features sorted by their rank:\")\n",
    "names = X.columns\n",
    "sorted(zip(map(lambda x: round(x, 4), rfe_clf.ranking_), names))"
   ]
  },
  {
   "cell_type": "code",
   "execution_count": null,
   "metadata": {},
   "outputs": [],
   "source": [
    "best_features = []\n",
    "[best_features.append(t[1]) for t in ranks]\n",
    "X_reduced = X[best_features]"
   ]
  },
  {
   "cell_type": "markdown",
   "metadata": {},
   "source": [
    "#### SGD Classifier Linear Model\n",
    "\n",
    "Next we examine the same dataset on a different model to determine the accuracy we can acheive. "
   ]
  },
  {
   "cell_type": "markdown",
   "metadata": {},
   "source": [
    "Here we are interested in determining whether or not the `RBF` or the `Linear` approach works best for this dataset. We look to try a range of `C` values as well as $\\gamma$ values on the model in order to get a good idea of how good our model can be."
   ]
  },
  {
   "cell_type": "code",
   "execution_count": 47,
   "metadata": {},
   "outputs": [
    {
     "name": "stdout",
     "output_type": "stream",
     "text": [
      "             precision    recall  f1-score   support\n",
      "\n",
      "          0       0.86      1.00      0.92     45480\n",
      "          1       0.70      0.04      0.07      7890\n",
      "\n",
      "avg / total       0.83      0.86      0.80     53370\n",
      "\n",
      "CPU times: user 5min 14s, sys: 1.21 s, total: 5min 15s\n",
      "Wall time: 5min 16s\n"
     ]
    }
   ],
   "source": [
    "%%time\n",
    "from sklearn.linear_model import SGDClassifier\n",
    "\n",
    "\n",
    "sgd_classifier = SGDClassifier(max_iter=1000, n_jobs=-1, random_state=12, penalty='l2')\n",
    "sgd_classifier.fit(X_train_std, y_train)\n",
    "\n",
    "y_true, y_pred = y_test, sgd_classifier.predict(X_test_std)\n",
    "print(classification_report(y_true, y_pred))"
   ]
  },
  {
   "cell_type": "markdown",
   "metadata": {},
   "source": [
    "With an $\\alpha$ of `0.0001` and an $\\epsilon$ of `0.1` we were able to achieve an average accruacy of 83%. For regularization we used the `l2` penalty in order to reach our most optimal classification."
   ]
  },
  {
   "cell_type": "markdown",
   "metadata": {},
   "source": [
    "### Model Advantages\n",
    "---"
   ]
  },
  {
   "cell_type": "markdown",
   "metadata": {},
   "source": [
    "#### Logistic Regression Results\n",
    "\n",
    "First we tried the Logistic regression model on the entire dataset. We used a 3 fold cross validation in order to determine our final accuracy. The following Logistic Regression model used the following parameters...\n",
    "\n",
    "|Param      | value|\n",
    "|:---------:|:------:|\n",
    "| Penalty    | L2    |\n",
    "| C         |  100.0  |\n",
    "| cv        |   3    |\n",
    "| Dataset   | Full   |\n",
    "\n",
    "\n",
    "The model above produced an accuracy of 83% during testing. In order to score the model we had to use precision and recall as a scoring metric as we are dealing with a binary classification method. The results are listed below...\n",
    "\n",
    "\n",
    "|Class  | Precision  | Recall  |f1-score |  Support    |\n",
    "|:-----:|:---------:|:-------:|:--------:|:------------:|\n",
    "| 0 No Medal | 0.87 |  0.99   |  0.92    | 45480|\n",
    "| 1 Medal    | 0.60 |   0.12  |  0.21    |  7890|\n",
    "| avg / total | 0.83 |  0.86  |   0.82   | 53370 |\n",
    "\n",
    "`LR Runtime 2min 56sec`\n",
    "\n",
    "We then ran a GridSearch with 3-Fold Cross-Validation to optimize the Hyperparameters of the Logistic regression Model. GridSearch selected the following hyperparamters:\n",
    "\n",
    "|Param      | value|\n",
    "|:---------:|:------:|\n",
    "| Penalty    | L1    |\n",
    "| C         |  0.01  |\n",
    "| cv        |   3    |\n",
    "| class_weight   |  Balanced   |\n",
    "\n",
    "\n",
    "The results are listed below...\n",
    "\n",
    "\n",
    "|Class  | Precision  | Recall  |f1-score |  Support    |\n",
    "|:-----:|:---------:|:-------:|:--------:|:------------:|\n",
    "| 0 No Medal | 0.94 |   0.68  |   0.79   | 45480 |\n",
    "| 1 Medal    | 0.28 |   0.74  |   0.41   | 7890  |\n",
    "| avg / total | 0.84 |  0.68  |  0.73  |  53370  |\n",
    "\n",
    "`GS Runtime 17hr 42min 37sec`\n",
    "\n",
    "We can see above that the GridSearch model performs slightlty better than the non-optimized Model with an 84% accuracy.  The largest performance increase was in the Recall of the **1** class of `Medal`, increasing from 0.12 to 0.74.  The optimized model via GridSearch selected nearly 5,000 more *True Positive* Medal winners than non-optimized Model.  It is still easier for the model to tackle the **No medal** class because of the simple fact that 85% of all the athletes fall into this category.  Performing a GridSearch on the full dataset took a significant amount time to run, but it did produce a signficant increase in correctly identifying `Medal` *True Positives*.\n",
    "\n",
    "\n",
    "#### SGD Linear Classifier Results\n",
    "\n",
    "The next model was the Linear `SGD` model. This model used the following parameters...\n",
    "\n",
    "|Param      | value|\n",
    "|:---------:|:--------:|\n",
    "| Penalty    | L2     |\n",
    "| $\\alpha$  |  0.0001|\n",
    "| $\\epsilon$ |   0.1  |\n",
    "| Dataset   | Full   |\n",
    "\n",
    "\n",
    "`SGD Runtime 3min 26sec`\n",
    "\n",
    "\n",
    "This model held a 83% accuracy during testing on the dataset. The model trained much slower than n the `LRM` so if we wanted to sacrifice precision and recall for the sake of the speed of training time the logistic regression model would be the best choice.\n",
    "\n",
    "Logistic Regression across 3 folds showed that it can receive an accuracy of 84% on our specific dataset. The good thing with this model is that it is so much easier to interpret the parameters and the probability in relation to our classification problem. The training time for this particular model was much faster than the SGD Classifier by a few minutes. This model also took into consideration that the no medal and medal classes were unevenly weighted, so 92% is much closer to a true accuracy.\n",
    "\n",
    "\n",
    "\n",
    "The results are listed below...\n",
    "\n",
    "\n",
    "|Class  | Precision  | Recall  |f1-score |  Support    |\n",
    "|:-----:|:---------:|:-------:|:--------:|:------------:|\n",
    "| 0 No Medal | 0.86 | 1.00 | 0.92 | 45480 |\n",
    "| 1 Medal    | 0.70 |  0.04 | 0.07 | 7890|\n",
    "| avg / total | 0.83 | 0.86 | 0.80 | 53370 |\n",
    "|\n",
    "\n",
    "We can see above that it was much easier for the model to tackle the No medal class because of the simple fact 85% of all the athletes falls into this category. It makes sense that it would be able to learn to classifier this category pretty quickly as our dataset is not exactly representative when it comes to medal winners.\n",
    "\n",
    "\n",
    "#### SVC Classifier\n",
    "\n",
    "Finally we located a reduced dataset using the RFE feature selection technique. This reduction in the dimensionality of data allowed us to take a SVM based approach to the data. Without reducing the dataset down it took an extra long time for our dataset to converge. The paramters we used to train this dataset are listed below...\n",
    "\n",
    "|Param      | value|\n",
    "|:---------:|:--------:|\n",
    "| Kernel    | rbf      |\n",
    "| C         |  1000     |\n",
    "| $\\gamma$ |   0.001    |\n",
    "| Dataset   | Reduced   |\n",
    "\n",
    "\n",
    "\n",
    "\n",
    "|Class | Precision | Recall | f1-score | Support |\n",
    "|:-----:|:---------:|:--------:|:-------:|:--------:|\n",
    "| 0 No Medal | 0.85 | 1.00 | 0.92 | 45480|\n",
    "| 1 Medal    | 0.87 | 0.02 | 0.04 | 7890 |\n",
    "| avg / total | 0.86 | 0.86 | 0.79 | 53370 |\n",
    "\n",
    "\n",
    "`SVC Runtime 51min 31sec`\n",
    "\n",
    "SVC using the `rbf` kernel produces a better accuracy, but where we gain in accuracy we lose in performance. It took almost an hour for the model to converge! This is something that we would need to think long and hard about if we decided to model this dataset with this particular model.\n",
    "\n",
    "Logistic Regression across 3 folds showed that it can receive an accuracy of 84% on our specific dataset. The good thing with this model is that it is so much easier to interpret the paramters and the probability in relation to our classification problem. The training time for this particular model was much faster than the SGD Classifier by a few minutes. This model also took into consideration that the no medal and medal classes were unevenly weighted, so 92% is much closer to a true accuracy.\n"
   ]
  },
  {
   "cell_type": "markdown",
   "metadata": {},
   "source": [
    "### Interpret Feature Importance\n",
    "---\n",
    "We will use the weights from logistic regression to interpret the importance of different features for `medal` winners. To do this we will split the data into train and test once again then run the model through a standard scaler operation. Lastly, we will run the logistic regression again on the reduced model to get a feel for how the logistic regressor interprets the coefficients."
   ]
  },
  {
   "cell_type": "code",
   "execution_count": 17,
   "metadata": {},
   "outputs": [],
   "source": [
    "#Split the data set into train and test\n",
    "X_train1, X_test1, y_train1, y_test1 = train_test_split(X_reduced, y, test_size = 0.2, random_state = 1, stratify = y)\n",
    "#Standardize the train and test set\n",
    "sc = StandardScaler()\n",
    "sc.fit(X_train1)\n",
    "X_train_std1 = sc.transform(X_train1)\n",
    "X_test_std1 = sc.transform(X_test1)\n",
    "\n",
    "#Run the Logistic Regression Model with \n",
    "lr_reduced = LogisticRegression(penalty = 'l1', C = 0.01, class_weight = {0: 0.15, 1: 0.85}, random_state = 1)\n",
    "lr2_clf = lr_reduced.fit(X_train_std1, y_train1)"
   ]
  },
  {
   "cell_type": "code",
   "execution_count": 18,
   "metadata": {},
   "outputs": [
    {
     "name": "stdout",
     "output_type": "stream",
     "text": [
      "Country_USA has weight of 0.257670577598\n",
      "Country_Russia has weight of 0.25950733741\n",
      "Weight has weight of 0.208645198335\n",
      "Year has weight of -0.196516886445\n",
      "Sex has weight of -0.201311922995\n",
      "Country_Luxembourg has weight of -0.117382429775\n",
      "Country_Egypt has weight of -0.152154300542\n",
      "Sport_Athletics has weight of -0.257736306154\n",
      "Season has weight of 0.208403958027\n",
      "Event_Ice  Ice Hockey has weight of 0.125903560183\n",
      "Event_ Individual All-Around has weight of -0.191738219999\n",
      "Event_ Road Race, Individual has weight of -0.183318923483\n",
      "Event_ Rugby has weight of 0.0782097371819\n",
      "Event_ Floor Exercise has weight of -0.183017644565\n",
      "Event_ Horse Vault has weight of -0.155086360898\n",
      "Sport_Alpine Skiing has weight of -0.142871543001\n",
      "Event_ Team All-Around, Swedish System has weight of 0.0817928006575\n",
      "Event_ Horizontal Bar has weight of -0.122001499019\n",
      "Country_Mexico has weight of -0.127976828369\n",
      "Event_ Uneven Bars has weight of -0.112212281214\n",
      "Event_ Pommelled Horse has weight of -0.120428734254\n",
      "Country_Senegal has weight of -0.075419608093\n",
      "Event_ Parallel Bars has weight of -0.126011023726\n",
      "Event_ Rings has weight of -0.122044201687\n",
      "Country_Ireland has weight of -0.102443412401\n",
      "Country_Venezuela has weight of -0.103443890426\n",
      "Event_ Balance Beam has weight of -0.117629645791\n",
      "Country_Israel has weight of -0.0941740064812\n",
      "Event_Sailing Mixed 12 metres has weight of 0.0412584699094\n",
      "Event_ Lacrosse has weight of 0.0388987740126\n"
     ]
    }
   ],
   "source": [
    "# iterate over the coefficients\n",
    "weights_lr2 = lr2_clf.coef_.T\n",
    " # take transpose to make a column vector\n",
    "variable_names_clf = X_reduced.columns\n",
    "for coef, name in zip(weights_lr2,variable_names_clf):\n",
    "    print(name, 'has weight of', coef[0])"
   ]
  },
  {
   "cell_type": "code",
   "execution_count": 20,
   "metadata": {},
   "outputs": [
    {
     "data": {
      "image/png": "[encoded data removed]",
      "text/plain": [
       "<Figure size 864x504 with 1 Axes>"
      ]
     },
     "metadata": {},
     "output_type": "display_data"
    }
   ],
   "source": [
    "# now let's make a pandas Series with the names and values, and plot them\n",
    "from matplotlib import pyplot as plt\n",
    "%matplotlib inline\n",
    "plt.style.use('ggplot')\n",
    "\n",
    "weights = pd.Series(lr2_clf.coef_[0],index=X_reduced.columns)\n",
    "weights.plot(kind='bar', figsize = (12, 7))\n",
    "plt.show()"
   ]
  },
  {
   "cell_type": "markdown",
   "metadata": {},
   "source": [
    "The 30 most important features in the model, as determined by RFE, can be found in the bar chart above.  `Country_USA`, `Country_Russia`, `Weight`, and `Season` are found to be the most important features when determining an athlete's probability to win a medal, or `Medal` class **1**.  `Sports_Athletics` is the most important feature when determining the probability of an athlete not winning a medal, or `Medal` class **0**.  This is logical because the largest number of overall athletes to compete in the Olympics typically compete in *Athletics*, or Track and Field events.  Meaning, they are less likely to win a Medal just based on the sheer number of participants.  Other items to note in the top-30 are countries which have historically not produced many `Medal` winners. "
   ]
  },
  {
   "cell_type": "markdown",
   "metadata": {},
   "source": [
    "#### Dimensionality reduction via PCA "
   ]
  },
  {
   "cell_type": "code",
   "execution_count": 37,
   "metadata": {},
   "outputs": [],
   "source": [
    "from sklearn.decomposition import PCA\n",
    "from sklearn.pipeline import make_pipeline\n",
    "\n",
    "pipe_lr = make_pipeline(PCA(),\n",
    "                        LogisticRegression(penalty = 'l1', C = 0.01, random_state = 1, \n",
    "                                           class_weight = 'balanced'))\n",
    "pca = PCA()"
   ]
  },
  {
   "cell_type": "code",
   "execution_count": 38,
   "metadata": {},
   "outputs": [
    {
     "data": {
      "image/png": "[encoded data removed]",
      "text/plain": [
       "<Figure size 864x504 with 1 Axes>"
      ]
     },
     "metadata": {},
     "output_type": "display_data"
    }
   ],
   "source": [
    "pca.fit(X_train_std)\n",
    "\n",
    "plt.figure(1, figsize=(12, 7))\n",
    "plt.clf()\n",
    "plt.axes([.2, .2, .7, .7])\n",
    "plt.plot(pca.explained_variance_, linewidth=2)\n",
    "plt.axis('tight')\n",
    "plt.xlabel('n_components')\n",
    "plt.ylabel('explained_variance_')\n",
    "plt.show()"
   ]
  },
  {
   "cell_type": "markdown",
   "metadata": {},
   "source": [
    "Utilizing a standard PCA model, there are distinct steps where variance decreases.  This provides the opportunity to minimize the curse of dimensionality and use GridSearch once again to attempt to optimize hyperparameters by choosing from a range of n_components utilizing PCA."
   ]
  },
  {
   "cell_type": "code",
   "execution_count": 39,
   "metadata": {},
   "outputs": [
    {
     "name": "stdout",
     "output_type": "stream",
     "text": [
      "Fitting 5 folds for each of 3 candidates, totalling 15 fits\n"
     ]
    },
    {
     "name": "stderr",
     "output_type": "stream",
     "text": [
      "[Parallel(n_jobs=-1)]: Done  15 out of  15 | elapsed: 11.2min finished\n"
     ]
    },
    {
     "name": "stdout",
     "output_type": "stream",
     "text": [
      "CPU times: user 1min 27s, sys: 35.2 s, total: 2min 2s\n",
      "Wall time: 11min 35s\n"
     ]
    }
   ],
   "source": [
    "%%time\n",
    "\n",
    "#Perform GridSearch with varying number of number of PCA components\n",
    "param_grid = [{'pca__n_components': [20, 50, 100]}]\n",
    "\n",
    "gs_clf = GridSearchCV(estimator = pipe_lr, param_grid = param_grid, cv = 5, n_jobs = -1, \n",
    "                      scoring = 'roc_auc', verbose = True)\n",
    "gs_clf = gs_clf.fit(X_train_std, y_train)"
   ]
  },
  {
   "cell_type": "code",
   "execution_count": 42,
   "metadata": {},
   "outputs": [
    {
     "name": "stdout",
     "output_type": "stream",
     "text": [
      "0.699638990662\n",
      "{'pca__n_components': 100}\n"
     ]
    }
   ],
   "source": [
    "print(gs_clf.best_score_)\n",
    "print(gs_clf.best_params_)"
   ]
  },
  {
   "cell_type": "code",
   "execution_count": 43,
   "metadata": {},
   "outputs": [
    {
     "data": {
      "text/plain": [
       "Pipeline(memory=None,\n",
       "     steps=[('pca', PCA(copy=True, iterated_power='auto', n_components=100, random_state=None,\n",
       "  svd_solver='auto', tol=0.0, whiten=False)), ('logisticregression', LogisticRegression(C=0.01, class_weight='balanced', dual=False,\n",
       "          fit_intercept=True, intercept_scaling=1, max_iter=100,\n",
       "          multi_class='ovr', n_jobs=1, penalty='l1', random_state=1,\n",
       "          solver='liblinear', tol=0.0001, verbose=0, warm_start=False))])"
      ]
     },
     "execution_count": 43,
     "metadata": {},
     "output_type": "execute_result"
    }
   ],
   "source": [
    "clf = gs_clf.best_estimator_\n",
    "clf.fit(X_train_std, y_train)"
   ]
  },
  {
   "cell_type": "code",
   "execution_count": 44,
   "metadata": {},
   "outputs": [
    {
     "name": "stdout",
     "output_type": "stream",
     "text": [
      "0.658770458783\n",
      "[[ 0.69396868  0.30603132]\n",
      " [ 0.51488703  0.48511297]\n",
      " [ 0.3756538   0.6243462 ]\n",
      " [ 0.59627138  0.40372862]\n",
      " [ 0.29959071  0.70040929]]\n"
     ]
    }
   ],
   "source": [
    "print(clf.score(X_train_std, y_train))\n",
    "print(clf.predict_proba(X_test_std[:5, :]))"
   ]
  },
  {
   "cell_type": "code",
   "execution_count": 45,
   "metadata": {},
   "outputs": [
    {
     "name": "stdout",
     "output_type": "stream",
     "text": [
      "Basic Logistic Regression Accuracies: \n",
      "[ 0.65743395  0.66075971  0.65512444]\n",
      "Model Precision: 0.245\n",
      "Model Recall: 0.624\n"
     ]
    }
   ],
   "source": [
    "accuracies = cross_val_score(clf, X_train_std, y=y_train, cv=3) # this also can help with parallelism\n",
    "y_train_pred = cross_val_predict(clf, X_train_std, y_train, cv = 3)\n",
    "clf_precision = precision_score(y_train, y_train_pred)\n",
    "clf_recall = recall_score(y_train, y_train_pred)\n",
    "print('Basic Logistic Regression Accuracies: ')\n",
    "print(accuracies)\n",
    "print('Model Precision: %0.3f' % (clf_precision))\n",
    "print('Model Recall: %0.3f' % (clf_recall))"
   ]
  },
  {
   "cell_type": "code",
   "execution_count": 46,
   "metadata": {},
   "outputs": [
    {
     "name": "stdout",
     "output_type": "stream",
     "text": [
      "Test Precision: 0.244\n",
      "Test Recall: 0.629\n",
      "accuracy 0.656717256886\n",
      "confusion matrix\n",
      " [[30083 15397]\n",
      " [ 2924  4966]]\n"
     ]
    }
   ],
   "source": [
    "y_hat = clf.predict(X_test_std) # get test set precitions\n",
    "clf_precision = precision_score(y_test, y_hat)\n",
    "clf_recall = recall_score(y_test, y_hat)\n",
    "print('Test Precision: %0.3f' % (clf_precision))\n",
    "print('Test Recall: %0.3f' % (clf_recall))\n",
    "# now let's get the accuracy and confusion matrix for this iterations of training/testing\n",
    "acc = mt.accuracy_score(y_test,y_hat)\n",
    "conf = mt.confusion_matrix(y_test,y_hat)\n",
    "print(\"accuracy\", acc )\n",
    "print(\"confusion matrix\\n\",conf)"
   ]
  },
  {
   "cell_type": "markdown",
   "metadata": {},
   "source": [
    "You can see from above that even with 100 Principal components in the model, we are still unable to improve precision above our Optimized model from before.  Recall also decreased from 0.74 to 0.63."
   ]
  },
  {
   "cell_type": "code",
   "execution_count": 48,
   "metadata": {},
   "outputs": [
    {
     "name": "stdout",
     "output_type": "stream",
     "text": [
      "Logistic Regression ROC AUC: 0.70, (+/- 0.00)\n"
     ]
    }
   ],
   "source": [
    "from sklearn.model_selection import cross_val_score\n",
    "scores = cross_val_score(estimator=clf, X=X_train_std, y=y_train, cv=10, scoring='roc_auc')\n",
    "print(\"Logistic Regression ROC AUC: %0.2f, (+/- %0.2f)\" % (scores.mean(), scores.std()))"
   ]
  },
  {
   "cell_type": "code",
   "execution_count": 49,
   "metadata": {},
   "outputs": [
    {
     "data": {
      "image/png": "[encoded data removed]",
      "text/plain": [
       "<Figure size 432x288 with 1 Axes>"
      ]
     },
     "metadata": {},
     "output_type": "display_data"
    }
   ],
   "source": [
    "from sklearn.metrics import roc_curve, auc\n",
    "y_pred = clf.predict_proba(X_test)[:, 1]\n",
    "fpr, tpr, thresholds = roc_curve(y_true = y_test, y_score = y_pred)\n",
    "roc_auc = auc(x = fpr, y = tpr)\n",
    "plt.plot(fpr, tpr, color = 'orange', linestyle = '-.', label = 'Logistic Regression (auc = %0.2f)' % (roc_auc))\n",
    "plt.plot([0, 1], [0, 1], linestyle = '--', color = 'blue', linewidth = 2)\n",
    "plt.xlim([-0.1, 1.1])\n",
    "plt.ylim([-0.1, 1.1])\n",
    "plt.grid(alpha = 0.5)\n",
    "plt.xlabel('false positive rate (FPR)')\n",
    "plt.ylabel('true positive rate (TPR)')\n",
    "plt.legend(loc = 'lower right')\n",
    "plt.show()"
   ]
  },
  {
   "cell_type": "markdown",
   "metadata": {},
   "source": [
    "The ROC curve above provides a visual represetation of our True Positive Rate vs. False Positive Rate for the \n",
    "PCA-adjusted Logisitic Regression model.  The AUC of 0.57 is only slightly better than a best-guess estimate, so we will need to investigate stronger predictor variables for future classification attempts."
   ]
  },
  {
   "cell_type": "markdown",
   "metadata": {},
   "source": [
    "### Interpret Support Vectors\n",
    "---"
   ]
  },
  {
   "cell_type": "code",
   "execution_count": 23,
   "metadata": {},
   "outputs": [
    {
     "name": "stdout",
     "output_type": "stream",
     "text": [
      "             precision    recall  f1-score   support\n",
      "\n",
      "          0       0.85      1.00      0.92     45480\n",
      "          1       0.87      0.02      0.04      7890\n",
      "\n",
      "avg / total       0.86      0.86      0.79     53370\n",
      "\n",
      "CPU times: user 1h 3min 22s, sys: 37.8 s, total: 1h 4min\n",
      "Wall time: 1h 4min 30s\n"
     ]
    }
   ],
   "source": [
    "%%time\n",
    "from sklearn.svm import SVC\n",
    "\n",
    "#Avoids Running RFE Model a second time\n",
    "svc = SVC(C=1000, gamma=0.001, kernel='rbf', random_state=12)\n",
    "X_train2, X_test2, y_train2, y_test2 = train_test_split(X_reduced, y,\n",
    "                                                        random_state = 1, stratify=y,\n",
    "                                                       test_size=0.2)\n",
    "\n",
    "\n",
    "sc.fit(X_train2)\n",
    "X_train2_std = sc.transform(X_train2)\n",
    "X_test2_std = sc.transform(X_test2)\n",
    "\n",
    "\n",
    "\n",
    "svc.fit(X_train2_std, y_train2)\n",
    "\n",
    "y_true, y_pred = y_test2, svc.predict(X_test2_std)\n",
    "print(classification_report(y_true, y_pred))"
   ]
  },
  {
   "cell_type": "code",
   "execution_count": 24,
   "metadata": {},
   "outputs": [
    {
     "data": {
      "text/plain": [
       "62596"
      ]
     },
     "execution_count": 24,
     "metadata": {},
     "output_type": "execute_result"
    }
   ],
   "source": [
    "sum(svc.n_support_)"
   ]
  },
  {
   "cell_type": "markdown",
   "metadata": {},
   "source": [
    "Above we can see that there are a total of 62,596 support vectors when we look at our reduced dataset. We went from 709 features down to top 30 RFE features. These support vectors are broken by class by:"
   ]
  },
  {
   "cell_type": "code",
   "execution_count": 25,
   "metadata": {},
   "outputs": [
    {
     "name": "stdout",
     "output_type": "stream",
     "text": [
      "No Medal Class Number of Support Vectors : 31473\n",
      "Medal Class Number of support Vectors :  31123\n"
     ]
    }
   ],
   "source": [
    "print(\"No Medal Class Number of Support Vectors :\", svc.n_support_[0])\n",
    "print(\"Medal Class Number of support Vectors : \", svc.n_support_[1])"
   ]
  },
  {
   "cell_type": "markdown",
   "metadata": {},
   "source": [
    "This makes sense that the `no medal` class has a larger number of support vectors as there are more possibilities of not winning a medal in our dataset than there is of someone actually winning a medal."
   ]
  },
  {
   "cell_type": "code",
   "execution_count": 26,
   "metadata": {},
   "outputs": [
    {
     "data": {
      "text/plain": [
       "array([    36,     54,     62, ..., 213470, 213471, 213476], dtype=int32)"
      ]
     },
     "execution_count": 26,
     "metadata": {},
     "output_type": "execute_result"
    }
   ],
   "source": [
    "svc.support_"
   ]
  },
  {
   "cell_type": "code",
   "execution_count": 27,
   "metadata": {},
   "outputs": [
    {
     "data": {
      "text/plain": [
       "Country_USA                                  0\n",
       "Country_Russia                               0\n",
       "Weight                                      73\n",
       "Year                                      1948\n",
       "Sex                                          1\n",
       "Country_Luxembourg                           0\n",
       "Country_Egypt                                0\n",
       "Sport_Athletics                              0\n",
       "Season                                       1\n",
       "Event_Ice  Ice Hockey                        0\n",
       "Event_ Individual All-Around                 0\n",
       "Event_ Road Race, Individual                 0\n",
       "Event_ Rugby                                 0\n",
       "Event_ Floor Exercise                        0\n",
       "Event_ Horse Vault                           0\n",
       "Sport_Alpine Skiing                          0\n",
       "Event_ Team All-Around, Swedish System       0\n",
       "Event_ Horizontal Bar                        0\n",
       "Country_Mexico                               0\n",
       "Event_ Uneven Bars                           0\n",
       "Event_ Pommelled Horse                       0\n",
       "Country_Senegal                              0\n",
       "Event_ Parallel Bars                         0\n",
       "Event_ Rings                                 0\n",
       "Country_Ireland                              0\n",
       "Country_Venezuela                            0\n",
       "Event_ Balance Beam                          0\n",
       "Country_Israel                               0\n",
       "Event_Sailing Mixed 12 metres                0\n",
       "Event_ Lacrosse                              0\n",
       "Name: 10, dtype: int64"
      ]
     },
     "execution_count": 27,
     "metadata": {},
     "output_type": "execute_result"
    }
   ],
   "source": [
    "X_reduced.iloc[10, :]"
   ]
  },
  {
   "cell_type": "markdown",
   "metadata": {},
   "source": [
    "If we examine our support vectors found by the SVC model, we can see that `Russia` and the `United States` are huge factors in determining whether or not an athelete medals. This finding corresponds to the fact that those two countries had the most medal winners in the dataset. Not being from those countries is more likely to result in an athlete not having a podium finish. `Sex` seems to determine whether an athlete will win a gold medal. This might have something to do with the fact that men had more data available for their Olympic finishes than women did. 1948 seemed to be a significant year that the Support Vector found. This corresponds to the uptick in gold medal wins that our gold medals over time graph showed in our EDA section. Finally, we notice that a `weight` of 73 Kilograms seems to be significant. The reason for this is unknown at the time, but could have something to do with lighter athletes being more likely to engage in events where there were a greater number of podium finishes. It's also expected to see the `Sport_Athletics` show up as a Support Vector because some sports are more likely to produce a high number of podium finishes than others. Our Support Vectors found by the SVC model do seem to be linked with some of the initial findings we highlighted during EDA."
   ]
  },
  {
   "cell_type": "code",
   "execution_count": 29,
   "metadata": {},
   "outputs": [],
   "source": [
    "X_reduced.to_csv('~/olympics/data/reduced_olympic_data.csv', header=True, index=False)"
   ]
  },
  {
   "cell_type": "code",
   "execution_count": null,
   "metadata": {},
   "outputs": [],
   "source": []
  }
 ],
 "metadata": {
  "kernelspec": {
   "display_name": "Python 3",
   "language": "python",
   "name": "python3"
  },
  "language_info": {
   "codemirror_mode": {
    "name": "ipython",
    "version": 3
   },
   "file_extension": ".py",
   "mimetype": "text/x-python",
   "name": "python",
   "nbconvert_exporter": "python",
   "pygments_lexer": "ipython3",
   "version": "3.6.5"
  }
 },
 "nbformat": 4,
 "nbformat_minor": 2
}
