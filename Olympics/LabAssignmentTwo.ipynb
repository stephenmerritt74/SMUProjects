{
 "cells": [
  {
   "cell_type": "markdown",
   "metadata": {},
   "source": [
    "## Classification with Olympic Data\n",
    "\n",
    "---\n",
    "- Brian Coari\n",
    "- Stephen Merritt\n",
    "- Cory Thigpen\n",
    "- Quentin Thomas"
   ]
  },
  {
   "cell_type": "markdown",
   "metadata": {},
   "source": [
    "This dataset tracks all Olympians' medal results from 1896-2016, as well as various physical attributes such as `Sex`, `Age`, `Weight`, and `Height`. In this lab we will (1) predict podium finishers using binary classification and (2) predict the sport a podium-finishing athlete played using multinomial classification for Olympic games on or after 2010."
   ]
  },
  {
   "cell_type": "markdown",
   "metadata": {},
   "source": [
    "### Data Preparation\n",
    "\n",
    "#### Section 1\n",
    "---"
   ]
  },
  {
   "cell_type": "code",
   "execution_count": 45,
   "metadata": {
    "scrolled": false
   },
   "outputs": [
    {
     "data": {
      "text/html": [
       "<div>\n",
       "<style scoped>\n",
       "    .dataframe tbody tr th:only-of-type {\n",
       "        vertical-align: middle;\n",
       "    }\n",
       "\n",
       "    .dataframe tbody tr th {\n",
       "        vertical-align: top;\n",
       "    }\n",
       "\n",
       "    .dataframe thead th {\n",
       "        text-align: right;\n",
       "    }\n",
       "</style>\n",
       "<table border=\"1\" class=\"dataframe\">\n",
       "  <thead>\n",
       "    <tr style=\"text-align: right;\">\n",
       "      <th></th>\n",
       "      <th>Unnamed: 0</th>\n",
       "      <th>NOC</th>\n",
       "      <th>Country</th>\n",
       "      <th>ID</th>\n",
       "      <th>Name</th>\n",
       "      <th>Sex</th>\n",
       "      <th>Age</th>\n",
       "      <th>Height</th>\n",
       "      <th>Weight</th>\n",
       "      <th>Team</th>\n",
       "      <th>Games</th>\n",
       "      <th>Year</th>\n",
       "      <th>Season</th>\n",
       "      <th>City</th>\n",
       "      <th>Sport</th>\n",
       "      <th>Event</th>\n",
       "      <th>Medal</th>\n",
       "    </tr>\n",
       "  </thead>\n",
       "  <tbody>\n",
       "    <tr>\n",
       "      <th>0</th>\n",
       "      <td>872</td>\n",
       "      <td>AFG</td>\n",
       "      <td>Afghanistan</td>\n",
       "      <td>502.0</td>\n",
       "      <td>Ahmad Shah Abouwi</td>\n",
       "      <td>M</td>\n",
       "      <td>25</td>\n",
       "      <td>176</td>\n",
       "      <td>73</td>\n",
       "      <td>Afghanistan</td>\n",
       "      <td>1956 Summer</td>\n",
       "      <td>1956</td>\n",
       "      <td>Summer</td>\n",
       "      <td>Melbourne</td>\n",
       "      <td>Hockey</td>\n",
       "      <td>Hockey</td>\n",
       "      <td>No Medal</td>\n",
       "    </tr>\n",
       "    <tr>\n",
       "      <th>1</th>\n",
       "      <td>1950</td>\n",
       "      <td>AFG</td>\n",
       "      <td>Afghanistan</td>\n",
       "      <td>1076.0</td>\n",
       "      <td>Jammal-ud-Din Affendi</td>\n",
       "      <td>M</td>\n",
       "      <td>28</td>\n",
       "      <td>176</td>\n",
       "      <td>73</td>\n",
       "      <td>Afghanistan</td>\n",
       "      <td>1936 Summer</td>\n",
       "      <td>1936</td>\n",
       "      <td>Summer</td>\n",
       "      <td>Berlin</td>\n",
       "      <td>Hockey</td>\n",
       "      <td>Hockey</td>\n",
       "      <td>No Medal</td>\n",
       "    </tr>\n",
       "    <tr>\n",
       "      <th>2</th>\n",
       "      <td>1992</td>\n",
       "      <td>AFG</td>\n",
       "      <td>Afghanistan</td>\n",
       "      <td>1101.0</td>\n",
       "      <td>Mohammad Anwar Afzal</td>\n",
       "      <td>M</td>\n",
       "      <td>23</td>\n",
       "      <td>177</td>\n",
       "      <td>73</td>\n",
       "      <td>Afghanistan</td>\n",
       "      <td>1948 Summer</td>\n",
       "      <td>1948</td>\n",
       "      <td>Summer</td>\n",
       "      <td>London</td>\n",
       "      <td>Football</td>\n",
       "      <td>Football</td>\n",
       "      <td>No Medal</td>\n",
       "    </tr>\n",
       "    <tr>\n",
       "      <th>3</th>\n",
       "      <td>3129</td>\n",
       "      <td>AFG</td>\n",
       "      <td>Afghanistan</td>\n",
       "      <td>1745.0</td>\n",
       "      <td>Mohammad Aktar</td>\n",
       "      <td>M</td>\n",
       "      <td>17</td>\n",
       "      <td>156</td>\n",
       "      <td>48</td>\n",
       "      <td>Afghanistan</td>\n",
       "      <td>1980 Summer</td>\n",
       "      <td>1980</td>\n",
       "      <td>Summer</td>\n",
       "      <td>Moskva</td>\n",
       "      <td>Wrestling</td>\n",
       "      <td>Light-Flyweight, Freestyle</td>\n",
       "      <td>No Medal</td>\n",
       "    </tr>\n",
       "    <tr>\n",
       "      <th>4</th>\n",
       "      <td>8410</td>\n",
       "      <td>AFG</td>\n",
       "      <td>Afghanistan</td>\n",
       "      <td>4628.0</td>\n",
       "      <td>Mohammad Daoud Anwary</td>\n",
       "      <td>M</td>\n",
       "      <td>22</td>\n",
       "      <td>172</td>\n",
       "      <td>76</td>\n",
       "      <td>Afghanistan</td>\n",
       "      <td>1964 Summer</td>\n",
       "      <td>1964</td>\n",
       "      <td>Summer</td>\n",
       "      <td>Tokyo</td>\n",
       "      <td>Wrestling</td>\n",
       "      <td>Bantamweight, Freestyle</td>\n",
       "      <td>No Medal</td>\n",
       "    </tr>\n",
       "  </tbody>\n",
       "</table>\n",
       "</div>"
      ],
      "text/plain": [
       "   Unnamed: 0  NOC      Country      ID                   Name Sex  Age  \\\n",
       "0         872  AFG  Afghanistan   502.0      Ahmad Shah Abouwi   M   25   \n",
       "1        1950  AFG  Afghanistan  1076.0  Jammal-ud-Din Affendi   M   28   \n",
       "2        1992  AFG  Afghanistan  1101.0   Mohammad Anwar Afzal   M   23   \n",
       "3        3129  AFG  Afghanistan  1745.0         Mohammad Aktar   M   17   \n",
       "4        8410  AFG  Afghanistan  4628.0  Mohammad Daoud Anwary   M   22   \n",
       "\n",
       "   Height  Weight         Team        Games  Year  Season       City  \\\n",
       "0     176      73  Afghanistan  1956 Summer  1956  Summer  Melbourne   \n",
       "1     176      73  Afghanistan  1936 Summer  1936  Summer     Berlin   \n",
       "2     177      73  Afghanistan  1948 Summer  1948  Summer     London   \n",
       "3     156      48  Afghanistan  1980 Summer  1980  Summer     Moskva   \n",
       "4     172      76  Afghanistan  1964 Summer  1964  Summer      Tokyo   \n",
       "\n",
       "       Sport                        Event     Medal  \n",
       "0     Hockey                       Hockey  No Medal  \n",
       "1     Hockey                       Hockey  No Medal  \n",
       "2   Football                     Football  No Medal  \n",
       "3  Wrestling   Light-Flyweight, Freestyle  No Medal  \n",
       "4  Wrestling      Bantamweight, Freestyle  No Medal  "
      ]
     },
     "execution_count": 45,
     "metadata": {},
     "output_type": "execute_result"
    }
   ],
   "source": [
    "import numpy as np\n",
    "import pandas as pd\n",
    "df = pd.read_csv('data/athletes_cleaned_merged.csv')\n",
    "df.head()"
   ]
  },
  {
   "cell_type": "code",
   "execution_count": 46,
   "metadata": {},
   "outputs": [
    {
     "name": "stdout",
     "output_type": "stream",
     "text": [
      "<class 'pandas.core.frame.DataFrame'>\n",
      "RangeIndex: 266954 entries, 0 to 266953\n",
      "Data columns (total 17 columns):\n",
      "Unnamed: 0    266954 non-null int64\n",
      "NOC           266954 non-null object\n",
      "Country       266954 non-null object\n",
      "ID            266954 non-null float64\n",
      "Name          266954 non-null object\n",
      "Sex           266954 non-null object\n",
      "Age           266954 non-null int64\n",
      "Height        266954 non-null int64\n",
      "Weight        266954 non-null int64\n",
      "Team          266954 non-null object\n",
      "Games         266954 non-null object\n",
      "Year          266954 non-null int64\n",
      "Season        266954 non-null object\n",
      "City          266954 non-null object\n",
      "Sport         266954 non-null object\n",
      "Event         266954 non-null object\n",
      "Medal         266954 non-null object\n",
      "dtypes: float64(1), int64(5), object(11)\n",
      "memory usage: 34.6+ MB\n"
     ]
    }
   ],
   "source": [
    "df.info()"
   ]
  },
  {
   "cell_type": "markdown",
   "metadata": {},
   "source": [
    "The intial data set contained the following data of different types:\n",
    "\n",
    "\n",
    "| Nominal | Ordinal | Numeric | Binary |\n",
    "| ------- | ------- | ------- | ------ |\n",
    "| Games   | City    | Age     |        |\n",
    "| Name    | Event   | Height  |        |\n",
    "| NOC     | ID      | Weight  |        |\n",
    "| Season  | Medal   | Year    |        |\n",
    "| Sex     |         |         |        |\n",
    "| Team    |         |         |        |\n",
    "\n",
    "\n",
    "To prepare the lab, we brought population data into the data set and changed all National Olympic Committee or `NOC` data points to match their corresponding `Country`. For countries without entries in the worldbank URL we hard-coded the populations. There were 106 observations in the data set not associated with a country, so we dropped them. These were `Refugee Athletes` and `Individual Olympic Athletes`. `Sex`, `Season`, and `Medal` were converted to numeric factors and `ID`, `NOC`, `Name`, `Team`, and `Games` were dropped due to lack of relevancy."
   ]
  },
  {
   "cell_type": "code",
   "execution_count": 47,
   "metadata": {},
   "outputs": [],
   "source": [
    "df_pop = pd.read_csv('data/POP_TOTAL.csv', encoding = \"ISO-8859-1\")\n",
    "df_pop = df_pop[['Country Code', '2015']]\n",
    "#Change all Russia NOCs\n",
    "df['NOC'] = np.where(df['NOC'] == 'EUN', 'RUS', df['NOC'])\n",
    "df['NOC'] = np.where(df['NOC'] == 'URS', 'RUS', df['NOC'])\n",
    "#Change all Australia NOCs\n",
    "df['NOC'] = np.where(df['NOC'] == 'ANZ', 'AUS', df['NOC'])\n",
    "#Change all German NOCs\n",
    "df['NOC'] = np.where(df['NOC'] == 'FRG', 'GER', df['NOC'])\n",
    "df['NOC'] = np.where(df['NOC'] == 'GDR', 'GER', df['NOC'])\n",
    "df['NOC'] = np.where(df['NOC'] == 'SAA', 'GER', df['NOC'])\n",
    "#Change all Congo NOCs\n",
    "df['NOC'] = np.where(df['NOC'] == 'CGO', 'COD', df['NOC'])\n",
    "#Change all Czech NOCs\n",
    "df['NOC'] = np.where(df['NOC'] == 'BOH', 'CZE', df['NOC'])\n",
    "df['NOC'] = np.where(df['NOC'] == 'TCH', 'CZE', df['NOC'])\n",
    "#Change all Yemen NOCs\n",
    "df['NOC'] = np.where(df['NOC'] == 'YAR', 'YEM', df['NOC'])\n",
    "df['NOC'] = np.where(df['NOC'] == 'YMD', 'YEM', df['NOC'])\n",
    "#Change all Greek NOCs\n",
    "df['NOC'] = np.where(df['NOC'] == 'CRT', 'GRE', df['NOC'])\n",
    "#Change all Zimbabwe NOCs\n",
    "df['NOC'] = np.where(df['NOC'] == 'RHO', 'ZIM', df['NOC'])\n",
    "#Change all Malaysia NOCs\n",
    "df['NOC'] = np.where(df['NOC'] == 'MAL', 'MAS', df['NOC'])\n",
    "df['NOC'] = np.where(df['NOC'] == 'NBO', 'MAS', df['NOC'])\n",
    "#Change all Vietnam NOCs\n",
    "df['NOC'] = np.where(df['NOC'] == 'VNM', 'VIE', df['NOC'])\n",
    "#Change all Trinidad and Tobego NOCs\n",
    "df['NOC'] = np.where(df['NOC'] == 'WIF', 'TTO', df['NOC'])\n",
    "#Change all Trinidad and Tobego NOCs\n",
    "df['NOC'] = np.where(df['NOC'] == 'UAR', 'SYR', df['NOC'])\n",
    "#Change all Serbian NOCs\n",
    "df['NOC'] = np.where(df['NOC'] == 'SCG', 'YUG', df['NOC'])\n",
    "df['NOC'] = np.where(df['NOC'] == 'SRB', 'YUG', df['NOC'])\n",
    "#Change all Canada NOCs\n",
    "df['NOC'] = np.where(df['NOC'] == 'NFL', 'CAN', df['NOC'])\n",
    "df_pop.rename(index = str, columns = {'Country Code' : 'NOC', '2015': '2015 Population'}, inplace = True)\n",
    "df_pop_merge = pd.merge(left = df, right = df_pop, how = 'left', on=['NOC'], left_index=False)\n",
    "df_pop_merge.loc[df_pop_merge['Country'] == 'Taiwan', '2015 Population'] =  23485755\n",
    "df_pop_merge.loc[df_pop_merge['Country'] == 'Saint Vincent', '2015 Population'] =  109643\n",
    "df_pop_merge.loc[df_pop_merge['Country'] == 'Palestine', '2015 Population'] =  4817000\n",
    "df_pop_merge.loc[df_pop_merge['Country'] == 'Cook Islands', '2015 Population'] =  17459\n",
    "df_pop_merge.loc[df_pop_merge['Country'] == 'Eritrea', '2015 Population'] =  4846976\n",
    "df_pop_merge.loc[df_pop_merge['Country'] == 'Saint Kitts', '2015 Population'] =  54821\n",
    "df_pop_mergena = df_pop_merge[df_pop_merge['2015 Population'].isnull()]\n",
    "#Drop the 106 observations not associated with a country \n",
    "df_pop_merge = df_pop_merge.dropna(how = 'any')"
   ]
  },
  {
   "cell_type": "code",
   "execution_count": 48,
   "metadata": {},
   "outputs": [],
   "source": [
    "#Calculate the population proportion for each country\n",
    "df_pop = df_pop_merge.groupby(['Country'])['2015 Population'].mean().reset_index()\n",
    "df_pop['Population_Prop'] = df_pop['2015 Population'].transform(lambda x: x / (x.sum()))\n",
    "\n",
    "#Calculate BMI for each athlete\n",
    "def calculate_bmi(df):\n",
    "    return (df[1]/(df[0] * df[0])) * 10000\n",
    "df_pop_merge['BMI'] = df_pop_merge[['Height', 'Weight']].apply(calculate_bmi, axis=1)\n",
    "\n",
    "#Merge dataframes with Population Propotion information\n",
    "df_pop_merge = pd.merge(left = df_pop_merge, right = df_pop, how = 'left', on=['Country'], \n",
    "                        left_index=False)\n",
    "#Create Binary Medal, Season, and Sex Classes\n",
    "df_pop_merge['Medal'] = np.where(df_pop_merge.Medal == 'No Medal', 0, 1)\n",
    "df_pop_merge['Season'] = np.where(df_pop_merge.Season == 'Summer', 1, 0)\n",
    "df_pop_merge['Sex'] = np.where(df_pop_merge.Sex == 'M', 1, 0)"
   ]
  },
  {
   "cell_type": "markdown",
   "metadata": {},
   "source": [
    "During previous analysis of this dataset, it was determined that models struggled to select Actual Medal winners.  To that end, we performed some feature engineering, by creating a `Previous_Medal` feature that captures Medal winning caliber athletes that compete in subsquent Olympics."
   ]
  },
  {
   "cell_type": "code",
   "execution_count": 49,
   "metadata": {},
   "outputs": [
    {
     "name": "stderr",
     "output_type": "stream",
     "text": [
      "/Users/Steve/anaconda3/lib/python3.6/site-packages/pandas/core/indexing.py:189: SettingWithCopyWarning: \n",
      "A value is trying to be set on a copy of a slice from a DataFrame\n",
      "\n",
      "See the caveats in the documentation: http://pandas.pydata.org/pandas-docs/stable/indexing.html#indexing-view-versus-copy\n",
      "  self._setitem_with_indexer(indexer, value)\n"
     ]
    },
    {
     "name": "stdout",
     "output_type": "stream",
     "text": [
      "CPU times: user 2h 3min 58s, sys: 6.63 s, total: 2h 4min 5s\n",
      "Wall time: 2h 4min 8s\n"
     ]
    }
   ],
   "source": [
    "%%time\n",
    "\n",
    "prev_medals = df_pop_merge.groupby(['Name', 'Year'])['Medal'].sum()\n",
    "prev_medals = prev_medals.reset_index()\n",
    "prev_medals.columns = ['Name', 'Year', 'Medal_Count']\n",
    "prev_medals['Previous_Medals'] = prev_medals['Medal_Count']\n",
    "\n",
    "for i in range(2, len(prev_medals)):\n",
    "    if prev_medals.iloc[i]['Name'] == prev_medals.iloc[i-1]['Name']:\n",
    "        if prev_medals.iloc[i-1]['Medal_Count'] != 0:\n",
    "            prev_medals['Previous_Medals'].iloc[i] = 1\n",
    "        else:\n",
    "            prev_medals['Previous_Medals'].iloc[i] = 0\n",
    "    else:\n",
    "        prev_medals['Previous_Medals'].iloc[i] = 0"
   ]
  },
  {
   "cell_type": "code",
   "execution_count": 50,
   "metadata": {},
   "outputs": [],
   "source": [
    "#Merge prev_medals into existing pop_merge dataset to add Previous_Medals feature\n",
    "df_prev_medal_merge = pd.merge(left = df_pop_merge, right = prev_medals, how = 'left', on = ['Name', 'Year'])\n",
    "df_pop_merge = df_prev_medal_merge[['Country', 'Sex', 'Age', 'Height', 'Weight', 'Year', 'Season', 'Sport', 'Event', 'BMI', \n",
    "                             'Population_Prop', 'Medal', 'Previous_Medals']]\n",
    "\n",
    "#Write dataframe to .csv file in order to preserve the data and avoid Feature Engineering code in future iterations \n",
    "df_pop_merge.to_csv('data/pop_merge.csv')"
   ]
  },
  {
   "cell_type": "markdown",
   "metadata": {},
   "source": [
    "#### Task 1 - Classifying Medal Winners"
   ]
  },
  {
   "cell_type": "markdown",
   "metadata": {},
   "source": [
    "We'll create a random sample of n = 20,000 (approximately 10% of the dataset) to speed up future hyperparameter tuning via GridSearch."
   ]
  },
  {
   "cell_type": "code",
   "execution_count": 51,
   "metadata": {},
   "outputs": [
    {
     "name": "stdout",
     "output_type": "stream",
     "text": [
      "<class 'pandas.core.frame.DataFrame'>\n",
      "RangeIndex: 266848 entries, 0 to 266847\n",
      "Data columns (total 12 columns):\n",
      "Country            266848 non-null object\n",
      "Sex                266848 non-null int64\n",
      "Age                266848 non-null int64\n",
      "Height             266848 non-null int64\n",
      "Weight             266848 non-null int64\n",
      "Year               266848 non-null int64\n",
      "Season             266848 non-null int64\n",
      "Sport              266848 non-null object\n",
      "Event              266848 non-null object\n",
      "BMI                266848 non-null float64\n",
      "Population_Prop    266848 non-null float64\n",
      "Previous_Medals    266848 non-null int64\n",
      "dtypes: float64(2), int64(7), object(3)\n",
      "memory usage: 24.4+ MB\n",
      "None\n",
      "<class 'pandas.core.frame.DataFrame'>\n",
      "Int64Index: 20000 entries, 5356 to 235731\n",
      "Data columns (total 12 columns):\n",
      "Country            20000 non-null object\n",
      "Sex                20000 non-null int64\n",
      "Age                20000 non-null int64\n",
      "Height             20000 non-null int64\n",
      "Weight             20000 non-null int64\n",
      "Year               20000 non-null int64\n",
      "Season             20000 non-null int64\n",
      "Sport              20000 non-null object\n",
      "Event              20000 non-null object\n",
      "BMI                20000 non-null float64\n",
      "Population_Prop    20000 non-null float64\n",
      "Previous_Medals    20000 non-null int64\n",
      "dtypes: float64(2), int64(7), object(3)\n",
      "memory usage: 2.0+ MB\n",
      "None\n"
     ]
    }
   ],
   "source": [
    "#Create X and y vectors for sklearn pre-processing steps.\n",
    "df = pd.read_csv('data/pop_merge.csv')\n",
    "\n",
    "#Create a 10% sampling of the data to speed up modeling and hyperparameter tuning process\n",
    "df_sample = df.sample(n = 20000, random_state = 1)\n",
    "y_sample = df_sample['Medal']\n",
    "X_sample = df_sample.drop(['Medal', 'Unnamed: 0'], axis = 1)\n",
    "\n",
    "y = df['Medal']\n",
    "X = df.drop(['Medal', 'Unnamed: 0'], axis = 1)\n",
    "\n",
    "print(X.info())\n",
    "print(X_sample.info())"
   ]
  },
  {
   "cell_type": "markdown",
   "metadata": {},
   "source": [
    "`Country`, `Sport`, and `Event` had too many variables for binary coding, so one-hot encoding was performed."
   ]
  },
  {
   "cell_type": "code",
   "execution_count": 52,
   "metadata": {},
   "outputs": [],
   "source": [
    "X = pd.get_dummies(X, columns = ['Country', 'Event', 'Sport'])\n",
    "X_sample = pd.get_dummies(X_sample, columns = ['Country', 'Event', 'Sport'])"
   ]
  },
  {
   "cell_type": "code",
   "execution_count": 53,
   "metadata": {},
   "outputs": [],
   "source": [
    "from sklearn.preprocessing import StandardScaler\n",
    "#Standardize X\n",
    "sc = StandardScaler()\n",
    "sc.fit(X)\n",
    "X_std = sc.transform(X)\n",
    "\n",
    "#Standardize X_sample\n",
    "sc.fit(X_sample)\n",
    "X_sample_std = sc.transform(X_sample)"
   ]
  },
  {
   "cell_type": "markdown",
   "metadata": {},
   "source": [
    "#### Task 2 - Guessing the Sport Based on Other Olympian Attributes"
   ]
  },
  {
   "cell_type": "markdown",
   "metadata": {},
   "source": [
    "In order to focus on relevant modern-day sports and cut down on a lot of the noise from previous years that did not collect data well, we will limit our data to only the past 8 years of olympics games, greater than or equal to 2010. "
   ]
  },
  {
   "cell_type": "code",
   "execution_count": 54,
   "metadata": {},
   "outputs": [
    {
     "name": "stdout",
     "output_type": "stream",
     "text": [
      "<class 'pandas.core.frame.DataFrame'>\n",
      "Int64Index: 35807 entries, 17 to 266821\n",
      "Data columns (total 11 columns):\n",
      "Country            35807 non-null object\n",
      "Sex                35807 non-null int64\n",
      "Age                35807 non-null int64\n",
      "Height             35807 non-null int64\n",
      "Weight             35807 non-null int64\n",
      "Year               35807 non-null int64\n",
      "Season             35807 non-null int64\n",
      "BMI                35807 non-null float64\n",
      "Population_Prop    35807 non-null float64\n",
      "Medal              35807 non-null int64\n",
      "Previous_Medals    35807 non-null int64\n",
      "dtypes: float64(2), int64(8), object(1)\n",
      "memory usage: 3.3+ MB\n",
      "None\n"
     ]
    }
   ],
   "source": [
    "import numpy as np\n",
    "import pandas as pd\n",
    "#Create X and y vectors for sklearn pre-processing steps\n",
    "df = pd.read_csv('data/pop_merge.csv')\n",
    "\n",
    "#Remove years before 2010 to limit to good, relevant data\n",
    "df = df.loc[df['Year'] >= 2010]\n",
    "\n",
    "y_task2=df['Sport']\n",
    "X_task2=df.drop(['Sport', 'Unnamed: 0','Event'], axis = 1)\n",
    "\n",
    "print(X_task2.info())"
   ]
  },
  {
   "cell_type": "code",
   "execution_count": 55,
   "metadata": {},
   "outputs": [],
   "source": [
    "X_task2 = pd.get_dummies(X_task2, columns = ['Country', 'Season','Sex'])"
   ]
  },
  {
   "cell_type": "markdown",
   "metadata": {},
   "source": [
    "We can see from the description of our y table that we have 49 unique sports we are trying to predict for our target in task 2. Printed below is a list of the 49 sports that make up our classes for reference:"
   ]
  },
  {
   "cell_type": "code",
   "execution_count": 56,
   "metadata": {},
   "outputs": [
    {
     "name": "stdout",
     "output_type": "stream",
     "text": [
      "['Athletics' 'Taekwondo' 'Judo' 'Boxing' 'Weightlifting' 'Swimming'\n",
      " 'Shooting' 'Alpine Skiing' 'Football' 'Volleyball' 'Sailing' 'Wrestling'\n",
      " 'Rowing' 'Gymnastics' 'Fencing' 'Cross Country Skiing' 'Cycling'\n",
      " 'Snowboarding' 'Biathlon' 'Handball' 'Basketball' 'Canoeing' 'Hockey'\n",
      " 'Equestrianism' 'Rugby Sevens' 'Tennis' 'Beach Volleyball' 'Golf' 'Luge'\n",
      " 'Modern Pentathlon' 'Table Tennis' 'Synchronized Swimming' 'Triathlon'\n",
      " 'Water Polo' 'Archery' 'Diving' 'Freestyle Skiing'\n",
      " 'Short Track Speed Skating' 'Skeleton' 'Badminton' 'Trampolining'\n",
      " 'Speed Skating' 'Figure Skating' 'Bobsleigh' 'Rhythmic Gymnastics'\n",
      " 'Ice Hockey' 'Nordic Combined' 'Ski Jumping' 'Curling']\n"
     ]
    }
   ],
   "source": [
    "print(y_task2.unique())"
   ]
  },
  {
   "cell_type": "code",
   "execution_count": 57,
   "metadata": {},
   "outputs": [],
   "source": [
    "#Create X and y vectors for sklearn pre-processing steps\n",
    "df = pd.read_csv('data/pop_merge.csv')\n",
    "\n",
    "#Remove years before 2010 to limit to good, relevant data\n",
    "df = df.loc[df['Year'] >= 2010]"
   ]
  },
  {
   "cell_type": "markdown",
   "metadata": {},
   "source": [
    "For X we will drop Event since it contains the sport and could lead to collineation issues. We are also dropping BMI since we have height and weight separately."
   ]
  },
  {
   "cell_type": "code",
   "execution_count": 58,
   "metadata": {},
   "outputs": [],
   "source": [
    "y_task2=df['Sport']\n",
    "X_task2=df.drop(['Sport', 'Unnamed: 0','Event','BMI'], axis = 1)\n",
    "X_task2 = pd.get_dummies(X_task2, columns = ['Country', 'Season','Sex'])\n",
    "\n",
    "#splitting into multilabel binarizer for regression\n",
    "from sklearn.preprocessing import MultiLabelBinarizer\n",
    "y_enc_task2=MultiLabelBinarizer().fit_transform(y_task2)"
   ]
  },
  {
   "cell_type": "code",
   "execution_count": 59,
   "metadata": {},
   "outputs": [
    {
     "name": "stdout",
     "output_type": "stream",
     "text": [
      "(35807, 45)\n"
     ]
    }
   ],
   "source": [
    "print(y_enc_task2.shape)"
   ]
  },
  {
   "cell_type": "markdown",
   "metadata": {},
   "source": [
    "We will now normalize the scalar prediction data to aid in noise reduction."
   ]
  },
  {
   "cell_type": "code",
   "execution_count": 60,
   "metadata": {},
   "outputs": [],
   "source": [
    "from sklearn.preprocessing import StandardScaler\n",
    "#Standardize X\n",
    "sc = StandardScaler()\n",
    "sc.fit(X_task2)\n",
    "X_std_task2 = sc.transform(X_task2)"
   ]
  },
  {
   "cell_type": "markdown",
   "metadata": {},
   "source": [
    "#### Section 2\n",
    "\n",
    "---"
   ]
  },
  {
   "cell_type": "markdown",
   "metadata": {},
   "source": [
    "Three variables were added to the data set: `Population_Prop`, `BMI`, and `Previous_Medals`. The `Population_Prop` variable was added to represent the percentage of the overall world population for a given `Country`. Athlete `BMI` was added to the dataframe where $\\omega$ represents `Weight` in kilograms, and $\\eta$ represents `Height` in centimeters, and $C$ is a constant at `10,000`:\n",
    "\n",
    "$$\n",
    "BMI = \\left(\\frac{\\omega}{\\eta \\eta}\\right) C\n",
    "$$\n",
    "\n",
    "`Previous_Medals` was created as a binary representation if an athlete had won a medal at a previous olympic games (indicated by a `1`). The `Medal` variable was converted from ordinal to binary, where `Gold`, `Silver`, or `Bronze` were given a `1` and `No Medal` performers were given a `0`. `Season` and `Sex` were also converted to binary. \n",
    "\n",
    "One-hot encoding was performed for binarization of the remaining nominal variables(`Country`, `Event`, and `Sport`) so they could be included as features to train the classification model.\n",
    "\n",
    "The final data set contains the following data of different types:\n",
    "\n",
    "| Nominal | Ordinal | Numeric         | Binary          |\n",
    "| ------- | ------- | --------------- | --------------- | \n",
    "|         |         | Age             | Country         |\n",
    "|         |         | BMI             | Event           |\n",
    "|         |         | Height          | Medal           |\n",
    "|         |         | Population_Prop | Previous_Medals |\n",
    "|         |         | Weight          | Season          |\n",
    "|         |         | Year            | Sex             |\n",
    "|         |         |                 | Sport           |\n",
    "\n",
    "The binary classification model will predict podium finishers and using multinomial classification we will predict one of 54 possible sports a podium-finishing athlete played. PCA was evaluated, but was determined not to greatly impact performance of the model."
   ]
  },
  {
   "cell_type": "markdown",
   "metadata": {},
   "source": [
    "### Modeling and Evaluation\n",
    "\n",
    "#### Task 1 Classifying Medal Winners\n",
    "#### Section 1 - Choosing Performance Metric to evaluate models\n",
    "\n",
    "---"
   ]
  },
  {
   "cell_type": "markdown",
   "metadata": {},
   "source": [
    "Due to the sparsity of the dataset following the one-hot encoding of the `Sport`, `Event`, and `Country` features, and the lack of many strong classifying features, previous models have struggled to select actual `Medal` winners, or `Medal` class (1).  The class imbalance of nearly 85% non-`Medal` winners to 15% `Medal` winners provides evidence as to why this is the typical result and why model accuracy is not the appropriate choice for an evaluation metric.  While precision and recall both look at how the model classifies a True Positive, or `Medal` class (1), in our case, a mixture of both is probably the best.  F1 is the most appropriate choice to select as the metric of choice for evaluating Models used to classify `Medal` winners with the existing dataset, plus the additional enginnered features.  As you can see from the formulas below, F1 captures both methods of evaluating actual `Medal` winners, and strikes the proper balance to appropriately measure model performance.\n",
    "\n",
    "---"
   ]
  },
  {
   "cell_type": "markdown",
   "metadata": {},
   "source": [
    "$$\n",
    "Precision = \\frac{Actual Medal Winners}{Actual Medal Winners + Athletes Incorrectly Labeled as Medal Winners}\n",
    "$$"
   ]
  },
  {
   "cell_type": "markdown",
   "metadata": {},
   "source": [
    "$$\n",
    "Recall = \\frac{Actual Medal Winners}{Actual Medal Winners + Medal Winners Incorrectly Labeled as Non Medal Winners}\n",
    "$$"
   ]
  },
  {
   "cell_type": "markdown",
   "metadata": {},
   "source": [
    "$$\n",
    "F_{1} = 2 * \\frac{precision * recall}{precision + recall}\n",
    "$$"
   ]
  },
  {
   "cell_type": "markdown",
   "metadata": {},
   "source": [
    "#### Section 2 - Choosing Method to split test and train datasets\n",
    "---\n",
    "For the task of classifying medal winners, we will use Stratified 10-fold cross validation to divide the data into training and test splits, with the desired test size being 20%. Stratification is extremely important in this dataset, since the majority of our features are binary as a result of the one-hot encoding operation. Each of these features are extremely imbalanced, so a stratified selection process will ensure under-represented feature classes will be properly represented in the test and training sets. As an example, only 0.04% of the athletes in the dataset return class (1) for Country_Afghanistan. Without stratifcation, there is a real possibility of athletes from this Country being unrepresented when determining Medal winners. The 10-fold cross-validation will minimize the possibility of overfitting and produce less bias by performing 10 models tests on slightly different subsets of the data. 10 is chosen for k since it is a routinely accepted practice in Machine learning and would produce slightly less bias than the other commonly accepted value of k, 5."
   ]
  },
  {
   "cell_type": "code",
   "execution_count": 61,
   "metadata": {},
   "outputs": [],
   "source": [
    "from sklearn.model_selection import StratifiedShuffleSplit\n",
    "sss = StratifiedShuffleSplit(n_splits=10, test_size = 0.2, random_state=0)\n",
    "for train_index, test_index in sss.split(X_std, y):\n",
    "    X_train, X_test = X_std[train_index], X_std[test_index]\n",
    "    y_train, y_test = y[train_index], y[test_index]"
   ]
  },
  {
   "cell_type": "markdown",
   "metadata": {},
   "source": [
    "#### Section 3 - Creating Models\n",
    "\n",
    "---\n",
    "For the task of classifying medal winners we will look at the model F1 scores following 10-fold Cross Validation for a Logistic Regression Model, a Naive Bayes Model, a Decision Tree Model, and a Random Forest Model."
   ]
  },
  {
   "cell_type": "code",
   "execution_count": 62,
   "metadata": {},
   "outputs": [],
   "source": [
    "#This function was taken from Dr. Jake Drew's EducationDataNC Repository and modified for use in this project\n",
    "cv = StratifiedShuffleSplit(n_splits = 10, test_size = 0.2, random_state = 0)\n",
    "from sklearn.model_selection import cross_validate\n",
    "\n",
    "def EvaluateClassifierEstimator(classifierEstimator, X, y, cv):\n",
    "   \n",
    "    #Perform cross validation \n",
    "    scores = cross_validate(classifierEstimator, X, y, scoring=['accuracy','precision','recall', 'f1']\n",
    "                            , cv=cv, return_train_score=True)\n",
    "\n",
    "    Accavg = scores['test_accuracy'].mean()\n",
    "    Preavg = scores['test_precision'].mean()\n",
    "    Recavg = scores['test_recall'].mean()\n",
    "    F1avg = scores['test_f1'].mean()\n",
    "\n",
    "    print_str = \"The average accuracy for all cv folds is: \\t\\t\\t {Accavg:.5}\"\n",
    "    print_str2 = \"The average precision for all cv folds is: \\t\\t\\t {Preavg:.5}\"\n",
    "    print_str3 = \"The average recall for all cv folds is: \\t\\t\\t {Recavg:.5}\"\n",
    "    print_str4 = \"The average F1 for all cv folds is: \\t\\t\\t {F1avg:.5}\"\n",
    "    \n",
    "    print(print_str.format(Accavg=Accavg))\n",
    "    print(print_str2.format(Preavg=Preavg))\n",
    "    print(print_str3.format(Recavg=Recavg))\n",
    "    print(print_str4.format(F1avg=F1avg))\n",
    "    print('*********************************************************')\n",
    "\n",
    "    print('Cross Validation Fold Mean Error Scores')\n",
    "    scoresResults = pd.DataFrame()\n",
    "    scoresResults['Accuracy'] = scores['test_accuracy']\n",
    "    scoresResults['Precision'] = scores['test_precision']\n",
    "    scoresResults['Recall'] = scores['test_recall']\n",
    "    scoresResults['F1'] = scores['test_f1']\n",
    "    \n",
    "    print(scoresResults)"
   ]
  },
  {
   "cell_type": "markdown",
   "metadata": {},
   "source": [
    "- Algorithm 1 (Logistic Regression)\n",
    "---\n",
    "We'll perform a GridSearch using a Sample of 20,000 instances from the dataset to tune the hyperparameters used in the final cross-validated model.  We use n=20,000 as a time saving measure.  Previous attempts at GridSearch using the full dataset exceeded 17-plus hours."
   ]
  },
  {
   "cell_type": "code",
   "execution_count": 63,
   "metadata": {},
   "outputs": [
    {
     "name": "stdout",
     "output_type": "stream",
     "text": [
      "Fitting 3 folds for each of 24 candidates, totalling 72 fits\n"
     ]
    },
    {
     "name": "stderr",
     "output_type": "stream",
     "text": [
      "[Parallel(n_jobs=-1)]: Done  34 tasks      | elapsed:  2.0min\n",
      "[Parallel(n_jobs=-1)]: Done  72 out of  72 | elapsed: 16.8min finished\n"
     ]
    },
    {
     "name": "stdout",
     "output_type": "stream",
     "text": [
      "CPU times: user 19.8 s, sys: 449 ms, total: 20.3 s\n",
      "Wall time: 16min 49s\n"
     ]
    }
   ],
   "source": [
    "%%time\n",
    "\n",
    "# Perform a Grid Search to tune Logistic Regression Hyperparamters \n",
    "from sklearn.linear_model import LogisticRegression\n",
    "from sklearn.model_selection import GridSearchCV\n",
    "lr = LogisticRegression(class_weight = 'balanced')\n",
    "\n",
    "parameters = { 'penalty':['l2']\n",
    "              ,'C': [0.001, 0.01, 0.1, 1, 10, 100]\n",
    "              ,'random_state': [0]\n",
    "              ,'solver' : ['lbfgs', 'sag']\n",
    "              ,'max_iter': [4000, 10000]\n",
    "             }\n",
    "\n",
    "#Create a grid search object using the  \n",
    "regGS = GridSearchCV(estimator=lr\n",
    "                   , n_jobs=-1 #Use all possible cores to run jobs in parallel \n",
    "                   , verbose = 1\n",
    "                   , param_grid=parameters\n",
    "                   , cv=3 # KFolds = 3\n",
    "                   , scoring='f1')\n",
    "\n",
    "#Perform hyperparameter search to find the best combination of parameters for our data\n",
    "regGS.fit(X_sample_std, y_sample)"
   ]
  },
  {
   "cell_type": "code",
   "execution_count": 64,
   "metadata": {},
   "outputs": [
    {
     "data": {
      "text/plain": [
       "LogisticRegression(C=0.001, class_weight='balanced', dual=False,\n",
       "          fit_intercept=True, intercept_scaling=1, max_iter=4000,\n",
       "          multi_class='ovr', n_jobs=1, penalty='l2', random_state=0,\n",
       "          solver='lbfgs', tol=0.0001, verbose=0, warm_start=False)"
      ]
     },
     "execution_count": 64,
     "metadata": {},
     "output_type": "execute_result"
    }
   ],
   "source": [
    "regGS.best_estimator_"
   ]
  },
  {
   "cell_type": "code",
   "execution_count": 65,
   "metadata": {},
   "outputs": [],
   "source": [
    "lr_clf = regGS.best_estimator_"
   ]
  },
  {
   "cell_type": "code",
   "execution_count": 66,
   "metadata": {},
   "outputs": [
    {
     "name": "stdout",
     "output_type": "stream",
     "text": [
      "The average accuracy for all cv folds is: \t\t\t 0.70586\n",
      "The average precision for all cv folds is: \t\t\t 0.30156\n",
      "The average recall for all cv folds is: \t\t\t 0.75198\n",
      "The average F1 for all cv folds is: \t\t\t 0.43048\n",
      "*********************************************************\n",
      "Cross Validation Fold Mean Error Scores\n",
      "   Accuracy  Precision    Recall        F1\n",
      "0  0.704459   0.300783  0.754246  0.430063\n",
      "1  0.706521   0.303643  0.761724  0.434201\n",
      "2  0.705659   0.302121  0.756527  0.431801\n",
      "3  0.706539   0.301146  0.745881  0.429061\n",
      "4  0.706708   0.302539  0.753739  0.431771\n",
      "5  0.705977   0.300420  0.744233  0.428051\n",
      "6  0.706802   0.302132  0.750697  0.430858\n",
      "7  0.706352   0.301419  0.748542  0.429777\n",
      "8  0.705490   0.301118  0.751077  0.429888\n",
      "9  0.704066   0.300283  0.753105  0.429366\n",
      "CPU times: user 6min 24s, sys: 18.8 s, total: 6min 43s\n",
      "Wall time: 2min 31s\n"
     ]
    }
   ],
   "source": [
    "%%time\n",
    "# Perform Logistic Regression via 10-fold Cross validation\n",
    "EvaluateClassifierEstimator(lr_clf, X_std, y, cv)"
   ]
  },
  {
   "cell_type": "markdown",
   "metadata": {},
   "source": [
    "- Algorithm 2 (Naive Bayes)\n",
    "---\n",
    "Due to lack of assumptions made by Naive Bayes, it is a fast algorithm capable of handling large datasets.  We'll train a Gaussian and Bernoulli Naive Bayes model.  Mulitinomial classification was not chosen for task 1 due to the distribution of the `Medal` class.  It is expected that the Bernoulli model will outperform the Gaussian because the `Medal` class is binary.  A more thorough look at tuning Hyperparamters for the Gaussian Naive Bayes model can be found in the exceptional section below."
   ]
  },
  {
   "cell_type": "code",
   "execution_count": 67,
   "metadata": {},
   "outputs": [
    {
     "name": "stdout",
     "output_type": "stream",
     "text": [
      "The average accuracy for all cv folds is: \t\t\t 0.29262\n",
      "The average precision for all cv folds is: \t\t\t 0.16884\n",
      "The average recall for all cv folds is: \t\t\t 0.96474\n",
      "The average F1 for all cv folds is: \t\t\t 0.28738\n",
      "*********************************************************\n",
      "Cross Validation Fold Mean Error Scores\n",
      "   Accuracy  Precision    Recall        F1\n",
      "0  0.297339   0.169232  0.960076  0.287744\n",
      "1  0.285348   0.167637  0.966920  0.285736\n",
      "2  0.298108   0.169757  0.963245  0.288644\n",
      "3  0.286584   0.167544  0.964005  0.285473\n",
      "4  0.287671   0.168183  0.967681  0.286561\n",
      "5  0.303991   0.170956  0.963245  0.290376\n",
      "6  0.296196   0.169400  0.963498  0.288140\n",
      "7  0.287877   0.167931  0.965146  0.286085\n",
      "8  0.298576   0.170176  0.966033  0.289375\n",
      "9  0.284523   0.167548  0.967554  0.285634\n",
      "The average accuracy for all cv folds is: \t\t\t 0.83455\n",
      "The average precision for all cv folds is: \t\t\t 0.42459\n",
      "The average recall for all cv folds is: \t\t\t 0.33529\n",
      "The average F1 for all cv folds is: \t\t\t 0.37468\n",
      "*********************************************************\n",
      "Cross Validation Fold Mean Error Scores\n",
      "   Accuracy  Precision    Recall        F1\n",
      "0  0.835319   0.428435  0.341065  0.379790\n",
      "1  0.837118   0.435502  0.343599  0.384130\n",
      "2  0.834139   0.423187  0.335868  0.374505\n",
      "3  0.834533   0.424732  0.336502  0.375504\n",
      "4  0.836106   0.430764  0.337896  0.378720\n",
      "5  0.832528   0.417089  0.334094  0.371006\n",
      "6  0.834926   0.424640  0.328517  0.370444\n",
      "7  0.833895   0.420770  0.328137  0.368725\n",
      "8  0.832172   0.414872  0.329531  0.367309\n",
      "9  0.834795   0.425899  0.337643  0.376670\n",
      "CPU times: user 7min 34s, sys: 3min 23s, total: 10min 57s\n",
      "Wall time: 7min 37s\n"
     ]
    }
   ],
   "source": [
    "%%time\n",
    "from sklearn.naive_bayes import GaussianNB\n",
    "from sklearn.naive_bayes import BernoulliNB\n",
    "\n",
    "\n",
    "clf_gnb = GaussianNB(priors = None)\n",
    "clf_bnb = BernoulliNB(alpha=0.001, binarize=0.02, fit_prior = True)\n",
    "\n",
    "#Perform 10-fold cross validation on two distinct Naive Bayes models\n",
    "for clf in [clf_gnb,clf_bnb]:\n",
    "    clf.fit(X_sample_std, y_sample)\n",
    "    EvaluateClassifierEstimator(clf, X_std, y, cv)"
   ]
  },
  {
   "cell_type": "markdown",
   "metadata": {},
   "source": [
    "- Algorithm 3 (Decision Tree)"
   ]
  },
  {
   "cell_type": "code",
   "execution_count": 68,
   "metadata": {},
   "outputs": [
    {
     "name": "stdout",
     "output_type": "stream",
     "text": [
      "Fitting 3 folds for each of 36 candidates, totalling 108 fits\n"
     ]
    },
    {
     "name": "stderr",
     "output_type": "stream",
     "text": [
      "[Parallel(n_jobs=-1)]: Done  34 tasks      | elapsed:    9.2s\n",
      "[Parallel(n_jobs=-1)]: Done 108 out of 108 | elapsed:   28.5s finished\n"
     ]
    },
    {
     "name": "stdout",
     "output_type": "stream",
     "text": [
      "CPU times: user 28 s, sys: 333 ms, total: 28.4 s\n",
      "Wall time: 28.9 s\n"
     ]
    }
   ],
   "source": [
    "%%time\n",
    "# Perform Grid Search to tune Hyperparamters of Decision Tree Classifier\n",
    "from sklearn.tree import DecisionTreeClassifier\n",
    "from sklearn.model_selection import GridSearchCV\n",
    "# split Criterion\n",
    "split_criterion = ['gini', 'entropy']\n",
    "# Max depth\n",
    "max_depth =[10, 20, 50]\n",
    "# Number of features to consider at every split\n",
    "max_features = ['log2', 'sqrt']\n",
    "# Minimum number of samples required at each leaf node\n",
    "min_samples_leaf = [5, 10, 20]\n",
    "# Creating the grid\n",
    "param_grid = {'criterion' : split_criterion,\n",
    "              'max_features': max_features,\n",
    "              'min_samples_leaf': min_samples_leaf,\n",
    "              'max_depth' : max_depth\n",
    "              }\n",
    "\n",
    "dt = DecisionTreeClassifier(random_state = 0, class_weight = 'balanced')\n",
    "dtGS = GridSearchCV(estimator = dt, \n",
    "                    n_jobs = -1,\n",
    "                    verbose = 1,\n",
    "                    param_grid = param_grid, \n",
    "                    cv = 3,\n",
    "                    scoring = 'roc_auc')\n",
    "\n",
    "\n",
    "#Perform hyperparameter search to find the best combination of parameters for our data\n",
    "dtGS.fit(X_sample_std, y_sample)"
   ]
  },
  {
   "cell_type": "code",
   "execution_count": 69,
   "metadata": {},
   "outputs": [
    {
     "data": {
      "text/plain": [
       "DecisionTreeClassifier(class_weight='balanced', criterion='gini',\n",
       "            max_depth=50, max_features='sqrt', max_leaf_nodes=None,\n",
       "            min_impurity_decrease=0.0, min_impurity_split=None,\n",
       "            min_samples_leaf=5, min_samples_split=2,\n",
       "            min_weight_fraction_leaf=0.0, presort=False, random_state=0,\n",
       "            splitter='best')"
      ]
     },
     "execution_count": 69,
     "metadata": {},
     "output_type": "execute_result"
    }
   ],
   "source": [
    "dtGS.best_estimator_"
   ]
  },
  {
   "cell_type": "code",
   "execution_count": 70,
   "metadata": {},
   "outputs": [
    {
     "name": "stdout",
     "output_type": "stream",
     "text": [
      "The average accuracy for all cv folds is: \t\t\t 0.73364\n",
      "The average precision for all cv folds is: \t\t\t 0.31928\n",
      "The average recall for all cv folds is: \t\t\t 0.70435\n",
      "The average F1 for all cv folds is: \t\t\t 0.43912\n",
      "*********************************************************\n",
      "Cross Validation Fold Mean Error Scores\n",
      "   Accuracy  Precision    Recall        F1\n",
      "0  0.757017   0.341014  0.690241  0.456496\n",
      "1  0.741184   0.327288  0.711280  0.448297\n",
      "2  0.733596   0.317426  0.697212  0.436241\n",
      "3  0.723890   0.309219  0.703169  0.429545\n",
      "4  0.712985   0.301603  0.715589  0.424352\n",
      "5  0.734158   0.321627  0.719645  0.444566\n",
      "6  0.748286   0.332467  0.697212  0.450237\n",
      "7  0.711205   0.301284  0.722814  0.425295\n",
      "8  0.746131   0.327016  0.677947  0.441209\n",
      "9  0.727900   0.313812  0.708365  0.434942\n",
      "CPU times: user 2min 24s, sys: 29.8 s, total: 2min 54s\n",
      "Wall time: 2min 34s\n"
     ]
    }
   ],
   "source": [
    "%%time\n",
    "# Perform Stratifed 10-fold cross-validation on the Decision Tree Model\n",
    "dt_clf = dtGS.best_estimator_\n",
    "EvaluateClassifierEstimator(dt_clf, X_std, y, cv)"
   ]
  },
  {
   "cell_type": "markdown",
   "metadata": {},
   "source": [
    "- Algorithm 4 (Random Forest)"
   ]
  },
  {
   "cell_type": "code",
   "execution_count": 71,
   "metadata": {},
   "outputs": [
    {
     "name": "stdout",
     "output_type": "stream",
     "text": [
      "Fitting 3 folds for each of 180 candidates, totalling 540 fits\n"
     ]
    },
    {
     "name": "stderr",
     "output_type": "stream",
     "text": [
      "[Parallel(n_jobs=-1)]: Done  34 tasks      | elapsed:  3.4min\n",
      "[Parallel(n_jobs=-1)]: Done 184 tasks      | elapsed: 39.1min\n",
      "[Parallel(n_jobs=-1)]: Done 434 tasks      | elapsed: 98.7min\n",
      "[Parallel(n_jobs=-1)]: Done 540 out of 540 | elapsed: 134.5min finished\n"
     ]
    },
    {
     "name": "stdout",
     "output_type": "stream",
     "text": [
      "CPU times: user 4min 58s, sys: 4.82 s, total: 5min 3s\n",
      "Wall time: 2h 15min 2s\n"
     ]
    }
   ],
   "source": [
    "%%time\n",
    "# Perform Grid Search to tune Hyperparamters of a Random Forest Classifier\n",
    "from sklearn.ensemble import RandomForestClassifier\n",
    "# Determine best number of estimators\n",
    "n_estimators = [int(x) for x in np.linspace(start = 200, stop = 2000, num = 5)]\n",
    "# split Criterion\n",
    "split_criterion = ['gini', 'entropy']\n",
    "# Max depth\n",
    "max_depth =[10, 20, 50]\n",
    "# Number of features to consider at every split\n",
    "max_features = ['log2', 'sqrt']\n",
    "# Minimum number of samples required at each leaf node\n",
    "min_samples_leaf = [5, 10, 20]\n",
    "# Creating the grid\n",
    "param_grid = {'n_estimators' : n_estimators,\n",
    "              'criterion' : split_criterion,\n",
    "              'max_features': max_features,\n",
    "              'max_depth' : max_depth,\n",
    "              'min_samples_leaf': min_samples_leaf\n",
    "              }\n",
    "\n",
    "rf = RandomForestClassifier(random_state = 0, class_weight = 'balanced')\n",
    "rfGS = GridSearchCV(estimator = rf, \n",
    "                    n_jobs = -1,\n",
    "                    verbose = 1,\n",
    "                    param_grid = param_grid, \n",
    "                    cv = 3,\n",
    "                    scoring = 'roc_auc')\n",
    "\n",
    "\n",
    "#Perform hyperparameter search to find the best combination of parameters for our data\n",
    "rfGS.fit(X_sample_std, y_sample)"
   ]
  },
  {
   "cell_type": "code",
   "execution_count": 72,
   "metadata": {},
   "outputs": [
    {
     "data": {
      "text/plain": [
       "RandomForestClassifier(bootstrap=True, class_weight='balanced',\n",
       "            criterion='entropy', max_depth=50, max_features='sqrt',\n",
       "            max_leaf_nodes=None, min_impurity_decrease=0.0,\n",
       "            min_impurity_split=None, min_samples_leaf=5,\n",
       "            min_samples_split=2, min_weight_fraction_leaf=0.0,\n",
       "            n_estimators=650, n_jobs=1, oob_score=False, random_state=0,\n",
       "            verbose=0, warm_start=False)"
      ]
     },
     "execution_count": 72,
     "metadata": {},
     "output_type": "execute_result"
    }
   ],
   "source": [
    "rfGS.best_estimator_"
   ]
  },
  {
   "cell_type": "code",
   "execution_count": 73,
   "metadata": {},
   "outputs": [
    {
     "name": "stdout",
     "output_type": "stream",
     "text": [
      "The average accuracy for all cv folds is: \t\t\t 0.81177\n",
      "The average precision for all cv folds is: \t\t\t 0.42059\n",
      "The average recall for all cv folds is: \t\t\t 0.7235\n",
      "The average F1 for all cv folds is: \t\t\t 0.53194\n",
      "*********************************************************\n",
      "Cross Validation Fold Mean Error Scores\n",
      "   Accuracy  Precision    Recall        F1\n",
      "0  0.809781   0.417554  0.725982  0.530174\n",
      "1  0.812891   0.422748  0.726869  0.534582\n",
      "2  0.811486   0.420295  0.725475  0.532242\n",
      "3  0.815102   0.426708  0.729785  0.538533\n",
      "4  0.813828   0.423941  0.722687  0.534396\n",
      "5  0.809556   0.416789  0.721800  0.528440\n",
      "6  0.812835   0.422323  0.723194  0.533246\n",
      "7  0.810493   0.417654  0.714829  0.527251\n",
      "8  0.810530   0.418140  0.719265  0.528842\n",
      "9  0.811167   0.419736  0.725095  0.531691\n",
      "CPU times: user 6h 32min 35s, sys: 1min 10s, total: 6h 33min 45s\n",
      "Wall time: 6h 33min 46s\n"
     ]
    }
   ],
   "source": [
    "%%time\n",
    "# Perform Stratifed 10-fold cross-validation on the Random Forest Model\n",
    "rf_clf = rfGS.best_estimator_\n",
    "EvaluateClassifierEstimator(rf_clf, X_std, y, cv)"
   ]
  },
  {
   "cell_type": "markdown",
   "metadata": {},
   "source": [
    "#### Section 4 - Evaluating Model Performance\n",
    "\n",
    "---\n",
    "\n",
    "From our 4 models, the Random Forest performed the best with an average F-Measure of .72, compared to .44 for both the Logistic Regression and Decision Tree models.  While the Naive Bayes model provides the best accuracy at 83.5 %, it has the lowest F1 score, meaning it is still having difficulty selecting *True Positives* or `Medal` Class **1**.  The Random Forest model is far superior in performance, but comes at significant cost in computing efficiency, taking nearly 6 hours for every model fit due to the high number of esitmators (or trees) needed to make sufficient prediction accuracy performance gains.  The boxplot below that summarizes these data. Logistic regression was the lowest performer but with the least amount of variance amongst the 10-folds.  \n",
    "\n",
    "|      Model    |  Mean F1   | Mean Acc      | \n",
    "| ------------- | -----------| ------------- |\n",
    "| Logistic Reg. |  0.43      |   0.706       |\n",
    "| Naive Bayes   |  0.37      |   0.835      |\n",
    "| Decision Tree |  0.44      |   0.734       |\n",
    "| Random Forest |  0.72      |   0.812      |\n",
    "\n",
    "\n",
    "---"
   ]
  },
  {
   "cell_type": "code",
   "execution_count": 74,
   "metadata": {},
   "outputs": [
    {
     "name": "stdout",
     "output_type": "stream",
     "text": [
      "Logistic Regression: 0.43 (0.00166)\n",
      "Naive Bayes: 0.37 (0.00508)\n",
      "Decision Tree: 0.44 (0.01035)\n",
      "Random Forest: 0.53 (0.00325)\n"
     ]
    },
    {
     "data": {
      "image/png": "[encoded data removed]",
      "text/plain": [
       "<Figure size 864x504 with 1 Axes>"
      ]
     },
     "metadata": {},
     "output_type": "display_data"
    },
    {
     "name": "stdout",
     "output_type": "stream",
     "text": [
      "CPU times: user 6h 18min 5s, sys: 2min 3s, total: 6h 20min 8s\n",
      "Wall time: 10h 45min 45s\n"
     ]
    }
   ],
   "source": [
    "%%time\n",
    "from sklearn.model_selection import cross_val_score\n",
    "import matplotlib.pyplot as plt\n",
    "results = []\n",
    "names = []\n",
    "scoring = 'f1'\n",
    "\n",
    "models = []\n",
    "models.append(('Logistic Regression', lr_clf))\n",
    "models.append(('Naive Bayes', clf_bnb))\n",
    "models.append(('Decision Tree', dt_clf))\n",
    "models.append(('Random Forest', rf_clf))\n",
    "\n",
    "for name, model in models:\n",
    "    cv_results = cross_val_score(model, X_std, y, cv=cv, scoring=scoring)\n",
    "    results.append(cv_results)\n",
    "    names.append(name)\n",
    "    msg = \"%s: %.2f (%.5f)\" % (name, cv_results.mean(), cv_results.std())\n",
    "    print(msg)\n",
    "\n",
    "# boxplot algorithm comparison\n",
    "fig = plt.figure(figsize=(12, 7))\n",
    "fig.suptitle('Algorithm F1 Comparison')\n",
    "ax = fig.add_subplot(111)\n",
    "plt.boxplot(results)\n",
    "ax.set_xticklabels(clf_labels)\n",
    "plt.show()"
   ]
  },
  {
   "cell_type": "markdown",
   "metadata": {},
   "source": [
    "#### Section 5 - Perform Statistical Analysis of Model Performance\n",
    "---\n",
    "We can look at a ROC curve to evaluate the effectiveness of the models by mapping the True Positive Rate (TPR) against the False Positive Rate (FPR), which would closely model the F1 statisic effectiveness of the various models.  We will also introduce a Majority Vote Ensemble classifier which compares the class outcomes for each instance of the three previous models and uses a majority vote to select the best outcome.  We interpret the ROC AUC curve by judging which model moves up and the left the fastest. \n",
    "\n",
    "- The code below was modified for our use, and is based off work by Sebastian Raschka and can be found in *Python for Machine Learning, 2nd edition*"
   ]
  },
  {
   "cell_type": "code",
   "execution_count": 75,
   "metadata": {},
   "outputs": [],
   "source": [
    "from sklearn.base import BaseEstimator\n",
    "from sklearn.base import ClassifierMixin\n",
    "from sklearn.externals import six\n",
    "from sklearn.base import clone\n",
    "import operator\n",
    "\n",
    "class MajorityVoteClassifier(BaseEstimator, ClassifierMixin):\n",
    "    def __init__(self, classifiers, vote = 'classlabel', weights = None):\n",
    "        self.classifiers = classifiers\n",
    "        self.vote = vote\n",
    "        self.weights = weights\n",
    "      \n",
    "    def fit(self, X, y):\n",
    "        if self.vote not in ('probability', 'classlabel'):\n",
    "            raise ValueError(\"vote must be 'probability' or 'classlabel'\"\n",
    "                             \"; got (vote=%r)\"\n",
    "                             % self.vote)\n",
    "\n",
    "        if self.weights and len(self.weights) != len(self.classifiers):\n",
    "            raise ValueError('Number of classifiers and weights must be equal'\n",
    "                             '; got %d weights, %d classifiers'\n",
    "                             % (len(self.weights), len(self.classifiers)))\n",
    "        #self.classes_ = self.classes_\n",
    "        self.classifiers_ = []\n",
    "        for clf in self.classifiers:\n",
    "            fitted_clf = clone(clf).fit(X, y)\n",
    "            self.classifiers_.append(fitted_clf)\n",
    "        return self\n",
    "    \n",
    "    def predict(self, X):\n",
    "        if self.vote == 'probability':\n",
    "            maj_vote = np.argmax(self.predict_proba(X), axis = 1)\n",
    "        else:\n",
    "            predictions = np.asarray([clf.predict(X) for clf in self.classifiers_]).T\n",
    "            maj_vote = np.apply_along_axis(lambda x: np.argmax(np.bincount(x, weights = self.weights)), \n",
    "                                       axis = 1, arr = predictions)\n",
    "        maj_vote = self.inverse_transform(maj_vote)\n",
    "        return maj_vote\n",
    "\n",
    "    def predict_proba(self, X):\n",
    "        probas = np.asarray([clf.predict_proba(X) for clf in self.classifiers_])\n",
    "        avg_proba = np.average(probas, axis = 0, weights = self.weights)\n",
    "        return avg_proba\n",
    "    \n",
    "    def get_params(self, deep = True):\n",
    "        if not deep:\n",
    "            return super(MajorityVoteClassifier, self).get_params(deep = False)\n",
    "        else:\n",
    "            out = self.named_classifiers.copy()\n",
    "            for name, step in six.iteritems(self.named_classifiers):\n",
    "                for key, value in six.iteritems(step.get_params(deep = True)):\n",
    "                    out['%s__%s' % (name, key)] = value\n",
    "            return out"
   ]
  },
  {
   "cell_type": "code",
   "execution_count": 76,
   "metadata": {},
   "outputs": [],
   "source": [
    "# Define the majority vote classifer with the three previously created models\n",
    "mv_clf = MajorityVoteClassifier(classifiers = [lr_clf, clf_bnb, dt_clf, rf_clf])"
   ]
  },
  {
   "cell_type": "code",
   "execution_count": 77,
   "metadata": {},
   "outputs": [
    {
     "data": {
      "image/png": "[encoded data removed]",
      "text/plain": [
       "<Figure size 432x288 with 1 Axes>"
      ]
     },
     "metadata": {},
     "output_type": "display_data"
    },
    {
     "name": "stdout",
     "output_type": "stream",
     "text": [
      "CPU times: user 1h 4min 45s, sys: 25.5 s, total: 1h 5min 10s\n",
      "Wall time: 1h 4min 48s\n"
     ]
    }
   ],
   "source": [
    "%%time\n",
    "from sklearn.metrics import roc_curve, auc\n",
    "colors = ['orange', 'black', 'blue', 'green', 'red']\n",
    "linestyles = [':', '--', '-.', '-', '--']\n",
    "\n",
    "clf_labels = ['Logistic Regression', 'Naive Bayes', 'Decisio Tree', 'Random Forest', 'Majority Classifier']\n",
    "all_clf = [lr_clf, clf_bnb, dt_clf, rf_clf, mv_clf]\n",
    "\n",
    "for clf, label, clr, ls in zip(all_clf, clf_labels, colors, linestyles):\n",
    "    y_pred = clf.fit (X_train, y_train).predict_proba(X_test)[:, 1]\n",
    "    fpr, tpr, thresholds = roc_curve(y_true = y_test, y_score = y_pred)\n",
    "    roc_auc = auc(x = fpr, y = tpr)\n",
    "    plt.plot(fpr, tpr, color = clr, linestyle = ls, \n",
    "             label = '%s (auc = %0.2f)' % (label, roc_auc))\n",
    "\n",
    "plt.plot([0, 1], [0, 1], linestyle = '--', color = 'gray', linewidth = 2)\n",
    "plt.xlim([-0.1, 1.1])\n",
    "plt.ylim([-0.1, 1.1])\n",
    "plt.grid(alpha = 0.5)\n",
    "plt.xlabel('false positive rate (FPR)')\n",
    "plt.ylabel('true positive rate (TPR)')\n",
    "plt.legend(loc = 'lower right')\n",
    "plt.show()"
   ]
  },
  {
   "cell_type": "markdown",
   "metadata": {},
   "source": [
    "As we can see above the AUC for Random Forest Model outperforms the remaining individual classifiers and the Majority Vote Classifier by at least 3%.  This does come at a significant computing expense, due to the fact that to achieve this level of performance, the Random Forest Model most fit 650 separate Tree models.  This takes nearly 6 hours to fit on a new Mac Book Pro with 8 cores and 16GB of RAM.   "
   ]
  },
  {
   "cell_type": "markdown",
   "metadata": {},
   "source": [
    "#### Section 6 - Review Feature Importance\n",
    "\n",
    "---\n",
    "We'll first use our recursive feature elimination developed from the mini-lab with our logistic regression model to judge feature importance on the top-30 features.  We'll then compare that to list developed by our decision tree classifier for verification."
   ]
  },
  {
   "cell_type": "code",
   "execution_count": 78,
   "metadata": {},
   "outputs": [],
   "source": [
    "#The X_RFE_reduced dataframe is the result of running the Recursive Feature Elimination RFE funciton in sklearn\n",
    "#during the mini-lab.  This took over 6 hours to run, and in an effort save time, we will look at the top 30 \n",
    "#developed by that model.\n",
    "X_RFE_reduced = X[['Previous_Medals','Country_USA', 'Country_Russia','Weight','Year','Sex','Country_Luxembourg','Country_Egypt',\n",
    "               'Sport_Athletics','Season','Event_Ice  Ice Hockey','Event_ Individual All-Around',\n",
    "               'Event_ Road Race, Individual','Event_ Rugby','Event_ Floor Exercise','Event_ Horse Vault',\n",
    "               'Sport_Alpine Skiing','Event_ Team All-Around, Swedish System','Event_ Horizontal Bar',\n",
    "               'Country_Mexico', 'Event_ Uneven Bars','Event_ Pommelled Horse','Country_Senegal',\n",
    "               'Event_ Parallel Bars','Event_ Rings','Country_Ireland','Country_Venezuela',\n",
    "               'Event_ Balance Beam', 'Country_Israel','Event_Sailing Mixed 12 metres','Event_ Lacrosse']]"
   ]
  },
  {
   "cell_type": "code",
   "execution_count": 80,
   "metadata": {},
   "outputs": [],
   "source": [
    "from sklearn.model_selection import train_test_split\n",
    "X_train1, X_test1, y_train1, y_test1 = train_test_split(X_RFE_reduced, y, test_size = 0.2, \n",
    "                                                       random_state = 0, stratify = y)"
   ]
  },
  {
   "cell_type": "code",
   "execution_count": 81,
   "metadata": {},
   "outputs": [],
   "source": [
    "#Standardize the train and test set\n",
    "sc = StandardScaler()\n",
    "sc.fit(X_train1)\n",
    "X_train_std1 = sc.transform(X_train1)\n",
    "X_test_std1 = sc.transform(X_test1)"
   ]
  },
  {
   "cell_type": "code",
   "execution_count": 82,
   "metadata": {},
   "outputs": [],
   "source": [
    "lr2_clf = lr_clf.fit(X_train_std1, y_train1)\n",
    "# iterate over the coefficients\n",
    "weights_lr2 = lr2_clf.coef_.T\n",
    " # take transpose to make a column vector\n",
    "variable_names_clf = X_RFE_reduced.columns"
   ]
  },
  {
   "cell_type": "code",
   "execution_count": 83,
   "metadata": {},
   "outputs": [
    {
     "data": {
      "image/png": "[encoded data removed]",
      "text/plain": [
       "<Figure size 864x504 with 1 Axes>"
      ]
     },
     "metadata": {},
     "output_type": "display_data"
    }
   ],
   "source": [
    "# now let's make a pandas Series with the names and values, and plot them\n",
    "from matplotlib import pyplot as plt\n",
    "%matplotlib inline\n",
    "plt.style.use('ggplot')\n",
    "\n",
    "weights = pd.Series(lr2_clf.coef_[0],index=X_RFE_reduced.columns)\n",
    "weights.plot(kind='bar', figsize = (12, 7))\n",
    "plt.show()"
   ]
  },
  {
   "cell_type": "markdown",
   "metadata": {},
   "source": [
    "As expected, the logistic regression model heavily values the `Previous_Medal` when classifying an instance as `Medal` class **1**, with `Country_USA`, `Country_Russia`, and `Season` being the other strong indicators of `Medal` class **1**.  Sports with numerous competitors such as `Sports_Athletics` and Countries with low populations and numbers of athletes, such as `Country_Venezuela` remain strong indicators of class **0**.     "
   ]
  },
  {
   "cell_type": "code",
   "execution_count": 84,
   "metadata": {},
   "outputs": [],
   "source": [
    "#imp = dict(zip(X.columns, dt_clf.feature_importances_))\n",
    "#print(imp)\n",
    "\n",
    "imp = list(zip(rf_clf.feature_importances_, X.columns))\n",
    "imp.sort(reverse=True)"
   ]
  },
  {
   "cell_type": "code",
   "execution_count": 85,
   "metadata": {},
   "outputs": [
    {
     "data": {
      "image/png": "[encoded data removed]",
      "text/plain": [
       "<Figure size 432x288 with 1 Axes>"
      ]
     },
     "metadata": {},
     "output_type": "display_data"
    }
   ],
   "source": [
    "df_imp = pd.DataFrame(imp, index=[x for (_,x) in imp]).head(30).plot(kind='bar', legend = None)"
   ]
  },
  {
   "cell_type": "markdown",
   "metadata": {},
   "source": [
    "There are numerous repeats of features that were considered important when developing the Random Forest Model, but overwhelmlingly, the Random Forest looked at the `Population_Prop`, `Previous_Medal`, and `Year` features when determining the impurity of a node.  `Sports_Gymnastics` and `Ice_Hockey` are other strong indicator of `Medal` class **1**.  This is in line with the analysis from Lab One when we determined that more Medals have been awarded in `Ice_Hockey` than any other Olympic event."
   ]
  },
  {
   "cell_type": "markdown",
   "metadata": {},
   "source": [
    "#### Task 2 - Guessing the Sport Based on Other Olympian Attributes\n",
    "#### Section 1 - Choosing Performance Metric to evaluate models\n",
    "\n",
    "---\n",
    "Predicting the Sport based on the other attributes in the model introduces a multiclass target to the predictor algorithms we have done so far. Given the number of targets it is reasonable to think getting a correct guess for one specific sport will be more difficult due to the amount of noise around the other sports, but since that has the same effect in all of our prediction algorithms it isn't relevant. The real question here is if we should use Precision for a weighted penalty for False Positives (predicting a sport when it was not the actual value), Recall for a weighted penalty for False Negatives (predicting a different sport than the actual value), or avoid weighting the result. In this case we do not see a reason to penalize False Negatives or False Positives since the risk around either is not high, so we will use the harmonic average of the precision and recall, the F-measure, or F1. Because we have many sports with a heavy imbalance in the number of instances of each class, we will use a weighted F1 attribute.\n",
    "\n",
    "---"
   ]
  },
  {
   "cell_type": "markdown",
   "metadata": {},
   "source": [
    "$$\n",
    "Recall = \\frac{Sports Identified Correctly}{Sports Identified Correctly + Times Sports was Not Identified Where It Was The Actual Sport}\n",
    "$$"
   ]
  },
  {
   "cell_type": "markdown",
   "metadata": {},
   "source": [
    "$$\n",
    "Precision = \\frac{Sports Identified Correctly}{Sports Identified Correctly + Times Sports was Identified Where It Was Not The Actual Sport}\n",
    "$$"
   ]
  },
  {
   "cell_type": "markdown",
   "metadata": {},
   "source": [
    "$$\n",
    "F_{1} = 2 * \\frac{precision * recall}{precision + recall}\n",
    "$$"
   ]
  },
  {
   "cell_type": "markdown",
   "metadata": {},
   "source": [
    "#### Section 2 - Choosing Method to split test and train datasets\n",
    "----\n",
    "Identifying the sport based on the other attributes of the athlete presents its own challenges. The number of athletes by sport vary wildly, with some sports having only 60 athletes (Lacrosse) while the most have over 38,577 athletes (Athletics). With a mean of 4,942 and a standard deviation of 6,966 the risk under-representing our classes and over-fitting is worrisome, so I also think a stratified 10-fold cross validation method is appropriate for the sport prediction. We will use the same train and test data detailed in task 1."
   ]
  },
  {
   "cell_type": "code",
   "execution_count": 86,
   "metadata": {},
   "outputs": [],
   "source": [
    "from sklearn.model_selection import StratifiedShuffleSplit\n",
    "sss = StratifiedShuffleSplit(n_splits=10, test_size = 0.2, random_state=0)\n",
    "for train_index, test_index in sss.split(X_std_task2, y_enc_task2):\n",
    "    X_train_task2, X_test_task2 = X_std_task2[train_index], X_std_task2[test_index]\n",
    "    y_train_task2, y_test_task2 = y_enc_task2[train_index], y_enc_task2[test_index]"
   ]
  },
  {
   "cell_type": "markdown",
   "metadata": {},
   "source": [
    "#### Section 3 - Creating Models\n",
    "---\n",
    "For the task of Guessing the Sport Based on Other Olympian Attributes we will look at the model F1 scores following 10-fold Cross Validation for a Logistic Regression Model, A K-Nearest Neighbors model, and a Random Forest Model. "
   ]
  },
  {
   "cell_type": "code",
   "execution_count": 87,
   "metadata": {},
   "outputs": [],
   "source": [
    "from sklearn.neighbors import KNeighborsClassifier\n",
    "from sklearn.neighbors import KNeighborsRegressor\n",
    "from sklearn.model_selection import StratifiedKFold\n",
    "from sklearn.preprocessing import StandardScaler\n",
    "import numpy as np\n",
    "import random\n",
    "import math\n",
    "from numpy.random import permutation\n",
    "from sklearn import metrics as mt\n",
    "from sklearn.metrics import accuracy_score"
   ]
  },
  {
   "cell_type": "markdown",
   "metadata": {},
   "source": [
    "- Algorithm 1 (Logistic Regression)\n",
    "---\n",
    "We'll perform a GridSearch from the dataset to tune the hyperparameters used in the final cross-validated model. This dataset is smaller than our previous GridsearchCV so a subset was not required."
   ]
  },
  {
   "cell_type": "code",
   "execution_count": 88,
   "metadata": {},
   "outputs": [],
   "source": [
    "#This function was taken from Dr. Jake Drew's EducationDataNC Repository and modified for use in this project\n",
    "cv = StratifiedShuffleSplit(n_splits = 10, test_size = 0.2, random_state = 0)\n",
    "from sklearn.model_selection import cross_validate\n",
    "\n",
    "def EvaluateClassifierEstimator(classifierEstimator, X, y, cv):\n",
    "   \n",
    "    #Perform cross validation using f1_weighted to decrease the impact of imbalanced classes in the target\n",
    "    scores = cross_validate(classifierEstimator, X, y, scoring=['accuracy','f1_weighted']\n",
    "                            , cv=cv, return_train_score=True)\n",
    "\n",
    "    Accavg = scores['test_accuracy'].mean()\n",
    "    F1avg = scores['test_f1_weighted'].mean()\n",
    "\n",
    "    print_str = \"The average accuracy for all cv folds is: \\t\\t\\t {Accavg:.5}\"\n",
    "    print_str4 = \"The average F1 for all cv folds is: \\t\\t\\t {F1avg:.5}\"\n",
    "    \n",
    "    print(print_str.format(Accavg=Accavg))\n",
    "    print(print_str4.format(F1avg=F1avg))\n",
    "    print('*********************************************************')\n",
    "\n",
    "    print('Cross Validation Fold Mean Error Scores')\n",
    "    scoresResults = pd.DataFrame()\n",
    "    scoresResults['Accuracy'] = scores['test_accuracy']\n",
    "    scoresResults['F1'] = scores['test_f1_weighted']\n",
    "    \n",
    "    print(scoresResults)"
   ]
  },
  {
   "cell_type": "markdown",
   "metadata": {},
   "source": [
    "- Algorithm 2 (K-Nearest Neighbors)\n",
    "---\n",
    "For K-Nearest Neighbors we will explore the optimum number of KNN to target given our sample data and AUC scores, then we will run the analysis on the full dataset using the number of neighbors identified."
   ]
  },
  {
   "cell_type": "code",
   "execution_count": 93,
   "metadata": {},
   "outputs": [
    {
     "name": "stdout",
     "output_type": "stream",
     "text": [
      "Is X_train sparse?  False\n",
      "Is X_test sparse?  False\n",
      "Is y_train sparse?  False\n",
      "Is y_test sparse?  False\n",
      "CPU times: user 635 µs, sys: 501 µs, total: 1.14 ms\n",
      "Wall time: 702 µs\n"
     ]
    }
   ],
   "source": [
    "%%time\n",
    "from sklearn.neighbors import KNeighborsClassifier\n",
    "from sklearn.neighbors import KNeighborsRegressor\n",
    "from sklearn.model_selection import StratifiedKFold\n",
    "from sklearn.preprocessing import StandardScaler\n",
    "import numpy as np\n",
    "import random\n",
    "import math\n",
    "from numpy.random import permutation\n",
    "from sklearn import metrics as mt\n",
    "from sklearn.metrics import accuracy_score \n",
    "import matplotlib.pyplot as plt\n",
    "from sklearn.metrics import roc_curve, auc\n",
    "from sklearn.metrics import classification_report\n",
    "\n",
    "\n",
    "#test if the data are sparse\n",
    "import scipy\n",
    "print('Is X_train sparse? ', scipy.sparse.issparse(X_train_task2))\n",
    "print('Is X_test sparse? ', scipy.sparse.issparse(X_test_task2))\n",
    "print('Is y_train sparse? ', scipy.sparse.issparse(y_train_task2))\n",
    "print('Is y_test sparse? ', scipy.sparse.issparse(y_test_task2))"
   ]
  },
  {
   "cell_type": "markdown",
   "metadata": {},
   "source": [
    "First we'll look to determine our classes."
   ]
  },
  {
   "cell_type": "code",
   "execution_count": 94,
   "metadata": {},
   "outputs": [],
   "source": [
    "def per_class_accuracy(ytrue,yhat):\n",
    "    conf = mt.confusion_matrix(ytrue,yhat)\n",
    "    norm_conf = conf.astype('float') / conf.sum(axis=1)[:, np.newaxis]\n",
    "    return np.diag(norm_conf)\n",
    "\n",
    "def plot_class_acc(ytrue,yhat, title=''):\n",
    "    acc_list = per_class_accuracy(ytrue,yhat)\n",
    "    plt.bar(range(len(acc_list)), acc_list)\n",
    "    plt.xlabel('Class value (one per face)')\n",
    "    plt.ylabel('Accuracy within class')\n",
    "    plt.title(title+\", Total Acc=%.1f\"%(100*mt.accuracy_score(ytrue,yhat)))\n",
    "    plt.grid()\n",
    "    plt.ylim([0,1])\n",
    "    plt.show()"
   ]
  },
  {
   "cell_type": "markdown",
   "metadata": {},
   "source": [
    "First we will use our small sample to get an idea for a good range of nearest neighbors to use, then perform our full analysis on the full dataset using our identified number of nearest neighbors."
   ]
  },
  {
   "cell_type": "code",
   "execution_count": 95,
   "metadata": {},
   "outputs": [
    {
     "name": "stdout",
     "output_type": "stream",
     "text": [
      "The accuracy for KNN= 2  is  0.306478637252\n",
      "The accuracy for KNN= 3  is  0.375034906451\n",
      "The accuracy for KNN= 4  is  0.250069812901\n",
      "The accuracy for KNN= 5  is  0.295168947221\n",
      "The accuracy for KNN= 6  is  0.215023736386\n",
      "The accuracy for KNN= 7  is  0.249371683887\n",
      "The accuracy for KNN= 8  is  0.190170343479\n",
      "The accuracy for KNN= 9  is  0.217118123429\n"
     ]
    }
   ],
   "source": [
    "neighbors = list(range(2, 10))\n",
    "train_results = []\n",
    "test_results = []\n",
    "for n in neighbors:\n",
    "    # Create the knn model.\n",
    "    # Look at the five closest neighbors.\n",
    "    knn = KNeighborsClassifier(n_neighbors=n)\n",
    "    # Fit the model on the training data.\n",
    "    knn.fit(X_train_task2, y_train_task2)\n",
    "    # Make point predictions on the test set using the fit model.\n",
    "    yhat = knn.predict(X_test_task2)\n",
    "    print('The accuracy for KNN=',n,' is ', accuracy_score(y_test_task2, yhat))"
   ]
  },
  {
   "cell_type": "markdown",
   "metadata": {},
   "source": [
    "We tend to see a little bit of a sweet spot for accuracy of KNN around 3 and 5, with diminishing returns after that. For our analysis we will pick our best score of KNN=3."
   ]
  },
  {
   "cell_type": "code",
   "execution_count": 96,
   "metadata": {},
   "outputs": [
    {
     "name": "stdout",
     "output_type": "stream",
     "text": [
      "The accuracy for KNN=3 is  0.375034906451\n"
     ]
    },
    {
     "data": {
      "image/png": "[encoded data removed]",
      "text/plain": [
       "<Figure size 432x288 with 1 Axes>"
      ]
     },
     "metadata": {},
     "output_type": "display_data"
    },
    {
     "name": "stdout",
     "output_type": "stream",
     "text": [
      "             precision    recall  f1-score   support\n",
      "\n",
      "          0       0.78      0.73      0.76      1693\n",
      "          1       0.56      0.45      0.50      1310\n",
      "          2       0.63      0.49      0.55       702\n",
      "          3       0.52      0.42      0.46       816\n",
      "          4       0.40      0.17      0.24        72\n",
      "          5       0.51      0.33      0.40       141\n",
      "          6       0.47      0.32      0.38       486\n",
      "          7       0.83      0.81      0.82       403\n",
      "          8       0.58      0.51      0.54       468\n",
      "          9       0.69      0.60      0.64       173\n",
      "         10       0.51      0.18      0.27       228\n",
      "         11       0.36      0.10      0.15        52\n",
      "         12       0.00      0.00      0.00        29\n",
      "         13       0.62      0.46      0.53        52\n",
      "         14       0.45      0.31      0.37       132\n",
      "         15       0.51      0.32      0.39       318\n",
      "         16       0.70      0.64      0.67      2274\n",
      "         17       0.39      0.23      0.29       421\n",
      "         18       0.59      0.38      0.46       152\n",
      "         19       0.48      0.24      0.32       341\n",
      "         20       0.67      0.65      0.66      2545\n",
      "         21       0.60      0.49      0.54       980\n",
      "         22       0.64      0.60      0.62      2384\n",
      "         23       0.54      0.39      0.45       898\n",
      "         24       0.73      0.71      0.72      3709\n",
      "         25       0.26      0.05      0.08       125\n",
      "         26       0.72      0.70      0.71      3651\n",
      "         27       0.61      0.53      0.57      2027\n",
      "         28       0.88      0.92      0.90      5668\n",
      "         29       0.78      0.75      0.76      1574\n",
      "         30       0.68      0.67      0.68      3282\n",
      "         31       0.65      0.60      0.62      1394\n",
      "         32       0.81      0.84      0.82      4928\n",
      "         33       0.66      0.63      0.65      2871\n",
      "         34       0.68      0.66      0.67       617\n",
      "         35       0.51      0.33      0.40       141\n",
      "         36       0.63      0.49      0.55      1347\n",
      "         37       0.64      0.59      0.61      2460\n",
      "         38       0.72      0.71      0.71      3497\n",
      "         39       0.62      0.45      0.52       888\n",
      "         40       0.49      0.26      0.34       132\n",
      "         41       0.51      0.42      0.46      1034\n",
      "         42       0.41      0.12      0.18       113\n",
      "         43       0.65      0.58      0.61      1690\n",
      "         44       0.43      0.34      0.38        47\n",
      "\n",
      "avg / total       0.69      0.65      0.67     58265\n",
      "\n",
      "CPU times: user 38 s, sys: 36.1 ms, total: 38 s\n",
      "Wall time: 37 s\n"
     ]
    }
   ],
   "source": [
    "%%time\n",
    "\n",
    "# Create the knn model.\n",
    "# Look at the five closest neighbors.\n",
    "knn = KNeighborsClassifier(n_neighbors=3)\n",
    "# Fit the model on the training data.\n",
    "knn.fit(X_train_task2, y_train_task2)\n",
    "# Make point predictions on the test set using the fit model.\n",
    "yhat = knn.predict(X_test_task2)\n",
    "\n",
    "print('The accuracy for KNN=3 is ', accuracy_score(y_test_task2, yhat))\n",
    "\n",
    "plot_class_acc(y_test_task2.argmax(axis=1),yhat.argmax(axis=1),title=\"KNN\")\n",
    "\n",
    "print(classification_report(y_test_task2, yhat))"
   ]
  },
  {
   "cell_type": "code",
   "execution_count": 97,
   "metadata": {},
   "outputs": [
    {
     "data": {
      "image/png": "[encoded data removed]",
      "text/plain": [
       "<Figure size 432x288 with 1 Axes>"
      ]
     },
     "metadata": {},
     "output_type": "display_data"
    }
   ],
   "source": [
    "cm = mt.confusion_matrix(y_test_task2.argmax(axis=1),yhat.argmax(axis=1))\n",
    "plt.imshow(cm,cmap=plt.get_cmap('Blues'),aspect='auto')\n",
    "plt.grid(False)"
   ]
  },
  {
   "cell_type": "markdown",
   "metadata": {},
   "source": [
    "- Algorithm 3 (Random Forest)"
   ]
  },
  {
   "cell_type": "code",
   "execution_count": 98,
   "metadata": {},
   "outputs": [
    {
     "name": "stdout",
     "output_type": "stream",
     "text": [
      "The accuracy for Random Forest with max_depth=50, n_estimators=150 classifiers is  0.4117564926\n"
     ]
    },
    {
     "data": {
      "image/png": "[encoded data removed]",
      "text/plain": [
       "<Figure size 432x288 with 1 Axes>"
      ]
     },
     "metadata": {},
     "output_type": "display_data"
    },
    {
     "name": "stdout",
     "output_type": "stream",
     "text": [
      "             precision    recall  f1-score   support\n",
      "\n",
      "          0       0.87      0.79      0.83      1693\n",
      "          1       0.85      0.47      0.60      1310\n",
      "          2       0.90      0.52      0.66       702\n",
      "          3       0.90      0.49      0.64       816\n",
      "          4       0.95      0.28      0.43        72\n",
      "          5       0.94      0.55      0.70       141\n",
      "          6       0.82      0.26      0.39       486\n",
      "          7       0.97      0.84      0.90       403\n",
      "          8       0.79      0.37      0.50       468\n",
      "          9       0.84      0.49      0.62       173\n",
      "         10       0.93      0.25      0.39       228\n",
      "         11       0.77      0.19      0.31        52\n",
      "         12       0.00      0.00      0.00        29\n",
      "         13       0.95      0.79      0.86        52\n",
      "         14       0.76      0.17      0.27       132\n",
      "         15       0.85      0.20      0.33       318\n",
      "         16       0.88      0.71      0.79      2274\n",
      "         17       0.90      0.33      0.49       421\n",
      "         18       0.77      0.24      0.36       152\n",
      "         19       0.73      0.11      0.19       341\n",
      "         20       0.82      0.64      0.72      2545\n",
      "         21       0.82      0.45      0.58       980\n",
      "         22       0.79      0.63      0.70      2384\n",
      "         23       0.83      0.39      0.53       898\n",
      "         24       0.79      0.80      0.80      3709\n",
      "         25       0.33      0.01      0.02       125\n",
      "         26       0.80      0.78      0.79      3651\n",
      "         27       0.82      0.55      0.66      2027\n",
      "         28       0.87      0.97      0.92      5668\n",
      "         29       0.87      0.81      0.84      1574\n",
      "         30       0.78      0.74      0.76      3282\n",
      "         31       0.89      0.67      0.77      1394\n",
      "         32       0.82      0.92      0.87      4928\n",
      "         33       0.81      0.64      0.72      2871\n",
      "         34       0.88      0.81      0.84       617\n",
      "         35       0.94      0.55      0.70       141\n",
      "         36       0.87      0.56      0.68      1347\n",
      "         37       0.81      0.63      0.71      2460\n",
      "         38       0.79      0.77      0.78      3497\n",
      "         39       0.88      0.54      0.67       888\n",
      "         40       0.93      0.30      0.46       132\n",
      "         41       0.82      0.44      0.57      1034\n",
      "         42       0.80      0.04      0.07       113\n",
      "         43       0.88      0.58      0.70      1690\n",
      "         44       0.73      0.23      0.35        47\n",
      "\n",
      "avg / total       0.83      0.69      0.74     58265\n",
      "\n",
      "CPU times: user 1min 36s, sys: 11.8 s, total: 1min 48s\n",
      "Wall time: 15.7 s\n"
     ]
    }
   ],
   "source": [
    "%%time\n",
    "from sklearn.ensemble import RandomForestClassifier\n",
    "# Instantiate model with 150 decision trees\n",
    "rf = RandomForestClassifier(max_depth=50, n_estimators=150, n_jobs=-1)\n",
    "# Train the model on training data\n",
    "rf.fit(X_train_task2, y_train_task2);\n",
    "# Make point predictions on the test set using the fit model.\n",
    "yhat = rf.predict(X_test_task2)\n",
    "\n",
    "print('The accuracy for Random Forest with max_depth=50, n_estimators=150 classifiers is ', accuracy_score(y_test_task2, yhat))\n",
    "\n",
    "plot_class_acc(y_test_task2.argmax(axis=1),yhat.argmax(axis=1),title=\"Random Forest\")\n",
    "print(classification_report(y_test_task2, yhat))"
   ]
  },
  {
   "cell_type": "code",
   "execution_count": 101,
   "metadata": {},
   "outputs": [
    {
     "name": "stdout",
     "output_type": "stream",
     "text": [
      "The accuracy for Random Forest with max_depth=50, n_estimators=150 classifiers is  0.412314995811\n"
     ]
    },
    {
     "data": {
      "image/png": "[encoded data removed]",
      "text/plain": [
       "<Figure size 432x288 with 1 Axes>"
      ]
     },
     "metadata": {},
     "output_type": "display_data"
    },
    {
     "name": "stdout",
     "output_type": "stream",
     "text": [
      "             precision    recall  f1-score   support\n",
      "\n",
      "          0       0.87      0.79      0.82      1693\n",
      "          1       0.86      0.47      0.61      1310\n",
      "          2       0.90      0.51      0.65       702\n",
      "          3       0.91      0.50      0.64       816\n",
      "          4       1.00      0.29      0.45        72\n",
      "          5       0.93      0.54      0.68       141\n",
      "          6       0.82      0.27      0.41       486\n",
      "          7       0.96      0.84      0.89       403\n",
      "          8       0.80      0.37      0.50       468\n",
      "          9       0.86      0.49      0.62       173\n",
      "         10       0.96      0.24      0.38       228\n",
      "         11       0.83      0.19      0.31        52\n",
      "         12       0.00      0.00      0.00        29\n",
      "         13       0.95      0.79      0.86        52\n",
      "         14       0.79      0.17      0.27       132\n",
      "         15       0.82      0.19      0.30       318\n",
      "         16       0.88      0.71      0.79      2274\n",
      "         17       0.90      0.34      0.49       421\n",
      "         18       0.72      0.25      0.37       152\n",
      "         19       0.76      0.12      0.21       341\n",
      "         20       0.83      0.64      0.72      2545\n",
      "         21       0.81      0.45      0.58       980\n",
      "         22       0.80      0.63      0.70      2384\n",
      "         23       0.83      0.39      0.53       898\n",
      "         24       0.79      0.80      0.79      3709\n",
      "         25       0.00      0.00      0.00       125\n",
      "         26       0.80      0.78      0.79      3651\n",
      "         27       0.82      0.55      0.66      2027\n",
      "         28       0.87      0.97      0.92      5668\n",
      "         29       0.86      0.81      0.83      1574\n",
      "         30       0.78      0.74      0.76      3282\n",
      "         31       0.89      0.67      0.77      1394\n",
      "         32       0.82      0.92      0.87      4928\n",
      "         33       0.81      0.64      0.71      2871\n",
      "         34       0.88      0.79      0.83       617\n",
      "         35       0.93      0.54      0.68       141\n",
      "         36       0.87      0.57      0.69      1347\n",
      "         37       0.82      0.63      0.71      2460\n",
      "         38       0.80      0.77      0.78      3497\n",
      "         39       0.90      0.54      0.67       888\n",
      "         40       0.93      0.30      0.46       132\n",
      "         41       0.82      0.43      0.56      1034\n",
      "         42       0.75      0.03      0.05       113\n",
      "         43       0.87      0.58      0.70      1690\n",
      "         44       0.73      0.23      0.35        47\n",
      "\n",
      "avg / total       0.83      0.69      0.74     58265\n",
      "\n",
      "CPU times: user 2min 56s, sys: 22.1 s, total: 3min 18s\n",
      "Wall time: 29.9 s\n"
     ]
    }
   ],
   "source": [
    "%%time\n",
    "from sklearn.ensemble import RandomForestClassifier\n",
    "# Instantiate model with 150 decision trees\n",
    "rf = RandomForestClassifier(max_depth=50, n_estimators=250, n_jobs=-1)\n",
    "# Train the model on training data\n",
    "rf.fit(X_train_task2, y_train_task2);\n",
    "# Make point predictions on the test set using the fit model.\n",
    "yhat = rf.predict(X_test_task2)\n",
    "\n",
    "print('The accuracy for Random Forest with max_depth=50, n_estimators=150 classifiers is ', accuracy_score(y_test_task2, yhat))\n",
    "\n",
    "plot_class_acc(y_test_task2.argmax(axis=1),yhat.argmax(axis=1),title=\"Random Forest\")\n",
    "print(classification_report(y_test_task2, yhat))"
   ]
  },
  {
   "cell_type": "markdown",
   "metadata": {},
   "source": [
    "After tuning the Random Forest Algorithm with different max-depth and n_estimators we did not see an appreciable difference in going above 150 n_estimators and a max_depth of 50, but there was a significant time impact. As such, we settled on max_depth=50, n_estimators=150 as a balance between performance and how thorough the algorithm is. "
   ]
  },
  {
   "cell_type": "markdown",
   "metadata": {},
   "source": [
    "Note: The classes that performed the best in this model were Gymnastics and Alpine Skiing. These classes are for some reason easier to predict, which we will cover in Section 6."
   ]
  },
  {
   "cell_type": "code",
   "execution_count": 100,
   "metadata": {},
   "outputs": [
    {
     "name": "stdout",
     "output_type": "stream",
     "text": [
      "Random Forest confusion matrix\n"
     ]
    },
    {
     "data": {
      "image/png": "[encoded data removed]",
      "text/plain": [
       "<Figure size 432x288 with 1 Axes>"
      ]
     },
     "metadata": {},
     "output_type": "display_data"
    }
   ],
   "source": [
    "print('Random Forest confusion matrix')\n",
    "cm = mt.confusion_matrix(y_test_task2.argmax(axis=1),yhat.argmax(axis=1))\n",
    "plt.imshow(cm,cmap=plt.get_cmap('Blues'),aspect='auto')\n",
    "plt.grid(False)"
   ]
  },
  {
   "cell_type": "markdown",
   "metadata": {},
   "source": [
    "#### Section 4 - Evaluating Model Performance\n",
    "---\n",
    "From our 3 models, the Random Forest performed the best with an average F-Measure of .74, compared to .49 for K-Nearest Neighbors and a best performance of .48 from the linear regression model. The accuracy for these models were all very low, but given the large number of classes this isn't completely unexpected. Random Forest also performed the best with an accuracy of .417, KNN performed the next best with accuracy at .113 and Logistic Regression at .030. Because F-Measure is our preferred metric we will prefer the Random Forest model from our tests. There is a boxplot below that summarizes these data. Logistic regression was the lowest performer but with the least amount of variance, KNN was left-skewed with high variance and Random Forest was right-skewed with medium variance. This gives Random Forest another advantage over KNN if variance of results is a major concern, but since logistic regression is so innacurate it still isn't a very attractive option.\n",
    "\n",
    "\n",
    "|      Model    |  Mean F1   | Mean Acc      | \n",
    "| ------------- | -----------| ------------- |\n",
    "|      KNN      |  0.49      |   0.113       |\n",
    "| Random Forest |  0.74      |   0.414       |"
   ]
  },
  {
   "cell_type": "markdown",
   "metadata": {},
   "source": [
    "#### Section 5 - Perform Statistical Analysis of Model Performance\n",
    "---\n",
    "For the task 2 of classifying the sports based on other attributes the multilabel nature of our target prohibits using a ROC Curve to validate the efficacy of our models. The box plots above already demonstrates that it is the superior model with a 95% level of confidence, but we will run the numerical analysis just to be sure."
   ]
  },
  {
   "cell_type": "code",
   "execution_count": 102,
   "metadata": {},
   "outputs": [
    {
     "name": "stdout",
     "output_type": "stream",
     "text": [
      "Average of all Folds for KNN: 0.35\n",
      "Average of all Folds for Random Forest: 0.57\n",
      "KNN has a 95 percent confidence interval of: [ 0.352, 0.356 ]\n",
      "Random Forest has a 95 percent confidence interval of: [ 0.567, 0.573 ]\n",
      "KNN and Random Forest have a range of: 0.213, 0.220\n",
      "CPU times: user 11min 27s, sys: 1min 2s, total: 12min 29s\n",
      "Wall time: 3min 6s\n"
     ]
    }
   ],
   "source": [
    "%%time\n",
    "knn1 = cross_validate(knn, X_task2, y_task2, scoring= ['f1_weighted'], cv=cv)\n",
    "rf1 = cross_validate(rf, X_task2, y_task2, scoring= ['f1_weighted'], cv=cv)\n",
    "\n",
    "t = 2.26 / np.sqrt(10)\n",
    "\n",
    "#Create dbar and stdtot for KNN and Random Forest\n",
    "e3 = (1 - knn1['test_f1_weighted']) - (1 - rf1['test_f1_weighted'])\n",
    "stdtot3 = np.std(e3)\n",
    "dbar3 = np.mean(e3)\n",
    "\n",
    "print('Average of all Folds for KNN: %.2f' % np.mean(knn1['test_f1_weighted']))\n",
    "print('Average of all Folds for Random Forest: %.2f' % np.mean(rf1['test_f1_weighted']))\n",
    "\n",
    "knnbar = np.mean(knn1['test_f1_weighted'])\n",
    "knndev = np.std(knn1['test_f1_weighted'])\n",
    "\n",
    "rfbar = np.mean(rf1['test_f1_weighted'])\n",
    "rfdev = np.std(rf1['test_f1_weighted'])\n",
    "\n",
    "print('KNN has a 95 percent confidence interval of: [ %.3f, %.3f' % (knnbar-t*knndev, knnbar+t*knndev), ']')\n",
    "print('Random Forest has a 95 percent confidence interval of: [ %.3f, %.3f' % (rfbar-t*rfdev, rfbar+t*rfdev), ']')\n",
    "\n",
    "print('KNN and Random Forest have a range of: %.3f, %.3f' % (dbar3-t*stdtot3, dbar3+t*stdtot3))"
   ]
  },
  {
   "cell_type": "markdown",
   "metadata": {},
   "source": [
    "In our cross-validation Linear Regression actually goes ahead of KNN in terms of the F-Measure. I'm not sure exactly why that is, but it might be evidence that we over-fit our KNN model and our linear regression model was a better representation of our dataset... Either way, Random Forest again comes out ahead with a 95% confidence interval above the other two methods, so we can reject the null hypothesis that the mean of the F-Measure of the Random Forest method is less than or equal to the other two methods, and accept the alternative hypotheses that the mean of the F-Measure of the Random Forest method is greater than the other two prediction methods."
   ]
  },
  {
   "cell_type": "markdown",
   "metadata": {},
   "source": [
    "#### Section 6 - Review Feature Importance\n",
    "---\n",
    "Focusing on our Random Forest classification, we will use a pandas dataframe to rank our features that contributed most highly to our classification."
   ]
  },
  {
   "cell_type": "code",
   "execution_count": 103,
   "metadata": {},
   "outputs": [
    {
     "data": {
      "text/plain": [
       "<matplotlib.axes._subplots.AxesSubplot at 0x12030a7b8>"
      ]
     },
     "execution_count": 103,
     "metadata": {},
     "output_type": "execute_result"
    },
    {
     "data": {
      "image/png": "[encoded data removed]",
      "text/plain": [
       "<Figure size 432x288 with 1 Axes>"
      ]
     },
     "metadata": {},
     "output_type": "display_data"
    }
   ],
   "source": [
    "feature_importances = pd.DataFrame(rf.feature_importances_,\n",
    "                                   index = X_task2.columns,\n",
    "                                    columns=['importance']).sort_values('importance', ascending=False)\n",
    "\n",
    "feature_importances.head(30).plot(kind='bar')"
   ]
  },
  {
   "cell_type": "markdown",
   "metadata": {},
   "source": [
    "As we might have expected, height, weight, and age play a major part in deciding which sport you can participate in. In addition, the sports that had the best performance in our model were gymnastics and alpine skiing, both of which seem to require a certain kind of body build and age range in order to compete.\n",
    "After that we had a bit of a surprise when we saw that the proportional population of your country was also a key indicator of your sport. One possibility to explain this is that countries with higher populations tend to have more datapoints in the sports they participate in. Also certain countries, like warmer countries, might not participate in winter sports giving us a better chance of predicting their correct sport. After that the year was a good help in predicting the sport, likely because body types, countries, and sports change from year to year, especially now that we have split the year Summer and Winter olympics are held."
   ]
  },
  {
   "cell_type": "markdown",
   "metadata": {},
   "source": [
    "### Deployment\n",
    "\n",
    "---"
   ]
  },
  {
   "cell_type": "markdown",
   "metadata": {},
   "source": [
    "These predictions could be used for predicting medal winners in future Olympics based on variables such as `BMI`, `Height`, `Weight`, or `Sex`; however, this is a bit impractical due to the lack of discernable difference in skillset. Individuals with similar characteristics do not necessarily perform the same. To make podium predictions more useful we would need a skill level metric, but skill levels change over time. Consequently, this data set is better served for informational or educational purposes.\n",
    "\n",
    "To teach an individual or organization about <i>data science</i>, <i>machine learning</i>, or <i>data mining</i> we must first produce something relatable and <u>this</u> data set is something people understand, so as we explain what classifications we are making the content becomes understandable. From there we can dive into data that is more relavent to that individual or organization.\n",
    "\n",
    "Binary and multinomial classification have numerous use cases across industries. For example:\n",
    "\n",
    "| Industry      | Use Case                |\n",
    "| ------------- | ----------------------- |\n",
    "| Advertising   | Targeted advertising    |\n",
    "| Energy        | Prediction of dry well  |\n",
    "| Manufacturing | Risk of machine failure |\n",
    "| Sports        | Run or pass in football |\n",
    "| Telecom       | Customer retention      |\n",
    "| Underwriting  | Risk level of borrower  |\n",
    "\n",
    "To <b>measure the value</b> of any prediction model we would first need to determine if the model classifies better than best guess. If so we would need to develop a business case to understand the cost implications. To do this we would quantify risk reduction, revenue increases, changes in working capital, and/or cost decreases that were a direct result of the model. Next we would determine the cost of implementing the model and perform a discounted cash flow analysis to ensure there was a positive net present value.\n",
    "\n",
    "This type of model could be useful for predicting what sport someone may be best suited to play. Attributes could be inputs that lead to a recommended sport for a person of a particular `Age`, `Height`, `Weight`, `BMI`, `Sex`, and `Country`. More broadly, to <b>deploy</b> a model under any of the aforementithis type of model could be useful for predicting what sport someone may be best suited to play. oned use cases we would need to understand the architecture environment and determine how to use APIs to connect to the classification model. Once this is established the predictor could be integrated with an existing system or set up on a clean build.\n",
    "\n",
    "It may take many hours to <b>train</b> a prediction model, so it would be impractical to retrain a model in real-time using a relational database. Instead, the frequency for updating the prediction model would need to be determined by the nature of the use case. Using the telecom example from above, customer retention prediction models would likely run monthly to align with billing and usage limits. For the Olympics, this model could be updated annually/seasonally with each World Championship or every two years after the Olympic Games."
   ]
  },
  {
   "cell_type": "markdown",
   "metadata": {},
   "source": [
    "### Exceptional Work\n",
    "\n",
    "---"
   ]
  },
  {
   "cell_type": "markdown",
   "metadata": {},
   "source": [
    "### Automated Search for Optimal Parameters using Evolutionary Algorithms.\n",
    "\n",
    "**All Ideas in this section were completed with the help of the following resources**\n",
    "\n",
    "- [What is an Evolutionary Algorithm](https://www.cs.vu.nl/~gusz/ecbook/Eiben-Smith-Intro2EC-Ch2.pdf)\n",
    "- [How to decode a binary](https://www.wikihow.com/Decode-Binary-Numbers)\n",
    "- [Introduction To Genetic Algorithms & Example Code](https://towardsdatascience.com/introduction-to-genetic-algorithms-including-example-code-e396e98d8bf3)\n",
    "\n",
    "\n",
    "**Why take this approach?**\n",
    "\n",
    "Grid Search has been used in order to search for parameters in most machine learning problems. The problem with Gridsearch is it only tries a small subset of parameters that can be used to fit models. Grid search does not find the most optimal, or near optimal solution because it does not search enough parameters to know whether or not it has reached an optimal solution. For this reason we decided to develop a framework using an Evolutionary approach to finding optimal or near optimal for hyper parameters regardless of the model."
   ]
  },
  {
   "cell_type": "markdown",
   "metadata": {},
   "source": [
    "`Benefits of Evolutionary Algorithms`: Evolutionary algorithms try a LARGE amount of parameter values which can dwarf the amount of parameters that Gridsearch tries. Each time the algorithm repeats it selects only the best solutions that best maximizes, or minimizes the objective function and passes that information to the next generation to find the best parameters in the new generation. This generational cycle of locating the best parameters continue until the most optimal, or near optimal solution has been found. In short...\n",
    "\n",
    "1. Tries more values than grid search\n",
    "2. Only considers the best values, and from those values create even better values.\n",
    "3. Can be used for ANY ML algorithm that has hyperparameters."
   ]
  },
  {
   "cell_type": "markdown",
   "metadata": {},
   "source": [
    "#### How the algorithm works\n",
    "\n",
    "The rules for the algorithm is straight forward. In our case we want to find the best parameters for a model that help us MINIMIZE our objective function. Our objective function is our model's error rate. We would like to find parameters for models that best predict podium finishers with the smallest amount of error."
   ]
  },
  {
   "cell_type": "markdown",
   "metadata": {},
   "source": [
    "![Genetic Algorithm Image](images/genetic_algorithm.png \"Title\")"
   ]
  },
  {
   "cell_type": "markdown",
   "metadata": {},
   "source": [
    "Taking this approach to parameter search ensures that we are left with only the best of the best solutions and the even better we don't have to manualy perform the searches ourselves."
   ]
  },
  {
   "cell_type": "markdown",
   "metadata": {},
   "source": [
    "#### The Goal\n",
    "\n",
    "In order to start the algorithm we first must determine what we would like to search for. In this example, we will use the `Bernoulli Naive Bayes` model as it was found to be our best performing model at 83% accuracy. Our goal however, is to determine if we can do better than our grid search.\n",
    "\n",
    "The `Bernoulli Naive Bayes` has 2 hyperparameters that a user must select in order to perform a fit on the model. The issue here is that we have no clue which ones to try, and how they will affect our results. This is where the genetic algorithm can help us. We will use the genetic algorithm in order to find $\\alpha$ and $\\beta$ which will represent our two hyper parameters `ALPHA` and `BINARIZE` values. We would like to find the best of these two values that will give us the lowest error rate for this model."
   ]
  },
  {
   "cell_type": "markdown",
   "metadata": {},
   "source": [
    "#### Representing Alpha and Binarize as binaries\n",
    "\n",
    "In order to begin our search we will start with vector of 30 slots. This vector will have 15 slots that represent the $\\alpha$ chromosome and 15 slots that represent the $\\beta$ or Binarize chromosome."
   ]
  },
  {
   "cell_type": "markdown",
   "metadata": {},
   "source": [
    "![Parameter Representation](images/vector_rep.png \"Title\")"
   ]
  },
  {
   "cell_type": "markdown",
   "metadata": {},
   "source": [
    "The inital states for the parameters will be represented as a random binary to the algorithm, and the algorithms job will be to find the best binary representation that best fits our objective function which is minimizing model error."
   ]
  },
  {
   "cell_type": "markdown",
   "metadata": {},
   "source": [
    "#### Implementation\n",
    "\n",
    "Next, we will see a detailed implementation of our framework."
   ]
  },
  {
   "cell_type": "code",
   "execution_count": 1,
   "metadata": {},
   "outputs": [
    {
     "name": "stderr",
     "output_type": "stream",
     "text": [
      "/Users/osknowsys/anaconda3/envs/olympics/lib/python3.7/site-packages/sklearn/utils/__init__.py:4: DeprecationWarning: Using or importing the ABCs from 'collections' instead of from 'collections.abc' is deprecated, and in 3.8 it will stop working\n",
      "  from collections import Sequence\n"
     ]
    }
   ],
   "source": [
    "import pandas as pd\n",
    "import numpy as np\n",
    "import random as rd\n",
    "from sklearn.preprocessing import StandardScaler\n",
    "from sklearn.model_selection import KFold\n",
    "from sklearn.naive_bayes import BernoulliNB\n",
    "from multiprocessing import Pool\n",
    "from tqdm import tqdm"
   ]
  },
  {
   "cell_type": "code",
   "execution_count": 2,
   "metadata": {},
   "outputs": [],
   "source": [
    "data = pd.read_csv(\"data/pop_merge.csv\",index_col=False)\n",
    "data = data.sample(frac=1)\n",
    "\n",
    "y = data['Medal']\n",
    "X = data.drop(['Medal', 'Unnamed: 0'], axis = 1)\n",
    "\n",
    "X = pd.get_dummies(X, columns = ['Country', 'Event', 'Sport'])\n",
    "\n",
    "sc = StandardScaler()\n",
    "sc.fit(X)\n",
    "X = sc.transform(X)"
   ]
  },
  {
   "cell_type": "markdown",
   "metadata": {},
   "source": [
    "Above, we find our olympic dataset and prepare our variables. We normalize all our numeric values, and create dummy variables for our qualitative variables."
   ]
  },
  {
   "cell_type": "code",
   "execution_count": 3,
   "metadata": {},
   "outputs": [],
   "source": [
    "starting_gene = np.array([1,1,1,1,0,0,1,0,1,0,0,1,0,1,1,1,1,1,0,0,1,1,1,1,0,0,1,0,1,0])"
   ]
  },
  {
   "cell_type": "markdown",
   "metadata": {},
   "source": [
    "Above our starting gene will be our random binary representation of both hyper parameters as one vector. Each hyper parameter will be represented by 15 bits each."
   ]
  },
  {
   "cell_type": "markdown",
   "metadata": {},
   "source": [
    "In order for our algorithm to work we will need several values created in order to keep track of the progress. Below is a description of values our framework uses...\n",
    "\n",
    "`Probability Of Crossover`: This is the probability that a solution should be crossover with another solution. We want this to always happen so it is 1.\n",
    "\n",
    "`Probability of Mutation`: This is the probability that there will be a change to a given solution. We want this value to be do to random chance, so in order to mutate the random chance must be greater than a value of `0.2`.\n",
    "\n",
    "`Population`: This represents the number of random solutions that will be generated for each generation. Our algorithm selects solutions from this group.\n",
    "\n",
    "`Generation`: This is the number of generations that our algorithm needs to try to find a good solution. This can be as high as we want, but compute resources need to be really good in order to handle a large number of generations. in our case we will only look for solutions for `10` generations.\n",
    "\n",
    "`kfold`: The number of folds to use in the training process. We will set this to 3.\n",
    "\n",
    "`range for alpha`: This is the search range we would like our algorithm to search in. This can be as wide as we want it as there are many solutions that will be explored. In our case we use values that make sense for alpha from `0.0` to `1.0`.\n",
    "\n",
    "`range for binarize`: This is the search range we would like our algorithm to search in for binarize. `0.0` to `1.01`.\n",
    "\n",
    "`X`: The dataset\n",
    "\n",
    "`y`: the target in this case podium finish or no podium finish\n",
    "\n",
    "`L`: The total length of the chromosome binary vector\n",
    "\n",
    "`Winners`: The list of the best results found throughout all the generations\n",
    "\n",
    "`chromosome_number`: counter for the number of pairs that were created.\n",
    "\n",
    "`gen_number`: counter for the the number of generations."
   ]
  },
  {
   "cell_type": "code",
   "execution_count": 4,
   "metadata": {},
   "outputs": [],
   "source": [
    "algo_information = {\n",
    "        'ProbabilityOfCrossover': 1,\n",
    "        'ProbabilityOfMutation': 0.2,\n",
    "        'Population': 30,\n",
    "        'Generation': 10,\n",
    "        'kfold': 3,\n",
    "        'gene': starting_gene,\n",
    "        'range_for_alpha': (0.0, 1.0),\n",
    "        'range_for_binarization': (0.0, 1.0),\n",
    "        'L': len(X),\n",
    "        'X': X,\n",
    "        'Y': y,\n",
    "        'Winners': [],\n",
    "        'chromosome_number': 1,\n",
    "        'gen_number': 1\n",
    "        }"
   ]
  },
  {
   "cell_type": "markdown",
   "metadata": {},
   "source": [
    "Our first step is to initialize a population of random solutions. In our case this is a random amount binary values for $\\alpha$ and binarize $\\beta$."
   ]
  },
  {
   "cell_type": "code",
   "execution_count": 5,
   "metadata": {},
   "outputs": [],
   "source": [
    "def create_chromosomes_from(algo_info):\n",
    "    \"\"\"\n",
    "    Takes the starting chromosome bit string, and creates a group of chromosome\n",
    "    replicas, based on the population amount\n",
    "    \n",
    "    Parameters\n",
    "    ----------\n",
    "    \n",
    "    `algo_info`: <dict> algorithm information\n",
    "    \n",
    "    Return\n",
    "    ------\n",
    "    \n",
    "    [chromosomes]\n",
    "    \n",
    "    \"\"\"\n",
    "    print(\"Created chromosome # \", algo_info['chromosome_number'])\n",
    "    print(\"IN GENERATION #\", algo_info['gen_number'])\n",
    "    pop = algo_info['Population']\n",
    "    n_list = np.empty((0, len(algo_info['gene'])))\n",
    "    for i in range(pop):\n",
    "        rd.shuffle(algo_info['gene'])\n",
    "        n_list = np.vstack((n_list, algo_info['gene']))\n",
    "    algo_info['chromosome_number'] += 1\n",
    "    if \"NewPopulation\" in algo_info.keys():\n",
    "        rd.shuffle(algo_info['NewPopulation'])\n",
    "        newpop = np.vstack((n_list, algo_info['NewPopulation']))\n",
    "        return newpop \n",
    "    else:    \n",
    "        return n_list"
   ]
  },
  {
   "cell_type": "markdown",
   "metadata": {},
   "source": [
    "Our binaries need a way to be converted into actual numbers that humans can read so that we can use them in our model. So we created a way to decode binaries back into whole numbers with the appropriate precision."
   ]
  },
  {
   "cell_type": "code",
   "execution_count": 6,
   "metadata": {},
   "outputs": [],
   "source": [
    "def decode_chromosome(a, b, param_as_bit):\n",
    "    \"\"\"\n",
    "    This function is design to decode a chromosome. It is derived from the formula\n",
    "    above, and needs a upper range and a lower range given so that it can decode\n",
    "    the binary bit string and return a decoded value.\n",
    "    \n",
    "    Parameters\n",
    "    ---------\n",
    "    \n",
    "    `a` <float/int>lower value of the desired search space\n",
    "    `b`<float/int> high end of the search space.\n",
    "    `params_as_bit`<list> a list of ones and zeros representing the parameter as\n",
    "    a binary chromosome.\n",
    "    \n",
    "    Return\n",
    "    ------\n",
    "    \n",
    "    <float> Decoded Chromosome\n",
    "    \"\"\"\n",
    "    l = len(param_as_bit)\n",
    "    precision = (b - a) / ((2**l) - 1)\n",
    "    z = 0\n",
    "    t = 1\n",
    "    num_sum = 0\n",
    "    \n",
    "    for i in range(l):\n",
    "        num = param_as_bit[-t]*2**z\n",
    "        num_sum += num\n",
    "        t += 1\n",
    "        z += 1\n",
    "        \n",
    "    decoded_value = (num_sum*precision) + a\n",
    "    return decoded_value"
   ]
  },
  {
   "cell_type": "markdown",
   "metadata": {},
   "source": [
    "In order for us to determine the best solution we need to have a selection process. Our selection process consists of the top 3 solutions or chromosomes that reduce the error of the model the most. These top 3 models are selected for a chance to go through crossover and mutation."
   ]
  },
  {
   "cell_type": "code",
   "execution_count": 7,
   "metadata": {},
   "outputs": [],
   "source": [
    " def selection(algo_info):\n",
    "    \"\"\"\n",
    "    This function runs the selection criteria from the group of different chromosomes\n",
    "    in which the problem is centered. It grabs random indexes from the chromosomes and\n",
    "    selects those genes and returns them ass candidates. In this case we are testing\n",
    "    3 folds, so 3 candidates are returned.\n",
    "    \n",
    "    Parameter\n",
    "    --------\n",
    "    `algorithm information`: <dict> map containing all the starting info for the algo\n",
    "    \n",
    "    Return\n",
    "    ------\n",
    "    \n",
    "    candidates: <list>\n",
    "    \"\"\"\n",
    "    chromosomes = create_chromosomes_from(algo_info)\n",
    "    indexes = np.unique(np.random.randint(0, len(chromosomes), size=3))\n",
    "    while len(indexes) < 3:\n",
    "        indexes = np.unique(np.random.randint(0, len(chromosomes), size=3))\n",
    "        if len(indexes) == 3:\n",
    "            break\n",
    "    [w1, w2, w3] = indexes \n",
    "    warrior_1 = chromosomes[w1]\n",
    "    warrior_2 = chromosomes[w2]\n",
    "    warrior_3 = chromosomes[w3]\n",
    "    candidates = [warrior_1, warrior_2, warrior_3]\n",
    "    return candidates"
   ]
  },
  {
   "cell_type": "markdown",
   "metadata": {},
   "source": [
    "In order to know if a candidate was good or not we need to calculate a fitness value. In our fitness value function does just that."
   ]
  },
  {
   "cell_type": "code",
   "execution_count": 8,
   "metadata": {},
   "outputs": [],
   "source": [
    "def fitness_value(algo_info):\n",
    "    \"\"\"\n",
    "    Calculates the fitenss values for alpha and binarize for each participant in the \n",
    "    selection process. This function returns the candidate gene and its associated\n",
    "    decoded value to the user for alpha and binarize\n",
    "    \n",
    "    Parameter\n",
    "    --------\n",
    "    `algorithm_informaiton`: <dict> information about algorithm.\n",
    "    \n",
    "    Return\n",
    "    ------\n",
    "    [{values}]: <list>\n",
    "    \"\"\"\n",
    "    candidates = selection(algo_info)\n",
    "    values = []\n",
    "    \n",
    "    for candidate in candidates:\n",
    "        alpha_chromosome = candidate[0:-15]\n",
    "        binarize_chromosome = candidate[15:len(candidate)]\n",
    "        alpha_a = algo_info['range_for_alpha'][0]\n",
    "        alpha_b = algo_info['range_for_alpha'][1]\n",
    "        binarize_a = algo_info['range_for_binarization'][0]\n",
    "        binarize_b = algo_info['range_for_binarization'][1]\n",
    "        decoded_alpha = decode_chromosome(alpha_a, alpha_b , alpha_chromosome)\n",
    "        decoded_binarize = decode_chromosome(binarize_a, binarize_b, binarize_chromosome)\n",
    "        info = dict(Gene=candidate, Alpha=decoded_alpha, Binarize=decoded_binarize)\n",
    "        values.append(info)\n",
    "    return values"
   ]
  },
  {
   "cell_type": "markdown",
   "metadata": {},
   "source": [
    "Our fitness function is to determine which values produce the lowest error for our dataset given the Bernoulli Naive Bayes model. We can't just simply take face value because we are doing this fitness test across multiple folds of the data. As a result we will take the average of all the folds and use that final value as the fitness measure."
   ]
  },
  {
   "cell_type": "code",
   "execution_count": 9,
   "metadata": {},
   "outputs": [],
   "source": [
    "def fitness(algo_info):\n",
    "    \"\"\"\n",
    "    This function is the objective function which calculates the svm error for\n",
    "    the specific gene. It returns each gene with its error function on the model.\n",
    "    This giives a good idea of hor the decoded alpha & binarize value performed within\n",
    "    the model.\n",
    "    \n",
    "    Parameter\n",
    "    --------\n",
    "    `algorithm_informaiton`: <dict> information about algorithm.\n",
    "    \n",
    "    Return\n",
    "    ------\n",
    "    [{values}]: <list>\n",
    "    \"\"\"\n",
    "    values = fitness_value(algo_info)\n",
    "    X = algo_info['X']\n",
    "    Y = algo_info['Y']\n",
    "    \n",
    "    for value in values:\n",
    "        kf = KFold(algo_info['kfold'])\n",
    "        sum_of_scores = 0\n",
    "        for train_index, test_index in kf.split(X):\n",
    "            print(\"TRAIN:\", train_index, \"TEST: \", test_index)\n",
    "            X_train, X_test = X[train_index], X[test_index]\n",
    "            y_train, y_test = Y[train_index], Y[test_index]\n",
    "            model = BernoulliNB(alpha=value['Alpha'], binarize=value['Binarize'])\n",
    "            model.fit(X_train, y_train)\n",
    "            model.predict(X_test)\n",
    "            accuracy = model.score(X_test, y_test)\n",
    "            gene_best_value = 1 - (accuracy)\n",
    "            sum_of_scores += gene_best_value\n",
    "        performance = sum_of_scores/algo_info['kfold']\n",
    "        value['error'] = performance\n",
    "    best_values = tournament_selection(values)\n",
    "    return best_values"
   ]
  },
  {
   "cell_type": "markdown",
   "metadata": {},
   "source": [
    "Only the best values get to compete to go into our crossover lottery. So our next function of the framework is designed to use the tournament style selection where the best values that lower the error rate are considered as parents."
   ]
  },
  {
   "cell_type": "code",
   "execution_count": 10,
   "metadata": {},
   "outputs": [],
   "source": [
    "def tournament_selection(fitness_values):\n",
    "    parent_1_index = min(range(len(fitness_values)), key=lambda index: fitness_values[index]['error'])\n",
    "    parent_1 = fitness_values[parent_1_index]\n",
    "    del fitness_values[parent_1_index]\n",
    "    parent_2_index = min(range(len(fitness_values)), key=lambda index: fitness_values[index]['error'])\n",
    "    parent_2 = fitness_values[parent_2_index]\n",
    "    del fitness_values[parent_2_index]\n",
    "    parents = [parent_1, parent_2]\n",
    "    return parents"
   ]
  },
  {
   "cell_type": "markdown",
   "metadata": {},
   "source": [
    "The parents (or best solutions) go through a crossover process. This crossover process is simply a small exchange between the two best solutions. It is important that these changes are slight so as to not deviate too far from whatever that best value was for the parents. This crossover creates exchange of information only involving the best traits from the parents. A diagram is listed below to illustrate...."
   ]
  },
  {
   "cell_type": "markdown",
   "metadata": {},
   "source": [
    "![Crossover Representation](images/crossover_image.png \"Title\")"
   ]
  },
  {
   "cell_type": "code",
   "execution_count": 11,
   "metadata": {},
   "outputs": [],
   "source": [
    "def crossover(algo_info):\n",
    "    parents = fitness(algo_info)\n",
    "    algo_info['Winners'].append(parents[0])\n",
    "    parent_1 = parents[0]['Gene']\n",
    "    parent_2 = parents[1]['Gene']\n",
    "    prob = np.random.rand()\n",
    "    if prob < algo_info['ProbabilityOfCrossover']:\n",
    "        cross_section_1 = np.random.randint(0, len(algo_info['gene']))\n",
    "        cross_section_2 = np.random.randint(0, len(algo_info['gene']))\n",
    "        \n",
    "        while cross_section_1 == cross_section_2:\n",
    "            cross_section_2 = np.random.randint(0, len(algo_info['gene']))\n",
    "        if cross_section_1 < cross_section_2:\n",
    "            middle_segment_1 = parent_1[cross_section_1:cross_section_2+1]\n",
    "            middle_segment_2 = parent_2[cross_section_1:cross_section_2+1]\n",
    "            \n",
    "            first_segment_1 = parent_1[:cross_section_1]\n",
    "            second_segment_1 = parent_1[cross_section_2+1:]\n",
    "            \n",
    "            first_segment_2 = parent_2[:cross_section_1]\n",
    "            second_segment_2 = parent_2[cross_section_2+1:]\n",
    "            \n",
    "            child_1_gene = np.concatenate([first_segment_1, middle_segment_1, second_segment_1]) \n",
    "            child_2_gene = np.concatenate([first_segment_2, middle_segment_2, second_segment_2])\n",
    "        else:\n",
    "            middle_segment_1 = parent_1[cross_section_2:cross_section_1+1]\n",
    "            middle_segment_2 = parent_2[cross_section_2:cross_section_1+1]\n",
    "            \n",
    "            first_segment_1 = parent_1[:cross_section_2]\n",
    "            second_segment_1 = parent_1[cross_section_1+1:]\n",
    "            \n",
    "            first_segment_2 = parent_2[:cross_section_2]\n",
    "            second_segment_2 = parent_2[cross_section_1+1:]\n",
    "            \n",
    "            child_1_gene = np.concatenate([first_segment_1, middle_segment_1, second_segment_1]) \n",
    "            child_2_gene = np.concatenate([first_segment_2, middle_segment_2, second_segment_2])\n",
    "        return(child_1_gene, child_2_gene)\n",
    "    else:\n",
    "        child_1_gene = parent_1\n",
    "        child_2_gene = parent_2\n",
    "        return[child_1_gene, child_2_gene]\n",
    "        "
   ]
  },
  {
   "cell_type": "markdown",
   "metadata": {},
   "source": [
    "This crossover produces entirely new solutions, or genes which can be randomly tried for a mutation. The mutation is determined by random chance. In our case there is only a 20% chance there will be a mutation. If the chance of mutation is greator than 20% then each value in the binary gen will be changed. If it was 1 it will become a 0. If 0 it will become a one. This process will give an entirely mutated solution to try in the next generation."
   ]
  },
  {
   "cell_type": "markdown",
   "metadata": {},
   "source": [
    "![Mutation Representation](images/mutation.png \"Title\")"
   ]
  },
  {
   "cell_type": "code",
   "execution_count": 12,
   "metadata": {},
   "outputs": [],
   "source": [
    "def mutate(algo_info):\n",
    "   children =  crossover(algo_info)\n",
    "   index = 0\n",
    "   for child in children:\n",
    "       for i in child:\n",
    "           prob = np.random.rand()\n",
    "           if prob < algo_info['ProbabilityOfMutation']:\n",
    "               if child[index] == 0:\n",
    "                   child[index] = 1\n",
    "               else:\n",
    "                   child[index] = 0\n",
    "               index += 1\n",
    "           else:\n",
    "               pass\n",
    "   return children"
   ]
  },
  {
   "cell_type": "markdown",
   "metadata": {},
   "source": [
    "Our execution function takes all these ideas in consideration and can be coded as the following..."
   ]
  },
  {
   "cell_type": "code",
   "execution_count": 13,
   "metadata": {},
   "outputs": [],
   "source": [
    "def execute(algo_info):\n",
    "    print(\"EXECUTING GENTIC ALGO, In search for the best parameters.....\")\n",
    "    for i in tqdm(range(algo_info['Generation'])):\n",
    "        algo_info['NewPopulation'] = np.empty((0,len(algo_info['gene'])))\n",
    "        print(\"GENERATION # \", algo_info['gen_number'])\n",
    "        for j in range(int(algo_info['Population']/2)):\n",
    "            child1, child2 = mutate(algo_info)\n",
    "            algo_info['NewPopulation'] = np.vstack((child1, child2, algo_info['NewPopulation']))        \n",
    "        algo_info['gen_number'] += 1\n",
    "        print(\"STARTING GENERATION #\", algo_info['gen_number'])\n",
    "    best_index = min(range(len(algo_info['Winners'])), key=lambda index: algo_info['Winners'][index]['error'])\n",
    "    print(\"GENETIC ALGORITHMS BEST PARAMETERS AFTER GENERATION: \", algo_info['gen_number'])\n",
    "    print(algo_info['Winners'][best_index])"
   ]
  },
  {
   "cell_type": "markdown",
   "metadata": {},
   "source": [
    "Finally, our search takes a long time if the work is not parallelized. In an effort to speed up the search process we parallelized the work so that our search could make use of mutiple processes on the machine. The next grid executes our algorithm."
   ]
  },
  {
   "cell_type": "code",
   "execution_count": 14,
   "metadata": {},
   "outputs": [
    {
     "name": "stdout",
     "output_type": "stream",
     "text": [
      "EXECUTING GENTIC ALGO, In search for the best parameters.....\n"
     ]
    },
    {
     "name": "stderr",
     "output_type": "stream",
     "text": [
      "\r",
      "  0%|          | 0/10 [00:00<?, ?it/s]"
     ]
    },
    {
     "name": "stdout",
     "output_type": "stream",
     "text": [
      "GENERATION #  1\n",
      "Created chromosome #  1\n",
      "IN GENERATION # 1\n",
      "TRAIN: [ 88950  88951  88952 ... 266845 266846 266847] TEST:  [    0     1     2 ... 88947 88948 88949]\n",
      "TRAIN: [     0      1      2 ... 266845 266846 266847] TEST:  [ 88950  88951  88952 ... 177896 177897 177898]\n",
      "TRAIN: [     0      1      2 ... 177896 177897 177898] TEST:  [177899 177900 177901 ... 266845 266846 266847]\n",
      "TRAIN: [ 88950  88951  88952 ... 266845 266846 266847] TEST:  [    0     1     2 ... 88947 88948 88949]\n",
      "TRAIN: [     0      1      2 ... 266845 266846 266847] TEST:  [ 88950  88951  88952 ... 177896 177897 177898]\n",
      "TRAIN: [     0      1      2 ... 177896 177897 177898] TEST:  [177899 177900 177901 ... 266845 266846 266847]\n",
      "TRAIN: [ 88950  88951  88952 ... 266845 266846 266847] TEST:  [    0     1     2 ... 88947 88948 88949]\n",
      "TRAIN: [     0      1      2 ... 266845 266846 266847] TEST:  [ 88950  88951  88952 ... 177896 177897 177898]\n",
      "TRAIN: [     0      1      2 ... 177896 177897 177898] TEST:  [177899 177900 177901 ... 266845 266846 266847]\n",
      "Created chromosome #  2\n",
      "IN GENERATION # 1\n",
      "TRAIN: [ 88950  88951  88952 ... 266845 266846 266847] TEST:  [    0     1     2 ... 88947 88948 88949]\n",
      "TRAIN: [     0      1      2 ... 266845 266846 266847] TEST:  [ 88950  88951  88952 ... 177896 177897 177898]\n",
      "TRAIN: [     0      1      2 ... 177896 177897 177898] TEST:  [177899 177900 177901 ... 266845 266846 266847]\n",
      "TRAIN: [ 88950  88951  88952 ... 266845 266846 266847] TEST:  [    0     1     2 ... 88947 88948 88949]\n",
      "TRAIN: [     0      1      2 ... 266845 266846 266847] TEST:  [ 88950  88951  88952 ... 177896 177897 177898]\n",
      "TRAIN: [     0      1      2 ... 177896 177897 177898] TEST:  [177899 177900 177901 ... 266845 266846 266847]\n",
      "TRAIN: [ 88950  88951  88952 ... 266845 266846 266847] TEST:  [    0     1     2 ... 88947 88948 88949]\n",
      "TRAIN: [     0      1      2 ... 266845 266846 266847] TEST:  [ 88950  88951  88952 ... 177896 177897 177898]\n",
      "TRAIN: [     0      1      2 ... 177896 177897 177898] TEST:  [177899 177900 177901 ... 266845 266846 266847]\n",
      "Created chromosome #  3\n",
      "IN GENERATION # 1\n",
      "TRAIN: [ 88950  88951  88952 ... 266845 266846 266847] TEST:  [    0     1     2 ... 88947 88948 88949]\n",
      "TRAIN: [     0      1      2 ... 266845 266846 266847] TEST:  [ 88950  88951  88952 ... 177896 177897 177898]\n",
      "TRAIN: [     0      1      2 ... 177896 177897 177898] TEST:  [177899 177900 177901 ... 266845 266846 266847]\n",
      "TRAIN: [ 88950  88951  88952 ... 266845 266846 266847] TEST:  [    0     1     2 ... 88947 88948 88949]\n",
      "TRAIN: [     0      1      2 ... 266845 266846 266847] TEST:  [ 88950  88951  88952 ... 177896 177897 177898]\n",
      "TRAIN: [     0      1      2 ... 177896 177897 177898] TEST:  [177899 177900 177901 ... 266845 266846 266847]\n",
      "TRAIN: [ 88950  88951  88952 ... 266845 266846 266847] TEST:  [    0     1     2 ... 88947 88948 88949]\n",
      "TRAIN: [     0      1      2 ... 266845 266846 266847] TEST:  [ 88950  88951  88952 ... 177896 177897 177898]\n",
      "TRAIN: [     0      1      2 ... 177896 177897 177898] TEST:  [177899 177900 177901 ... 266845 266846 266847]\n",
      "Created chromosome #  4\n",
      "IN GENERATION # 1\n",
      "TRAIN: [ 88950  88951  88952 ... 266845 266846 266847] TEST:  [    0     1     2 ... 88947 88948 88949]\n",
      "TRAIN: [     0      1      2 ... 266845 266846 266847] TEST:  [ 88950  88951  88952 ... 177896 177897 177898]\n",
      "TRAIN: [     0      1      2 ... 177896 177897 177898] TEST:  [177899 177900 177901 ... 266845 266846 266847]\n",
      "TRAIN: [ 88950  88951  88952 ... 266845 266846 266847] TEST:  [    0     1     2 ... 88947 88948 88949]\n",
      "TRAIN: [     0      1      2 ... 266845 266846 266847] TEST:  [ 88950  88951  88952 ... 177896 177897 177898]\n",
      "TRAIN: [     0      1      2 ... 177896 177897 177898] TEST:  [177899 177900 177901 ... 266845 266846 266847]\n",
      "TRAIN: [ 88950  88951  88952 ... 266845 266846 266847] TEST:  [    0     1     2 ... 88947 88948 88949]\n",
      "TRAIN: [     0      1      2 ... 266845 266846 266847] TEST:  [ 88950  88951  88952 ... 177896 177897 177898]\n",
      "TRAIN: [     0      1      2 ... 177896 177897 177898] TEST:  [177899 177900 177901 ... 266845 266846 266847]\n",
      "Created chromosome #  5\n",
      "IN GENERATION # 1\n",
      "TRAIN: [ 88950  88951  88952 ... 266845 266846 266847] TEST:  [    0     1     2 ... 88947 88948 88949]\n",
      "TRAIN: [     0      1      2 ... 266845 266846 266847] TEST:  [ 88950  88951  88952 ... 177896 177897 177898]\n",
      "TRAIN: [     0      1      2 ... 177896 177897 177898] TEST:  [177899 177900 177901 ... 266845 266846 266847]\n",
      "TRAIN: [ 88950  88951  88952 ... 266845 266846 266847] TEST:  [    0     1     2 ... 88947 88948 88949]\n",
      "TRAIN: [     0      1      2 ... 266845 266846 266847] TEST:  [ 88950  88951  88952 ... 177896 177897 177898]\n",
      "TRAIN: [     0      1      2 ... 177896 177897 177898] TEST:  [177899 177900 177901 ... 266845 266846 266847]\n",
      "TRAIN: [ 88950  88951  88952 ... 266845 266846 266847] TEST:  [    0     1     2 ... 88947 88948 88949]\n",
      "TRAIN: [     0      1      2 ... 266845 266846 266847] TEST:  [ 88950  88951  88952 ... 177896 177897 177898]\n",
      "TRAIN: [     0      1      2 ... 177896 177897 177898] TEST:  [177899 177900 177901 ... 266845 266846 266847]\n",
      "Created chromosome #  6\n",
      "IN GENERATION # 1\n",
      "TRAIN: [ 88950  88951  88952 ... 266845 266846 266847] TEST:  [    0     1     2 ... 88947 88948 88949]\n",
      "TRAIN: [     0      1      2 ... 266845 266846 266847] TEST:  [ 88950  88951  88952 ... 177896 177897 177898]\n",
      "TRAIN: [     0      1      2 ... 177896 177897 177898] TEST:  [177899 177900 177901 ... 266845 266846 266847]\n",
      "TRAIN: [ 88950  88951  88952 ... 266845 266846 266847] TEST:  [    0     1     2 ... 88947 88948 88949]\n",
      "TRAIN: [     0      1      2 ... 266845 266846 266847] TEST:  [ 88950  88951  88952 ... 177896 177897 177898]\n",
      "TRAIN: [     0      1      2 ... 177896 177897 177898] TEST:  [177899 177900 177901 ... 266845 266846 266847]\n",
      "TRAIN: [ 88950  88951  88952 ... 266845 266846 266847] TEST:  [    0     1     2 ... 88947 88948 88949]\n",
      "TRAIN: [     0      1      2 ... 266845 266846 266847] TEST:  [ 88950  88951  88952 ... 177896 177897 177898]\n",
      "TRAIN: [     0      1      2 ... 177896 177897 177898] TEST:  [177899 177900 177901 ... 266845 266846 266847]\n",
      "Created chromosome #  7\n",
      "IN GENERATION # 1\n",
      "TRAIN: [ 88950  88951  88952 ... 266845 266846 266847] TEST:  [    0     1     2 ... 88947 88948 88949]\n",
      "TRAIN: [     0      1      2 ... 266845 266846 266847] TEST:  [ 88950  88951  88952 ... 177896 177897 177898]\n",
      "TRAIN: [     0      1      2 ... 177896 177897 177898] TEST:  [177899 177900 177901 ... 266845 266846 266847]\n",
      "TRAIN: [ 88950  88951  88952 ... 266845 266846 266847] TEST:  [    0     1     2 ... 88947 88948 88949]\n",
      "TRAIN: [     0      1      2 ... 266845 266846 266847] TEST:  [ 88950  88951  88952 ... 177896 177897 177898]\n",
      "TRAIN: [     0      1      2 ... 177896 177897 177898] TEST:  [177899 177900 177901 ... 266845 266846 266847]\n",
      "TRAIN: [ 88950  88951  88952 ... 266845 266846 266847] TEST:  [    0     1     2 ... 88947 88948 88949]\n",
      "TRAIN: [     0      1      2 ... 266845 266846 266847] TEST:  [ 88950  88951  88952 ... 177896 177897 177898]\n",
      "TRAIN: [     0      1      2 ... 177896 177897 177898] TEST:  [177899 177900 177901 ... 266845 266846 266847]\n",
      "Created chromosome #  8\n",
      "IN GENERATION # 1\n",
      "TRAIN: [ 88950  88951  88952 ... 266845 266846 266847] TEST:  [    0     1     2 ... 88947 88948 88949]\n",
      "TRAIN: [     0      1      2 ... 266845 266846 266847] TEST:  [ 88950  88951  88952 ... 177896 177897 177898]\n",
      "TRAIN: [     0      1      2 ... 177896 177897 177898] TEST:  [177899 177900 177901 ... 266845 266846 266847]\n",
      "TRAIN: [ 88950  88951  88952 ... 266845 266846 266847] TEST:  [    0     1     2 ... 88947 88948 88949]\n",
      "TRAIN: [     0      1      2 ... 266845 266846 266847] TEST:  [ 88950  88951  88952 ... 177896 177897 177898]\n",
      "TRAIN: [     0      1      2 ... 177896 177897 177898] TEST:  [177899 177900 177901 ... 266845 266846 266847]\n",
      "TRAIN: [ 88950  88951  88952 ... 266845 266846 266847] TEST:  [    0     1     2 ... 88947 88948 88949]\n",
      "TRAIN: [     0      1      2 ... 266845 266846 266847] TEST:  [ 88950  88951  88952 ... 177896 177897 177898]\n",
      "TRAIN: [     0      1      2 ... 177896 177897 177898] TEST:  [177899 177900 177901 ... 266845 266846 266847]\n",
      "Created chromosome #  9\n",
      "IN GENERATION # 1\n",
      "TRAIN: [ 88950  88951  88952 ... 266845 266846 266847] TEST:  [    0     1     2 ... 88947 88948 88949]\n"
     ]
    },
    {
     "name": "stdout",
     "output_type": "stream",
     "text": [
      "TRAIN: [     0      1      2 ... 266845 266846 266847] TEST:  [ 88950  88951  88952 ... 177896 177897 177898]\n",
      "TRAIN: [     0      1      2 ... 177896 177897 177898] TEST:  [177899 177900 177901 ... 266845 266846 266847]\n",
      "TRAIN: [ 88950  88951  88952 ... 266845 266846 266847] TEST:  [    0     1     2 ... 88947 88948 88949]\n",
      "TRAIN: [     0      1      2 ... 266845 266846 266847] TEST:  [ 88950  88951  88952 ... 177896 177897 177898]\n",
      "TRAIN: [     0      1      2 ... 177896 177897 177898] TEST:  [177899 177900 177901 ... 266845 266846 266847]\n",
      "TRAIN: [ 88950  88951  88952 ... 266845 266846 266847] TEST:  [    0     1     2 ... 88947 88948 88949]\n",
      "TRAIN: [     0      1      2 ... 266845 266846 266847] TEST:  [ 88950  88951  88952 ... 177896 177897 177898]\n",
      "TRAIN: [     0      1      2 ... 177896 177897 177898] TEST:  [177899 177900 177901 ... 266845 266846 266847]\n",
      "Created chromosome #  10\n",
      "IN GENERATION # 1\n",
      "TRAIN: [ 88950  88951  88952 ... 266845 266846 266847] TEST:  [    0     1     2 ... 88947 88948 88949]\n",
      "TRAIN: [     0      1      2 ... 266845 266846 266847] TEST:  [ 88950  88951  88952 ... 177896 177897 177898]\n",
      "TRAIN: [     0      1      2 ... 177896 177897 177898] TEST:  [177899 177900 177901 ... 266845 266846 266847]\n",
      "TRAIN: [ 88950  88951  88952 ... 266845 266846 266847] TEST:  [    0     1     2 ... 88947 88948 88949]\n",
      "TRAIN: [     0      1      2 ... 266845 266846 266847] TEST:  [ 88950  88951  88952 ... 177896 177897 177898]\n",
      "TRAIN: [     0      1      2 ... 177896 177897 177898] TEST:  [177899 177900 177901 ... 266845 266846 266847]\n",
      "TRAIN: [ 88950  88951  88952 ... 266845 266846 266847] TEST:  [    0     1     2 ... 88947 88948 88949]\n",
      "TRAIN: [     0      1      2 ... 266845 266846 266847] TEST:  [ 88950  88951  88952 ... 177896 177897 177898]\n",
      "TRAIN: [     0      1      2 ... 177896 177897 177898] TEST:  [177899 177900 177901 ... 266845 266846 266847]\n",
      "Created chromosome #  11\n",
      "IN GENERATION # 1\n",
      "TRAIN: [ 88950  88951  88952 ... 266845 266846 266847] TEST:  [    0     1     2 ... 88947 88948 88949]\n",
      "TRAIN: [     0      1      2 ... 266845 266846 266847] TEST:  [ 88950  88951  88952 ... 177896 177897 177898]\n",
      "TRAIN: [     0      1      2 ... 177896 177897 177898] TEST:  [177899 177900 177901 ... 266845 266846 266847]\n",
      "TRAIN: [ 88950  88951  88952 ... 266845 266846 266847] TEST:  [    0     1     2 ... 88947 88948 88949]\n",
      "TRAIN: [     0      1      2 ... 266845 266846 266847] TEST:  [ 88950  88951  88952 ... 177896 177897 177898]\n",
      "TRAIN: [     0      1      2 ... 177896 177897 177898] TEST:  [177899 177900 177901 ... 266845 266846 266847]\n",
      "TRAIN: [ 88950  88951  88952 ... 266845 266846 266847] TEST:  [    0     1     2 ... 88947 88948 88949]\n",
      "TRAIN: [     0      1      2 ... 266845 266846 266847] TEST:  [ 88950  88951  88952 ... 177896 177897 177898]\n",
      "TRAIN: [     0      1      2 ... 177896 177897 177898] TEST:  [177899 177900 177901 ... 266845 266846 266847]\n",
      "Created chromosome #  12\n",
      "IN GENERATION # 1\n",
      "TRAIN: [ 88950  88951  88952 ... 266845 266846 266847] TEST:  [    0     1     2 ... 88947 88948 88949]\n",
      "TRAIN: [     0      1      2 ... 266845 266846 266847] TEST:  [ 88950  88951  88952 ... 177896 177897 177898]\n",
      "TRAIN: [     0      1      2 ... 177896 177897 177898] TEST:  [177899 177900 177901 ... 266845 266846 266847]\n",
      "TRAIN: [ 88950  88951  88952 ... 266845 266846 266847] TEST:  [    0     1     2 ... 88947 88948 88949]\n",
      "TRAIN: [     0      1      2 ... 266845 266846 266847] TEST:  [ 88950  88951  88952 ... 177896 177897 177898]\n",
      "TRAIN: [     0      1      2 ... 177896 177897 177898] TEST:  [177899 177900 177901 ... 266845 266846 266847]\n",
      "TRAIN: [ 88950  88951  88952 ... 266845 266846 266847] TEST:  [    0     1     2 ... 88947 88948 88949]\n",
      "TRAIN: [     0      1      2 ... 266845 266846 266847] TEST:  [ 88950  88951  88952 ... 177896 177897 177898]\n",
      "TRAIN: [     0      1      2 ... 177896 177897 177898] TEST:  [177899 177900 177901 ... 266845 266846 266847]\n",
      "Created chromosome #  13\n",
      "IN GENERATION # 1\n",
      "TRAIN: [ 88950  88951  88952 ... 266845 266846 266847] TEST:  [    0     1     2 ... 88947 88948 88949]\n",
      "TRAIN: [     0      1      2 ... 266845 266846 266847] TEST:  [ 88950  88951  88952 ... 177896 177897 177898]\n",
      "TRAIN: [     0      1      2 ... 177896 177897 177898] TEST:  [177899 177900 177901 ... 266845 266846 266847]\n",
      "TRAIN: [ 88950  88951  88952 ... 266845 266846 266847] TEST:  [    0     1     2 ... 88947 88948 88949]\n",
      "TRAIN: [     0      1      2 ... 266845 266846 266847] TEST:  [ 88950  88951  88952 ... 177896 177897 177898]\n",
      "TRAIN: [     0      1      2 ... 177896 177897 177898] TEST:  [177899 177900 177901 ... 266845 266846 266847]\n",
      "TRAIN: [ 88950  88951  88952 ... 266845 266846 266847] TEST:  [    0     1     2 ... 88947 88948 88949]\n",
      "TRAIN: [     0      1      2 ... 266845 266846 266847] TEST:  [ 88950  88951  88952 ... 177896 177897 177898]\n",
      "TRAIN: [     0      1      2 ... 177896 177897 177898] TEST:  [177899 177900 177901 ... 266845 266846 266847]\n",
      "Created chromosome #  14\n",
      "IN GENERATION # 1\n",
      "TRAIN: [ 88950  88951  88952 ... 266845 266846 266847] TEST:  [    0     1     2 ... 88947 88948 88949]\n",
      "TRAIN: [     0      1      2 ... 266845 266846 266847] TEST:  [ 88950  88951  88952 ... 177896 177897 177898]\n",
      "TRAIN: [     0      1      2 ... 177896 177897 177898] TEST:  [177899 177900 177901 ... 266845 266846 266847]\n",
      "TRAIN: [ 88950  88951  88952 ... 266845 266846 266847] TEST:  [    0     1     2 ... 88947 88948 88949]\n",
      "TRAIN: [     0      1      2 ... 266845 266846 266847] TEST:  [ 88950  88951  88952 ... 177896 177897 177898]\n",
      "TRAIN: [     0      1      2 ... 177896 177897 177898] TEST:  [177899 177900 177901 ... 266845 266846 266847]\n",
      "TRAIN: [ 88950  88951  88952 ... 266845 266846 266847] TEST:  [    0     1     2 ... 88947 88948 88949]\n",
      "TRAIN: [     0      1      2 ... 266845 266846 266847] TEST:  [ 88950  88951  88952 ... 177896 177897 177898]\n",
      "TRAIN: [     0      1      2 ... 177896 177897 177898] TEST:  [177899 177900 177901 ... 266845 266846 266847]\n",
      "Created chromosome #  15\n",
      "IN GENERATION # 1\n",
      "TRAIN: [ 88950  88951  88952 ... 266845 266846 266847] TEST:  [    0     1     2 ... 88947 88948 88949]\n",
      "TRAIN: [     0      1      2 ... 266845 266846 266847] TEST:  [ 88950  88951  88952 ... 177896 177897 177898]\n",
      "TRAIN: [     0      1      2 ... 177896 177897 177898] TEST:  [177899 177900 177901 ... 266845 266846 266847]\n",
      "TRAIN: [ 88950  88951  88952 ... 266845 266846 266847] TEST:  [    0     1     2 ... 88947 88948 88949]\n",
      "TRAIN: [     0      1      2 ... 266845 266846 266847] TEST:  [ 88950  88951  88952 ... 177896 177897 177898]\n",
      "TRAIN: [     0      1      2 ... 177896 177897 177898] TEST:  [177899 177900 177901 ... 266845 266846 266847]\n",
      "TRAIN: [ 88950  88951  88952 ... 266845 266846 266847] TEST:  [    0     1     2 ... 88947 88948 88949]\n",
      "TRAIN: [     0      1      2 ... 266845 266846 266847] TEST:  [ 88950  88951  88952 ... 177896 177897 177898]\n",
      "TRAIN: [     0      1      2 ... 177896 177897 177898] TEST:  [177899 177900 177901 ... 266845 266846 266847]\n",
      "STARTING GENERATION # 2\n"
     ]
    },
    {
     "name": "stderr",
     "output_type": "stream",
     "text": [
      "\r",
      " 10%|█         | 1/10 [10:37<1:35:35, 637.23s/it]"
     ]
    },
    {
     "name": "stdout",
     "output_type": "stream",
     "text": [
      "GENERATION #  2\n",
      "Created chromosome #  16\n",
      "IN GENERATION # 2\n",
      "TRAIN: [ 88950  88951  88952 ... 266845 266846 266847] TEST:  [    0     1     2 ... 88947 88948 88949]\n",
      "TRAIN: [     0      1      2 ... 266845 266846 266847] TEST:  [ 88950  88951  88952 ... 177896 177897 177898]\n",
      "TRAIN: [     0      1      2 ... 177896 177897 177898] TEST:  [177899 177900 177901 ... 266845 266846 266847]\n",
      "TRAIN: [ 88950  88951  88952 ... 266845 266846 266847] TEST:  [    0     1     2 ... 88947 88948 88949]\n",
      "TRAIN: [     0      1      2 ... 266845 266846 266847] TEST:  [ 88950  88951  88952 ... 177896 177897 177898]\n",
      "TRAIN: [     0      1      2 ... 177896 177897 177898] TEST:  [177899 177900 177901 ... 266845 266846 266847]\n",
      "TRAIN: [ 88950  88951  88952 ... 266845 266846 266847] TEST:  [    0     1     2 ... 88947 88948 88949]\n",
      "TRAIN: [     0      1      2 ... 266845 266846 266847] TEST:  [ 88950  88951  88952 ... 177896 177897 177898]\n",
      "TRAIN: [     0      1      2 ... 177896 177897 177898] TEST:  [177899 177900 177901 ... 266845 266846 266847]\n",
      "Created chromosome #  17\n",
      "IN GENERATION # 2\n",
      "TRAIN: [ 88950  88951  88952 ... 266845 266846 266847] TEST:  [    0     1     2 ... 88947 88948 88949]\n",
      "TRAIN: [     0      1      2 ... 266845 266846 266847] TEST:  [ 88950  88951  88952 ... 177896 177897 177898]\n",
      "TRAIN: [     0      1      2 ... 177896 177897 177898] TEST:  [177899 177900 177901 ... 266845 266846 266847]\n",
      "TRAIN: [ 88950  88951  88952 ... 266845 266846 266847] TEST:  [    0     1     2 ... 88947 88948 88949]\n",
      "TRAIN: [     0      1      2 ... 266845 266846 266847] TEST:  [ 88950  88951  88952 ... 177896 177897 177898]\n",
      "TRAIN: [     0      1      2 ... 177896 177897 177898] TEST:  [177899 177900 177901 ... 266845 266846 266847]\n",
      "TRAIN: [ 88950  88951  88952 ... 266845 266846 266847] TEST:  [    0     1     2 ... 88947 88948 88949]\n",
      "TRAIN: [     0      1      2 ... 266845 266846 266847] TEST:  [ 88950  88951  88952 ... 177896 177897 177898]\n",
      "TRAIN: [     0      1      2 ... 177896 177897 177898] TEST:  [177899 177900 177901 ... 266845 266846 266847]\n",
      "Created chromosome #  18\n",
      "IN GENERATION # 2\n",
      "TRAIN: [ 88950  88951  88952 ... 266845 266846 266847] TEST:  [    0     1     2 ... 88947 88948 88949]\n",
      "TRAIN: [     0      1      2 ... 266845 266846 266847] TEST:  [ 88950  88951  88952 ... 177896 177897 177898]\n",
      "TRAIN: [     0      1      2 ... 177896 177897 177898] TEST:  [177899 177900 177901 ... 266845 266846 266847]\n",
      "TRAIN: [ 88950  88951  88952 ... 266845 266846 266847] TEST:  [    0     1     2 ... 88947 88948 88949]\n",
      "TRAIN: [     0      1      2 ... 266845 266846 266847] TEST:  [ 88950  88951  88952 ... 177896 177897 177898]\n",
      "TRAIN: [     0      1      2 ... 177896 177897 177898] TEST:  [177899 177900 177901 ... 266845 266846 266847]\n",
      "TRAIN: [ 88950  88951  88952 ... 266845 266846 266847] TEST:  [    0     1     2 ... 88947 88948 88949]\n",
      "TRAIN: [     0      1      2 ... 266845 266846 266847] TEST:  [ 88950  88951  88952 ... 177896 177897 177898]\n",
      "TRAIN: [     0      1      2 ... 177896 177897 177898] TEST:  [177899 177900 177901 ... 266845 266846 266847]\n",
      "Created chromosome #  19\n",
      "IN GENERATION # 2\n",
      "TRAIN: [ 88950  88951  88952 ... 266845 266846 266847] TEST:  [    0     1     2 ... 88947 88948 88949]\n",
      "TRAIN: [     0      1      2 ... 266845 266846 266847] TEST:  [ 88950  88951  88952 ... 177896 177897 177898]\n",
      "TRAIN: [     0      1      2 ... 177896 177897 177898] TEST:  [177899 177900 177901 ... 266845 266846 266847]\n",
      "TRAIN: [ 88950  88951  88952 ... 266845 266846 266847] TEST:  [    0     1     2 ... 88947 88948 88949]\n",
      "TRAIN: [     0      1      2 ... 266845 266846 266847] TEST:  [ 88950  88951  88952 ... 177896 177897 177898]\n",
      "TRAIN: [     0      1      2 ... 177896 177897 177898] TEST:  [177899 177900 177901 ... 266845 266846 266847]\n",
      "TRAIN: [ 88950  88951  88952 ... 266845 266846 266847] TEST:  [    0     1     2 ... 88947 88948 88949]\n",
      "TRAIN: [     0      1      2 ... 266845 266846 266847] TEST:  [ 88950  88951  88952 ... 177896 177897 177898]\n",
      "TRAIN: [     0      1      2 ... 177896 177897 177898] TEST:  [177899 177900 177901 ... 266845 266846 266847]\n",
      "Created chromosome #  20\n",
      "IN GENERATION # 2\n",
      "TRAIN: [ 88950  88951  88952 ... 266845 266846 266847] TEST:  [    0     1     2 ... 88947 88948 88949]\n",
      "TRAIN: [     0      1      2 ... 266845 266846 266847] TEST:  [ 88950  88951  88952 ... 177896 177897 177898]\n",
      "TRAIN: [     0      1      2 ... 177896 177897 177898] TEST:  [177899 177900 177901 ... 266845 266846 266847]\n",
      "TRAIN: [ 88950  88951  88952 ... 266845 266846 266847] TEST:  [    0     1     2 ... 88947 88948 88949]\n",
      "TRAIN: [     0      1      2 ... 266845 266846 266847] TEST:  [ 88950  88951  88952 ... 177896 177897 177898]\n",
      "TRAIN: [     0      1      2 ... 177896 177897 177898] TEST:  [177899 177900 177901 ... 266845 266846 266847]\n",
      "TRAIN: [ 88950  88951  88952 ... 266845 266846 266847] TEST:  [    0     1     2 ... 88947 88948 88949]\n",
      "TRAIN: [     0      1      2 ... 266845 266846 266847] TEST:  [ 88950  88951  88952 ... 177896 177897 177898]\n",
      "TRAIN: [     0      1      2 ... 177896 177897 177898] TEST:  [177899 177900 177901 ... 266845 266846 266847]\n",
      "Created chromosome #  21\n",
      "IN GENERATION # 2\n",
      "TRAIN: [ 88950  88951  88952 ... 266845 266846 266847] TEST:  [    0     1     2 ... 88947 88948 88949]\n",
      "TRAIN: [     0      1      2 ... 266845 266846 266847] TEST:  [ 88950  88951  88952 ... 177896 177897 177898]\n",
      "TRAIN: [     0      1      2 ... 177896 177897 177898] TEST:  [177899 177900 177901 ... 266845 266846 266847]\n",
      "TRAIN: [ 88950  88951  88952 ... 266845 266846 266847] TEST:  [    0     1     2 ... 88947 88948 88949]\n",
      "TRAIN: [     0      1      2 ... 266845 266846 266847] TEST:  [ 88950  88951  88952 ... 177896 177897 177898]\n",
      "TRAIN: [     0      1      2 ... 177896 177897 177898] TEST:  [177899 177900 177901 ... 266845 266846 266847]\n",
      "TRAIN: [ 88950  88951  88952 ... 266845 266846 266847] TEST:  [    0     1     2 ... 88947 88948 88949]\n",
      "TRAIN: [     0      1      2 ... 266845 266846 266847] TEST:  [ 88950  88951  88952 ... 177896 177897 177898]\n",
      "TRAIN: [     0      1      2 ... 177896 177897 177898] TEST:  [177899 177900 177901 ... 266845 266846 266847]\n",
      "Created chromosome #  22\n",
      "IN GENERATION # 2\n",
      "TRAIN: [ 88950  88951  88952 ... 266845 266846 266847] TEST:  [    0     1     2 ... 88947 88948 88949]\n",
      "TRAIN: [     0      1      2 ... 266845 266846 266847] TEST:  [ 88950  88951  88952 ... 177896 177897 177898]\n",
      "TRAIN: [     0      1      2 ... 177896 177897 177898] TEST:  [177899 177900 177901 ... 266845 266846 266847]\n",
      "TRAIN: [ 88950  88951  88952 ... 266845 266846 266847] TEST:  [    0     1     2 ... 88947 88948 88949]\n",
      "TRAIN: [     0      1      2 ... 266845 266846 266847] TEST:  [ 88950  88951  88952 ... 177896 177897 177898]\n",
      "TRAIN: [     0      1      2 ... 177896 177897 177898] TEST:  [177899 177900 177901 ... 266845 266846 266847]\n",
      "TRAIN: [ 88950  88951  88952 ... 266845 266846 266847] TEST:  [    0     1     2 ... 88947 88948 88949]\n",
      "TRAIN: [     0      1      2 ... 266845 266846 266847] TEST:  [ 88950  88951  88952 ... 177896 177897 177898]\n",
      "TRAIN: [     0      1      2 ... 177896 177897 177898] TEST:  [177899 177900 177901 ... 266845 266846 266847]\n",
      "Created chromosome #  23\n",
      "IN GENERATION # 2\n",
      "TRAIN: [ 88950  88951  88952 ... 266845 266846 266847] TEST:  [    0     1     2 ... 88947 88948 88949]\n",
      "TRAIN: [     0      1      2 ... 266845 266846 266847] TEST:  [ 88950  88951  88952 ... 177896 177897 177898]\n",
      "TRAIN: [     0      1      2 ... 177896 177897 177898] TEST:  [177899 177900 177901 ... 266845 266846 266847]\n",
      "TRAIN: [ 88950  88951  88952 ... 266845 266846 266847] TEST:  [    0     1     2 ... 88947 88948 88949]\n",
      "TRAIN: [     0      1      2 ... 266845 266846 266847] TEST:  [ 88950  88951  88952 ... 177896 177897 177898]\n",
      "TRAIN: [     0      1      2 ... 177896 177897 177898] TEST:  [177899 177900 177901 ... 266845 266846 266847]\n",
      "TRAIN: [ 88950  88951  88952 ... 266845 266846 266847] TEST:  [    0     1     2 ... 88947 88948 88949]\n",
      "TRAIN: [     0      1      2 ... 266845 266846 266847] TEST:  [ 88950  88951  88952 ... 177896 177897 177898]\n",
      "TRAIN: [     0      1      2 ... 177896 177897 177898] TEST:  [177899 177900 177901 ... 266845 266846 266847]\n",
      "Created chromosome #  24\n",
      "IN GENERATION # 2\n",
      "TRAIN: [ 88950  88951  88952 ... 266845 266846 266847] TEST:  [    0     1     2 ... 88947 88948 88949]\n"
     ]
    },
    {
     "name": "stdout",
     "output_type": "stream",
     "text": [
      "TRAIN: [     0      1      2 ... 266845 266846 266847] TEST:  [ 88950  88951  88952 ... 177896 177897 177898]\n",
      "TRAIN: [     0      1      2 ... 177896 177897 177898] TEST:  [177899 177900 177901 ... 266845 266846 266847]\n",
      "TRAIN: [ 88950  88951  88952 ... 266845 266846 266847] TEST:  [    0     1     2 ... 88947 88948 88949]\n",
      "TRAIN: [     0      1      2 ... 266845 266846 266847] TEST:  [ 88950  88951  88952 ... 177896 177897 177898]\n",
      "TRAIN: [     0      1      2 ... 177896 177897 177898] TEST:  [177899 177900 177901 ... 266845 266846 266847]\n",
      "TRAIN: [ 88950  88951  88952 ... 266845 266846 266847] TEST:  [    0     1     2 ... 88947 88948 88949]\n",
      "TRAIN: [     0      1      2 ... 266845 266846 266847] TEST:  [ 88950  88951  88952 ... 177896 177897 177898]\n",
      "TRAIN: [     0      1      2 ... 177896 177897 177898] TEST:  [177899 177900 177901 ... 266845 266846 266847]\n",
      "Created chromosome #  25\n",
      "IN GENERATION # 2\n",
      "TRAIN: [ 88950  88951  88952 ... 266845 266846 266847] TEST:  [    0     1     2 ... 88947 88948 88949]\n",
      "TRAIN: [     0      1      2 ... 266845 266846 266847] TEST:  [ 88950  88951  88952 ... 177896 177897 177898]\n",
      "TRAIN: [     0      1      2 ... 177896 177897 177898] TEST:  [177899 177900 177901 ... 266845 266846 266847]\n",
      "TRAIN: [ 88950  88951  88952 ... 266845 266846 266847] TEST:  [    0     1     2 ... 88947 88948 88949]\n",
      "TRAIN: [     0      1      2 ... 266845 266846 266847] TEST:  [ 88950  88951  88952 ... 177896 177897 177898]\n",
      "TRAIN: [     0      1      2 ... 177896 177897 177898] TEST:  [177899 177900 177901 ... 266845 266846 266847]\n",
      "TRAIN: [ 88950  88951  88952 ... 266845 266846 266847] TEST:  [    0     1     2 ... 88947 88948 88949]\n",
      "TRAIN: [     0      1      2 ... 266845 266846 266847] TEST:  [ 88950  88951  88952 ... 177896 177897 177898]\n",
      "TRAIN: [     0      1      2 ... 177896 177897 177898] TEST:  [177899 177900 177901 ... 266845 266846 266847]\n",
      "Created chromosome #  26\n",
      "IN GENERATION # 2\n",
      "TRAIN: [ 88950  88951  88952 ... 266845 266846 266847] TEST:  [    0     1     2 ... 88947 88948 88949]\n",
      "TRAIN: [     0      1      2 ... 266845 266846 266847] TEST:  [ 88950  88951  88952 ... 177896 177897 177898]\n",
      "TRAIN: [     0      1      2 ... 177896 177897 177898] TEST:  [177899 177900 177901 ... 266845 266846 266847]\n",
      "TRAIN: [ 88950  88951  88952 ... 266845 266846 266847] TEST:  [    0     1     2 ... 88947 88948 88949]\n",
      "TRAIN: [     0      1      2 ... 266845 266846 266847] TEST:  [ 88950  88951  88952 ... 177896 177897 177898]\n",
      "TRAIN: [     0      1      2 ... 177896 177897 177898] TEST:  [177899 177900 177901 ... 266845 266846 266847]\n",
      "TRAIN: [ 88950  88951  88952 ... 266845 266846 266847] TEST:  [    0     1     2 ... 88947 88948 88949]\n",
      "TRAIN: [     0      1      2 ... 266845 266846 266847] TEST:  [ 88950  88951  88952 ... 177896 177897 177898]\n",
      "TRAIN: [     0      1      2 ... 177896 177897 177898] TEST:  [177899 177900 177901 ... 266845 266846 266847]\n",
      "Created chromosome #  27\n",
      "IN GENERATION # 2\n",
      "TRAIN: [ 88950  88951  88952 ... 266845 266846 266847] TEST:  [    0     1     2 ... 88947 88948 88949]\n",
      "TRAIN: [     0      1      2 ... 266845 266846 266847] TEST:  [ 88950  88951  88952 ... 177896 177897 177898]\n",
      "TRAIN: [     0      1      2 ... 177896 177897 177898] TEST:  [177899 177900 177901 ... 266845 266846 266847]\n",
      "TRAIN: [ 88950  88951  88952 ... 266845 266846 266847] TEST:  [    0     1     2 ... 88947 88948 88949]\n",
      "TRAIN: [     0      1      2 ... 266845 266846 266847] TEST:  [ 88950  88951  88952 ... 177896 177897 177898]\n",
      "TRAIN: [     0      1      2 ... 177896 177897 177898] TEST:  [177899 177900 177901 ... 266845 266846 266847]\n",
      "TRAIN: [ 88950  88951  88952 ... 266845 266846 266847] TEST:  [    0     1     2 ... 88947 88948 88949]\n",
      "TRAIN: [     0      1      2 ... 266845 266846 266847] TEST:  [ 88950  88951  88952 ... 177896 177897 177898]\n",
      "TRAIN: [     0      1      2 ... 177896 177897 177898] TEST:  [177899 177900 177901 ... 266845 266846 266847]\n",
      "Created chromosome #  28\n",
      "IN GENERATION # 2\n",
      "TRAIN: [ 88950  88951  88952 ... 266845 266846 266847] TEST:  [    0     1     2 ... 88947 88948 88949]\n",
      "TRAIN: [     0      1      2 ... 266845 266846 266847] TEST:  [ 88950  88951  88952 ... 177896 177897 177898]\n",
      "TRAIN: [     0      1      2 ... 177896 177897 177898] TEST:  [177899 177900 177901 ... 266845 266846 266847]\n",
      "TRAIN: [ 88950  88951  88952 ... 266845 266846 266847] TEST:  [    0     1     2 ... 88947 88948 88949]\n",
      "TRAIN: [     0      1      2 ... 266845 266846 266847] TEST:  [ 88950  88951  88952 ... 177896 177897 177898]\n",
      "TRAIN: [     0      1      2 ... 177896 177897 177898] TEST:  [177899 177900 177901 ... 266845 266846 266847]\n",
      "TRAIN: [ 88950  88951  88952 ... 266845 266846 266847] TEST:  [    0     1     2 ... 88947 88948 88949]\n",
      "TRAIN: [     0      1      2 ... 266845 266846 266847] TEST:  [ 88950  88951  88952 ... 177896 177897 177898]\n",
      "TRAIN: [     0      1      2 ... 177896 177897 177898] TEST:  [177899 177900 177901 ... 266845 266846 266847]\n",
      "Created chromosome #  29\n",
      "IN GENERATION # 2\n",
      "TRAIN: [ 88950  88951  88952 ... 266845 266846 266847] TEST:  [    0     1     2 ... 88947 88948 88949]\n",
      "TRAIN: [     0      1      2 ... 266845 266846 266847] TEST:  [ 88950  88951  88952 ... 177896 177897 177898]\n",
      "TRAIN: [     0      1      2 ... 177896 177897 177898] TEST:  [177899 177900 177901 ... 266845 266846 266847]\n",
      "TRAIN: [ 88950  88951  88952 ... 266845 266846 266847] TEST:  [    0     1     2 ... 88947 88948 88949]\n",
      "TRAIN: [     0      1      2 ... 266845 266846 266847] TEST:  [ 88950  88951  88952 ... 177896 177897 177898]\n",
      "TRAIN: [     0      1      2 ... 177896 177897 177898] TEST:  [177899 177900 177901 ... 266845 266846 266847]\n",
      "TRAIN: [ 88950  88951  88952 ... 266845 266846 266847] TEST:  [    0     1     2 ... 88947 88948 88949]\n",
      "TRAIN: [     0      1      2 ... 266845 266846 266847] TEST:  [ 88950  88951  88952 ... 177896 177897 177898]\n",
      "TRAIN: [     0      1      2 ... 177896 177897 177898] TEST:  [177899 177900 177901 ... 266845 266846 266847]\n",
      "Created chromosome #  30\n",
      "IN GENERATION # 2\n",
      "TRAIN: [ 88950  88951  88952 ... 266845 266846 266847] TEST:  [    0     1     2 ... 88947 88948 88949]\n",
      "TRAIN: [     0      1      2 ... 266845 266846 266847] TEST:  [ 88950  88951  88952 ... 177896 177897 177898]\n",
      "TRAIN: [     0      1      2 ... 177896 177897 177898] TEST:  [177899 177900 177901 ... 266845 266846 266847]\n",
      "TRAIN: [ 88950  88951  88952 ... 266845 266846 266847] TEST:  [    0     1     2 ... 88947 88948 88949]\n",
      "TRAIN: [     0      1      2 ... 266845 266846 266847] TEST:  [ 88950  88951  88952 ... 177896 177897 177898]\n",
      "TRAIN: [     0      1      2 ... 177896 177897 177898] TEST:  [177899 177900 177901 ... 266845 266846 266847]\n",
      "TRAIN: [ 88950  88951  88952 ... 266845 266846 266847] TEST:  [    0     1     2 ... 88947 88948 88949]\n",
      "TRAIN: [     0      1      2 ... 266845 266846 266847] TEST:  [ 88950  88951  88952 ... 177896 177897 177898]\n",
      "TRAIN: [     0      1      2 ... 177896 177897 177898] TEST:  [177899 177900 177901 ... 266845 266846 266847]\n",
      "STARTING GENERATION # 3\n"
     ]
    },
    {
     "name": "stderr",
     "output_type": "stream",
     "text": [
      "\r",
      " 20%|██        | 2/10 [21:14<1:24:57, 637.23s/it]"
     ]
    },
    {
     "name": "stdout",
     "output_type": "stream",
     "text": [
      "GENERATION #  3\n",
      "Created chromosome #  31\n",
      "IN GENERATION # 3\n",
      "TRAIN: [ 88950  88951  88952 ... 266845 266846 266847] TEST:  [    0     1     2 ... 88947 88948 88949]\n",
      "TRAIN: [     0      1      2 ... 266845 266846 266847] TEST:  [ 88950  88951  88952 ... 177896 177897 177898]\n",
      "TRAIN: [     0      1      2 ... 177896 177897 177898] TEST:  [177899 177900 177901 ... 266845 266846 266847]\n",
      "TRAIN: [ 88950  88951  88952 ... 266845 266846 266847] TEST:  [    0     1     2 ... 88947 88948 88949]\n",
      "TRAIN: [     0      1      2 ... 266845 266846 266847] TEST:  [ 88950  88951  88952 ... 177896 177897 177898]\n",
      "TRAIN: [     0      1      2 ... 177896 177897 177898] TEST:  [177899 177900 177901 ... 266845 266846 266847]\n",
      "TRAIN: [ 88950  88951  88952 ... 266845 266846 266847] TEST:  [    0     1     2 ... 88947 88948 88949]\n",
      "TRAIN: [     0      1      2 ... 266845 266846 266847] TEST:  [ 88950  88951  88952 ... 177896 177897 177898]\n",
      "TRAIN: [     0      1      2 ... 177896 177897 177898] TEST:  [177899 177900 177901 ... 266845 266846 266847]\n",
      "Created chromosome #  32\n",
      "IN GENERATION # 3\n",
      "TRAIN: [ 88950  88951  88952 ... 266845 266846 266847] TEST:  [    0     1     2 ... 88947 88948 88949]\n",
      "TRAIN: [     0      1      2 ... 266845 266846 266847] TEST:  [ 88950  88951  88952 ... 177896 177897 177898]\n",
      "TRAIN: [     0      1      2 ... 177896 177897 177898] TEST:  [177899 177900 177901 ... 266845 266846 266847]\n",
      "TRAIN: [ 88950  88951  88952 ... 266845 266846 266847] TEST:  [    0     1     2 ... 88947 88948 88949]\n",
      "TRAIN: [     0      1      2 ... 266845 266846 266847] TEST:  [ 88950  88951  88952 ... 177896 177897 177898]\n",
      "TRAIN: [     0      1      2 ... 177896 177897 177898] TEST:  [177899 177900 177901 ... 266845 266846 266847]\n",
      "TRAIN: [ 88950  88951  88952 ... 266845 266846 266847] TEST:  [    0     1     2 ... 88947 88948 88949]\n",
      "TRAIN: [     0      1      2 ... 266845 266846 266847] TEST:  [ 88950  88951  88952 ... 177896 177897 177898]\n",
      "TRAIN: [     0      1      2 ... 177896 177897 177898] TEST:  [177899 177900 177901 ... 266845 266846 266847]\n",
      "Created chromosome #  33\n",
      "IN GENERATION # 3\n",
      "TRAIN: [ 88950  88951  88952 ... 266845 266846 266847] TEST:  [    0     1     2 ... 88947 88948 88949]\n",
      "TRAIN: [     0      1      2 ... 266845 266846 266847] TEST:  [ 88950  88951  88952 ... 177896 177897 177898]\n",
      "TRAIN: [     0      1      2 ... 177896 177897 177898] TEST:  [177899 177900 177901 ... 266845 266846 266847]\n",
      "TRAIN: [ 88950  88951  88952 ... 266845 266846 266847] TEST:  [    0     1     2 ... 88947 88948 88949]\n",
      "TRAIN: [     0      1      2 ... 266845 266846 266847] TEST:  [ 88950  88951  88952 ... 177896 177897 177898]\n",
      "TRAIN: [     0      1      2 ... 177896 177897 177898] TEST:  [177899 177900 177901 ... 266845 266846 266847]\n",
      "TRAIN: [ 88950  88951  88952 ... 266845 266846 266847] TEST:  [    0     1     2 ... 88947 88948 88949]\n",
      "TRAIN: [     0      1      2 ... 266845 266846 266847] TEST:  [ 88950  88951  88952 ... 177896 177897 177898]\n",
      "TRAIN: [     0      1      2 ... 177896 177897 177898] TEST:  [177899 177900 177901 ... 266845 266846 266847]\n",
      "Created chromosome #  34\n",
      "IN GENERATION # 3\n",
      "TRAIN: [ 88950  88951  88952 ... 266845 266846 266847] TEST:  [    0     1     2 ... 88947 88948 88949]\n",
      "TRAIN: [     0      1      2 ... 266845 266846 266847] TEST:  [ 88950  88951  88952 ... 177896 177897 177898]\n",
      "TRAIN: [     0      1      2 ... 177896 177897 177898] TEST:  [177899 177900 177901 ... 266845 266846 266847]\n",
      "TRAIN: [ 88950  88951  88952 ... 266845 266846 266847] TEST:  [    0     1     2 ... 88947 88948 88949]\n",
      "TRAIN: [     0      1      2 ... 266845 266846 266847] TEST:  [ 88950  88951  88952 ... 177896 177897 177898]\n",
      "TRAIN: [     0      1      2 ... 177896 177897 177898] TEST:  [177899 177900 177901 ... 266845 266846 266847]\n",
      "TRAIN: [ 88950  88951  88952 ... 266845 266846 266847] TEST:  [    0     1     2 ... 88947 88948 88949]\n",
      "TRAIN: [     0      1      2 ... 266845 266846 266847] TEST:  [ 88950  88951  88952 ... 177896 177897 177898]\n",
      "TRAIN: [     0      1      2 ... 177896 177897 177898] TEST:  [177899 177900 177901 ... 266845 266846 266847]\n",
      "Created chromosome #  35\n",
      "IN GENERATION # 3\n",
      "TRAIN: [ 88950  88951  88952 ... 266845 266846 266847] TEST:  [    0     1     2 ... 88947 88948 88949]\n",
      "TRAIN: [     0      1      2 ... 266845 266846 266847] TEST:  [ 88950  88951  88952 ... 177896 177897 177898]\n",
      "TRAIN: [     0      1      2 ... 177896 177897 177898] TEST:  [177899 177900 177901 ... 266845 266846 266847]\n",
      "TRAIN: [ 88950  88951  88952 ... 266845 266846 266847] TEST:  [    0     1     2 ... 88947 88948 88949]\n",
      "TRAIN: [     0      1      2 ... 266845 266846 266847] TEST:  [ 88950  88951  88952 ... 177896 177897 177898]\n",
      "TRAIN: [     0      1      2 ... 177896 177897 177898] TEST:  [177899 177900 177901 ... 266845 266846 266847]\n",
      "TRAIN: [ 88950  88951  88952 ... 266845 266846 266847] TEST:  [    0     1     2 ... 88947 88948 88949]\n",
      "TRAIN: [     0      1      2 ... 266845 266846 266847] TEST:  [ 88950  88951  88952 ... 177896 177897 177898]\n",
      "TRAIN: [     0      1      2 ... 177896 177897 177898] TEST:  [177899 177900 177901 ... 266845 266846 266847]\n",
      "Created chromosome #  36\n",
      "IN GENERATION # 3\n",
      "TRAIN: [ 88950  88951  88952 ... 266845 266846 266847] TEST:  [    0     1     2 ... 88947 88948 88949]\n",
      "TRAIN: [     0      1      2 ... 266845 266846 266847] TEST:  [ 88950  88951  88952 ... 177896 177897 177898]\n",
      "TRAIN: [     0      1      2 ... 177896 177897 177898] TEST:  [177899 177900 177901 ... 266845 266846 266847]\n",
      "TRAIN: [ 88950  88951  88952 ... 266845 266846 266847] TEST:  [    0     1     2 ... 88947 88948 88949]\n",
      "TRAIN: [     0      1      2 ... 266845 266846 266847] TEST:  [ 88950  88951  88952 ... 177896 177897 177898]\n",
      "TRAIN: [     0      1      2 ... 177896 177897 177898] TEST:  [177899 177900 177901 ... 266845 266846 266847]\n",
      "TRAIN: [ 88950  88951  88952 ... 266845 266846 266847] TEST:  [    0     1     2 ... 88947 88948 88949]\n",
      "TRAIN: [     0      1      2 ... 266845 266846 266847] TEST:  [ 88950  88951  88952 ... 177896 177897 177898]\n",
      "TRAIN: [     0      1      2 ... 177896 177897 177898] TEST:  [177899 177900 177901 ... 266845 266846 266847]\n",
      "Created chromosome #  37\n",
      "IN GENERATION # 3\n",
      "TRAIN: [ 88950  88951  88952 ... 266845 266846 266847] TEST:  [    0     1     2 ... 88947 88948 88949]\n",
      "TRAIN: [     0      1      2 ... 266845 266846 266847] TEST:  [ 88950  88951  88952 ... 177896 177897 177898]\n",
      "TRAIN: [     0      1      2 ... 177896 177897 177898] TEST:  [177899 177900 177901 ... 266845 266846 266847]\n",
      "TRAIN: [ 88950  88951  88952 ... 266845 266846 266847] TEST:  [    0     1     2 ... 88947 88948 88949]\n",
      "TRAIN: [     0      1      2 ... 266845 266846 266847] TEST:  [ 88950  88951  88952 ... 177896 177897 177898]\n",
      "TRAIN: [     0      1      2 ... 177896 177897 177898] TEST:  [177899 177900 177901 ... 266845 266846 266847]\n",
      "TRAIN: [ 88950  88951  88952 ... 266845 266846 266847] TEST:  [    0     1     2 ... 88947 88948 88949]\n",
      "TRAIN: [     0      1      2 ... 266845 266846 266847] TEST:  [ 88950  88951  88952 ... 177896 177897 177898]\n",
      "TRAIN: [     0      1      2 ... 177896 177897 177898] TEST:  [177899 177900 177901 ... 266845 266846 266847]\n",
      "Created chromosome #  38\n",
      "IN GENERATION # 3\n",
      "TRAIN: [ 88950  88951  88952 ... 266845 266846 266847] TEST:  [    0     1     2 ... 88947 88948 88949]\n",
      "TRAIN: [     0      1      2 ... 266845 266846 266847] TEST:  [ 88950  88951  88952 ... 177896 177897 177898]\n",
      "TRAIN: [     0      1      2 ... 177896 177897 177898] TEST:  [177899 177900 177901 ... 266845 266846 266847]\n",
      "TRAIN: [ 88950  88951  88952 ... 266845 266846 266847] TEST:  [    0     1     2 ... 88947 88948 88949]\n",
      "TRAIN: [     0      1      2 ... 266845 266846 266847] TEST:  [ 88950  88951  88952 ... 177896 177897 177898]\n",
      "TRAIN: [     0      1      2 ... 177896 177897 177898] TEST:  [177899 177900 177901 ... 266845 266846 266847]\n",
      "TRAIN: [ 88950  88951  88952 ... 266845 266846 266847] TEST:  [    0     1     2 ... 88947 88948 88949]\n",
      "TRAIN: [     0      1      2 ... 266845 266846 266847] TEST:  [ 88950  88951  88952 ... 177896 177897 177898]\n",
      "TRAIN: [     0      1      2 ... 177896 177897 177898] TEST:  [177899 177900 177901 ... 266845 266846 266847]\n",
      "Created chromosome #  39\n",
      "IN GENERATION # 3\n",
      "TRAIN: [ 88950  88951  88952 ... 266845 266846 266847] TEST:  [    0     1     2 ... 88947 88948 88949]\n"
     ]
    },
    {
     "name": "stdout",
     "output_type": "stream",
     "text": [
      "TRAIN: [     0      1      2 ... 266845 266846 266847] TEST:  [ 88950  88951  88952 ... 177896 177897 177898]\n",
      "TRAIN: [     0      1      2 ... 177896 177897 177898] TEST:  [177899 177900 177901 ... 266845 266846 266847]\n",
      "TRAIN: [ 88950  88951  88952 ... 266845 266846 266847] TEST:  [    0     1     2 ... 88947 88948 88949]\n",
      "TRAIN: [     0      1      2 ... 266845 266846 266847] TEST:  [ 88950  88951  88952 ... 177896 177897 177898]\n",
      "TRAIN: [     0      1      2 ... 177896 177897 177898] TEST:  [177899 177900 177901 ... 266845 266846 266847]\n",
      "TRAIN: [ 88950  88951  88952 ... 266845 266846 266847] TEST:  [    0     1     2 ... 88947 88948 88949]\n",
      "TRAIN: [     0      1      2 ... 266845 266846 266847] TEST:  [ 88950  88951  88952 ... 177896 177897 177898]\n",
      "TRAIN: [     0      1      2 ... 177896 177897 177898] TEST:  [177899 177900 177901 ... 266845 266846 266847]\n",
      "Created chromosome #  40\n",
      "IN GENERATION # 3\n",
      "TRAIN: [ 88950  88951  88952 ... 266845 266846 266847] TEST:  [    0     1     2 ... 88947 88948 88949]\n",
      "TRAIN: [     0      1      2 ... 266845 266846 266847] TEST:  [ 88950  88951  88952 ... 177896 177897 177898]\n",
      "TRAIN: [     0      1      2 ... 177896 177897 177898] TEST:  [177899 177900 177901 ... 266845 266846 266847]\n",
      "TRAIN: [ 88950  88951  88952 ... 266845 266846 266847] TEST:  [    0     1     2 ... 88947 88948 88949]\n",
      "TRAIN: [     0      1      2 ... 266845 266846 266847] TEST:  [ 88950  88951  88952 ... 177896 177897 177898]\n",
      "TRAIN: [     0      1      2 ... 177896 177897 177898] TEST:  [177899 177900 177901 ... 266845 266846 266847]\n",
      "TRAIN: [ 88950  88951  88952 ... 266845 266846 266847] TEST:  [    0     1     2 ... 88947 88948 88949]\n",
      "TRAIN: [     0      1      2 ... 266845 266846 266847] TEST:  [ 88950  88951  88952 ... 177896 177897 177898]\n",
      "TRAIN: [     0      1      2 ... 177896 177897 177898] TEST:  [177899 177900 177901 ... 266845 266846 266847]\n",
      "Created chromosome #  41\n",
      "IN GENERATION # 3\n",
      "TRAIN: [ 88950  88951  88952 ... 266845 266846 266847] TEST:  [    0     1     2 ... 88947 88948 88949]\n",
      "TRAIN: [     0      1      2 ... 266845 266846 266847] TEST:  [ 88950  88951  88952 ... 177896 177897 177898]\n",
      "TRAIN: [     0      1      2 ... 177896 177897 177898] TEST:  [177899 177900 177901 ... 266845 266846 266847]\n",
      "TRAIN: [ 88950  88951  88952 ... 266845 266846 266847] TEST:  [    0     1     2 ... 88947 88948 88949]\n",
      "TRAIN: [     0      1      2 ... 266845 266846 266847] TEST:  [ 88950  88951  88952 ... 177896 177897 177898]\n",
      "TRAIN: [     0      1      2 ... 177896 177897 177898] TEST:  [177899 177900 177901 ... 266845 266846 266847]\n",
      "TRAIN: [ 88950  88951  88952 ... 266845 266846 266847] TEST:  [    0     1     2 ... 88947 88948 88949]\n",
      "TRAIN: [     0      1      2 ... 266845 266846 266847] TEST:  [ 88950  88951  88952 ... 177896 177897 177898]\n",
      "TRAIN: [     0      1      2 ... 177896 177897 177898] TEST:  [177899 177900 177901 ... 266845 266846 266847]\n",
      "Created chromosome #  42\n",
      "IN GENERATION # 3\n",
      "TRAIN: [ 88950  88951  88952 ... 266845 266846 266847] TEST:  [    0     1     2 ... 88947 88948 88949]\n",
      "TRAIN: [     0      1      2 ... 266845 266846 266847] TEST:  [ 88950  88951  88952 ... 177896 177897 177898]\n",
      "TRAIN: [     0      1      2 ... 177896 177897 177898] TEST:  [177899 177900 177901 ... 266845 266846 266847]\n",
      "TRAIN: [ 88950  88951  88952 ... 266845 266846 266847] TEST:  [    0     1     2 ... 88947 88948 88949]\n",
      "TRAIN: [     0      1      2 ... 266845 266846 266847] TEST:  [ 88950  88951  88952 ... 177896 177897 177898]\n",
      "TRAIN: [     0      1      2 ... 177896 177897 177898] TEST:  [177899 177900 177901 ... 266845 266846 266847]\n",
      "TRAIN: [ 88950  88951  88952 ... 266845 266846 266847] TEST:  [    0     1     2 ... 88947 88948 88949]\n",
      "TRAIN: [     0      1      2 ... 266845 266846 266847] TEST:  [ 88950  88951  88952 ... 177896 177897 177898]\n",
      "TRAIN: [     0      1      2 ... 177896 177897 177898] TEST:  [177899 177900 177901 ... 266845 266846 266847]\n",
      "Created chromosome #  43\n",
      "IN GENERATION # 3\n",
      "TRAIN: [ 88950  88951  88952 ... 266845 266846 266847] TEST:  [    0     1     2 ... 88947 88948 88949]\n",
      "TRAIN: [     0      1      2 ... 266845 266846 266847] TEST:  [ 88950  88951  88952 ... 177896 177897 177898]\n",
      "TRAIN: [     0      1      2 ... 177896 177897 177898] TEST:  [177899 177900 177901 ... 266845 266846 266847]\n",
      "TRAIN: [ 88950  88951  88952 ... 266845 266846 266847] TEST:  [    0     1     2 ... 88947 88948 88949]\n",
      "TRAIN: [     0      1      2 ... 266845 266846 266847] TEST:  [ 88950  88951  88952 ... 177896 177897 177898]\n",
      "TRAIN: [     0      1      2 ... 177896 177897 177898] TEST:  [177899 177900 177901 ... 266845 266846 266847]\n",
      "TRAIN: [ 88950  88951  88952 ... 266845 266846 266847] TEST:  [    0     1     2 ... 88947 88948 88949]\n",
      "TRAIN: [     0      1      2 ... 266845 266846 266847] TEST:  [ 88950  88951  88952 ... 177896 177897 177898]\n",
      "TRAIN: [     0      1      2 ... 177896 177897 177898] TEST:  [177899 177900 177901 ... 266845 266846 266847]\n",
      "Created chromosome #  44\n",
      "IN GENERATION # 3\n",
      "TRAIN: [ 88950  88951  88952 ... 266845 266846 266847] TEST:  [    0     1     2 ... 88947 88948 88949]\n",
      "TRAIN: [     0      1      2 ... 266845 266846 266847] TEST:  [ 88950  88951  88952 ... 177896 177897 177898]\n",
      "TRAIN: [     0      1      2 ... 177896 177897 177898] TEST:  [177899 177900 177901 ... 266845 266846 266847]\n",
      "TRAIN: [ 88950  88951  88952 ... 266845 266846 266847] TEST:  [    0     1     2 ... 88947 88948 88949]\n",
      "TRAIN: [     0      1      2 ... 266845 266846 266847] TEST:  [ 88950  88951  88952 ... 177896 177897 177898]\n",
      "TRAIN: [     0      1      2 ... 177896 177897 177898] TEST:  [177899 177900 177901 ... 266845 266846 266847]\n",
      "TRAIN: [ 88950  88951  88952 ... 266845 266846 266847] TEST:  [    0     1     2 ... 88947 88948 88949]\n",
      "TRAIN: [     0      1      2 ... 266845 266846 266847] TEST:  [ 88950  88951  88952 ... 177896 177897 177898]\n",
      "TRAIN: [     0      1      2 ... 177896 177897 177898] TEST:  [177899 177900 177901 ... 266845 266846 266847]\n",
      "Created chromosome #  45\n",
      "IN GENERATION # 3\n",
      "TRAIN: [ 88950  88951  88952 ... 266845 266846 266847] TEST:  [    0     1     2 ... 88947 88948 88949]\n",
      "TRAIN: [     0      1      2 ... 266845 266846 266847] TEST:  [ 88950  88951  88952 ... 177896 177897 177898]\n",
      "TRAIN: [     0      1      2 ... 177896 177897 177898] TEST:  [177899 177900 177901 ... 266845 266846 266847]\n",
      "TRAIN: [ 88950  88951  88952 ... 266845 266846 266847] TEST:  [    0     1     2 ... 88947 88948 88949]\n",
      "TRAIN: [     0      1      2 ... 266845 266846 266847] TEST:  [ 88950  88951  88952 ... 177896 177897 177898]\n",
      "TRAIN: [     0      1      2 ... 177896 177897 177898] TEST:  [177899 177900 177901 ... 266845 266846 266847]\n",
      "TRAIN: [ 88950  88951  88952 ... 266845 266846 266847] TEST:  [    0     1     2 ... 88947 88948 88949]\n",
      "TRAIN: [     0      1      2 ... 266845 266846 266847] TEST:  [ 88950  88951  88952 ... 177896 177897 177898]\n",
      "TRAIN: [     0      1      2 ... 177896 177897 177898] TEST:  [177899 177900 177901 ... 266845 266846 266847]\n",
      "STARTING GENERATION # 4\n"
     ]
    },
    {
     "name": "stderr",
     "output_type": "stream",
     "text": [
      "\r",
      " 30%|███       | 3/10 [31:49<1:14:16, 636.61s/it]"
     ]
    },
    {
     "name": "stdout",
     "output_type": "stream",
     "text": [
      "GENERATION #  4\n",
      "Created chromosome #  46\n",
      "IN GENERATION # 4\n",
      "TRAIN: [ 88950  88951  88952 ... 266845 266846 266847] TEST:  [    0     1     2 ... 88947 88948 88949]\n",
      "TRAIN: [     0      1      2 ... 266845 266846 266847] TEST:  [ 88950  88951  88952 ... 177896 177897 177898]\n",
      "TRAIN: [     0      1      2 ... 177896 177897 177898] TEST:  [177899 177900 177901 ... 266845 266846 266847]\n",
      "TRAIN: [ 88950  88951  88952 ... 266845 266846 266847] TEST:  [    0     1     2 ... 88947 88948 88949]\n",
      "TRAIN: [     0      1      2 ... 266845 266846 266847] TEST:  [ 88950  88951  88952 ... 177896 177897 177898]\n",
      "TRAIN: [     0      1      2 ... 177896 177897 177898] TEST:  [177899 177900 177901 ... 266845 266846 266847]\n",
      "TRAIN: [ 88950  88951  88952 ... 266845 266846 266847] TEST:  [    0     1     2 ... 88947 88948 88949]\n",
      "TRAIN: [     0      1      2 ... 266845 266846 266847] TEST:  [ 88950  88951  88952 ... 177896 177897 177898]\n",
      "TRAIN: [     0      1      2 ... 177896 177897 177898] TEST:  [177899 177900 177901 ... 266845 266846 266847]\n",
      "Created chromosome #  47\n",
      "IN GENERATION # 4\n",
      "TRAIN: [ 88950  88951  88952 ... 266845 266846 266847] TEST:  [    0     1     2 ... 88947 88948 88949]\n",
      "TRAIN: [     0      1      2 ... 266845 266846 266847] TEST:  [ 88950  88951  88952 ... 177896 177897 177898]\n",
      "TRAIN: [     0      1      2 ... 177896 177897 177898] TEST:  [177899 177900 177901 ... 266845 266846 266847]\n",
      "TRAIN: [ 88950  88951  88952 ... 266845 266846 266847] TEST:  [    0     1     2 ... 88947 88948 88949]\n",
      "TRAIN: [     0      1      2 ... 266845 266846 266847] TEST:  [ 88950  88951  88952 ... 177896 177897 177898]\n",
      "TRAIN: [     0      1      2 ... 177896 177897 177898] TEST:  [177899 177900 177901 ... 266845 266846 266847]\n",
      "TRAIN: [ 88950  88951  88952 ... 266845 266846 266847] TEST:  [    0     1     2 ... 88947 88948 88949]\n",
      "TRAIN: [     0      1      2 ... 266845 266846 266847] TEST:  [ 88950  88951  88952 ... 177896 177897 177898]\n",
      "TRAIN: [     0      1      2 ... 177896 177897 177898] TEST:  [177899 177900 177901 ... 266845 266846 266847]\n",
      "Created chromosome #  48\n",
      "IN GENERATION # 4\n",
      "TRAIN: [ 88950  88951  88952 ... 266845 266846 266847] TEST:  [    0     1     2 ... 88947 88948 88949]\n",
      "TRAIN: [     0      1      2 ... 266845 266846 266847] TEST:  [ 88950  88951  88952 ... 177896 177897 177898]\n",
      "TRAIN: [     0      1      2 ... 177896 177897 177898] TEST:  [177899 177900 177901 ... 266845 266846 266847]\n",
      "TRAIN: [ 88950  88951  88952 ... 266845 266846 266847] TEST:  [    0     1     2 ... 88947 88948 88949]\n",
      "TRAIN: [     0      1      2 ... 266845 266846 266847] TEST:  [ 88950  88951  88952 ... 177896 177897 177898]\n",
      "TRAIN: [     0      1      2 ... 177896 177897 177898] TEST:  [177899 177900 177901 ... 266845 266846 266847]\n",
      "TRAIN: [ 88950  88951  88952 ... 266845 266846 266847] TEST:  [    0     1     2 ... 88947 88948 88949]\n",
      "TRAIN: [     0      1      2 ... 266845 266846 266847] TEST:  [ 88950  88951  88952 ... 177896 177897 177898]\n",
      "TRAIN: [     0      1      2 ... 177896 177897 177898] TEST:  [177899 177900 177901 ... 266845 266846 266847]\n",
      "Created chromosome #  49\n",
      "IN GENERATION # 4\n",
      "TRAIN: [ 88950  88951  88952 ... 266845 266846 266847] TEST:  [    0     1     2 ... 88947 88948 88949]\n",
      "TRAIN: [     0      1      2 ... 266845 266846 266847] TEST:  [ 88950  88951  88952 ... 177896 177897 177898]\n",
      "TRAIN: [     0      1      2 ... 177896 177897 177898] TEST:  [177899 177900 177901 ... 266845 266846 266847]\n",
      "TRAIN: [ 88950  88951  88952 ... 266845 266846 266847] TEST:  [    0     1     2 ... 88947 88948 88949]\n",
      "TRAIN: [     0      1      2 ... 266845 266846 266847] TEST:  [ 88950  88951  88952 ... 177896 177897 177898]\n",
      "TRAIN: [     0      1      2 ... 177896 177897 177898] TEST:  [177899 177900 177901 ... 266845 266846 266847]\n",
      "TRAIN: [ 88950  88951  88952 ... 266845 266846 266847] TEST:  [    0     1     2 ... 88947 88948 88949]\n",
      "TRAIN: [     0      1      2 ... 266845 266846 266847] TEST:  [ 88950  88951  88952 ... 177896 177897 177898]\n",
      "TRAIN: [     0      1      2 ... 177896 177897 177898] TEST:  [177899 177900 177901 ... 266845 266846 266847]\n",
      "Created chromosome #  50\n",
      "IN GENERATION # 4\n",
      "TRAIN: [ 88950  88951  88952 ... 266845 266846 266847] TEST:  [    0     1     2 ... 88947 88948 88949]\n",
      "TRAIN: [     0      1      2 ... 266845 266846 266847] TEST:  [ 88950  88951  88952 ... 177896 177897 177898]\n",
      "TRAIN: [     0      1      2 ... 177896 177897 177898] TEST:  [177899 177900 177901 ... 266845 266846 266847]\n",
      "TRAIN: [ 88950  88951  88952 ... 266845 266846 266847] TEST:  [    0     1     2 ... 88947 88948 88949]\n",
      "TRAIN: [     0      1      2 ... 266845 266846 266847] TEST:  [ 88950  88951  88952 ... 177896 177897 177898]\n",
      "TRAIN: [     0      1      2 ... 177896 177897 177898] TEST:  [177899 177900 177901 ... 266845 266846 266847]\n",
      "TRAIN: [ 88950  88951  88952 ... 266845 266846 266847] TEST:  [    0     1     2 ... 88947 88948 88949]\n",
      "TRAIN: [     0      1      2 ... 266845 266846 266847] TEST:  [ 88950  88951  88952 ... 177896 177897 177898]\n",
      "TRAIN: [     0      1      2 ... 177896 177897 177898] TEST:  [177899 177900 177901 ... 266845 266846 266847]\n",
      "Created chromosome #  51\n",
      "IN GENERATION # 4\n",
      "TRAIN: [ 88950  88951  88952 ... 266845 266846 266847] TEST:  [    0     1     2 ... 88947 88948 88949]\n",
      "TRAIN: [     0      1      2 ... 266845 266846 266847] TEST:  [ 88950  88951  88952 ... 177896 177897 177898]\n",
      "TRAIN: [     0      1      2 ... 177896 177897 177898] TEST:  [177899 177900 177901 ... 266845 266846 266847]\n",
      "TRAIN: [ 88950  88951  88952 ... 266845 266846 266847] TEST:  [    0     1     2 ... 88947 88948 88949]\n",
      "TRAIN: [     0      1      2 ... 266845 266846 266847] TEST:  [ 88950  88951  88952 ... 177896 177897 177898]\n",
      "TRAIN: [     0      1      2 ... 177896 177897 177898] TEST:  [177899 177900 177901 ... 266845 266846 266847]\n",
      "TRAIN: [ 88950  88951  88952 ... 266845 266846 266847] TEST:  [    0     1     2 ... 88947 88948 88949]\n",
      "TRAIN: [     0      1      2 ... 266845 266846 266847] TEST:  [ 88950  88951  88952 ... 177896 177897 177898]\n",
      "TRAIN: [     0      1      2 ... 177896 177897 177898] TEST:  [177899 177900 177901 ... 266845 266846 266847]\n",
      "Created chromosome #  52\n",
      "IN GENERATION # 4\n",
      "TRAIN: [ 88950  88951  88952 ... 266845 266846 266847] TEST:  [    0     1     2 ... 88947 88948 88949]\n",
      "TRAIN: [     0      1      2 ... 266845 266846 266847] TEST:  [ 88950  88951  88952 ... 177896 177897 177898]\n",
      "TRAIN: [     0      1      2 ... 177896 177897 177898] TEST:  [177899 177900 177901 ... 266845 266846 266847]\n",
      "TRAIN: [ 88950  88951  88952 ... 266845 266846 266847] TEST:  [    0     1     2 ... 88947 88948 88949]\n",
      "TRAIN: [     0      1      2 ... 266845 266846 266847] TEST:  [ 88950  88951  88952 ... 177896 177897 177898]\n",
      "TRAIN: [     0      1      2 ... 177896 177897 177898] TEST:  [177899 177900 177901 ... 266845 266846 266847]\n",
      "TRAIN: [ 88950  88951  88952 ... 266845 266846 266847] TEST:  [    0     1     2 ... 88947 88948 88949]\n",
      "TRAIN: [     0      1      2 ... 266845 266846 266847] TEST:  [ 88950  88951  88952 ... 177896 177897 177898]\n",
      "TRAIN: [     0      1      2 ... 177896 177897 177898] TEST:  [177899 177900 177901 ... 266845 266846 266847]\n",
      "Created chromosome #  53\n",
      "IN GENERATION # 4\n",
      "TRAIN: [ 88950  88951  88952 ... 266845 266846 266847] TEST:  [    0     1     2 ... 88947 88948 88949]\n",
      "TRAIN: [     0      1      2 ... 266845 266846 266847] TEST:  [ 88950  88951  88952 ... 177896 177897 177898]\n",
      "TRAIN: [     0      1      2 ... 177896 177897 177898] TEST:  [177899 177900 177901 ... 266845 266846 266847]\n",
      "TRAIN: [ 88950  88951  88952 ... 266845 266846 266847] TEST:  [    0     1     2 ... 88947 88948 88949]\n",
      "TRAIN: [     0      1      2 ... 266845 266846 266847] TEST:  [ 88950  88951  88952 ... 177896 177897 177898]\n",
      "TRAIN: [     0      1      2 ... 177896 177897 177898] TEST:  [177899 177900 177901 ... 266845 266846 266847]\n",
      "TRAIN: [ 88950  88951  88952 ... 266845 266846 266847] TEST:  [    0     1     2 ... 88947 88948 88949]\n",
      "TRAIN: [     0      1      2 ... 266845 266846 266847] TEST:  [ 88950  88951  88952 ... 177896 177897 177898]\n",
      "TRAIN: [     0      1      2 ... 177896 177897 177898] TEST:  [177899 177900 177901 ... 266845 266846 266847]\n",
      "Created chromosome #  54\n",
      "IN GENERATION # 4\n",
      "TRAIN: [ 88950  88951  88952 ... 266845 266846 266847] TEST:  [    0     1     2 ... 88947 88948 88949]\n"
     ]
    },
    {
     "name": "stdout",
     "output_type": "stream",
     "text": [
      "TRAIN: [     0      1      2 ... 266845 266846 266847] TEST:  [ 88950  88951  88952 ... 177896 177897 177898]\n",
      "TRAIN: [     0      1      2 ... 177896 177897 177898] TEST:  [177899 177900 177901 ... 266845 266846 266847]\n",
      "TRAIN: [ 88950  88951  88952 ... 266845 266846 266847] TEST:  [    0     1     2 ... 88947 88948 88949]\n",
      "TRAIN: [     0      1      2 ... 266845 266846 266847] TEST:  [ 88950  88951  88952 ... 177896 177897 177898]\n",
      "TRAIN: [     0      1      2 ... 177896 177897 177898] TEST:  [177899 177900 177901 ... 266845 266846 266847]\n",
      "TRAIN: [ 88950  88951  88952 ... 266845 266846 266847] TEST:  [    0     1     2 ... 88947 88948 88949]\n",
      "TRAIN: [     0      1      2 ... 266845 266846 266847] TEST:  [ 88950  88951  88952 ... 177896 177897 177898]\n",
      "TRAIN: [     0      1      2 ... 177896 177897 177898] TEST:  [177899 177900 177901 ... 266845 266846 266847]\n",
      "Created chromosome #  55\n",
      "IN GENERATION # 4\n",
      "TRAIN: [ 88950  88951  88952 ... 266845 266846 266847] TEST:  [    0     1     2 ... 88947 88948 88949]\n",
      "TRAIN: [     0      1      2 ... 266845 266846 266847] TEST:  [ 88950  88951  88952 ... 177896 177897 177898]\n",
      "TRAIN: [     0      1      2 ... 177896 177897 177898] TEST:  [177899 177900 177901 ... 266845 266846 266847]\n",
      "TRAIN: [ 88950  88951  88952 ... 266845 266846 266847] TEST:  [    0     1     2 ... 88947 88948 88949]\n",
      "TRAIN: [     0      1      2 ... 266845 266846 266847] TEST:  [ 88950  88951  88952 ... 177896 177897 177898]\n",
      "TRAIN: [     0      1      2 ... 177896 177897 177898] TEST:  [177899 177900 177901 ... 266845 266846 266847]\n",
      "TRAIN: [ 88950  88951  88952 ... 266845 266846 266847] TEST:  [    0     1     2 ... 88947 88948 88949]\n",
      "TRAIN: [     0      1      2 ... 266845 266846 266847] TEST:  [ 88950  88951  88952 ... 177896 177897 177898]\n",
      "TRAIN: [     0      1      2 ... 177896 177897 177898] TEST:  [177899 177900 177901 ... 266845 266846 266847]\n",
      "Created chromosome #  56\n",
      "IN GENERATION # 4\n",
      "TRAIN: [ 88950  88951  88952 ... 266845 266846 266847] TEST:  [    0     1     2 ... 88947 88948 88949]\n",
      "TRAIN: [     0      1      2 ... 266845 266846 266847] TEST:  [ 88950  88951  88952 ... 177896 177897 177898]\n",
      "TRAIN: [     0      1      2 ... 177896 177897 177898] TEST:  [177899 177900 177901 ... 266845 266846 266847]\n",
      "TRAIN: [ 88950  88951  88952 ... 266845 266846 266847] TEST:  [    0     1     2 ... 88947 88948 88949]\n",
      "TRAIN: [     0      1      2 ... 266845 266846 266847] TEST:  [ 88950  88951  88952 ... 177896 177897 177898]\n",
      "TRAIN: [     0      1      2 ... 177896 177897 177898] TEST:  [177899 177900 177901 ... 266845 266846 266847]\n",
      "TRAIN: [ 88950  88951  88952 ... 266845 266846 266847] TEST:  [    0     1     2 ... 88947 88948 88949]\n",
      "TRAIN: [     0      1      2 ... 266845 266846 266847] TEST:  [ 88950  88951  88952 ... 177896 177897 177898]\n",
      "TRAIN: [     0      1      2 ... 177896 177897 177898] TEST:  [177899 177900 177901 ... 266845 266846 266847]\n",
      "Created chromosome #  57\n",
      "IN GENERATION # 4\n",
      "TRAIN: [ 88950  88951  88952 ... 266845 266846 266847] TEST:  [    0     1     2 ... 88947 88948 88949]\n",
      "TRAIN: [     0      1      2 ... 266845 266846 266847] TEST:  [ 88950  88951  88952 ... 177896 177897 177898]\n",
      "TRAIN: [     0      1      2 ... 177896 177897 177898] TEST:  [177899 177900 177901 ... 266845 266846 266847]\n",
      "TRAIN: [ 88950  88951  88952 ... 266845 266846 266847] TEST:  [    0     1     2 ... 88947 88948 88949]\n",
      "TRAIN: [     0      1      2 ... 266845 266846 266847] TEST:  [ 88950  88951  88952 ... 177896 177897 177898]\n",
      "TRAIN: [     0      1      2 ... 177896 177897 177898] TEST:  [177899 177900 177901 ... 266845 266846 266847]\n",
      "TRAIN: [ 88950  88951  88952 ... 266845 266846 266847] TEST:  [    0     1     2 ... 88947 88948 88949]\n",
      "TRAIN: [     0      1      2 ... 266845 266846 266847] TEST:  [ 88950  88951  88952 ... 177896 177897 177898]\n",
      "TRAIN: [     0      1      2 ... 177896 177897 177898] TEST:  [177899 177900 177901 ... 266845 266846 266847]\n",
      "Created chromosome #  58\n",
      "IN GENERATION # 4\n",
      "TRAIN: [ 88950  88951  88952 ... 266845 266846 266847] TEST:  [    0     1     2 ... 88947 88948 88949]\n",
      "TRAIN: [     0      1      2 ... 266845 266846 266847] TEST:  [ 88950  88951  88952 ... 177896 177897 177898]\n",
      "TRAIN: [     0      1      2 ... 177896 177897 177898] TEST:  [177899 177900 177901 ... 266845 266846 266847]\n",
      "TRAIN: [ 88950  88951  88952 ... 266845 266846 266847] TEST:  [    0     1     2 ... 88947 88948 88949]\n",
      "TRAIN: [     0      1      2 ... 266845 266846 266847] TEST:  [ 88950  88951  88952 ... 177896 177897 177898]\n",
      "TRAIN: [     0      1      2 ... 177896 177897 177898] TEST:  [177899 177900 177901 ... 266845 266846 266847]\n",
      "TRAIN: [ 88950  88951  88952 ... 266845 266846 266847] TEST:  [    0     1     2 ... 88947 88948 88949]\n",
      "TRAIN: [     0      1      2 ... 266845 266846 266847] TEST:  [ 88950  88951  88952 ... 177896 177897 177898]\n",
      "TRAIN: [     0      1      2 ... 177896 177897 177898] TEST:  [177899 177900 177901 ... 266845 266846 266847]\n",
      "Created chromosome #  59\n",
      "IN GENERATION # 4\n",
      "TRAIN: [ 88950  88951  88952 ... 266845 266846 266847] TEST:  [    0     1     2 ... 88947 88948 88949]\n",
      "TRAIN: [     0      1      2 ... 266845 266846 266847] TEST:  [ 88950  88951  88952 ... 177896 177897 177898]\n",
      "TRAIN: [     0      1      2 ... 177896 177897 177898] TEST:  [177899 177900 177901 ... 266845 266846 266847]\n",
      "TRAIN: [ 88950  88951  88952 ... 266845 266846 266847] TEST:  [    0     1     2 ... 88947 88948 88949]\n",
      "TRAIN: [     0      1      2 ... 266845 266846 266847] TEST:  [ 88950  88951  88952 ... 177896 177897 177898]\n",
      "TRAIN: [     0      1      2 ... 177896 177897 177898] TEST:  [177899 177900 177901 ... 266845 266846 266847]\n",
      "TRAIN: [ 88950  88951  88952 ... 266845 266846 266847] TEST:  [    0     1     2 ... 88947 88948 88949]\n",
      "TRAIN: [     0      1      2 ... 266845 266846 266847] TEST:  [ 88950  88951  88952 ... 177896 177897 177898]\n",
      "TRAIN: [     0      1      2 ... 177896 177897 177898] TEST:  [177899 177900 177901 ... 266845 266846 266847]\n",
      "Created chromosome #  60\n",
      "IN GENERATION # 4\n",
      "TRAIN: [ 88950  88951  88952 ... 266845 266846 266847] TEST:  [    0     1     2 ... 88947 88948 88949]\n",
      "TRAIN: [     0      1      2 ... 266845 266846 266847] TEST:  [ 88950  88951  88952 ... 177896 177897 177898]\n",
      "TRAIN: [     0      1      2 ... 177896 177897 177898] TEST:  [177899 177900 177901 ... 266845 266846 266847]\n",
      "TRAIN: [ 88950  88951  88952 ... 266845 266846 266847] TEST:  [    0     1     2 ... 88947 88948 88949]\n",
      "TRAIN: [     0      1      2 ... 266845 266846 266847] TEST:  [ 88950  88951  88952 ... 177896 177897 177898]\n",
      "TRAIN: [     0      1      2 ... 177896 177897 177898] TEST:  [177899 177900 177901 ... 266845 266846 266847]\n",
      "TRAIN: [ 88950  88951  88952 ... 266845 266846 266847] TEST:  [    0     1     2 ... 88947 88948 88949]\n",
      "TRAIN: [     0      1      2 ... 266845 266846 266847] TEST:  [ 88950  88951  88952 ... 177896 177897 177898]\n",
      "TRAIN: [     0      1      2 ... 177896 177897 177898] TEST:  [177899 177900 177901 ... 266845 266846 266847]\n",
      "STARTING GENERATION # 5\n"
     ]
    },
    {
     "name": "stderr",
     "output_type": "stream",
     "text": [
      "\r",
      " 40%|████      | 4/10 [42:43<1:04:11, 641.89s/it]"
     ]
    },
    {
     "name": "stdout",
     "output_type": "stream",
     "text": [
      "GENERATION #  5\n",
      "Created chromosome #  61\n",
      "IN GENERATION # 5\n",
      "TRAIN: [ 88950  88951  88952 ... 266845 266846 266847] TEST:  [    0     1     2 ... 88947 88948 88949]\n",
      "TRAIN: [     0      1      2 ... 266845 266846 266847] TEST:  [ 88950  88951  88952 ... 177896 177897 177898]\n",
      "TRAIN: [     0      1      2 ... 177896 177897 177898] TEST:  [177899 177900 177901 ... 266845 266846 266847]\n",
      "TRAIN: [ 88950  88951  88952 ... 266845 266846 266847] TEST:  [    0     1     2 ... 88947 88948 88949]\n",
      "TRAIN: [     0      1      2 ... 266845 266846 266847] TEST:  [ 88950  88951  88952 ... 177896 177897 177898]\n",
      "TRAIN: [     0      1      2 ... 177896 177897 177898] TEST:  [177899 177900 177901 ... 266845 266846 266847]\n",
      "TRAIN: [ 88950  88951  88952 ... 266845 266846 266847] TEST:  [    0     1     2 ... 88947 88948 88949]\n",
      "TRAIN: [     0      1      2 ... 266845 266846 266847] TEST:  [ 88950  88951  88952 ... 177896 177897 177898]\n",
      "TRAIN: [     0      1      2 ... 177896 177897 177898] TEST:  [177899 177900 177901 ... 266845 266846 266847]\n",
      "Created chromosome #  62\n",
      "IN GENERATION # 5\n",
      "TRAIN: [ 88950  88951  88952 ... 266845 266846 266847] TEST:  [    0     1     2 ... 88947 88948 88949]\n",
      "TRAIN: [     0      1      2 ... 266845 266846 266847] TEST:  [ 88950  88951  88952 ... 177896 177897 177898]\n",
      "TRAIN: [     0      1      2 ... 177896 177897 177898] TEST:  [177899 177900 177901 ... 266845 266846 266847]\n",
      "TRAIN: [ 88950  88951  88952 ... 266845 266846 266847] TEST:  [    0     1     2 ... 88947 88948 88949]\n",
      "TRAIN: [     0      1      2 ... 266845 266846 266847] TEST:  [ 88950  88951  88952 ... 177896 177897 177898]\n",
      "TRAIN: [     0      1      2 ... 177896 177897 177898] TEST:  [177899 177900 177901 ... 266845 266846 266847]\n",
      "TRAIN: [ 88950  88951  88952 ... 266845 266846 266847] TEST:  [    0     1     2 ... 88947 88948 88949]\n",
      "TRAIN: [     0      1      2 ... 266845 266846 266847] TEST:  [ 88950  88951  88952 ... 177896 177897 177898]\n",
      "TRAIN: [     0      1      2 ... 177896 177897 177898] TEST:  [177899 177900 177901 ... 266845 266846 266847]\n",
      "Created chromosome #  63\n",
      "IN GENERATION # 5\n",
      "TRAIN: [ 88950  88951  88952 ... 266845 266846 266847] TEST:  [    0     1     2 ... 88947 88948 88949]\n",
      "TRAIN: [     0      1      2 ... 266845 266846 266847] TEST:  [ 88950  88951  88952 ... 177896 177897 177898]\n",
      "TRAIN: [     0      1      2 ... 177896 177897 177898] TEST:  [177899 177900 177901 ... 266845 266846 266847]\n",
      "TRAIN: [ 88950  88951  88952 ... 266845 266846 266847] TEST:  [    0     1     2 ... 88947 88948 88949]\n",
      "TRAIN: [     0      1      2 ... 266845 266846 266847] TEST:  [ 88950  88951  88952 ... 177896 177897 177898]\n",
      "TRAIN: [     0      1      2 ... 177896 177897 177898] TEST:  [177899 177900 177901 ... 266845 266846 266847]\n",
      "TRAIN: [ 88950  88951  88952 ... 266845 266846 266847] TEST:  [    0     1     2 ... 88947 88948 88949]\n",
      "TRAIN: [     0      1      2 ... 266845 266846 266847] TEST:  [ 88950  88951  88952 ... 177896 177897 177898]\n",
      "TRAIN: [     0      1      2 ... 177896 177897 177898] TEST:  [177899 177900 177901 ... 266845 266846 266847]\n",
      "Created chromosome #  64\n",
      "IN GENERATION # 5\n",
      "TRAIN: [ 88950  88951  88952 ... 266845 266846 266847] TEST:  [    0     1     2 ... 88947 88948 88949]\n",
      "TRAIN: [     0      1      2 ... 266845 266846 266847] TEST:  [ 88950  88951  88952 ... 177896 177897 177898]\n",
      "TRAIN: [     0      1      2 ... 177896 177897 177898] TEST:  [177899 177900 177901 ... 266845 266846 266847]\n",
      "TRAIN: [ 88950  88951  88952 ... 266845 266846 266847] TEST:  [    0     1     2 ... 88947 88948 88949]\n",
      "TRAIN: [     0      1      2 ... 266845 266846 266847] TEST:  [ 88950  88951  88952 ... 177896 177897 177898]\n",
      "TRAIN: [     0      1      2 ... 177896 177897 177898] TEST:  [177899 177900 177901 ... 266845 266846 266847]\n",
      "TRAIN: [ 88950  88951  88952 ... 266845 266846 266847] TEST:  [    0     1     2 ... 88947 88948 88949]\n",
      "TRAIN: [     0      1      2 ... 266845 266846 266847] TEST:  [ 88950  88951  88952 ... 177896 177897 177898]\n",
      "TRAIN: [     0      1      2 ... 177896 177897 177898] TEST:  [177899 177900 177901 ... 266845 266846 266847]\n",
      "Created chromosome #  65\n",
      "IN GENERATION # 5\n",
      "TRAIN: [ 88950  88951  88952 ... 266845 266846 266847] TEST:  [    0     1     2 ... 88947 88948 88949]\n",
      "TRAIN: [     0      1      2 ... 266845 266846 266847] TEST:  [ 88950  88951  88952 ... 177896 177897 177898]\n",
      "TRAIN: [     0      1      2 ... 177896 177897 177898] TEST:  [177899 177900 177901 ... 266845 266846 266847]\n",
      "TRAIN: [ 88950  88951  88952 ... 266845 266846 266847] TEST:  [    0     1     2 ... 88947 88948 88949]\n",
      "TRAIN: [     0      1      2 ... 266845 266846 266847] TEST:  [ 88950  88951  88952 ... 177896 177897 177898]\n",
      "TRAIN: [     0      1      2 ... 177896 177897 177898] TEST:  [177899 177900 177901 ... 266845 266846 266847]\n",
      "TRAIN: [ 88950  88951  88952 ... 266845 266846 266847] TEST:  [    0     1     2 ... 88947 88948 88949]\n",
      "TRAIN: [     0      1      2 ... 266845 266846 266847] TEST:  [ 88950  88951  88952 ... 177896 177897 177898]\n",
      "TRAIN: [     0      1      2 ... 177896 177897 177898] TEST:  [177899 177900 177901 ... 266845 266846 266847]\n",
      "Created chromosome #  66\n",
      "IN GENERATION # 5\n",
      "TRAIN: [ 88950  88951  88952 ... 266845 266846 266847] TEST:  [    0     1     2 ... 88947 88948 88949]\n",
      "TRAIN: [     0      1      2 ... 266845 266846 266847] TEST:  [ 88950  88951  88952 ... 177896 177897 177898]\n",
      "TRAIN: [     0      1      2 ... 177896 177897 177898] TEST:  [177899 177900 177901 ... 266845 266846 266847]\n",
      "TRAIN: [ 88950  88951  88952 ... 266845 266846 266847] TEST:  [    0     1     2 ... 88947 88948 88949]\n",
      "TRAIN: [     0      1      2 ... 266845 266846 266847] TEST:  [ 88950  88951  88952 ... 177896 177897 177898]\n",
      "TRAIN: [     0      1      2 ... 177896 177897 177898] TEST:  [177899 177900 177901 ... 266845 266846 266847]\n",
      "TRAIN: [ 88950  88951  88952 ... 266845 266846 266847] TEST:  [    0     1     2 ... 88947 88948 88949]\n",
      "TRAIN: [     0      1      2 ... 266845 266846 266847] TEST:  [ 88950  88951  88952 ... 177896 177897 177898]\n",
      "TRAIN: [     0      1      2 ... 177896 177897 177898] TEST:  [177899 177900 177901 ... 266845 266846 266847]\n",
      "Created chromosome #  67\n",
      "IN GENERATION # 5\n",
      "TRAIN: [ 88950  88951  88952 ... 266845 266846 266847] TEST:  [    0     1     2 ... 88947 88948 88949]\n",
      "TRAIN: [     0      1      2 ... 266845 266846 266847] TEST:  [ 88950  88951  88952 ... 177896 177897 177898]\n",
      "TRAIN: [     0      1      2 ... 177896 177897 177898] TEST:  [177899 177900 177901 ... 266845 266846 266847]\n",
      "TRAIN: [ 88950  88951  88952 ... 266845 266846 266847] TEST:  [    0     1     2 ... 88947 88948 88949]\n",
      "TRAIN: [     0      1      2 ... 266845 266846 266847] TEST:  [ 88950  88951  88952 ... 177896 177897 177898]\n",
      "TRAIN: [     0      1      2 ... 177896 177897 177898] TEST:  [177899 177900 177901 ... 266845 266846 266847]\n",
      "TRAIN: [ 88950  88951  88952 ... 266845 266846 266847] TEST:  [    0     1     2 ... 88947 88948 88949]\n",
      "TRAIN: [     0      1      2 ... 266845 266846 266847] TEST:  [ 88950  88951  88952 ... 177896 177897 177898]\n",
      "TRAIN: [     0      1      2 ... 177896 177897 177898] TEST:  [177899 177900 177901 ... 266845 266846 266847]\n",
      "Created chromosome #  68\n",
      "IN GENERATION # 5\n",
      "TRAIN: [ 88950  88951  88952 ... 266845 266846 266847] TEST:  [    0     1     2 ... 88947 88948 88949]\n",
      "TRAIN: [     0      1      2 ... 266845 266846 266847] TEST:  [ 88950  88951  88952 ... 177896 177897 177898]\n",
      "TRAIN: [     0      1      2 ... 177896 177897 177898] TEST:  [177899 177900 177901 ... 266845 266846 266847]\n",
      "TRAIN: [ 88950  88951  88952 ... 266845 266846 266847] TEST:  [    0     1     2 ... 88947 88948 88949]\n",
      "TRAIN: [     0      1      2 ... 266845 266846 266847] TEST:  [ 88950  88951  88952 ... 177896 177897 177898]\n",
      "TRAIN: [     0      1      2 ... 177896 177897 177898] TEST:  [177899 177900 177901 ... 266845 266846 266847]\n",
      "TRAIN: [ 88950  88951  88952 ... 266845 266846 266847] TEST:  [    0     1     2 ... 88947 88948 88949]\n",
      "TRAIN: [     0      1      2 ... 266845 266846 266847] TEST:  [ 88950  88951  88952 ... 177896 177897 177898]\n",
      "TRAIN: [     0      1      2 ... 177896 177897 177898] TEST:  [177899 177900 177901 ... 266845 266846 266847]\n",
      "Created chromosome #  69\n",
      "IN GENERATION # 5\n",
      "TRAIN: [ 88950  88951  88952 ... 266845 266846 266847] TEST:  [    0     1     2 ... 88947 88948 88949]\n"
     ]
    },
    {
     "name": "stdout",
     "output_type": "stream",
     "text": [
      "TRAIN: [     0      1      2 ... 266845 266846 266847] TEST:  [ 88950  88951  88952 ... 177896 177897 177898]\n",
      "TRAIN: [     0      1      2 ... 177896 177897 177898] TEST:  [177899 177900 177901 ... 266845 266846 266847]\n",
      "TRAIN: [ 88950  88951  88952 ... 266845 266846 266847] TEST:  [    0     1     2 ... 88947 88948 88949]\n",
      "TRAIN: [     0      1      2 ... 266845 266846 266847] TEST:  [ 88950  88951  88952 ... 177896 177897 177898]\n",
      "TRAIN: [     0      1      2 ... 177896 177897 177898] TEST:  [177899 177900 177901 ... 266845 266846 266847]\n",
      "TRAIN: [ 88950  88951  88952 ... 266845 266846 266847] TEST:  [    0     1     2 ... 88947 88948 88949]\n",
      "TRAIN: [     0      1      2 ... 266845 266846 266847] TEST:  [ 88950  88951  88952 ... 177896 177897 177898]\n",
      "TRAIN: [     0      1      2 ... 177896 177897 177898] TEST:  [177899 177900 177901 ... 266845 266846 266847]\n",
      "Created chromosome #  70\n",
      "IN GENERATION # 5\n",
      "TRAIN: [ 88950  88951  88952 ... 266845 266846 266847] TEST:  [    0     1     2 ... 88947 88948 88949]\n",
      "TRAIN: [     0      1      2 ... 266845 266846 266847] TEST:  [ 88950  88951  88952 ... 177896 177897 177898]\n",
      "TRAIN: [     0      1      2 ... 177896 177897 177898] TEST:  [177899 177900 177901 ... 266845 266846 266847]\n",
      "TRAIN: [ 88950  88951  88952 ... 266845 266846 266847] TEST:  [    0     1     2 ... 88947 88948 88949]\n",
      "TRAIN: [     0      1      2 ... 266845 266846 266847] TEST:  [ 88950  88951  88952 ... 177896 177897 177898]\n",
      "TRAIN: [     0      1      2 ... 177896 177897 177898] TEST:  [177899 177900 177901 ... 266845 266846 266847]\n",
      "TRAIN: [ 88950  88951  88952 ... 266845 266846 266847] TEST:  [    0     1     2 ... 88947 88948 88949]\n",
      "TRAIN: [     0      1      2 ... 266845 266846 266847] TEST:  [ 88950  88951  88952 ... 177896 177897 177898]\n",
      "TRAIN: [     0      1      2 ... 177896 177897 177898] TEST:  [177899 177900 177901 ... 266845 266846 266847]\n",
      "Created chromosome #  71\n",
      "IN GENERATION # 5\n",
      "TRAIN: [ 88950  88951  88952 ... 266845 266846 266847] TEST:  [    0     1     2 ... 88947 88948 88949]\n",
      "TRAIN: [     0      1      2 ... 266845 266846 266847] TEST:  [ 88950  88951  88952 ... 177896 177897 177898]\n",
      "TRAIN: [     0      1      2 ... 177896 177897 177898] TEST:  [177899 177900 177901 ... 266845 266846 266847]\n",
      "TRAIN: [ 88950  88951  88952 ... 266845 266846 266847] TEST:  [    0     1     2 ... 88947 88948 88949]\n",
      "TRAIN: [     0      1      2 ... 266845 266846 266847] TEST:  [ 88950  88951  88952 ... 177896 177897 177898]\n",
      "TRAIN: [     0      1      2 ... 177896 177897 177898] TEST:  [177899 177900 177901 ... 266845 266846 266847]\n",
      "TRAIN: [ 88950  88951  88952 ... 266845 266846 266847] TEST:  [    0     1     2 ... 88947 88948 88949]\n",
      "TRAIN: [     0      1      2 ... 266845 266846 266847] TEST:  [ 88950  88951  88952 ... 177896 177897 177898]\n",
      "TRAIN: [     0      1      2 ... 177896 177897 177898] TEST:  [177899 177900 177901 ... 266845 266846 266847]\n",
      "Created chromosome #  72\n",
      "IN GENERATION # 5\n",
      "TRAIN: [ 88950  88951  88952 ... 266845 266846 266847] TEST:  [    0     1     2 ... 88947 88948 88949]\n",
      "TRAIN: [     0      1      2 ... 266845 266846 266847] TEST:  [ 88950  88951  88952 ... 177896 177897 177898]\n",
      "TRAIN: [     0      1      2 ... 177896 177897 177898] TEST:  [177899 177900 177901 ... 266845 266846 266847]\n",
      "TRAIN: [ 88950  88951  88952 ... 266845 266846 266847] TEST:  [    0     1     2 ... 88947 88948 88949]\n",
      "TRAIN: [     0      1      2 ... 266845 266846 266847] TEST:  [ 88950  88951  88952 ... 177896 177897 177898]\n",
      "TRAIN: [     0      1      2 ... 177896 177897 177898] TEST:  [177899 177900 177901 ... 266845 266846 266847]\n",
      "TRAIN: [ 88950  88951  88952 ... 266845 266846 266847] TEST:  [    0     1     2 ... 88947 88948 88949]\n",
      "TRAIN: [     0      1      2 ... 266845 266846 266847] TEST:  [ 88950  88951  88952 ... 177896 177897 177898]\n",
      "TRAIN: [     0      1      2 ... 177896 177897 177898] TEST:  [177899 177900 177901 ... 266845 266846 266847]\n",
      "Created chromosome #  73\n",
      "IN GENERATION # 5\n",
      "TRAIN: [ 88950  88951  88952 ... 266845 266846 266847] TEST:  [    0     1     2 ... 88947 88948 88949]\n",
      "TRAIN: [     0      1      2 ... 266845 266846 266847] TEST:  [ 88950  88951  88952 ... 177896 177897 177898]\n",
      "TRAIN: [     0      1      2 ... 177896 177897 177898] TEST:  [177899 177900 177901 ... 266845 266846 266847]\n",
      "TRAIN: [ 88950  88951  88952 ... 266845 266846 266847] TEST:  [    0     1     2 ... 88947 88948 88949]\n",
      "TRAIN: [     0      1      2 ... 266845 266846 266847] TEST:  [ 88950  88951  88952 ... 177896 177897 177898]\n",
      "TRAIN: [     0      1      2 ... 177896 177897 177898] TEST:  [177899 177900 177901 ... 266845 266846 266847]\n",
      "TRAIN: [ 88950  88951  88952 ... 266845 266846 266847] TEST:  [    0     1     2 ... 88947 88948 88949]\n",
      "TRAIN: [     0      1      2 ... 266845 266846 266847] TEST:  [ 88950  88951  88952 ... 177896 177897 177898]\n",
      "TRAIN: [     0      1      2 ... 177896 177897 177898] TEST:  [177899 177900 177901 ... 266845 266846 266847]\n",
      "Created chromosome #  74\n",
      "IN GENERATION # 5\n",
      "TRAIN: [ 88950  88951  88952 ... 266845 266846 266847] TEST:  [    0     1     2 ... 88947 88948 88949]\n",
      "TRAIN: [     0      1      2 ... 266845 266846 266847] TEST:  [ 88950  88951  88952 ... 177896 177897 177898]\n",
      "TRAIN: [     0      1      2 ... 177896 177897 177898] TEST:  [177899 177900 177901 ... 266845 266846 266847]\n",
      "TRAIN: [ 88950  88951  88952 ... 266845 266846 266847] TEST:  [    0     1     2 ... 88947 88948 88949]\n",
      "TRAIN: [     0      1      2 ... 266845 266846 266847] TEST:  [ 88950  88951  88952 ... 177896 177897 177898]\n",
      "TRAIN: [     0      1      2 ... 177896 177897 177898] TEST:  [177899 177900 177901 ... 266845 266846 266847]\n",
      "TRAIN: [ 88950  88951  88952 ... 266845 266846 266847] TEST:  [    0     1     2 ... 88947 88948 88949]\n",
      "TRAIN: [     0      1      2 ... 266845 266846 266847] TEST:  [ 88950  88951  88952 ... 177896 177897 177898]\n",
      "TRAIN: [     0      1      2 ... 177896 177897 177898] TEST:  [177899 177900 177901 ... 266845 266846 266847]\n",
      "Created chromosome #  75\n",
      "IN GENERATION # 5\n",
      "TRAIN: [ 88950  88951  88952 ... 266845 266846 266847] TEST:  [    0     1     2 ... 88947 88948 88949]\n",
      "TRAIN: [     0      1      2 ... 266845 266846 266847] TEST:  [ 88950  88951  88952 ... 177896 177897 177898]\n",
      "TRAIN: [     0      1      2 ... 177896 177897 177898] TEST:  [177899 177900 177901 ... 266845 266846 266847]\n",
      "TRAIN: [ 88950  88951  88952 ... 266845 266846 266847] TEST:  [    0     1     2 ... 88947 88948 88949]\n",
      "TRAIN: [     0      1      2 ... 266845 266846 266847] TEST:  [ 88950  88951  88952 ... 177896 177897 177898]\n",
      "TRAIN: [     0      1      2 ... 177896 177897 177898] TEST:  [177899 177900 177901 ... 266845 266846 266847]\n",
      "TRAIN: [ 88950  88951  88952 ... 266845 266846 266847] TEST:  [    0     1     2 ... 88947 88948 88949]\n",
      "TRAIN: [     0      1      2 ... 266845 266846 266847] TEST:  [ 88950  88951  88952 ... 177896 177897 177898]\n",
      "TRAIN: [     0      1      2 ... 177896 177897 177898] TEST:  [177899 177900 177901 ... 266845 266846 266847]\n",
      "STARTING GENERATION # 6\n"
     ]
    },
    {
     "name": "stderr",
     "output_type": "stream",
     "text": [
      "\r",
      " 50%|█████     | 5/10 [53:37<53:47, 645.47s/it]  "
     ]
    },
    {
     "name": "stdout",
     "output_type": "stream",
     "text": [
      "GENERATION #  6\n",
      "Created chromosome #  76\n",
      "IN GENERATION # 6\n",
      "TRAIN: [ 88950  88951  88952 ... 266845 266846 266847] TEST:  [    0     1     2 ... 88947 88948 88949]\n",
      "TRAIN: [     0      1      2 ... 266845 266846 266847] TEST:  [ 88950  88951  88952 ... 177896 177897 177898]\n",
      "TRAIN: [     0      1      2 ... 177896 177897 177898] TEST:  [177899 177900 177901 ... 266845 266846 266847]\n",
      "TRAIN: [ 88950  88951  88952 ... 266845 266846 266847] TEST:  [    0     1     2 ... 88947 88948 88949]\n",
      "TRAIN: [     0      1      2 ... 266845 266846 266847] TEST:  [ 88950  88951  88952 ... 177896 177897 177898]\n",
      "TRAIN: [     0      1      2 ... 177896 177897 177898] TEST:  [177899 177900 177901 ... 266845 266846 266847]\n",
      "TRAIN: [ 88950  88951  88952 ... 266845 266846 266847] TEST:  [    0     1     2 ... 88947 88948 88949]\n",
      "TRAIN: [     0      1      2 ... 266845 266846 266847] TEST:  [ 88950  88951  88952 ... 177896 177897 177898]\n",
      "TRAIN: [     0      1      2 ... 177896 177897 177898] TEST:  [177899 177900 177901 ... 266845 266846 266847]\n",
      "Created chromosome #  77\n",
      "IN GENERATION # 6\n",
      "TRAIN: [ 88950  88951  88952 ... 266845 266846 266847] TEST:  [    0     1     2 ... 88947 88948 88949]\n",
      "TRAIN: [     0      1      2 ... 266845 266846 266847] TEST:  [ 88950  88951  88952 ... 177896 177897 177898]\n",
      "TRAIN: [     0      1      2 ... 177896 177897 177898] TEST:  [177899 177900 177901 ... 266845 266846 266847]\n",
      "TRAIN: [ 88950  88951  88952 ... 266845 266846 266847] TEST:  [    0     1     2 ... 88947 88948 88949]\n",
      "TRAIN: [     0      1      2 ... 266845 266846 266847] TEST:  [ 88950  88951  88952 ... 177896 177897 177898]\n",
      "TRAIN: [     0      1      2 ... 177896 177897 177898] TEST:  [177899 177900 177901 ... 266845 266846 266847]\n",
      "TRAIN: [ 88950  88951  88952 ... 266845 266846 266847] TEST:  [    0     1     2 ... 88947 88948 88949]\n",
      "TRAIN: [     0      1      2 ... 266845 266846 266847] TEST:  [ 88950  88951  88952 ... 177896 177897 177898]\n",
      "TRAIN: [     0      1      2 ... 177896 177897 177898] TEST:  [177899 177900 177901 ... 266845 266846 266847]\n",
      "Created chromosome #  78\n",
      "IN GENERATION # 6\n",
      "TRAIN: [ 88950  88951  88952 ... 266845 266846 266847] TEST:  [    0     1     2 ... 88947 88948 88949]\n",
      "TRAIN: [     0      1      2 ... 266845 266846 266847] TEST:  [ 88950  88951  88952 ... 177896 177897 177898]\n",
      "TRAIN: [     0      1      2 ... 177896 177897 177898] TEST:  [177899 177900 177901 ... 266845 266846 266847]\n",
      "TRAIN: [ 88950  88951  88952 ... 266845 266846 266847] TEST:  [    0     1     2 ... 88947 88948 88949]\n",
      "TRAIN: [     0      1      2 ... 266845 266846 266847] TEST:  [ 88950  88951  88952 ... 177896 177897 177898]\n",
      "TRAIN: [     0      1      2 ... 177896 177897 177898] TEST:  [177899 177900 177901 ... 266845 266846 266847]\n",
      "TRAIN: [ 88950  88951  88952 ... 266845 266846 266847] TEST:  [    0     1     2 ... 88947 88948 88949]\n",
      "TRAIN: [     0      1      2 ... 266845 266846 266847] TEST:  [ 88950  88951  88952 ... 177896 177897 177898]\n",
      "TRAIN: [     0      1      2 ... 177896 177897 177898] TEST:  [177899 177900 177901 ... 266845 266846 266847]\n",
      "Created chromosome #  79\n",
      "IN GENERATION # 6\n",
      "TRAIN: [ 88950  88951  88952 ... 266845 266846 266847] TEST:  [    0     1     2 ... 88947 88948 88949]\n",
      "TRAIN: [     0      1      2 ... 266845 266846 266847] TEST:  [ 88950  88951  88952 ... 177896 177897 177898]\n",
      "TRAIN: [     0      1      2 ... 177896 177897 177898] TEST:  [177899 177900 177901 ... 266845 266846 266847]\n",
      "TRAIN: [ 88950  88951  88952 ... 266845 266846 266847] TEST:  [    0     1     2 ... 88947 88948 88949]\n",
      "TRAIN: [     0      1      2 ... 266845 266846 266847] TEST:  [ 88950  88951  88952 ... 177896 177897 177898]\n",
      "TRAIN: [     0      1      2 ... 177896 177897 177898] TEST:  [177899 177900 177901 ... 266845 266846 266847]\n",
      "TRAIN: [ 88950  88951  88952 ... 266845 266846 266847] TEST:  [    0     1     2 ... 88947 88948 88949]\n",
      "TRAIN: [     0      1      2 ... 266845 266846 266847] TEST:  [ 88950  88951  88952 ... 177896 177897 177898]\n",
      "TRAIN: [     0      1      2 ... 177896 177897 177898] TEST:  [177899 177900 177901 ... 266845 266846 266847]\n",
      "Created chromosome #  80\n",
      "IN GENERATION # 6\n",
      "TRAIN: [ 88950  88951  88952 ... 266845 266846 266847] TEST:  [    0     1     2 ... 88947 88948 88949]\n",
      "TRAIN: [     0      1      2 ... 266845 266846 266847] TEST:  [ 88950  88951  88952 ... 177896 177897 177898]\n",
      "TRAIN: [     0      1      2 ... 177896 177897 177898] TEST:  [177899 177900 177901 ... 266845 266846 266847]\n",
      "TRAIN: [ 88950  88951  88952 ... 266845 266846 266847] TEST:  [    0     1     2 ... 88947 88948 88949]\n",
      "TRAIN: [     0      1      2 ... 266845 266846 266847] TEST:  [ 88950  88951  88952 ... 177896 177897 177898]\n",
      "TRAIN: [     0      1      2 ... 177896 177897 177898] TEST:  [177899 177900 177901 ... 266845 266846 266847]\n",
      "TRAIN: [ 88950  88951  88952 ... 266845 266846 266847] TEST:  [    0     1     2 ... 88947 88948 88949]\n",
      "TRAIN: [     0      1      2 ... 266845 266846 266847] TEST:  [ 88950  88951  88952 ... 177896 177897 177898]\n",
      "TRAIN: [     0      1      2 ... 177896 177897 177898] TEST:  [177899 177900 177901 ... 266845 266846 266847]\n",
      "Created chromosome #  81\n",
      "IN GENERATION # 6\n",
      "TRAIN: [ 88950  88951  88952 ... 266845 266846 266847] TEST:  [    0     1     2 ... 88947 88948 88949]\n",
      "TRAIN: [     0      1      2 ... 266845 266846 266847] TEST:  [ 88950  88951  88952 ... 177896 177897 177898]\n",
      "TRAIN: [     0      1      2 ... 177896 177897 177898] TEST:  [177899 177900 177901 ... 266845 266846 266847]\n",
      "TRAIN: [ 88950  88951  88952 ... 266845 266846 266847] TEST:  [    0     1     2 ... 88947 88948 88949]\n",
      "TRAIN: [     0      1      2 ... 266845 266846 266847] TEST:  [ 88950  88951  88952 ... 177896 177897 177898]\n",
      "TRAIN: [     0      1      2 ... 177896 177897 177898] TEST:  [177899 177900 177901 ... 266845 266846 266847]\n",
      "TRAIN: [ 88950  88951  88952 ... 266845 266846 266847] TEST:  [    0     1     2 ... 88947 88948 88949]\n",
      "TRAIN: [     0      1      2 ... 266845 266846 266847] TEST:  [ 88950  88951  88952 ... 177896 177897 177898]\n",
      "TRAIN: [     0      1      2 ... 177896 177897 177898] TEST:  [177899 177900 177901 ... 266845 266846 266847]\n",
      "Created chromosome #  82\n",
      "IN GENERATION # 6\n",
      "TRAIN: [ 88950  88951  88952 ... 266845 266846 266847] TEST:  [    0     1     2 ... 88947 88948 88949]\n",
      "TRAIN: [     0      1      2 ... 266845 266846 266847] TEST:  [ 88950  88951  88952 ... 177896 177897 177898]\n",
      "TRAIN: [     0      1      2 ... 177896 177897 177898] TEST:  [177899 177900 177901 ... 266845 266846 266847]\n",
      "TRAIN: [ 88950  88951  88952 ... 266845 266846 266847] TEST:  [    0     1     2 ... 88947 88948 88949]\n",
      "TRAIN: [     0      1      2 ... 266845 266846 266847] TEST:  [ 88950  88951  88952 ... 177896 177897 177898]\n",
      "TRAIN: [     0      1      2 ... 177896 177897 177898] TEST:  [177899 177900 177901 ... 266845 266846 266847]\n",
      "TRAIN: [ 88950  88951  88952 ... 266845 266846 266847] TEST:  [    0     1     2 ... 88947 88948 88949]\n",
      "TRAIN: [     0      1      2 ... 266845 266846 266847] TEST:  [ 88950  88951  88952 ... 177896 177897 177898]\n",
      "TRAIN: [     0      1      2 ... 177896 177897 177898] TEST:  [177899 177900 177901 ... 266845 266846 266847]\n",
      "Created chromosome #  83\n",
      "IN GENERATION # 6\n",
      "TRAIN: [ 88950  88951  88952 ... 266845 266846 266847] TEST:  [    0     1     2 ... 88947 88948 88949]\n",
      "TRAIN: [     0      1      2 ... 266845 266846 266847] TEST:  [ 88950  88951  88952 ... 177896 177897 177898]\n",
      "TRAIN: [     0      1      2 ... 177896 177897 177898] TEST:  [177899 177900 177901 ... 266845 266846 266847]\n",
      "TRAIN: [ 88950  88951  88952 ... 266845 266846 266847] TEST:  [    0     1     2 ... 88947 88948 88949]\n",
      "TRAIN: [     0      1      2 ... 266845 266846 266847] TEST:  [ 88950  88951  88952 ... 177896 177897 177898]\n",
      "TRAIN: [     0      1      2 ... 177896 177897 177898] TEST:  [177899 177900 177901 ... 266845 266846 266847]\n",
      "TRAIN: [ 88950  88951  88952 ... 266845 266846 266847] TEST:  [    0     1     2 ... 88947 88948 88949]\n",
      "TRAIN: [     0      1      2 ... 266845 266846 266847] TEST:  [ 88950  88951  88952 ... 177896 177897 177898]\n",
      "TRAIN: [     0      1      2 ... 177896 177897 177898] TEST:  [177899 177900 177901 ... 266845 266846 266847]\n",
      "Created chromosome #  84\n",
      "IN GENERATION # 6\n",
      "TRAIN: [ 88950  88951  88952 ... 266845 266846 266847] TEST:  [    0     1     2 ... 88947 88948 88949]\n"
     ]
    },
    {
     "name": "stdout",
     "output_type": "stream",
     "text": [
      "TRAIN: [     0      1      2 ... 266845 266846 266847] TEST:  [ 88950  88951  88952 ... 177896 177897 177898]\n",
      "TRAIN: [     0      1      2 ... 177896 177897 177898] TEST:  [177899 177900 177901 ... 266845 266846 266847]\n",
      "TRAIN: [ 88950  88951  88952 ... 266845 266846 266847] TEST:  [    0     1     2 ... 88947 88948 88949]\n",
      "TRAIN: [     0      1      2 ... 266845 266846 266847] TEST:  [ 88950  88951  88952 ... 177896 177897 177898]\n",
      "TRAIN: [     0      1      2 ... 177896 177897 177898] TEST:  [177899 177900 177901 ... 266845 266846 266847]\n",
      "TRAIN: [ 88950  88951  88952 ... 266845 266846 266847] TEST:  [    0     1     2 ... 88947 88948 88949]\n",
      "TRAIN: [     0      1      2 ... 266845 266846 266847] TEST:  [ 88950  88951  88952 ... 177896 177897 177898]\n",
      "TRAIN: [     0      1      2 ... 177896 177897 177898] TEST:  [177899 177900 177901 ... 266845 266846 266847]\n",
      "Created chromosome #  85\n",
      "IN GENERATION # 6\n",
      "TRAIN: [ 88950  88951  88952 ... 266845 266846 266847] TEST:  [    0     1     2 ... 88947 88948 88949]\n",
      "TRAIN: [     0      1      2 ... 266845 266846 266847] TEST:  [ 88950  88951  88952 ... 177896 177897 177898]\n",
      "TRAIN: [     0      1      2 ... 177896 177897 177898] TEST:  [177899 177900 177901 ... 266845 266846 266847]\n",
      "TRAIN: [ 88950  88951  88952 ... 266845 266846 266847] TEST:  [    0     1     2 ... 88947 88948 88949]\n",
      "TRAIN: [     0      1      2 ... 266845 266846 266847] TEST:  [ 88950  88951  88952 ... 177896 177897 177898]\n",
      "TRAIN: [     0      1      2 ... 177896 177897 177898] TEST:  [177899 177900 177901 ... 266845 266846 266847]\n",
      "TRAIN: [ 88950  88951  88952 ... 266845 266846 266847] TEST:  [    0     1     2 ... 88947 88948 88949]\n",
      "TRAIN: [     0      1      2 ... 266845 266846 266847] TEST:  [ 88950  88951  88952 ... 177896 177897 177898]\n",
      "TRAIN: [     0      1      2 ... 177896 177897 177898] TEST:  [177899 177900 177901 ... 266845 266846 266847]\n",
      "Created chromosome #  86\n",
      "IN GENERATION # 6\n",
      "TRAIN: [ 88950  88951  88952 ... 266845 266846 266847] TEST:  [    0     1     2 ... 88947 88948 88949]\n",
      "TRAIN: [     0      1      2 ... 266845 266846 266847] TEST:  [ 88950  88951  88952 ... 177896 177897 177898]\n",
      "TRAIN: [     0      1      2 ... 177896 177897 177898] TEST:  [177899 177900 177901 ... 266845 266846 266847]\n",
      "TRAIN: [ 88950  88951  88952 ... 266845 266846 266847] TEST:  [    0     1     2 ... 88947 88948 88949]\n",
      "TRAIN: [     0      1      2 ... 266845 266846 266847] TEST:  [ 88950  88951  88952 ... 177896 177897 177898]\n",
      "TRAIN: [     0      1      2 ... 177896 177897 177898] TEST:  [177899 177900 177901 ... 266845 266846 266847]\n",
      "TRAIN: [ 88950  88951  88952 ... 266845 266846 266847] TEST:  [    0     1     2 ... 88947 88948 88949]\n",
      "TRAIN: [     0      1      2 ... 266845 266846 266847] TEST:  [ 88950  88951  88952 ... 177896 177897 177898]\n",
      "TRAIN: [     0      1      2 ... 177896 177897 177898] TEST:  [177899 177900 177901 ... 266845 266846 266847]\n",
      "Created chromosome #  87\n",
      "IN GENERATION # 6\n",
      "TRAIN: [ 88950  88951  88952 ... 266845 266846 266847] TEST:  [    0     1     2 ... 88947 88948 88949]\n",
      "TRAIN: [     0      1      2 ... 266845 266846 266847] TEST:  [ 88950  88951  88952 ... 177896 177897 177898]\n",
      "TRAIN: [     0      1      2 ... 177896 177897 177898] TEST:  [177899 177900 177901 ... 266845 266846 266847]\n",
      "TRAIN: [ 88950  88951  88952 ... 266845 266846 266847] TEST:  [    0     1     2 ... 88947 88948 88949]\n",
      "TRAIN: [     0      1      2 ... 266845 266846 266847] TEST:  [ 88950  88951  88952 ... 177896 177897 177898]\n",
      "TRAIN: [     0      1      2 ... 177896 177897 177898] TEST:  [177899 177900 177901 ... 266845 266846 266847]\n",
      "TRAIN: [ 88950  88951  88952 ... 266845 266846 266847] TEST:  [    0     1     2 ... 88947 88948 88949]\n",
      "TRAIN: [     0      1      2 ... 266845 266846 266847] TEST:  [ 88950  88951  88952 ... 177896 177897 177898]\n",
      "TRAIN: [     0      1      2 ... 177896 177897 177898] TEST:  [177899 177900 177901 ... 266845 266846 266847]\n",
      "Created chromosome #  88\n",
      "IN GENERATION # 6\n",
      "TRAIN: [ 88950  88951  88952 ... 266845 266846 266847] TEST:  [    0     1     2 ... 88947 88948 88949]\n",
      "TRAIN: [     0      1      2 ... 266845 266846 266847] TEST:  [ 88950  88951  88952 ... 177896 177897 177898]\n",
      "TRAIN: [     0      1      2 ... 177896 177897 177898] TEST:  [177899 177900 177901 ... 266845 266846 266847]\n",
      "TRAIN: [ 88950  88951  88952 ... 266845 266846 266847] TEST:  [    0     1     2 ... 88947 88948 88949]\n",
      "TRAIN: [     0      1      2 ... 266845 266846 266847] TEST:  [ 88950  88951  88952 ... 177896 177897 177898]\n",
      "TRAIN: [     0      1      2 ... 177896 177897 177898] TEST:  [177899 177900 177901 ... 266845 266846 266847]\n",
      "TRAIN: [ 88950  88951  88952 ... 266845 266846 266847] TEST:  [    0     1     2 ... 88947 88948 88949]\n",
      "TRAIN: [     0      1      2 ... 266845 266846 266847] TEST:  [ 88950  88951  88952 ... 177896 177897 177898]\n",
      "TRAIN: [     0      1      2 ... 177896 177897 177898] TEST:  [177899 177900 177901 ... 266845 266846 266847]\n",
      "Created chromosome #  89\n",
      "IN GENERATION # 6\n",
      "TRAIN: [ 88950  88951  88952 ... 266845 266846 266847] TEST:  [    0     1     2 ... 88947 88948 88949]\n",
      "TRAIN: [     0      1      2 ... 266845 266846 266847] TEST:  [ 88950  88951  88952 ... 177896 177897 177898]\n",
      "TRAIN: [     0      1      2 ... 177896 177897 177898] TEST:  [177899 177900 177901 ... 266845 266846 266847]\n",
      "TRAIN: [ 88950  88951  88952 ... 266845 266846 266847] TEST:  [    0     1     2 ... 88947 88948 88949]\n",
      "TRAIN: [     0      1      2 ... 266845 266846 266847] TEST:  [ 88950  88951  88952 ... 177896 177897 177898]\n",
      "TRAIN: [     0      1      2 ... 177896 177897 177898] TEST:  [177899 177900 177901 ... 266845 266846 266847]\n",
      "TRAIN: [ 88950  88951  88952 ... 266845 266846 266847] TEST:  [    0     1     2 ... 88947 88948 88949]\n",
      "TRAIN: [     0      1      2 ... 266845 266846 266847] TEST:  [ 88950  88951  88952 ... 177896 177897 177898]\n",
      "TRAIN: [     0      1      2 ... 177896 177897 177898] TEST:  [177899 177900 177901 ... 266845 266846 266847]\n",
      "Created chromosome #  90\n",
      "IN GENERATION # 6\n",
      "TRAIN: [ 88950  88951  88952 ... 266845 266846 266847] TEST:  [    0     1     2 ... 88947 88948 88949]\n",
      "TRAIN: [     0      1      2 ... 266845 266846 266847] TEST:  [ 88950  88951  88952 ... 177896 177897 177898]\n",
      "TRAIN: [     0      1      2 ... 177896 177897 177898] TEST:  [177899 177900 177901 ... 266845 266846 266847]\n",
      "TRAIN: [ 88950  88951  88952 ... 266845 266846 266847] TEST:  [    0     1     2 ... 88947 88948 88949]\n",
      "TRAIN: [     0      1      2 ... 266845 266846 266847] TEST:  [ 88950  88951  88952 ... 177896 177897 177898]\n",
      "TRAIN: [     0      1      2 ... 177896 177897 177898] TEST:  [177899 177900 177901 ... 266845 266846 266847]\n",
      "TRAIN: [ 88950  88951  88952 ... 266845 266846 266847] TEST:  [    0     1     2 ... 88947 88948 88949]\n",
      "TRAIN: [     0      1      2 ... 266845 266846 266847] TEST:  [ 88950  88951  88952 ... 177896 177897 177898]\n",
      "TRAIN: [     0      1      2 ... 177896 177897 177898] TEST:  [177899 177900 177901 ... 266845 266846 266847]\n",
      "STARTING GENERATION # 7\n"
     ]
    },
    {
     "name": "stderr",
     "output_type": "stream",
     "text": [
      "\r",
      " 60%|██████    | 6/10 [1:04:23<43:02, 645.65s/it]"
     ]
    },
    {
     "name": "stdout",
     "output_type": "stream",
     "text": [
      "GENERATION #  7\n",
      "Created chromosome #  91\n",
      "IN GENERATION # 7\n",
      "TRAIN: [ 88950  88951  88952 ... 266845 266846 266847] TEST:  [    0     1     2 ... 88947 88948 88949]\n",
      "TRAIN: [     0      1      2 ... 266845 266846 266847] TEST:  [ 88950  88951  88952 ... 177896 177897 177898]\n",
      "TRAIN: [     0      1      2 ... 177896 177897 177898] TEST:  [177899 177900 177901 ... 266845 266846 266847]\n",
      "TRAIN: [ 88950  88951  88952 ... 266845 266846 266847] TEST:  [    0     1     2 ... 88947 88948 88949]\n",
      "TRAIN: [     0      1      2 ... 266845 266846 266847] TEST:  [ 88950  88951  88952 ... 177896 177897 177898]\n",
      "TRAIN: [     0      1      2 ... 177896 177897 177898] TEST:  [177899 177900 177901 ... 266845 266846 266847]\n",
      "TRAIN: [ 88950  88951  88952 ... 266845 266846 266847] TEST:  [    0     1     2 ... 88947 88948 88949]\n",
      "TRAIN: [     0      1      2 ... 266845 266846 266847] TEST:  [ 88950  88951  88952 ... 177896 177897 177898]\n",
      "TRAIN: [     0      1      2 ... 177896 177897 177898] TEST:  [177899 177900 177901 ... 266845 266846 266847]\n",
      "Created chromosome #  92\n",
      "IN GENERATION # 7\n",
      "TRAIN: [ 88950  88951  88952 ... 266845 266846 266847] TEST:  [    0     1     2 ... 88947 88948 88949]\n",
      "TRAIN: [     0      1      2 ... 266845 266846 266847] TEST:  [ 88950  88951  88952 ... 177896 177897 177898]\n",
      "TRAIN: [     0      1      2 ... 177896 177897 177898] TEST:  [177899 177900 177901 ... 266845 266846 266847]\n",
      "TRAIN: [ 88950  88951  88952 ... 266845 266846 266847] TEST:  [    0     1     2 ... 88947 88948 88949]\n",
      "TRAIN: [     0      1      2 ... 266845 266846 266847] TEST:  [ 88950  88951  88952 ... 177896 177897 177898]\n",
      "TRAIN: [     0      1      2 ... 177896 177897 177898] TEST:  [177899 177900 177901 ... 266845 266846 266847]\n",
      "TRAIN: [ 88950  88951  88952 ... 266845 266846 266847] TEST:  [    0     1     2 ... 88947 88948 88949]\n",
      "TRAIN: [     0      1      2 ... 266845 266846 266847] TEST:  [ 88950  88951  88952 ... 177896 177897 177898]\n",
      "TRAIN: [     0      1      2 ... 177896 177897 177898] TEST:  [177899 177900 177901 ... 266845 266846 266847]\n",
      "Created chromosome #  93\n",
      "IN GENERATION # 7\n",
      "TRAIN: [ 88950  88951  88952 ... 266845 266846 266847] TEST:  [    0     1     2 ... 88947 88948 88949]\n",
      "TRAIN: [     0      1      2 ... 266845 266846 266847] TEST:  [ 88950  88951  88952 ... 177896 177897 177898]\n",
      "TRAIN: [     0      1      2 ... 177896 177897 177898] TEST:  [177899 177900 177901 ... 266845 266846 266847]\n",
      "TRAIN: [ 88950  88951  88952 ... 266845 266846 266847] TEST:  [    0     1     2 ... 88947 88948 88949]\n",
      "TRAIN: [     0      1      2 ... 266845 266846 266847] TEST:  [ 88950  88951  88952 ... 177896 177897 177898]\n",
      "TRAIN: [     0      1      2 ... 177896 177897 177898] TEST:  [177899 177900 177901 ... 266845 266846 266847]\n",
      "TRAIN: [ 88950  88951  88952 ... 266845 266846 266847] TEST:  [    0     1     2 ... 88947 88948 88949]\n",
      "TRAIN: [     0      1      2 ... 266845 266846 266847] TEST:  [ 88950  88951  88952 ... 177896 177897 177898]\n",
      "TRAIN: [     0      1      2 ... 177896 177897 177898] TEST:  [177899 177900 177901 ... 266845 266846 266847]\n",
      "Created chromosome #  94\n",
      "IN GENERATION # 7\n",
      "TRAIN: [ 88950  88951  88952 ... 266845 266846 266847] TEST:  [    0     1     2 ... 88947 88948 88949]\n",
      "TRAIN: [     0      1      2 ... 266845 266846 266847] TEST:  [ 88950  88951  88952 ... 177896 177897 177898]\n",
      "TRAIN: [     0      1      2 ... 177896 177897 177898] TEST:  [177899 177900 177901 ... 266845 266846 266847]\n",
      "TRAIN: [ 88950  88951  88952 ... 266845 266846 266847] TEST:  [    0     1     2 ... 88947 88948 88949]\n",
      "TRAIN: [     0      1      2 ... 266845 266846 266847] TEST:  [ 88950  88951  88952 ... 177896 177897 177898]\n",
      "TRAIN: [     0      1      2 ... 177896 177897 177898] TEST:  [177899 177900 177901 ... 266845 266846 266847]\n",
      "TRAIN: [ 88950  88951  88952 ... 266845 266846 266847] TEST:  [    0     1     2 ... 88947 88948 88949]\n",
      "TRAIN: [     0      1      2 ... 266845 266846 266847] TEST:  [ 88950  88951  88952 ... 177896 177897 177898]\n",
      "TRAIN: [     0      1      2 ... 177896 177897 177898] TEST:  [177899 177900 177901 ... 266845 266846 266847]\n",
      "Created chromosome #  95\n",
      "IN GENERATION # 7\n",
      "TRAIN: [ 88950  88951  88952 ... 266845 266846 266847] TEST:  [    0     1     2 ... 88947 88948 88949]\n",
      "TRAIN: [     0      1      2 ... 266845 266846 266847] TEST:  [ 88950  88951  88952 ... 177896 177897 177898]\n",
      "TRAIN: [     0      1      2 ... 177896 177897 177898] TEST:  [177899 177900 177901 ... 266845 266846 266847]\n",
      "TRAIN: [ 88950  88951  88952 ... 266845 266846 266847] TEST:  [    0     1     2 ... 88947 88948 88949]\n",
      "TRAIN: [     0      1      2 ... 266845 266846 266847] TEST:  [ 88950  88951  88952 ... 177896 177897 177898]\n",
      "TRAIN: [     0      1      2 ... 177896 177897 177898] TEST:  [177899 177900 177901 ... 266845 266846 266847]\n",
      "TRAIN: [ 88950  88951  88952 ... 266845 266846 266847] TEST:  [    0     1     2 ... 88947 88948 88949]\n",
      "TRAIN: [     0      1      2 ... 266845 266846 266847] TEST:  [ 88950  88951  88952 ... 177896 177897 177898]\n",
      "TRAIN: [     0      1      2 ... 177896 177897 177898] TEST:  [177899 177900 177901 ... 266845 266846 266847]\n",
      "Created chromosome #  96\n",
      "IN GENERATION # 7\n",
      "TRAIN: [ 88950  88951  88952 ... 266845 266846 266847] TEST:  [    0     1     2 ... 88947 88948 88949]\n",
      "TRAIN: [     0      1      2 ... 266845 266846 266847] TEST:  [ 88950  88951  88952 ... 177896 177897 177898]\n",
      "TRAIN: [     0      1      2 ... 177896 177897 177898] TEST:  [177899 177900 177901 ... 266845 266846 266847]\n",
      "TRAIN: [ 88950  88951  88952 ... 266845 266846 266847] TEST:  [    0     1     2 ... 88947 88948 88949]\n",
      "TRAIN: [     0      1      2 ... 266845 266846 266847] TEST:  [ 88950  88951  88952 ... 177896 177897 177898]\n",
      "TRAIN: [     0      1      2 ... 177896 177897 177898] TEST:  [177899 177900 177901 ... 266845 266846 266847]\n",
      "TRAIN: [ 88950  88951  88952 ... 266845 266846 266847] TEST:  [    0     1     2 ... 88947 88948 88949]\n",
      "TRAIN: [     0      1      2 ... 266845 266846 266847] TEST:  [ 88950  88951  88952 ... 177896 177897 177898]\n",
      "TRAIN: [     0      1      2 ... 177896 177897 177898] TEST:  [177899 177900 177901 ... 266845 266846 266847]\n",
      "Created chromosome #  97\n",
      "IN GENERATION # 7\n",
      "TRAIN: [ 88950  88951  88952 ... 266845 266846 266847] TEST:  [    0     1     2 ... 88947 88948 88949]\n",
      "TRAIN: [     0      1      2 ... 266845 266846 266847] TEST:  [ 88950  88951  88952 ... 177896 177897 177898]\n",
      "TRAIN: [     0      1      2 ... 177896 177897 177898] TEST:  [177899 177900 177901 ... 266845 266846 266847]\n",
      "TRAIN: [ 88950  88951  88952 ... 266845 266846 266847] TEST:  [    0     1     2 ... 88947 88948 88949]\n",
      "TRAIN: [     0      1      2 ... 266845 266846 266847] TEST:  [ 88950  88951  88952 ... 177896 177897 177898]\n",
      "TRAIN: [     0      1      2 ... 177896 177897 177898] TEST:  [177899 177900 177901 ... 266845 266846 266847]\n",
      "TRAIN: [ 88950  88951  88952 ... 266845 266846 266847] TEST:  [    0     1     2 ... 88947 88948 88949]\n",
      "TRAIN: [     0      1      2 ... 266845 266846 266847] TEST:  [ 88950  88951  88952 ... 177896 177897 177898]\n",
      "TRAIN: [     0      1      2 ... 177896 177897 177898] TEST:  [177899 177900 177901 ... 266845 266846 266847]\n",
      "Created chromosome #  98\n",
      "IN GENERATION # 7\n",
      "TRAIN: [ 88950  88951  88952 ... 266845 266846 266847] TEST:  [    0     1     2 ... 88947 88948 88949]\n",
      "TRAIN: [     0      1      2 ... 266845 266846 266847] TEST:  [ 88950  88951  88952 ... 177896 177897 177898]\n",
      "TRAIN: [     0      1      2 ... 177896 177897 177898] TEST:  [177899 177900 177901 ... 266845 266846 266847]\n",
      "TRAIN: [ 88950  88951  88952 ... 266845 266846 266847] TEST:  [    0     1     2 ... 88947 88948 88949]\n",
      "TRAIN: [     0      1      2 ... 266845 266846 266847] TEST:  [ 88950  88951  88952 ... 177896 177897 177898]\n",
      "TRAIN: [     0      1      2 ... 177896 177897 177898] TEST:  [177899 177900 177901 ... 266845 266846 266847]\n",
      "TRAIN: [ 88950  88951  88952 ... 266845 266846 266847] TEST:  [    0     1     2 ... 88947 88948 88949]\n",
      "TRAIN: [     0      1      2 ... 266845 266846 266847] TEST:  [ 88950  88951  88952 ... 177896 177897 177898]\n",
      "TRAIN: [     0      1      2 ... 177896 177897 177898] TEST:  [177899 177900 177901 ... 266845 266846 266847]\n",
      "Created chromosome #  99\n",
      "IN GENERATION # 7\n",
      "TRAIN: [ 88950  88951  88952 ... 266845 266846 266847] TEST:  [    0     1     2 ... 88947 88948 88949]\n"
     ]
    },
    {
     "name": "stdout",
     "output_type": "stream",
     "text": [
      "TRAIN: [     0      1      2 ... 266845 266846 266847] TEST:  [ 88950  88951  88952 ... 177896 177897 177898]\n",
      "TRAIN: [     0      1      2 ... 177896 177897 177898] TEST:  [177899 177900 177901 ... 266845 266846 266847]\n",
      "TRAIN: [ 88950  88951  88952 ... 266845 266846 266847] TEST:  [    0     1     2 ... 88947 88948 88949]\n",
      "TRAIN: [     0      1      2 ... 266845 266846 266847] TEST:  [ 88950  88951  88952 ... 177896 177897 177898]\n",
      "TRAIN: [     0      1      2 ... 177896 177897 177898] TEST:  [177899 177900 177901 ... 266845 266846 266847]\n",
      "TRAIN: [ 88950  88951  88952 ... 266845 266846 266847] TEST:  [    0     1     2 ... 88947 88948 88949]\n",
      "TRAIN: [     0      1      2 ... 266845 266846 266847] TEST:  [ 88950  88951  88952 ... 177896 177897 177898]\n",
      "TRAIN: [     0      1      2 ... 177896 177897 177898] TEST:  [177899 177900 177901 ... 266845 266846 266847]\n",
      "Created chromosome #  100\n",
      "IN GENERATION # 7\n",
      "TRAIN: [ 88950  88951  88952 ... 266845 266846 266847] TEST:  [    0     1     2 ... 88947 88948 88949]\n",
      "TRAIN: [     0      1      2 ... 266845 266846 266847] TEST:  [ 88950  88951  88952 ... 177896 177897 177898]\n",
      "TRAIN: [     0      1      2 ... 177896 177897 177898] TEST:  [177899 177900 177901 ... 266845 266846 266847]\n",
      "TRAIN: [ 88950  88951  88952 ... 266845 266846 266847] TEST:  [    0     1     2 ... 88947 88948 88949]\n",
      "TRAIN: [     0      1      2 ... 266845 266846 266847] TEST:  [ 88950  88951  88952 ... 177896 177897 177898]\n",
      "TRAIN: [     0      1      2 ... 177896 177897 177898] TEST:  [177899 177900 177901 ... 266845 266846 266847]\n",
      "TRAIN: [ 88950  88951  88952 ... 266845 266846 266847] TEST:  [    0     1     2 ... 88947 88948 88949]\n",
      "TRAIN: [     0      1      2 ... 266845 266846 266847] TEST:  [ 88950  88951  88952 ... 177896 177897 177898]\n",
      "TRAIN: [     0      1      2 ... 177896 177897 177898] TEST:  [177899 177900 177901 ... 266845 266846 266847]\n",
      "Created chromosome #  101\n",
      "IN GENERATION # 7\n",
      "TRAIN: [ 88950  88951  88952 ... 266845 266846 266847] TEST:  [    0     1     2 ... 88947 88948 88949]\n",
      "TRAIN: [     0      1      2 ... 266845 266846 266847] TEST:  [ 88950  88951  88952 ... 177896 177897 177898]\n",
      "TRAIN: [     0      1      2 ... 177896 177897 177898] TEST:  [177899 177900 177901 ... 266845 266846 266847]\n",
      "TRAIN: [ 88950  88951  88952 ... 266845 266846 266847] TEST:  [    0     1     2 ... 88947 88948 88949]\n",
      "TRAIN: [     0      1      2 ... 266845 266846 266847] TEST:  [ 88950  88951  88952 ... 177896 177897 177898]\n",
      "TRAIN: [     0      1      2 ... 177896 177897 177898] TEST:  [177899 177900 177901 ... 266845 266846 266847]\n",
      "TRAIN: [ 88950  88951  88952 ... 266845 266846 266847] TEST:  [    0     1     2 ... 88947 88948 88949]\n",
      "TRAIN: [     0      1      2 ... 266845 266846 266847] TEST:  [ 88950  88951  88952 ... 177896 177897 177898]\n",
      "TRAIN: [     0      1      2 ... 177896 177897 177898] TEST:  [177899 177900 177901 ... 266845 266846 266847]\n",
      "Created chromosome #  102\n",
      "IN GENERATION # 7\n",
      "TRAIN: [ 88950  88951  88952 ... 266845 266846 266847] TEST:  [    0     1     2 ... 88947 88948 88949]\n",
      "TRAIN: [     0      1      2 ... 266845 266846 266847] TEST:  [ 88950  88951  88952 ... 177896 177897 177898]\n",
      "TRAIN: [     0      1      2 ... 177896 177897 177898] TEST:  [177899 177900 177901 ... 266845 266846 266847]\n",
      "TRAIN: [ 88950  88951  88952 ... 266845 266846 266847] TEST:  [    0     1     2 ... 88947 88948 88949]\n",
      "TRAIN: [     0      1      2 ... 266845 266846 266847] TEST:  [ 88950  88951  88952 ... 177896 177897 177898]\n",
      "TRAIN: [     0      1      2 ... 177896 177897 177898] TEST:  [177899 177900 177901 ... 266845 266846 266847]\n",
      "TRAIN: [ 88950  88951  88952 ... 266845 266846 266847] TEST:  [    0     1     2 ... 88947 88948 88949]\n",
      "TRAIN: [     0      1      2 ... 266845 266846 266847] TEST:  [ 88950  88951  88952 ... 177896 177897 177898]\n",
      "TRAIN: [     0      1      2 ... 177896 177897 177898] TEST:  [177899 177900 177901 ... 266845 266846 266847]\n",
      "Created chromosome #  103\n",
      "IN GENERATION # 7\n",
      "TRAIN: [ 88950  88951  88952 ... 266845 266846 266847] TEST:  [    0     1     2 ... 88947 88948 88949]\n",
      "TRAIN: [     0      1      2 ... 266845 266846 266847] TEST:  [ 88950  88951  88952 ... 177896 177897 177898]\n",
      "TRAIN: [     0      1      2 ... 177896 177897 177898] TEST:  [177899 177900 177901 ... 266845 266846 266847]\n",
      "TRAIN: [ 88950  88951  88952 ... 266845 266846 266847] TEST:  [    0     1     2 ... 88947 88948 88949]\n",
      "TRAIN: [     0      1      2 ... 266845 266846 266847] TEST:  [ 88950  88951  88952 ... 177896 177897 177898]\n",
      "TRAIN: [     0      1      2 ... 177896 177897 177898] TEST:  [177899 177900 177901 ... 266845 266846 266847]\n",
      "TRAIN: [ 88950  88951  88952 ... 266845 266846 266847] TEST:  [    0     1     2 ... 88947 88948 88949]\n",
      "TRAIN: [     0      1      2 ... 266845 266846 266847] TEST:  [ 88950  88951  88952 ... 177896 177897 177898]\n",
      "TRAIN: [     0      1      2 ... 177896 177897 177898] TEST:  [177899 177900 177901 ... 266845 266846 266847]\n",
      "Created chromosome #  104\n",
      "IN GENERATION # 7\n",
      "TRAIN: [ 88950  88951  88952 ... 266845 266846 266847] TEST:  [    0     1     2 ... 88947 88948 88949]\n",
      "TRAIN: [     0      1      2 ... 266845 266846 266847] TEST:  [ 88950  88951  88952 ... 177896 177897 177898]\n",
      "TRAIN: [     0      1      2 ... 177896 177897 177898] TEST:  [177899 177900 177901 ... 266845 266846 266847]\n",
      "TRAIN: [ 88950  88951  88952 ... 266845 266846 266847] TEST:  [    0     1     2 ... 88947 88948 88949]\n",
      "TRAIN: [     0      1      2 ... 266845 266846 266847] TEST:  [ 88950  88951  88952 ... 177896 177897 177898]\n",
      "TRAIN: [     0      1      2 ... 177896 177897 177898] TEST:  [177899 177900 177901 ... 266845 266846 266847]\n",
      "TRAIN: [ 88950  88951  88952 ... 266845 266846 266847] TEST:  [    0     1     2 ... 88947 88948 88949]\n",
      "TRAIN: [     0      1      2 ... 266845 266846 266847] TEST:  [ 88950  88951  88952 ... 177896 177897 177898]\n",
      "TRAIN: [     0      1      2 ... 177896 177897 177898] TEST:  [177899 177900 177901 ... 266845 266846 266847]\n",
      "Created chromosome #  105\n",
      "IN GENERATION # 7\n",
      "TRAIN: [ 88950  88951  88952 ... 266845 266846 266847] TEST:  [    0     1     2 ... 88947 88948 88949]\n",
      "TRAIN: [     0      1      2 ... 266845 266846 266847] TEST:  [ 88950  88951  88952 ... 177896 177897 177898]\n",
      "TRAIN: [     0      1      2 ... 177896 177897 177898] TEST:  [177899 177900 177901 ... 266845 266846 266847]\n",
      "TRAIN: [ 88950  88951  88952 ... 266845 266846 266847] TEST:  [    0     1     2 ... 88947 88948 88949]\n",
      "TRAIN: [     0      1      2 ... 266845 266846 266847] TEST:  [ 88950  88951  88952 ... 177896 177897 177898]\n",
      "TRAIN: [     0      1      2 ... 177896 177897 177898] TEST:  [177899 177900 177901 ... 266845 266846 266847]\n",
      "TRAIN: [ 88950  88951  88952 ... 266845 266846 266847] TEST:  [    0     1     2 ... 88947 88948 88949]\n",
      "TRAIN: [     0      1      2 ... 266845 266846 266847] TEST:  [ 88950  88951  88952 ... 177896 177897 177898]\n",
      "TRAIN: [     0      1      2 ... 177896 177897 177898] TEST:  [177899 177900 177901 ... 266845 266846 266847]\n",
      "STARTING GENERATION # 8\n"
     ]
    },
    {
     "name": "stderr",
     "output_type": "stream",
     "text": [
      "\r",
      " 70%|███████   | 7/10 [1:15:11<32:19, 646.37s/it]"
     ]
    },
    {
     "name": "stdout",
     "output_type": "stream",
     "text": [
      "GENERATION #  8\n",
      "Created chromosome #  106\n",
      "IN GENERATION # 8\n",
      "TRAIN: [ 88950  88951  88952 ... 266845 266846 266847] TEST:  [    0     1     2 ... 88947 88948 88949]\n",
      "TRAIN: [     0      1      2 ... 266845 266846 266847] TEST:  [ 88950  88951  88952 ... 177896 177897 177898]\n",
      "TRAIN: [     0      1      2 ... 177896 177897 177898] TEST:  [177899 177900 177901 ... 266845 266846 266847]\n",
      "TRAIN: [ 88950  88951  88952 ... 266845 266846 266847] TEST:  [    0     1     2 ... 88947 88948 88949]\n",
      "TRAIN: [     0      1      2 ... 266845 266846 266847] TEST:  [ 88950  88951  88952 ... 177896 177897 177898]\n",
      "TRAIN: [     0      1      2 ... 177896 177897 177898] TEST:  [177899 177900 177901 ... 266845 266846 266847]\n",
      "TRAIN: [ 88950  88951  88952 ... 266845 266846 266847] TEST:  [    0     1     2 ... 88947 88948 88949]\n",
      "TRAIN: [     0      1      2 ... 266845 266846 266847] TEST:  [ 88950  88951  88952 ... 177896 177897 177898]\n",
      "TRAIN: [     0      1      2 ... 177896 177897 177898] TEST:  [177899 177900 177901 ... 266845 266846 266847]\n",
      "Created chromosome #  107\n",
      "IN GENERATION # 8\n",
      "TRAIN: [ 88950  88951  88952 ... 266845 266846 266847] TEST:  [    0     1     2 ... 88947 88948 88949]\n",
      "TRAIN: [     0      1      2 ... 266845 266846 266847] TEST:  [ 88950  88951  88952 ... 177896 177897 177898]\n",
      "TRAIN: [     0      1      2 ... 177896 177897 177898] TEST:  [177899 177900 177901 ... 266845 266846 266847]\n",
      "TRAIN: [ 88950  88951  88952 ... 266845 266846 266847] TEST:  [    0     1     2 ... 88947 88948 88949]\n",
      "TRAIN: [     0      1      2 ... 266845 266846 266847] TEST:  [ 88950  88951  88952 ... 177896 177897 177898]\n",
      "TRAIN: [     0      1      2 ... 177896 177897 177898] TEST:  [177899 177900 177901 ... 266845 266846 266847]\n",
      "TRAIN: [ 88950  88951  88952 ... 266845 266846 266847] TEST:  [    0     1     2 ... 88947 88948 88949]\n",
      "TRAIN: [     0      1      2 ... 266845 266846 266847] TEST:  [ 88950  88951  88952 ... 177896 177897 177898]\n",
      "TRAIN: [     0      1      2 ... 177896 177897 177898] TEST:  [177899 177900 177901 ... 266845 266846 266847]\n",
      "Created chromosome #  108\n",
      "IN GENERATION # 8\n",
      "TRAIN: [ 88950  88951  88952 ... 266845 266846 266847] TEST:  [    0     1     2 ... 88947 88948 88949]\n",
      "TRAIN: [     0      1      2 ... 266845 266846 266847] TEST:  [ 88950  88951  88952 ... 177896 177897 177898]\n",
      "TRAIN: [     0      1      2 ... 177896 177897 177898] TEST:  [177899 177900 177901 ... 266845 266846 266847]\n",
      "TRAIN: [ 88950  88951  88952 ... 266845 266846 266847] TEST:  [    0     1     2 ... 88947 88948 88949]\n",
      "TRAIN: [     0      1      2 ... 266845 266846 266847] TEST:  [ 88950  88951  88952 ... 177896 177897 177898]\n",
      "TRAIN: [     0      1      2 ... 177896 177897 177898] TEST:  [177899 177900 177901 ... 266845 266846 266847]\n",
      "TRAIN: [ 88950  88951  88952 ... 266845 266846 266847] TEST:  [    0     1     2 ... 88947 88948 88949]\n",
      "TRAIN: [     0      1      2 ... 266845 266846 266847] TEST:  [ 88950  88951  88952 ... 177896 177897 177898]\n",
      "TRAIN: [     0      1      2 ... 177896 177897 177898] TEST:  [177899 177900 177901 ... 266845 266846 266847]\n",
      "Created chromosome #  109\n",
      "IN GENERATION # 8\n",
      "TRAIN: [ 88950  88951  88952 ... 266845 266846 266847] TEST:  [    0     1     2 ... 88947 88948 88949]\n",
      "TRAIN: [     0      1      2 ... 266845 266846 266847] TEST:  [ 88950  88951  88952 ... 177896 177897 177898]\n",
      "TRAIN: [     0      1      2 ... 177896 177897 177898] TEST:  [177899 177900 177901 ... 266845 266846 266847]\n",
      "TRAIN: [ 88950  88951  88952 ... 266845 266846 266847] TEST:  [    0     1     2 ... 88947 88948 88949]\n",
      "TRAIN: [     0      1      2 ... 266845 266846 266847] TEST:  [ 88950  88951  88952 ... 177896 177897 177898]\n",
      "TRAIN: [     0      1      2 ... 177896 177897 177898] TEST:  [177899 177900 177901 ... 266845 266846 266847]\n",
      "TRAIN: [ 88950  88951  88952 ... 266845 266846 266847] TEST:  [    0     1     2 ... 88947 88948 88949]\n",
      "TRAIN: [     0      1      2 ... 266845 266846 266847] TEST:  [ 88950  88951  88952 ... 177896 177897 177898]\n",
      "TRAIN: [     0      1      2 ... 177896 177897 177898] TEST:  [177899 177900 177901 ... 266845 266846 266847]\n",
      "Created chromosome #  110\n",
      "IN GENERATION # 8\n",
      "TRAIN: [ 88950  88951  88952 ... 266845 266846 266847] TEST:  [    0     1     2 ... 88947 88948 88949]\n",
      "TRAIN: [     0      1      2 ... 266845 266846 266847] TEST:  [ 88950  88951  88952 ... 177896 177897 177898]\n",
      "TRAIN: [     0      1      2 ... 177896 177897 177898] TEST:  [177899 177900 177901 ... 266845 266846 266847]\n",
      "TRAIN: [ 88950  88951  88952 ... 266845 266846 266847] TEST:  [    0     1     2 ... 88947 88948 88949]\n",
      "TRAIN: [     0      1      2 ... 266845 266846 266847] TEST:  [ 88950  88951  88952 ... 177896 177897 177898]\n",
      "TRAIN: [     0      1      2 ... 177896 177897 177898] TEST:  [177899 177900 177901 ... 266845 266846 266847]\n",
      "TRAIN: [ 88950  88951  88952 ... 266845 266846 266847] TEST:  [    0     1     2 ... 88947 88948 88949]\n",
      "TRAIN: [     0      1      2 ... 266845 266846 266847] TEST:  [ 88950  88951  88952 ... 177896 177897 177898]\n",
      "TRAIN: [     0      1      2 ... 177896 177897 177898] TEST:  [177899 177900 177901 ... 266845 266846 266847]\n",
      "Created chromosome #  111\n",
      "IN GENERATION # 8\n",
      "TRAIN: [ 88950  88951  88952 ... 266845 266846 266847] TEST:  [    0     1     2 ... 88947 88948 88949]\n",
      "TRAIN: [     0      1      2 ... 266845 266846 266847] TEST:  [ 88950  88951  88952 ... 177896 177897 177898]\n",
      "TRAIN: [     0      1      2 ... 177896 177897 177898] TEST:  [177899 177900 177901 ... 266845 266846 266847]\n",
      "TRAIN: [ 88950  88951  88952 ... 266845 266846 266847] TEST:  [    0     1     2 ... 88947 88948 88949]\n",
      "TRAIN: [     0      1      2 ... 266845 266846 266847] TEST:  [ 88950  88951  88952 ... 177896 177897 177898]\n",
      "TRAIN: [     0      1      2 ... 177896 177897 177898] TEST:  [177899 177900 177901 ... 266845 266846 266847]\n",
      "TRAIN: [ 88950  88951  88952 ... 266845 266846 266847] TEST:  [    0     1     2 ... 88947 88948 88949]\n",
      "TRAIN: [     0      1      2 ... 266845 266846 266847] TEST:  [ 88950  88951  88952 ... 177896 177897 177898]\n",
      "TRAIN: [     0      1      2 ... 177896 177897 177898] TEST:  [177899 177900 177901 ... 266845 266846 266847]\n",
      "Created chromosome #  112\n",
      "IN GENERATION # 8\n",
      "TRAIN: [ 88950  88951  88952 ... 266845 266846 266847] TEST:  [    0     1     2 ... 88947 88948 88949]\n",
      "TRAIN: [     0      1      2 ... 266845 266846 266847] TEST:  [ 88950  88951  88952 ... 177896 177897 177898]\n",
      "TRAIN: [     0      1      2 ... 177896 177897 177898] TEST:  [177899 177900 177901 ... 266845 266846 266847]\n",
      "TRAIN: [ 88950  88951  88952 ... 266845 266846 266847] TEST:  [    0     1     2 ... 88947 88948 88949]\n",
      "TRAIN: [     0      1      2 ... 266845 266846 266847] TEST:  [ 88950  88951  88952 ... 177896 177897 177898]\n",
      "TRAIN: [     0      1      2 ... 177896 177897 177898] TEST:  [177899 177900 177901 ... 266845 266846 266847]\n",
      "TRAIN: [ 88950  88951  88952 ... 266845 266846 266847] TEST:  [    0     1     2 ... 88947 88948 88949]\n",
      "TRAIN: [     0      1      2 ... 266845 266846 266847] TEST:  [ 88950  88951  88952 ... 177896 177897 177898]\n",
      "TRAIN: [     0      1      2 ... 177896 177897 177898] TEST:  [177899 177900 177901 ... 266845 266846 266847]\n",
      "Created chromosome #  113\n",
      "IN GENERATION # 8\n",
      "TRAIN: [ 88950  88951  88952 ... 266845 266846 266847] TEST:  [    0     1     2 ... 88947 88948 88949]\n",
      "TRAIN: [     0      1      2 ... 266845 266846 266847] TEST:  [ 88950  88951  88952 ... 177896 177897 177898]\n",
      "TRAIN: [     0      1      2 ... 177896 177897 177898] TEST:  [177899 177900 177901 ... 266845 266846 266847]\n",
      "TRAIN: [ 88950  88951  88952 ... 266845 266846 266847] TEST:  [    0     1     2 ... 88947 88948 88949]\n",
      "TRAIN: [     0      1      2 ... 266845 266846 266847] TEST:  [ 88950  88951  88952 ... 177896 177897 177898]\n",
      "TRAIN: [     0      1      2 ... 177896 177897 177898] TEST:  [177899 177900 177901 ... 266845 266846 266847]\n",
      "TRAIN: [ 88950  88951  88952 ... 266845 266846 266847] TEST:  [    0     1     2 ... 88947 88948 88949]\n",
      "TRAIN: [     0      1      2 ... 266845 266846 266847] TEST:  [ 88950  88951  88952 ... 177896 177897 177898]\n",
      "TRAIN: [     0      1      2 ... 177896 177897 177898] TEST:  [177899 177900 177901 ... 266845 266846 266847]\n",
      "Created chromosome #  114\n",
      "IN GENERATION # 8\n",
      "TRAIN: [ 88950  88951  88952 ... 266845 266846 266847] TEST:  [    0     1     2 ... 88947 88948 88949]\n"
     ]
    },
    {
     "name": "stdout",
     "output_type": "stream",
     "text": [
      "TRAIN: [     0      1      2 ... 266845 266846 266847] TEST:  [ 88950  88951  88952 ... 177896 177897 177898]\n",
      "TRAIN: [     0      1      2 ... 177896 177897 177898] TEST:  [177899 177900 177901 ... 266845 266846 266847]\n",
      "TRAIN: [ 88950  88951  88952 ... 266845 266846 266847] TEST:  [    0     1     2 ... 88947 88948 88949]\n",
      "TRAIN: [     0      1      2 ... 266845 266846 266847] TEST:  [ 88950  88951  88952 ... 177896 177897 177898]\n",
      "TRAIN: [     0      1      2 ... 177896 177897 177898] TEST:  [177899 177900 177901 ... 266845 266846 266847]\n",
      "TRAIN: [ 88950  88951  88952 ... 266845 266846 266847] TEST:  [    0     1     2 ... 88947 88948 88949]\n",
      "TRAIN: [     0      1      2 ... 266845 266846 266847] TEST:  [ 88950  88951  88952 ... 177896 177897 177898]\n",
      "TRAIN: [     0      1      2 ... 177896 177897 177898] TEST:  [177899 177900 177901 ... 266845 266846 266847]\n",
      "Created chromosome #  115\n",
      "IN GENERATION # 8\n",
      "TRAIN: [ 88950  88951  88952 ... 266845 266846 266847] TEST:  [    0     1     2 ... 88947 88948 88949]\n",
      "TRAIN: [     0      1      2 ... 266845 266846 266847] TEST:  [ 88950  88951  88952 ... 177896 177897 177898]\n",
      "TRAIN: [     0      1      2 ... 177896 177897 177898] TEST:  [177899 177900 177901 ... 266845 266846 266847]\n",
      "TRAIN: [ 88950  88951  88952 ... 266845 266846 266847] TEST:  [    0     1     2 ... 88947 88948 88949]\n",
      "TRAIN: [     0      1      2 ... 266845 266846 266847] TEST:  [ 88950  88951  88952 ... 177896 177897 177898]\n",
      "TRAIN: [     0      1      2 ... 177896 177897 177898] TEST:  [177899 177900 177901 ... 266845 266846 266847]\n",
      "TRAIN: [ 88950  88951  88952 ... 266845 266846 266847] TEST:  [    0     1     2 ... 88947 88948 88949]\n",
      "TRAIN: [     0      1      2 ... 266845 266846 266847] TEST:  [ 88950  88951  88952 ... 177896 177897 177898]\n",
      "TRAIN: [     0      1      2 ... 177896 177897 177898] TEST:  [177899 177900 177901 ... 266845 266846 266847]\n",
      "Created chromosome #  116\n",
      "IN GENERATION # 8\n",
      "TRAIN: [ 88950  88951  88952 ... 266845 266846 266847] TEST:  [    0     1     2 ... 88947 88948 88949]\n",
      "TRAIN: [     0      1      2 ... 266845 266846 266847] TEST:  [ 88950  88951  88952 ... 177896 177897 177898]\n",
      "TRAIN: [     0      1      2 ... 177896 177897 177898] TEST:  [177899 177900 177901 ... 266845 266846 266847]\n",
      "TRAIN: [ 88950  88951  88952 ... 266845 266846 266847] TEST:  [    0     1     2 ... 88947 88948 88949]\n",
      "TRAIN: [     0      1      2 ... 266845 266846 266847] TEST:  [ 88950  88951  88952 ... 177896 177897 177898]\n",
      "TRAIN: [     0      1      2 ... 177896 177897 177898] TEST:  [177899 177900 177901 ... 266845 266846 266847]\n",
      "TRAIN: [ 88950  88951  88952 ... 266845 266846 266847] TEST:  [    0     1     2 ... 88947 88948 88949]\n",
      "TRAIN: [     0      1      2 ... 266845 266846 266847] TEST:  [ 88950  88951  88952 ... 177896 177897 177898]\n",
      "TRAIN: [     0      1      2 ... 177896 177897 177898] TEST:  [177899 177900 177901 ... 266845 266846 266847]\n",
      "Created chromosome #  117\n",
      "IN GENERATION # 8\n",
      "TRAIN: [ 88950  88951  88952 ... 266845 266846 266847] TEST:  [    0     1     2 ... 88947 88948 88949]\n",
      "TRAIN: [     0      1      2 ... 266845 266846 266847] TEST:  [ 88950  88951  88952 ... 177896 177897 177898]\n",
      "TRAIN: [     0      1      2 ... 177896 177897 177898] TEST:  [177899 177900 177901 ... 266845 266846 266847]\n",
      "TRAIN: [ 88950  88951  88952 ... 266845 266846 266847] TEST:  [    0     1     2 ... 88947 88948 88949]\n",
      "TRAIN: [     0      1      2 ... 266845 266846 266847] TEST:  [ 88950  88951  88952 ... 177896 177897 177898]\n",
      "TRAIN: [     0      1      2 ... 177896 177897 177898] TEST:  [177899 177900 177901 ... 266845 266846 266847]\n",
      "TRAIN: [ 88950  88951  88952 ... 266845 266846 266847] TEST:  [    0     1     2 ... 88947 88948 88949]\n",
      "TRAIN: [     0      1      2 ... 266845 266846 266847] TEST:  [ 88950  88951  88952 ... 177896 177897 177898]\n",
      "TRAIN: [     0      1      2 ... 177896 177897 177898] TEST:  [177899 177900 177901 ... 266845 266846 266847]\n",
      "Created chromosome #  118\n",
      "IN GENERATION # 8\n",
      "TRAIN: [ 88950  88951  88952 ... 266845 266846 266847] TEST:  [    0     1     2 ... 88947 88948 88949]\n",
      "TRAIN: [     0      1      2 ... 266845 266846 266847] TEST:  [ 88950  88951  88952 ... 177896 177897 177898]\n",
      "TRAIN: [     0      1      2 ... 177896 177897 177898] TEST:  [177899 177900 177901 ... 266845 266846 266847]\n",
      "TRAIN: [ 88950  88951  88952 ... 266845 266846 266847] TEST:  [    0     1     2 ... 88947 88948 88949]\n",
      "TRAIN: [     0      1      2 ... 266845 266846 266847] TEST:  [ 88950  88951  88952 ... 177896 177897 177898]\n",
      "TRAIN: [     0      1      2 ... 177896 177897 177898] TEST:  [177899 177900 177901 ... 266845 266846 266847]\n",
      "TRAIN: [ 88950  88951  88952 ... 266845 266846 266847] TEST:  [    0     1     2 ... 88947 88948 88949]\n",
      "TRAIN: [     0      1      2 ... 266845 266846 266847] TEST:  [ 88950  88951  88952 ... 177896 177897 177898]\n",
      "TRAIN: [     0      1      2 ... 177896 177897 177898] TEST:  [177899 177900 177901 ... 266845 266846 266847]\n",
      "Created chromosome #  119\n",
      "IN GENERATION # 8\n",
      "TRAIN: [ 88950  88951  88952 ... 266845 266846 266847] TEST:  [    0     1     2 ... 88947 88948 88949]\n",
      "TRAIN: [     0      1      2 ... 266845 266846 266847] TEST:  [ 88950  88951  88952 ... 177896 177897 177898]\n",
      "TRAIN: [     0      1      2 ... 177896 177897 177898] TEST:  [177899 177900 177901 ... 266845 266846 266847]\n",
      "TRAIN: [ 88950  88951  88952 ... 266845 266846 266847] TEST:  [    0     1     2 ... 88947 88948 88949]\n",
      "TRAIN: [     0      1      2 ... 266845 266846 266847] TEST:  [ 88950  88951  88952 ... 177896 177897 177898]\n",
      "TRAIN: [     0      1      2 ... 177896 177897 177898] TEST:  [177899 177900 177901 ... 266845 266846 266847]\n",
      "TRAIN: [ 88950  88951  88952 ... 266845 266846 266847] TEST:  [    0     1     2 ... 88947 88948 88949]\n",
      "TRAIN: [     0      1      2 ... 266845 266846 266847] TEST:  [ 88950  88951  88952 ... 177896 177897 177898]\n",
      "TRAIN: [     0      1      2 ... 177896 177897 177898] TEST:  [177899 177900 177901 ... 266845 266846 266847]\n",
      "Created chromosome #  120\n",
      "IN GENERATION # 8\n",
      "TRAIN: [ 88950  88951  88952 ... 266845 266846 266847] TEST:  [    0     1     2 ... 88947 88948 88949]\n",
      "TRAIN: [     0      1      2 ... 266845 266846 266847] TEST:  [ 88950  88951  88952 ... 177896 177897 177898]\n",
      "TRAIN: [     0      1      2 ... 177896 177897 177898] TEST:  [177899 177900 177901 ... 266845 266846 266847]\n",
      "TRAIN: [ 88950  88951  88952 ... 266845 266846 266847] TEST:  [    0     1     2 ... 88947 88948 88949]\n",
      "TRAIN: [     0      1      2 ... 266845 266846 266847] TEST:  [ 88950  88951  88952 ... 177896 177897 177898]\n",
      "TRAIN: [     0      1      2 ... 177896 177897 177898] TEST:  [177899 177900 177901 ... 266845 266846 266847]\n",
      "TRAIN: [ 88950  88951  88952 ... 266845 266846 266847] TEST:  [    0     1     2 ... 88947 88948 88949]\n",
      "TRAIN: [     0      1      2 ... 266845 266846 266847] TEST:  [ 88950  88951  88952 ... 177896 177897 177898]\n",
      "TRAIN: [     0      1      2 ... 177896 177897 177898] TEST:  [177899 177900 177901 ... 266845 266846 266847]\n",
      "STARTING GENERATION # 9\n"
     ]
    },
    {
     "name": "stderr",
     "output_type": "stream",
     "text": [
      "\r",
      " 80%|████████  | 8/10 [1:25:56<21:31, 645.73s/it]"
     ]
    },
    {
     "name": "stdout",
     "output_type": "stream",
     "text": [
      "GENERATION #  9\n",
      "Created chromosome #  121\n",
      "IN GENERATION # 9\n",
      "TRAIN: [ 88950  88951  88952 ... 266845 266846 266847] TEST:  [    0     1     2 ... 88947 88948 88949]\n",
      "TRAIN: [     0      1      2 ... 266845 266846 266847] TEST:  [ 88950  88951  88952 ... 177896 177897 177898]\n",
      "TRAIN: [     0      1      2 ... 177896 177897 177898] TEST:  [177899 177900 177901 ... 266845 266846 266847]\n",
      "TRAIN: [ 88950  88951  88952 ... 266845 266846 266847] TEST:  [    0     1     2 ... 88947 88948 88949]\n",
      "TRAIN: [     0      1      2 ... 266845 266846 266847] TEST:  [ 88950  88951  88952 ... 177896 177897 177898]\n",
      "TRAIN: [     0      1      2 ... 177896 177897 177898] TEST:  [177899 177900 177901 ... 266845 266846 266847]\n",
      "TRAIN: [ 88950  88951  88952 ... 266845 266846 266847] TEST:  [    0     1     2 ... 88947 88948 88949]\n",
      "TRAIN: [     0      1      2 ... 266845 266846 266847] TEST:  [ 88950  88951  88952 ... 177896 177897 177898]\n",
      "TRAIN: [     0      1      2 ... 177896 177897 177898] TEST:  [177899 177900 177901 ... 266845 266846 266847]\n",
      "Created chromosome #  122\n",
      "IN GENERATION # 9\n",
      "TRAIN: [ 88950  88951  88952 ... 266845 266846 266847] TEST:  [    0     1     2 ... 88947 88948 88949]\n",
      "TRAIN: [     0      1      2 ... 266845 266846 266847] TEST:  [ 88950  88951  88952 ... 177896 177897 177898]\n",
      "TRAIN: [     0      1      2 ... 177896 177897 177898] TEST:  [177899 177900 177901 ... 266845 266846 266847]\n",
      "TRAIN: [ 88950  88951  88952 ... 266845 266846 266847] TEST:  [    0     1     2 ... 88947 88948 88949]\n",
      "TRAIN: [     0      1      2 ... 266845 266846 266847] TEST:  [ 88950  88951  88952 ... 177896 177897 177898]\n",
      "TRAIN: [     0      1      2 ... 177896 177897 177898] TEST:  [177899 177900 177901 ... 266845 266846 266847]\n",
      "TRAIN: [ 88950  88951  88952 ... 266845 266846 266847] TEST:  [    0     1     2 ... 88947 88948 88949]\n",
      "TRAIN: [     0      1      2 ... 266845 266846 266847] TEST:  [ 88950  88951  88952 ... 177896 177897 177898]\n",
      "TRAIN: [     0      1      2 ... 177896 177897 177898] TEST:  [177899 177900 177901 ... 266845 266846 266847]\n",
      "Created chromosome #  123\n",
      "IN GENERATION # 9\n",
      "TRAIN: [ 88950  88951  88952 ... 266845 266846 266847] TEST:  [    0     1     2 ... 88947 88948 88949]\n",
      "TRAIN: [     0      1      2 ... 266845 266846 266847] TEST:  [ 88950  88951  88952 ... 177896 177897 177898]\n",
      "TRAIN: [     0      1      2 ... 177896 177897 177898] TEST:  [177899 177900 177901 ... 266845 266846 266847]\n",
      "TRAIN: [ 88950  88951  88952 ... 266845 266846 266847] TEST:  [    0     1     2 ... 88947 88948 88949]\n",
      "TRAIN: [     0      1      2 ... 266845 266846 266847] TEST:  [ 88950  88951  88952 ... 177896 177897 177898]\n",
      "TRAIN: [     0      1      2 ... 177896 177897 177898] TEST:  [177899 177900 177901 ... 266845 266846 266847]\n",
      "TRAIN: [ 88950  88951  88952 ... 266845 266846 266847] TEST:  [    0     1     2 ... 88947 88948 88949]\n",
      "TRAIN: [     0      1      2 ... 266845 266846 266847] TEST:  [ 88950  88951  88952 ... 177896 177897 177898]\n",
      "TRAIN: [     0      1      2 ... 177896 177897 177898] TEST:  [177899 177900 177901 ... 266845 266846 266847]\n",
      "Created chromosome #  124\n",
      "IN GENERATION # 9\n",
      "TRAIN: [ 88950  88951  88952 ... 266845 266846 266847] TEST:  [    0     1     2 ... 88947 88948 88949]\n",
      "TRAIN: [     0      1      2 ... 266845 266846 266847] TEST:  [ 88950  88951  88952 ... 177896 177897 177898]\n",
      "TRAIN: [     0      1      2 ... 177896 177897 177898] TEST:  [177899 177900 177901 ... 266845 266846 266847]\n",
      "TRAIN: [ 88950  88951  88952 ... 266845 266846 266847] TEST:  [    0     1     2 ... 88947 88948 88949]\n",
      "TRAIN: [     0      1      2 ... 266845 266846 266847] TEST:  [ 88950  88951  88952 ... 177896 177897 177898]\n",
      "TRAIN: [     0      1      2 ... 177896 177897 177898] TEST:  [177899 177900 177901 ... 266845 266846 266847]\n",
      "TRAIN: [ 88950  88951  88952 ... 266845 266846 266847] TEST:  [    0     1     2 ... 88947 88948 88949]\n",
      "TRAIN: [     0      1      2 ... 266845 266846 266847] TEST:  [ 88950  88951  88952 ... 177896 177897 177898]\n",
      "TRAIN: [     0      1      2 ... 177896 177897 177898] TEST:  [177899 177900 177901 ... 266845 266846 266847]\n",
      "Created chromosome #  125\n",
      "IN GENERATION # 9\n",
      "TRAIN: [ 88950  88951  88952 ... 266845 266846 266847] TEST:  [    0     1     2 ... 88947 88948 88949]\n",
      "TRAIN: [     0      1      2 ... 266845 266846 266847] TEST:  [ 88950  88951  88952 ... 177896 177897 177898]\n",
      "TRAIN: [     0      1      2 ... 177896 177897 177898] TEST:  [177899 177900 177901 ... 266845 266846 266847]\n",
      "TRAIN: [ 88950  88951  88952 ... 266845 266846 266847] TEST:  [    0     1     2 ... 88947 88948 88949]\n",
      "TRAIN: [     0      1      2 ... 266845 266846 266847] TEST:  [ 88950  88951  88952 ... 177896 177897 177898]\n",
      "TRAIN: [     0      1      2 ... 177896 177897 177898] TEST:  [177899 177900 177901 ... 266845 266846 266847]\n",
      "TRAIN: [ 88950  88951  88952 ... 266845 266846 266847] TEST:  [    0     1     2 ... 88947 88948 88949]\n",
      "TRAIN: [     0      1      2 ... 266845 266846 266847] TEST:  [ 88950  88951  88952 ... 177896 177897 177898]\n",
      "TRAIN: [     0      1      2 ... 177896 177897 177898] TEST:  [177899 177900 177901 ... 266845 266846 266847]\n",
      "Created chromosome #  126\n",
      "IN GENERATION # 9\n",
      "TRAIN: [ 88950  88951  88952 ... 266845 266846 266847] TEST:  [    0     1     2 ... 88947 88948 88949]\n",
      "TRAIN: [     0      1      2 ... 266845 266846 266847] TEST:  [ 88950  88951  88952 ... 177896 177897 177898]\n",
      "TRAIN: [     0      1      2 ... 177896 177897 177898] TEST:  [177899 177900 177901 ... 266845 266846 266847]\n",
      "TRAIN: [ 88950  88951  88952 ... 266845 266846 266847] TEST:  [    0     1     2 ... 88947 88948 88949]\n",
      "TRAIN: [     0      1      2 ... 266845 266846 266847] TEST:  [ 88950  88951  88952 ... 177896 177897 177898]\n",
      "TRAIN: [     0      1      2 ... 177896 177897 177898] TEST:  [177899 177900 177901 ... 266845 266846 266847]\n",
      "TRAIN: [ 88950  88951  88952 ... 266845 266846 266847] TEST:  [    0     1     2 ... 88947 88948 88949]\n",
      "TRAIN: [     0      1      2 ... 266845 266846 266847] TEST:  [ 88950  88951  88952 ... 177896 177897 177898]\n",
      "TRAIN: [     0      1      2 ... 177896 177897 177898] TEST:  [177899 177900 177901 ... 266845 266846 266847]\n",
      "Created chromosome #  127\n",
      "IN GENERATION # 9\n",
      "TRAIN: [ 88950  88951  88952 ... 266845 266846 266847] TEST:  [    0     1     2 ... 88947 88948 88949]\n",
      "TRAIN: [     0      1      2 ... 266845 266846 266847] TEST:  [ 88950  88951  88952 ... 177896 177897 177898]\n",
      "TRAIN: [     0      1      2 ... 177896 177897 177898] TEST:  [177899 177900 177901 ... 266845 266846 266847]\n",
      "TRAIN: [ 88950  88951  88952 ... 266845 266846 266847] TEST:  [    0     1     2 ... 88947 88948 88949]\n",
      "TRAIN: [     0      1      2 ... 266845 266846 266847] TEST:  [ 88950  88951  88952 ... 177896 177897 177898]\n",
      "TRAIN: [     0      1      2 ... 177896 177897 177898] TEST:  [177899 177900 177901 ... 266845 266846 266847]\n",
      "TRAIN: [ 88950  88951  88952 ... 266845 266846 266847] TEST:  [    0     1     2 ... 88947 88948 88949]\n",
      "TRAIN: [     0      1      2 ... 266845 266846 266847] TEST:  [ 88950  88951  88952 ... 177896 177897 177898]\n",
      "TRAIN: [     0      1      2 ... 177896 177897 177898] TEST:  [177899 177900 177901 ... 266845 266846 266847]\n",
      "Created chromosome #  128\n",
      "IN GENERATION # 9\n",
      "TRAIN: [ 88950  88951  88952 ... 266845 266846 266847] TEST:  [    0     1     2 ... 88947 88948 88949]\n",
      "TRAIN: [     0      1      2 ... 266845 266846 266847] TEST:  [ 88950  88951  88952 ... 177896 177897 177898]\n",
      "TRAIN: [     0      1      2 ... 177896 177897 177898] TEST:  [177899 177900 177901 ... 266845 266846 266847]\n",
      "TRAIN: [ 88950  88951  88952 ... 266845 266846 266847] TEST:  [    0     1     2 ... 88947 88948 88949]\n",
      "TRAIN: [     0      1      2 ... 266845 266846 266847] TEST:  [ 88950  88951  88952 ... 177896 177897 177898]\n",
      "TRAIN: [     0      1      2 ... 177896 177897 177898] TEST:  [177899 177900 177901 ... 266845 266846 266847]\n",
      "TRAIN: [ 88950  88951  88952 ... 266845 266846 266847] TEST:  [    0     1     2 ... 88947 88948 88949]\n",
      "TRAIN: [     0      1      2 ... 266845 266846 266847] TEST:  [ 88950  88951  88952 ... 177896 177897 177898]\n",
      "TRAIN: [     0      1      2 ... 177896 177897 177898] TEST:  [177899 177900 177901 ... 266845 266846 266847]\n",
      "Created chromosome #  129\n",
      "IN GENERATION # 9\n",
      "TRAIN: [ 88950  88951  88952 ... 266845 266846 266847] TEST:  [    0     1     2 ... 88947 88948 88949]\n"
     ]
    },
    {
     "name": "stdout",
     "output_type": "stream",
     "text": [
      "TRAIN: [     0      1      2 ... 266845 266846 266847] TEST:  [ 88950  88951  88952 ... 177896 177897 177898]\n",
      "TRAIN: [     0      1      2 ... 177896 177897 177898] TEST:  [177899 177900 177901 ... 266845 266846 266847]\n",
      "TRAIN: [ 88950  88951  88952 ... 266845 266846 266847] TEST:  [    0     1     2 ... 88947 88948 88949]\n",
      "TRAIN: [     0      1      2 ... 266845 266846 266847] TEST:  [ 88950  88951  88952 ... 177896 177897 177898]\n",
      "TRAIN: [     0      1      2 ... 177896 177897 177898] TEST:  [177899 177900 177901 ... 266845 266846 266847]\n",
      "TRAIN: [ 88950  88951  88952 ... 266845 266846 266847] TEST:  [    0     1     2 ... 88947 88948 88949]\n",
      "TRAIN: [     0      1      2 ... 266845 266846 266847] TEST:  [ 88950  88951  88952 ... 177896 177897 177898]\n",
      "TRAIN: [     0      1      2 ... 177896 177897 177898] TEST:  [177899 177900 177901 ... 266845 266846 266847]\n",
      "Created chromosome #  130\n",
      "IN GENERATION # 9\n",
      "TRAIN: [ 88950  88951  88952 ... 266845 266846 266847] TEST:  [    0     1     2 ... 88947 88948 88949]\n",
      "TRAIN: [     0      1      2 ... 266845 266846 266847] TEST:  [ 88950  88951  88952 ... 177896 177897 177898]\n",
      "TRAIN: [     0      1      2 ... 177896 177897 177898] TEST:  [177899 177900 177901 ... 266845 266846 266847]\n",
      "TRAIN: [ 88950  88951  88952 ... 266845 266846 266847] TEST:  [    0     1     2 ... 88947 88948 88949]\n",
      "TRAIN: [     0      1      2 ... 266845 266846 266847] TEST:  [ 88950  88951  88952 ... 177896 177897 177898]\n",
      "TRAIN: [     0      1      2 ... 177896 177897 177898] TEST:  [177899 177900 177901 ... 266845 266846 266847]\n",
      "TRAIN: [ 88950  88951  88952 ... 266845 266846 266847] TEST:  [    0     1     2 ... 88947 88948 88949]\n",
      "TRAIN: [     0      1      2 ... 266845 266846 266847] TEST:  [ 88950  88951  88952 ... 177896 177897 177898]\n",
      "TRAIN: [     0      1      2 ... 177896 177897 177898] TEST:  [177899 177900 177901 ... 266845 266846 266847]\n",
      "Created chromosome #  131\n",
      "IN GENERATION # 9\n",
      "TRAIN: [ 88950  88951  88952 ... 266845 266846 266847] TEST:  [    0     1     2 ... 88947 88948 88949]\n",
      "TRAIN: [     0      1      2 ... 266845 266846 266847] TEST:  [ 88950  88951  88952 ... 177896 177897 177898]\n",
      "TRAIN: [     0      1      2 ... 177896 177897 177898] TEST:  [177899 177900 177901 ... 266845 266846 266847]\n",
      "TRAIN: [ 88950  88951  88952 ... 266845 266846 266847] TEST:  [    0     1     2 ... 88947 88948 88949]\n",
      "TRAIN: [     0      1      2 ... 266845 266846 266847] TEST:  [ 88950  88951  88952 ... 177896 177897 177898]\n",
      "TRAIN: [     0      1      2 ... 177896 177897 177898] TEST:  [177899 177900 177901 ... 266845 266846 266847]\n",
      "TRAIN: [ 88950  88951  88952 ... 266845 266846 266847] TEST:  [    0     1     2 ... 88947 88948 88949]\n",
      "TRAIN: [     0      1      2 ... 266845 266846 266847] TEST:  [ 88950  88951  88952 ... 177896 177897 177898]\n",
      "TRAIN: [     0      1      2 ... 177896 177897 177898] TEST:  [177899 177900 177901 ... 266845 266846 266847]\n",
      "Created chromosome #  132\n",
      "IN GENERATION # 9\n",
      "TRAIN: [ 88950  88951  88952 ... 266845 266846 266847] TEST:  [    0     1     2 ... 88947 88948 88949]\n",
      "TRAIN: [     0      1      2 ... 266845 266846 266847] TEST:  [ 88950  88951  88952 ... 177896 177897 177898]\n",
      "TRAIN: [     0      1      2 ... 177896 177897 177898] TEST:  [177899 177900 177901 ... 266845 266846 266847]\n",
      "TRAIN: [ 88950  88951  88952 ... 266845 266846 266847] TEST:  [    0     1     2 ... 88947 88948 88949]\n",
      "TRAIN: [     0      1      2 ... 266845 266846 266847] TEST:  [ 88950  88951  88952 ... 177896 177897 177898]\n",
      "TRAIN: [     0      1      2 ... 177896 177897 177898] TEST:  [177899 177900 177901 ... 266845 266846 266847]\n",
      "TRAIN: [ 88950  88951  88952 ... 266845 266846 266847] TEST:  [    0     1     2 ... 88947 88948 88949]\n",
      "TRAIN: [     0      1      2 ... 266845 266846 266847] TEST:  [ 88950  88951  88952 ... 177896 177897 177898]\n",
      "TRAIN: [     0      1      2 ... 177896 177897 177898] TEST:  [177899 177900 177901 ... 266845 266846 266847]\n",
      "Created chromosome #  133\n",
      "IN GENERATION # 9\n",
      "TRAIN: [ 88950  88951  88952 ... 266845 266846 266847] TEST:  [    0     1     2 ... 88947 88948 88949]\n",
      "TRAIN: [     0      1      2 ... 266845 266846 266847] TEST:  [ 88950  88951  88952 ... 177896 177897 177898]\n",
      "TRAIN: [     0      1      2 ... 177896 177897 177898] TEST:  [177899 177900 177901 ... 266845 266846 266847]\n",
      "TRAIN: [ 88950  88951  88952 ... 266845 266846 266847] TEST:  [    0     1     2 ... 88947 88948 88949]\n",
      "TRAIN: [     0      1      2 ... 266845 266846 266847] TEST:  [ 88950  88951  88952 ... 177896 177897 177898]\n",
      "TRAIN: [     0      1      2 ... 177896 177897 177898] TEST:  [177899 177900 177901 ... 266845 266846 266847]\n",
      "TRAIN: [ 88950  88951  88952 ... 266845 266846 266847] TEST:  [    0     1     2 ... 88947 88948 88949]\n",
      "TRAIN: [     0      1      2 ... 266845 266846 266847] TEST:  [ 88950  88951  88952 ... 177896 177897 177898]\n",
      "TRAIN: [     0      1      2 ... 177896 177897 177898] TEST:  [177899 177900 177901 ... 266845 266846 266847]\n",
      "Created chromosome #  134\n",
      "IN GENERATION # 9\n",
      "TRAIN: [ 88950  88951  88952 ... 266845 266846 266847] TEST:  [    0     1     2 ... 88947 88948 88949]\n",
      "TRAIN: [     0      1      2 ... 266845 266846 266847] TEST:  [ 88950  88951  88952 ... 177896 177897 177898]\n",
      "TRAIN: [     0      1      2 ... 177896 177897 177898] TEST:  [177899 177900 177901 ... 266845 266846 266847]\n",
      "TRAIN: [ 88950  88951  88952 ... 266845 266846 266847] TEST:  [    0     1     2 ... 88947 88948 88949]\n",
      "TRAIN: [     0      1      2 ... 266845 266846 266847] TEST:  [ 88950  88951  88952 ... 177896 177897 177898]\n",
      "TRAIN: [     0      1      2 ... 177896 177897 177898] TEST:  [177899 177900 177901 ... 266845 266846 266847]\n",
      "TRAIN: [ 88950  88951  88952 ... 266845 266846 266847] TEST:  [    0     1     2 ... 88947 88948 88949]\n",
      "TRAIN: [     0      1      2 ... 266845 266846 266847] TEST:  [ 88950  88951  88952 ... 177896 177897 177898]\n",
      "TRAIN: [     0      1      2 ... 177896 177897 177898] TEST:  [177899 177900 177901 ... 266845 266846 266847]\n",
      "Created chromosome #  135\n",
      "IN GENERATION # 9\n",
      "TRAIN: [ 88950  88951  88952 ... 266845 266846 266847] TEST:  [    0     1     2 ... 88947 88948 88949]\n",
      "TRAIN: [     0      1      2 ... 266845 266846 266847] TEST:  [ 88950  88951  88952 ... 177896 177897 177898]\n",
      "TRAIN: [     0      1      2 ... 177896 177897 177898] TEST:  [177899 177900 177901 ... 266845 266846 266847]\n",
      "TRAIN: [ 88950  88951  88952 ... 266845 266846 266847] TEST:  [    0     1     2 ... 88947 88948 88949]\n",
      "TRAIN: [     0      1      2 ... 266845 266846 266847] TEST:  [ 88950  88951  88952 ... 177896 177897 177898]\n",
      "TRAIN: [     0      1      2 ... 177896 177897 177898] TEST:  [177899 177900 177901 ... 266845 266846 266847]\n",
      "TRAIN: [ 88950  88951  88952 ... 266845 266846 266847] TEST:  [    0     1     2 ... 88947 88948 88949]\n",
      "TRAIN: [     0      1      2 ... 266845 266846 266847] TEST:  [ 88950  88951  88952 ... 177896 177897 177898]\n",
      "TRAIN: [     0      1      2 ... 177896 177897 177898] TEST:  [177899 177900 177901 ... 266845 266846 266847]\n",
      "STARTING GENERATION # 10\n"
     ]
    },
    {
     "name": "stderr",
     "output_type": "stream",
     "text": [
      "\r",
      " 90%|█████████ | 9/10 [1:36:32<10:43, 643.01s/it]"
     ]
    },
    {
     "name": "stdout",
     "output_type": "stream",
     "text": [
      "GENERATION #  10\n",
      "Created chromosome #  136\n",
      "IN GENERATION # 10\n",
      "TRAIN: [ 88950  88951  88952 ... 266845 266846 266847] TEST:  [    0     1     2 ... 88947 88948 88949]\n",
      "TRAIN: [     0      1      2 ... 266845 266846 266847] TEST:  [ 88950  88951  88952 ... 177896 177897 177898]\n",
      "TRAIN: [     0      1      2 ... 177896 177897 177898] TEST:  [177899 177900 177901 ... 266845 266846 266847]\n",
      "TRAIN: [ 88950  88951  88952 ... 266845 266846 266847] TEST:  [    0     1     2 ... 88947 88948 88949]\n",
      "TRAIN: [     0      1      2 ... 266845 266846 266847] TEST:  [ 88950  88951  88952 ... 177896 177897 177898]\n",
      "TRAIN: [     0      1      2 ... 177896 177897 177898] TEST:  [177899 177900 177901 ... 266845 266846 266847]\n",
      "TRAIN: [ 88950  88951  88952 ... 266845 266846 266847] TEST:  [    0     1     2 ... 88947 88948 88949]\n",
      "TRAIN: [     0      1      2 ... 266845 266846 266847] TEST:  [ 88950  88951  88952 ... 177896 177897 177898]\n",
      "TRAIN: [     0      1      2 ... 177896 177897 177898] TEST:  [177899 177900 177901 ... 266845 266846 266847]\n",
      "Created chromosome #  137\n",
      "IN GENERATION # 10\n",
      "TRAIN: [ 88950  88951  88952 ... 266845 266846 266847] TEST:  [    0     1     2 ... 88947 88948 88949]\n",
      "TRAIN: [     0      1      2 ... 266845 266846 266847] TEST:  [ 88950  88951  88952 ... 177896 177897 177898]\n",
      "TRAIN: [     0      1      2 ... 177896 177897 177898] TEST:  [177899 177900 177901 ... 266845 266846 266847]\n",
      "TRAIN: [ 88950  88951  88952 ... 266845 266846 266847] TEST:  [    0     1     2 ... 88947 88948 88949]\n",
      "TRAIN: [     0      1      2 ... 266845 266846 266847] TEST:  [ 88950  88951  88952 ... 177896 177897 177898]\n",
      "TRAIN: [     0      1      2 ... 177896 177897 177898] TEST:  [177899 177900 177901 ... 266845 266846 266847]\n",
      "TRAIN: [ 88950  88951  88952 ... 266845 266846 266847] TEST:  [    0     1     2 ... 88947 88948 88949]\n",
      "TRAIN: [     0      1      2 ... 266845 266846 266847] TEST:  [ 88950  88951  88952 ... 177896 177897 177898]\n",
      "TRAIN: [     0      1      2 ... 177896 177897 177898] TEST:  [177899 177900 177901 ... 266845 266846 266847]\n",
      "Created chromosome #  138\n",
      "IN GENERATION # 10\n",
      "TRAIN: [ 88950  88951  88952 ... 266845 266846 266847] TEST:  [    0     1     2 ... 88947 88948 88949]\n",
      "TRAIN: [     0      1      2 ... 266845 266846 266847] TEST:  [ 88950  88951  88952 ... 177896 177897 177898]\n",
      "TRAIN: [     0      1      2 ... 177896 177897 177898] TEST:  [177899 177900 177901 ... 266845 266846 266847]\n",
      "TRAIN: [ 88950  88951  88952 ... 266845 266846 266847] TEST:  [    0     1     2 ... 88947 88948 88949]\n",
      "TRAIN: [     0      1      2 ... 266845 266846 266847] TEST:  [ 88950  88951  88952 ... 177896 177897 177898]\n",
      "TRAIN: [     0      1      2 ... 177896 177897 177898] TEST:  [177899 177900 177901 ... 266845 266846 266847]\n",
      "TRAIN: [ 88950  88951  88952 ... 266845 266846 266847] TEST:  [    0     1     2 ... 88947 88948 88949]\n",
      "TRAIN: [     0      1      2 ... 266845 266846 266847] TEST:  [ 88950  88951  88952 ... 177896 177897 177898]\n",
      "TRAIN: [     0      1      2 ... 177896 177897 177898] TEST:  [177899 177900 177901 ... 266845 266846 266847]\n",
      "Created chromosome #  139\n",
      "IN GENERATION # 10\n",
      "TRAIN: [ 88950  88951  88952 ... 266845 266846 266847] TEST:  [    0     1     2 ... 88947 88948 88949]\n",
      "TRAIN: [     0      1      2 ... 266845 266846 266847] TEST:  [ 88950  88951  88952 ... 177896 177897 177898]\n",
      "TRAIN: [     0      1      2 ... 177896 177897 177898] TEST:  [177899 177900 177901 ... 266845 266846 266847]\n",
      "TRAIN: [ 88950  88951  88952 ... 266845 266846 266847] TEST:  [    0     1     2 ... 88947 88948 88949]\n",
      "TRAIN: [     0      1      2 ... 266845 266846 266847] TEST:  [ 88950  88951  88952 ... 177896 177897 177898]\n",
      "TRAIN: [     0      1      2 ... 177896 177897 177898] TEST:  [177899 177900 177901 ... 266845 266846 266847]\n",
      "TRAIN: [ 88950  88951  88952 ... 266845 266846 266847] TEST:  [    0     1     2 ... 88947 88948 88949]\n",
      "TRAIN: [     0      1      2 ... 266845 266846 266847] TEST:  [ 88950  88951  88952 ... 177896 177897 177898]\n",
      "TRAIN: [     0      1      2 ... 177896 177897 177898] TEST:  [177899 177900 177901 ... 266845 266846 266847]\n",
      "Created chromosome #  140\n",
      "IN GENERATION # 10\n",
      "TRAIN: [ 88950  88951  88952 ... 266845 266846 266847] TEST:  [    0     1     2 ... 88947 88948 88949]\n",
      "TRAIN: [     0      1      2 ... 266845 266846 266847] TEST:  [ 88950  88951  88952 ... 177896 177897 177898]\n",
      "TRAIN: [     0      1      2 ... 177896 177897 177898] TEST:  [177899 177900 177901 ... 266845 266846 266847]\n",
      "TRAIN: [ 88950  88951  88952 ... 266845 266846 266847] TEST:  [    0     1     2 ... 88947 88948 88949]\n",
      "TRAIN: [     0      1      2 ... 266845 266846 266847] TEST:  [ 88950  88951  88952 ... 177896 177897 177898]\n",
      "TRAIN: [     0      1      2 ... 177896 177897 177898] TEST:  [177899 177900 177901 ... 266845 266846 266847]\n",
      "TRAIN: [ 88950  88951  88952 ... 266845 266846 266847] TEST:  [    0     1     2 ... 88947 88948 88949]\n",
      "TRAIN: [     0      1      2 ... 266845 266846 266847] TEST:  [ 88950  88951  88952 ... 177896 177897 177898]\n",
      "TRAIN: [     0      1      2 ... 177896 177897 177898] TEST:  [177899 177900 177901 ... 266845 266846 266847]\n",
      "Created chromosome #  141\n",
      "IN GENERATION # 10\n",
      "TRAIN: [ 88950  88951  88952 ... 266845 266846 266847] TEST:  [    0     1     2 ... 88947 88948 88949]\n",
      "TRAIN: [     0      1      2 ... 266845 266846 266847] TEST:  [ 88950  88951  88952 ... 177896 177897 177898]\n",
      "TRAIN: [     0      1      2 ... 177896 177897 177898] TEST:  [177899 177900 177901 ... 266845 266846 266847]\n",
      "TRAIN: [ 88950  88951  88952 ... 266845 266846 266847] TEST:  [    0     1     2 ... 88947 88948 88949]\n",
      "TRAIN: [     0      1      2 ... 266845 266846 266847] TEST:  [ 88950  88951  88952 ... 177896 177897 177898]\n",
      "TRAIN: [     0      1      2 ... 177896 177897 177898] TEST:  [177899 177900 177901 ... 266845 266846 266847]\n",
      "TRAIN: [ 88950  88951  88952 ... 266845 266846 266847] TEST:  [    0     1     2 ... 88947 88948 88949]\n",
      "TRAIN: [     0      1      2 ... 266845 266846 266847] TEST:  [ 88950  88951  88952 ... 177896 177897 177898]\n",
      "TRAIN: [     0      1      2 ... 177896 177897 177898] TEST:  [177899 177900 177901 ... 266845 266846 266847]\n",
      "Created chromosome #  142\n",
      "IN GENERATION # 10\n",
      "TRAIN: [ 88950  88951  88952 ... 266845 266846 266847] TEST:  [    0     1     2 ... 88947 88948 88949]\n",
      "TRAIN: [     0      1      2 ... 266845 266846 266847] TEST:  [ 88950  88951  88952 ... 177896 177897 177898]\n",
      "TRAIN: [     0      1      2 ... 177896 177897 177898] TEST:  [177899 177900 177901 ... 266845 266846 266847]\n",
      "TRAIN: [ 88950  88951  88952 ... 266845 266846 266847] TEST:  [    0     1     2 ... 88947 88948 88949]\n",
      "TRAIN: [     0      1      2 ... 266845 266846 266847] TEST:  [ 88950  88951  88952 ... 177896 177897 177898]\n",
      "TRAIN: [     0      1      2 ... 177896 177897 177898] TEST:  [177899 177900 177901 ... 266845 266846 266847]\n",
      "TRAIN: [ 88950  88951  88952 ... 266845 266846 266847] TEST:  [    0     1     2 ... 88947 88948 88949]\n",
      "TRAIN: [     0      1      2 ... 266845 266846 266847] TEST:  [ 88950  88951  88952 ... 177896 177897 177898]\n",
      "TRAIN: [     0      1      2 ... 177896 177897 177898] TEST:  [177899 177900 177901 ... 266845 266846 266847]\n",
      "Created chromosome #  143\n",
      "IN GENERATION # 10\n",
      "TRAIN: [ 88950  88951  88952 ... 266845 266846 266847] TEST:  [    0     1     2 ... 88947 88948 88949]\n",
      "TRAIN: [     0      1      2 ... 266845 266846 266847] TEST:  [ 88950  88951  88952 ... 177896 177897 177898]\n",
      "TRAIN: [     0      1      2 ... 177896 177897 177898] TEST:  [177899 177900 177901 ... 266845 266846 266847]\n",
      "TRAIN: [ 88950  88951  88952 ... 266845 266846 266847] TEST:  [    0     1     2 ... 88947 88948 88949]\n",
      "TRAIN: [     0      1      2 ... 266845 266846 266847] TEST:  [ 88950  88951  88952 ... 177896 177897 177898]\n",
      "TRAIN: [     0      1      2 ... 177896 177897 177898] TEST:  [177899 177900 177901 ... 266845 266846 266847]\n",
      "TRAIN: [ 88950  88951  88952 ... 266845 266846 266847] TEST:  [    0     1     2 ... 88947 88948 88949]\n",
      "TRAIN: [     0      1      2 ... 266845 266846 266847] TEST:  [ 88950  88951  88952 ... 177896 177897 177898]\n",
      "TRAIN: [     0      1      2 ... 177896 177897 177898] TEST:  [177899 177900 177901 ... 266845 266846 266847]\n",
      "Created chromosome #  144\n",
      "IN GENERATION # 10\n"
     ]
    },
    {
     "name": "stdout",
     "output_type": "stream",
     "text": [
      "TRAIN: [ 88950  88951  88952 ... 266845 266846 266847] TEST:  [    0     1     2 ... 88947 88948 88949]\n",
      "TRAIN: [     0      1      2 ... 266845 266846 266847] TEST:  [ 88950  88951  88952 ... 177896 177897 177898]\n",
      "TRAIN: [     0      1      2 ... 177896 177897 177898] TEST:  [177899 177900 177901 ... 266845 266846 266847]\n",
      "TRAIN: [ 88950  88951  88952 ... 266845 266846 266847] TEST:  [    0     1     2 ... 88947 88948 88949]\n",
      "TRAIN: [     0      1      2 ... 266845 266846 266847] TEST:  [ 88950  88951  88952 ... 177896 177897 177898]\n",
      "TRAIN: [     0      1      2 ... 177896 177897 177898] TEST:  [177899 177900 177901 ... 266845 266846 266847]\n",
      "TRAIN: [ 88950  88951  88952 ... 266845 266846 266847] TEST:  [    0     1     2 ... 88947 88948 88949]\n",
      "TRAIN: [     0      1      2 ... 266845 266846 266847] TEST:  [ 88950  88951  88952 ... 177896 177897 177898]\n",
      "TRAIN: [     0      1      2 ... 177896 177897 177898] TEST:  [177899 177900 177901 ... 266845 266846 266847]\n",
      "Created chromosome #  145\n",
      "IN GENERATION # 10\n",
      "TRAIN: [ 88950  88951  88952 ... 266845 266846 266847] TEST:  [    0     1     2 ... 88947 88948 88949]\n",
      "TRAIN: [     0      1      2 ... 266845 266846 266847] TEST:  [ 88950  88951  88952 ... 177896 177897 177898]\n",
      "TRAIN: [     0      1      2 ... 177896 177897 177898] TEST:  [177899 177900 177901 ... 266845 266846 266847]\n",
      "TRAIN: [ 88950  88951  88952 ... 266845 266846 266847] TEST:  [    0     1     2 ... 88947 88948 88949]\n",
      "TRAIN: [     0      1      2 ... 266845 266846 266847] TEST:  [ 88950  88951  88952 ... 177896 177897 177898]\n",
      "TRAIN: [     0      1      2 ... 177896 177897 177898] TEST:  [177899 177900 177901 ... 266845 266846 266847]\n",
      "TRAIN: [ 88950  88951  88952 ... 266845 266846 266847] TEST:  [    0     1     2 ... 88947 88948 88949]\n",
      "TRAIN: [     0      1      2 ... 266845 266846 266847] TEST:  [ 88950  88951  88952 ... 177896 177897 177898]\n",
      "TRAIN: [     0      1      2 ... 177896 177897 177898] TEST:  [177899 177900 177901 ... 266845 266846 266847]\n",
      "Created chromosome #  146\n",
      "IN GENERATION # 10\n",
      "TRAIN: [ 88950  88951  88952 ... 266845 266846 266847] TEST:  [    0     1     2 ... 88947 88948 88949]\n",
      "TRAIN: [     0      1      2 ... 266845 266846 266847] TEST:  [ 88950  88951  88952 ... 177896 177897 177898]\n",
      "TRAIN: [     0      1      2 ... 177896 177897 177898] TEST:  [177899 177900 177901 ... 266845 266846 266847]\n",
      "TRAIN: [ 88950  88951  88952 ... 266845 266846 266847] TEST:  [    0     1     2 ... 88947 88948 88949]\n",
      "TRAIN: [     0      1      2 ... 266845 266846 266847] TEST:  [ 88950  88951  88952 ... 177896 177897 177898]\n",
      "TRAIN: [     0      1      2 ... 177896 177897 177898] TEST:  [177899 177900 177901 ... 266845 266846 266847]\n",
      "TRAIN: [ 88950  88951  88952 ... 266845 266846 266847] TEST:  [    0     1     2 ... 88947 88948 88949]\n",
      "TRAIN: [     0      1      2 ... 266845 266846 266847] TEST:  [ 88950  88951  88952 ... 177896 177897 177898]\n",
      "TRAIN: [     0      1      2 ... 177896 177897 177898] TEST:  [177899 177900 177901 ... 266845 266846 266847]\n",
      "Created chromosome #  147\n",
      "IN GENERATION # 10\n",
      "TRAIN: [ 88950  88951  88952 ... 266845 266846 266847] TEST:  [    0     1     2 ... 88947 88948 88949]\n",
      "TRAIN: [     0      1      2 ... 266845 266846 266847] TEST:  [ 88950  88951  88952 ... 177896 177897 177898]\n",
      "TRAIN: [     0      1      2 ... 177896 177897 177898] TEST:  [177899 177900 177901 ... 266845 266846 266847]\n",
      "TRAIN: [ 88950  88951  88952 ... 266845 266846 266847] TEST:  [    0     1     2 ... 88947 88948 88949]\n",
      "TRAIN: [     0      1      2 ... 266845 266846 266847] TEST:  [ 88950  88951  88952 ... 177896 177897 177898]\n",
      "TRAIN: [     0      1      2 ... 177896 177897 177898] TEST:  [177899 177900 177901 ... 266845 266846 266847]\n",
      "TRAIN: [ 88950  88951  88952 ... 266845 266846 266847] TEST:  [    0     1     2 ... 88947 88948 88949]\n",
      "TRAIN: [     0      1      2 ... 266845 266846 266847] TEST:  [ 88950  88951  88952 ... 177896 177897 177898]\n",
      "TRAIN: [     0      1      2 ... 177896 177897 177898] TEST:  [177899 177900 177901 ... 266845 266846 266847]\n",
      "Created chromosome #  148\n",
      "IN GENERATION # 10\n",
      "TRAIN: [ 88950  88951  88952 ... 266845 266846 266847] TEST:  [    0     1     2 ... 88947 88948 88949]\n",
      "TRAIN: [     0      1      2 ... 266845 266846 266847] TEST:  [ 88950  88951  88952 ... 177896 177897 177898]\n",
      "TRAIN: [     0      1      2 ... 177896 177897 177898] TEST:  [177899 177900 177901 ... 266845 266846 266847]\n",
      "TRAIN: [ 88950  88951  88952 ... 266845 266846 266847] TEST:  [    0     1     2 ... 88947 88948 88949]\n",
      "TRAIN: [     0      1      2 ... 266845 266846 266847] TEST:  [ 88950  88951  88952 ... 177896 177897 177898]\n",
      "TRAIN: [     0      1      2 ... 177896 177897 177898] TEST:  [177899 177900 177901 ... 266845 266846 266847]\n",
      "TRAIN: [ 88950  88951  88952 ... 266845 266846 266847] TEST:  [    0     1     2 ... 88947 88948 88949]\n",
      "TRAIN: [     0      1      2 ... 266845 266846 266847] TEST:  [ 88950  88951  88952 ... 177896 177897 177898]\n",
      "TRAIN: [     0      1      2 ... 177896 177897 177898] TEST:  [177899 177900 177901 ... 266845 266846 266847]\n",
      "Created chromosome #  149\n",
      "IN GENERATION # 10\n",
      "TRAIN: [ 88950  88951  88952 ... 266845 266846 266847] TEST:  [    0     1     2 ... 88947 88948 88949]\n",
      "TRAIN: [     0      1      2 ... 266845 266846 266847] TEST:  [ 88950  88951  88952 ... 177896 177897 177898]\n",
      "TRAIN: [     0      1      2 ... 177896 177897 177898] TEST:  [177899 177900 177901 ... 266845 266846 266847]\n",
      "TRAIN: [ 88950  88951  88952 ... 266845 266846 266847] TEST:  [    0     1     2 ... 88947 88948 88949]\n",
      "TRAIN: [     0      1      2 ... 266845 266846 266847] TEST:  [ 88950  88951  88952 ... 177896 177897 177898]\n",
      "TRAIN: [     0      1      2 ... 177896 177897 177898] TEST:  [177899 177900 177901 ... 266845 266846 266847]\n",
      "TRAIN: [ 88950  88951  88952 ... 266845 266846 266847] TEST:  [    0     1     2 ... 88947 88948 88949]\n",
      "TRAIN: [     0      1      2 ... 266845 266846 266847] TEST:  [ 88950  88951  88952 ... 177896 177897 177898]\n",
      "TRAIN: [     0      1      2 ... 177896 177897 177898] TEST:  [177899 177900 177901 ... 266845 266846 266847]\n",
      "Created chromosome #  150\n",
      "IN GENERATION # 10\n",
      "TRAIN: [ 88950  88951  88952 ... 266845 266846 266847] TEST:  [    0     1     2 ... 88947 88948 88949]\n",
      "TRAIN: [     0      1      2 ... 266845 266846 266847] TEST:  [ 88950  88951  88952 ... 177896 177897 177898]\n",
      "TRAIN: [     0      1      2 ... 177896 177897 177898] TEST:  [177899 177900 177901 ... 266845 266846 266847]\n",
      "TRAIN: [ 88950  88951  88952 ... 266845 266846 266847] TEST:  [    0     1     2 ... 88947 88948 88949]\n",
      "TRAIN: [     0      1      2 ... 266845 266846 266847] TEST:  [ 88950  88951  88952 ... 177896 177897 177898]\n",
      "TRAIN: [     0      1      2 ... 177896 177897 177898] TEST:  [177899 177900 177901 ... 266845 266846 266847]\n",
      "TRAIN: [ 88950  88951  88952 ... 266845 266846 266847] TEST:  [    0     1     2 ... 88947 88948 88949]\n",
      "TRAIN: [     0      1      2 ... 266845 266846 266847] TEST:  [ 88950  88951  88952 ... 177896 177897 177898]\n",
      "TRAIN: [     0      1      2 ... 177896 177897 177898] TEST:  [177899 177900 177901 ... 266845 266846 266847]\n",
      "STARTING GENERATION # 11\n"
     ]
    },
    {
     "name": "stderr",
     "output_type": "stream",
     "text": [
      "100%|██████████| 10/10 [1:47:16<00:00, 643.12s/it]\n"
     ]
    },
    {
     "name": "stdout",
     "output_type": "stream",
     "text": [
      "GENETIC ALGORITHMS BEST PARAMETERS AFTER GENERATION:  11\n",
      "{'Gene': array([1., 1., 1., 0., 0., 1., 1., 1., 0., 1., 0., 1., 0., 1., 1., 0., 1.,\n",
      "       1., 0., 1., 0., 1., 0., 1., 1., 0., 1., 0., 1., 0.]), 'Alpha': 0.9036835840937528, 'Binarize': 0.4173100985747856, 'error': 0.14787827745820784}\n"
     ]
    }
   ],
   "source": [
    "with Pool(processes=algo_information['Population']) as pool:\n",
    "    pool.map(execute, [algo_information])"
   ]
  },
  {
   "cell_type": "markdown",
   "metadata": {},
   "source": [
    "#### The Results\n",
    "\n",
    "We find after using our genetic algorithm to perform our parameter search we get the following...\n",
    "\n",
    "|       BernoulliNB     | Best Params    |\n",
    "|:---------------------:|:---------:|\n",
    "| Best $\\alpha$          | 0.9036835840937528|\n",
    "| Best $\\beta$          | 0.4173100985747856 |\n",
    "|Estimated Error        | 0.14787827745820784 |\n",
    "|Estimated Accuracy     | 0.8521217225417922 |\n",
    "|Algorithm Runtime      | 1:47:16 |\n",
    "| Full Dataset          | Yes     |\n",
    "\n",
    "\n",
    "The output tells us that if we choose to use the `BernoulliNB` model our best parameters to try are `0.92` for $\\alpha$ and for binarize $\\beta$ 0.15. Using these values on our dataset we can expect to get an estimated error of `0.15`. The accuracy that we can expect to get if we use these values is 85%. The runtime for this specific dataset to train on all of our 266,000 records takes just under 2 hours until completion. With this information we can determine whether or not it is even worth moving forward with this model based on runtime and estimated error we might get.\n",
    "\n",
    "\n",
    "|      Logistic Regression     | Best Params    |\n",
    "|:----------------------------:|:--------------:|\n",
    "| Best C                       | 888.1395611438338|\n",
    "| Best Solver                  | newton-cg |\n",
    "|Estimated Error               | 0.4285026010856616 |\n",
    "|Estimated Accuracy            | 0.5714973989143384 |\n",
    "|Algorithm Runtime             | 4 days, 17:47:16 |\n",
    "|Full Dataset                  | Yes              |\n",
    "\n",
    "\n",
    "As we can see from the chart above the algorithm runtime for logistic regression on the full dataset is NOT ideal. Our best accuracy we found was 57% which is slightly higher than chance. This model took an extraordinarily long time to train and as a result it might not be worth it to move forward with this model for the dataset in the future. When compared to `Bernoulli` logitstic regression does not have as many of the benefits regarding accuracy and runtime as we found in the `Bernoulli` model.\n",
    "\n",
    "This genetic algorithm framework can be applied to ANY model. In our example we used BernoulliNB as well as logistic regression, but the same could be tried with `SVC`, `DecisionTrees` and a host of others. In the future we expect to extend this framework so that it could become more user friendly, and actually recommend to us what is the best model to choose from! The only neccesity is a large amount of compute resources."
   ]
  },
  {
   "cell_type": "code",
   "execution_count": null,
   "metadata": {},
   "outputs": [],
   "source": []
  }
 ],
 "metadata": {
  "kernelspec": {
   "display_name": "Python 3",
   "language": "python",
   "name": "python3"
  },
  "language_info": {
   "codemirror_mode": {
    "name": "ipython",
    "version": 3
   },
   "file_extension": ".py",
   "mimetype": "text/x-python",
   "name": "python",
   "nbconvert_exporter": "python",
   "pygments_lexer": "ipython3",
   "version": "3.6.5"
  }
 },
 "nbformat": 4,
 "nbformat_minor": 2
}
